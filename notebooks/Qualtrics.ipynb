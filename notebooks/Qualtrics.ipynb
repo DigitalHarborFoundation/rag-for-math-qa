{
 "cells": [
  {
   "cell_type": "markdown",
   "id": "1fec94f6-6847-4198-b6ba-ec45ea561b8c",
   "metadata": {},
   "source": [
    "# Qualtrics survey creation"
   ]
  },
  {
   "cell_type": "code",
   "execution_count": 96,
   "id": "1b24f48a-aa65-44a0-84d7-e125da064978",
   "metadata": {},
   "outputs": [],
   "source": [
    "import html\n",
    "import json\n",
    "import re\n",
    "from pathlib import Path\n",
    "\n",
    "import pandas as pd"
   ]
  },
  {
   "cell_type": "code",
   "execution_count": 97,
   "id": "8a8c6b72-7478-4843-bab5-887137394024",
   "metadata": {},
   "outputs": [],
   "source": [
    "data_dir = Path(\"../data\")\n",
    "assert data_dir.exists()\n",
    "figures_dir = Path(\"../figures\")\n",
    "figures_dir.mkdir(exist_ok=True)\n",
    "assert figures_dir.exists()"
   ]
  },
  {
   "cell_type": "code",
   "execution_count": 98,
   "id": "7dfa556b-fce1-4deb-97a6-25c9a2b0340c",
   "metadata": {},
   "outputs": [],
   "source": [
    "template_filepath = data_dir / \"raw\" / \"qualtrics\" / \"Rori_ranking_annotations_-_template.qsf\"\n",
    "with open(template_filepath) as infile:\n",
    "    survey_text = infile.read()\n",
    "    assert json.loads(survey_text)"
   ]
  },
  {
   "cell_type": "markdown",
   "id": "fbe34bd3-16fb-4a7d-aa58-1494991e7a9e",
   "metadata": {},
   "source": [
    "Keys to fill:\n",
    "\n",
    " - RoriSurveyId\n",
    " - Response{1,2,3}Q*\n",
    " - QueryTextQ*\n",
    " - DocumentQ*\n"
   ]
  },
  {
   "cell_type": "code",
   "execution_count": 99,
   "id": "56091b06-eff6-4325-bad0-1abd1069d71e",
   "metadata": {},
   "outputs": [],
   "source": [
    "response_keys = [\"Response1Q\", \"Response2Q\", \"Response3Q\"]\n",
    "query_text_key = \"QueryTextQ\"\n",
    "document_key = \"DocumentQ\"\n",
    "\n",
    "# validate expected keys\n",
    "expected_survey_size = 15\n",
    "for key in response_keys + [query_text_key, document_key]:\n",
    "    for i in range(1, expected_survey_size + 1):\n",
    "        qkey = key + str(i)\n",
    "        assert qkey in survey_text, qkey"
   ]
  },
  {
   "cell_type": "code",
   "execution_count": 100,
   "id": "5efb33ad-6cf4-4903-86dc-641fa4da9ae3",
   "metadata": {},
   "outputs": [
    {
     "name": "stdout",
     "output_type": "stream",
     "text": [
      "<re.Match object; span=(78284, 78295), match='Response1Q2'>\n",
      "Display\":\"Response1Q2\"},\"\n"
     ]
    },
    {
     "data": {
      "text/plain": [
       "['Response1Q2']"
      ]
     },
     "execution_count": 100,
     "metadata": {},
     "output_type": "execute_result"
    }
   ],
   "source": [
    "for result in re.finditer(\"Response1Q2(?![0-9])\", survey_text):\n",
    "    print(result)\n",
    "    ind = result.span()[0]\n",
    "    print(survey_text[ind - 10 : ind + 15])\n",
    "re.findall(\"Response1Q2(?![0-9])\", survey_text)"
   ]
  },
  {
   "cell_type": "code",
   "execution_count": 101,
   "id": "887a2aaf-b173-46ff-82cd-93d1e63775af",
   "metadata": {},
   "outputs": [],
   "source": [
    "def convert_text(text, use_br=True):\n",
    "    text = html.escape(text.replace(\"\\\\\", \"/\"))\n",
    "    # text = \"<p>\" + \"<\\\\/p><br><p>\".join(text.split(\"\\n\")) + \"<\\\\/p>\"\n",
    "    if use_br:\n",
    "        text = \"<p>\" + \"</p><br><p>\".join(text.split(\"\\n\")) + \"</p>\"\n",
    "    else:\n",
    "        text = \"<p>\" + \"</p><p>\".join(text.split(\"\\n\")) + \"</p>\"\n",
    "    return text\n",
    "\n",
    "\n",
    "expected_survey_size = 15\n",
    "for i in range(1, expected_survey_size + 1):\n",
    "    r1 = \"R1 Multi-line string\\n\\nSeveral bits here are normal:\\n - 1\\n - 2\\n - 3\"\n",
    "    r2 = r\"R2 Single line string, with some maybe-problematic characters: /\\!@#$%^&*()_-+\"\n",
    "    r3 = \"R3\"\n",
    "    responses = [r1, r2, r3]\n",
    "    query = f\"Test query for page {i}\"\n",
    "    document = \"Paragraph 1: text goes here\\nParagraph 2: Lorem ipsum dolor sit amet, consectetur adipiscing elit, sed do eiusmod tempor incididunt ut labore et dolore magna aliqua. Ut enim ad minim veniam, quis nostrud exercitation ullamco laboris nisi ut aliquip ex ea commodo consequat. Duis aute irure dolor in reprehenderit in voluptate velit esse cillum dolore eu fugiat nulla pariatur. Excepteur sint occaecat cupidatat non proident, sunt in culpa qui officia deserunt mollit anim id est laborum.\"\n",
    "    for key, response in zip(response_keys, responses):\n",
    "        qkey = key + str(i)\n",
    "        text = convert_text(response, use_br=False)\n",
    "        survey_text = survey_text.replace(qkey, text, 1)\n",
    "    survey_text = survey_text.replace(query_text_key + str(i), convert_text(query), 1)\n",
    "    survey_text = survey_text.replace(document_key + str(i), convert_text(document), 1)"
   ]
  },
  {
   "cell_type": "code",
   "execution_count": 102,
   "id": "9dfe6092-dc16-41a7-8f63-6bebb43c24b1",
   "metadata": {},
   "outputs": [
    {
     "data": {
      "text/plain": [
       "'lti-line string</p><p></p><p>Several bit'"
      ]
     },
     "execution_count": 102,
     "metadata": {},
     "output_type": "execute_result"
    }
   ],
   "source": [
    "ind = 67956\n",
    "band = 20\n",
    "survey_text[ind - band : ind + band]"
   ]
  },
  {
   "cell_type": "code",
   "execution_count": 103,
   "id": "733f3f68-1a55-45cb-86e7-78744834e0a3",
   "metadata": {},
   "outputs": [],
   "source": [
    "# verify that we've created valid JSON\n",
    "survey_text = json.dumps(json.loads(survey_text))"
   ]
  },
  {
   "cell_type": "code",
   "execution_count": 104,
   "id": "626257d8-0dfd-447d-82b3-7bfd8cd4d265",
   "metadata": {},
   "outputs": [],
   "source": [
    "survey_dir = data_dir / \"derived\" / \"qualtrics\"\n",
    "survey_dir.mkdir(exist_ok=True)\n",
    "survey_filepath = survey_dir / \"Rori_ranking_annotations_-_survey1.qsf\"\n",
    "with open(survey_filepath, \"w\") as outfile:\n",
    "    outfile.write(survey_text)"
   ]
  },
  {
   "cell_type": "code",
   "execution_count": null,
   "id": "bece161b-aefd-4cd4-8f04-001b61622674",
   "metadata": {},
   "outputs": [],
   "source": []
  }
 ],
 "metadata": {
  "kernelspec": {
   "display_name": "Python 3 (ipykernel)",
   "language": "python",
   "name": "python3"
  },
  "language_info": {
   "codemirror_mode": {
    "name": "ipython",
    "version": 3
   },
   "file_extension": ".py",
   "mimetype": "text/x-python",
   "name": "python",
   "nbconvert_exporter": "python",
   "pygments_lexer": "ipython3",
   "version": "3.10.11"
  }
 },
 "nbformat": 4,
 "nbformat_minor": 5
}
