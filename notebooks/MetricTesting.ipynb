{
 "cells": [
  {
   "cell_type": "markdown",
   "id": "a3b12196-aa39-4532-87ce-3f6f41ec411e",
   "metadata": {},
   "source": [
    "Metric testing\n",
    "==="
   ]
  },
  {
   "cell_type": "code",
   "execution_count": 1,
   "id": "4379991e-c03a-434d-9daa-314507f635df",
   "metadata": {},
   "outputs": [],
   "source": [
    "import datasets\n",
    "import evaluate\n",
    "\n",
    "from experiment import metrics"
   ]
  },
  {
   "cell_type": "code",
   "execution_count": 2,
   "id": "47955103-9b48-4bd9-88e3-1a3999c429ab",
   "metadata": {},
   "outputs": [
    {
     "name": "stdout",
     "output_type": "stream",
     "text": [
      "INFO:tensorflow:Reading checkpoint /Users/zacharylevonian/.cache/huggingface/datasets/downloads/extracted/0b5f615fbe4df81a585448a4e6f47b4bb3af737cc290a4d96effa6ef1840ea73/bleurt-base-512.\n",
      "INFO:tensorflow:Config file found, reading.\n",
      "INFO:tensorflow:Will load checkpoint bert_custom\n",
      "INFO:tensorflow:Loads full paths and checks that files exists.\n",
      "INFO:tensorflow:... name:bert_custom\n",
      "INFO:tensorflow:... vocab_file:vocab.txt\n",
      "INFO:tensorflow:... bert_config_file:bert_config.json\n",
      "INFO:tensorflow:... do_lower_case:True\n",
      "INFO:tensorflow:... max_seq_length:512\n",
      "INFO:tensorflow:Creating BLEURT scorer.\n",
      "INFO:tensorflow:Creating WordPiece tokenizer.\n",
      "INFO:tensorflow:WordPiece tokenizer instantiated.\n",
      "INFO:tensorflow:Creating Eager Mode predictor.\n",
      "INFO:tensorflow:Loading model.\n",
      "INFO:tensorflow:BLEURT initialized.\n"
     ]
    },
    {
     "name": "stderr",
     "output_type": "stream",
     "text": [
      "INFO:tensorflow:BLEURT initialized.\n"
     ]
    }
   ],
   "source": [
    "# https://github.com/huggingface/evaluate/issues/428\n",
    "bleurt = evaluate.load(\n",
    "    \"bleurt\", \"bleurt-base-512\", module_type=\"metric\", download_config=datasets.DownloadConfig(use_etag=False)\n",
    ")"
   ]
  },
  {
   "cell_type": "code",
   "execution_count": 3,
   "id": "6d6faff9-ea7b-4339-b689-251b280ce6a3",
   "metadata": {},
   "outputs": [
    {
     "data": {
      "text/plain": [
       "{'scores': [1.175394892692566, -1.1031553745269775]}"
      ]
     },
     "execution_count": 3,
     "metadata": {},
     "output_type": "execute_result"
    }
   ],
   "source": [
    "predictions = [\"hello there\", \"general skywalker\"]\n",
    "references = [\"hello there\", \"general kenobi\"]\n",
    "bleurt.compute(predictions=predictions, references=references)"
   ]
  },
  {
   "cell_type": "code",
   "execution_count": 4,
   "id": "f4a07f69-0f92-4056-aee3-a7c98f27d8d5",
   "metadata": {},
   "outputs": [
    {
     "data": {
      "text/plain": [
       "0.4088791608810425"
      ]
     },
     "execution_count": 4,
     "metadata": {},
     "output_type": "execute_result"
    }
   ],
   "source": [
    "def compute_bleurt(passages: list[str], generation: str):\n",
    "    references = passages + [\n",
    "        \"\\n\".join(passages),\n",
    "    ]\n",
    "    predictions = [\n",
    "        generation,\n",
    "    ] * (len(passages) + 1)\n",
    "    scores = bleurt.compute(predictions=predictions, references=references)[\"scores\"]\n",
    "    return max(scores)\n",
    "\n",
    "\n",
    "compute_bleurt([\"The alphabet is 26 letters long.\", \"Math is not so easy.\"], \"The English alphabet is 26 letters long.\")"
   ]
  },
  {
   "cell_type": "code",
   "execution_count": null,
   "id": "a4daae3f-e042-4f94-a4b0-c9e93aa876dd",
   "metadata": {},
   "outputs": [],
   "source": []
  },
  {
   "cell_type": "code",
   "execution_count": 5,
   "id": "e19b8934-8eb7-43c2-ab12-8725de26d0fb",
   "metadata": {},
   "outputs": [],
   "source": [
    "bert_score = metrics.get_bertscore_metric_object()"
   ]
  },
  {
   "cell_type": "code",
   "execution_count": 7,
   "id": "6b9bd28b-60d3-4e9d-919a-ce8604baef7e",
   "metadata": {},
   "outputs": [
    {
     "name": "stderr",
     "output_type": "stream",
     "text": [
      "Some weights of RobertaModel were not initialized from the model checkpoint at roberta-large and are newly initialized: ['roberta.pooler.dense.weight', 'roberta.pooler.dense.bias']\n",
      "You should probably TRAIN this model on a down-stream task to be able to use it for predictions and inference.\n"
     ]
    },
    {
     "data": {
      "text/plain": [
       "{'precision': [0.9999998807907104, 0.9180971384048462],\n",
       " 'recall': [0.9999998807907104, 0.8901697397232056],\n",
       " 'f1': [0.9999998807907104, 0.9039177894592285],\n",
       " 'hashcode': 'roberta-large_L17_no-idf_version=0.3.12(hug_trans=4.33.1)'}"
      ]
     },
     "execution_count": 7,
     "metadata": {},
     "output_type": "execute_result"
    }
   ],
   "source": [
    "predictions = [\"hello there\", \"general skywalker\"]\n",
    "references = [\"hello there\", \"general kenobi\"]\n",
    "bert_score.compute(predictions=predictions, references=references, lang=\"en\")"
   ]
  },
  {
   "cell_type": "code",
   "execution_count": 9,
   "id": "1776095e-f9df-4628-8736-49fbfb38275e",
   "metadata": {},
   "outputs": [
    {
     "data": {
      "text/plain": [
       "{'precision': [0.8900542259216309, 0.9747406840324402],\n",
       " 'recall': [0.8820334672927856, 0.9553087949752808],\n",
       " 'f1': [0.8860256671905518, 0.9649269580841064],\n",
       " 'hashcode': 'roberta-large_L17_no-idf_version=0.3.12(hug_trans=4.33.1)'}"
      ]
     },
     "execution_count": 9,
     "metadata": {},
     "output_type": "execute_result"
    }
   ],
   "source": [
    "# must match counts\n",
    "bert_score.compute(\n",
    "    predictions=[\"This is a test.\"] * 2,\n",
    "    references=[\"Two reference sentences.\", \"Second is a test sentence.\"],\n",
    "    lang=\"en\",\n",
    ")"
   ]
  },
  {
   "cell_type": "code",
   "execution_count": null,
   "id": "136a9fa6-743a-4dcc-ac54-e6287574cbd1",
   "metadata": {},
   "outputs": [],
   "source": []
  }
 ],
 "metadata": {
  "kernelspec": {
   "display_name": "Python 3 (ipykernel)",
   "language": "python",
   "name": "python3"
  },
  "language_info": {
   "codemirror_mode": {
    "name": "ipython",
    "version": 3
   },
   "file_extension": ".py",
   "mimetype": "text/x-python",
   "name": "python",
   "nbconvert_exporter": "python",
   "pygments_lexer": "ipython3",
   "version": "3.10.11"
  }
 },
 "nbformat": 4,
 "nbformat_minor": 5
}
