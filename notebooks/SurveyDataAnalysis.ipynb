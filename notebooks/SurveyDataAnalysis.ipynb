{
 "cells": [
  {
   "cell_type": "markdown",
   "id": "08297797-5500-4fcf-b61b-4bd90f4467b5",
   "metadata": {},
   "source": [
    "Survey Data Analysis\n",
    "==="
   ]
  },
  {
   "cell_type": "code",
   "execution_count": 114,
   "id": "16107d69-4887-441c-97f2-709ac349c288",
   "metadata": {},
   "outputs": [],
   "source": [
    "import html\n",
    "import itertools\n",
    "import logging\n",
    "import os\n",
    "import re\n",
    "import string\n",
    "import sys\n",
    "from collections import Counter\n",
    "from glob import glob\n",
    "from html.parser import HTMLParser\n",
    "from io import StringIO\n",
    "from pathlib import Path\n",
    "\n",
    "import dotenv\n",
    "import krippendorff\n",
    "import matplotlib\n",
    "import matplotlib.pyplot as plt\n",
    "import numpy as np\n",
    "import openai\n",
    "import pandas as pd\n",
    "import scipy\n",
    "import skrub\n",
    "import statsmodels.api as sm\n",
    "import statsmodels.graphics.regressionplots\n",
    "from tqdm import tqdm\n",
    "\n",
    "import experiment.completion_utils\n",
    "import experiment.generate\n",
    "import experiment.guidance_conditions\n",
    "import experiment.metrics\n",
    "import experiment.qualtrics\n",
    "from rag import prompt_utils, retrieval, retrieval_strategies"
   ]
  },
  {
   "cell_type": "code",
   "execution_count": 2,
   "id": "ce11f47a-09f3-467d-b22a-530065773adb",
   "metadata": {},
   "outputs": [],
   "source": [
    "# http://phyletica.org/matplotlib-fonts/\n",
    "# matplotlib.rcParams['text.usetex'] = True\n",
    "matplotlib.rcParams[\"pdf.fonttype\"] = 42\n",
    "matplotlib.rcParams[\"ps.fonttype\"] = 42"
   ]
  },
  {
   "cell_type": "code",
   "execution_count": 3,
   "id": "4a37bd6a-2b40-4924-9e99-4ac087e2524a",
   "metadata": {},
   "outputs": [],
   "source": [
    "# width of the template column in inches (points / 72)\n",
    "COLUMN_WIDTH_IN = 5.52062486111\n",
    "DPI = 150"
   ]
  },
  {
   "cell_type": "code",
   "execution_count": 4,
   "id": "9a84174f-594b-4e2f-af08-7e655fc0108a",
   "metadata": {},
   "outputs": [],
   "source": [
    "data_dir = Path(\"../data\")\n",
    "assert data_dir.exists()\n",
    "figures_dir = Path(\"../figures\")\n",
    "figures_dir.mkdir(exist_ok=True)\n",
    "assert figures_dir.exists()"
   ]
  },
  {
   "cell_type": "code",
   "execution_count": 5,
   "id": "2c42a6b7-5623-4ebb-af55-9b1ae693fa8c",
   "metadata": {},
   "outputs": [
    {
     "data": {
      "text/plain": [
       "'sk-'"
      ]
     },
     "execution_count": 5,
     "metadata": {},
     "output_type": "execute_result"
    }
   ],
   "source": [
    "dotenv.load_dotenv(\"../.env\")\n",
    "openai.api_key = os.environ[\"OPENAI_API_KEY\"]\n",
    "os.environ[\"OPENAI_API_KEY\"][:3]"
   ]
  },
  {
   "cell_type": "code",
   "execution_count": 6,
   "id": "1daca0fc-27b2-477e-a0ea-66fecbaab01d",
   "metadata": {},
   "outputs": [
    {
     "name": "stderr",
     "output_type": "stream",
     "text": [
      "2023-09-19 15:33:54,025 - SurveyDataAnalysis - INFO - Logging configured.\n"
     ]
    }
   ],
   "source": [
    "logging.basicConfig(format=\"%(asctime)s - %(name)s - %(levelname)s - %(message)s\", level=logging.INFO)\n",
    "logger = logging.getLogger(\"SurveyDataAnalysis\")\n",
    "logger.info(\"Logging configured.\")"
   ]
  },
  {
   "cell_type": "code",
   "execution_count": null,
   "id": "e20bd3a4-6899-4a89-bae1-10736d6f0727",
   "metadata": {},
   "outputs": [],
   "source": []
  },
  {
   "cell_type": "markdown",
   "id": "ccf2dff1-07ef-4a23-b602-1e1ba47c8569",
   "metadata": {},
   "source": [
    "#### Constants and conditions"
   ]
  },
  {
   "cell_type": "code",
   "execution_count": 7,
   "id": "4bfff662-eeb7-412e-a84d-1ddab9081ab9",
   "metadata": {},
   "outputs": [],
   "source": [
    "guidance_conditions = [\n",
    "    \"low\",\n",
    "    \"high\",\n",
    "    #    \"logit_bias\",\n",
    "]\n",
    "corpus_conditions = [\n",
    "    \"math\",\n",
    "    \"recipes\",\n",
    "    \"none\",\n",
    "]\n",
    "\n",
    "n_queries = 50\n",
    "n_annotators = 3\n",
    "\n",
    "relevance_answers = [\n",
    "    \"wrong\",\n",
    "    \"topic\",\n",
    "    \"partial\",\n",
    "    \"perfect\",\n",
    "]\n",
    "faithfulness_answers = [\n",
    "    \"none\",\n",
    "    \"partial\",\n",
    "    \"perfect\",\n",
    "]"
   ]
  },
  {
   "cell_type": "code",
   "execution_count": 8,
   "id": "aef433da-c4f9-4e1a-9db9-8e82e4867e50",
   "metadata": {},
   "outputs": [],
   "source": [
    "rng = np.random.default_rng(seed=7567313564)"
   ]
  },
  {
   "cell_type": "code",
   "execution_count": 9,
   "id": "d9ab83c4-89c4-42f6-90a0-fa13db436d95",
   "metadata": {},
   "outputs": [],
   "source": [
    "annotators = [{\"annotator\": i} for i in range(n_annotators)]\n",
    "queries = [{\"query\": f\"sample query {i}\"} for i in range(n_queries)]\n",
    "math_corpus = {\"corpus\": \"math\"}\n",
    "recipes_corpus = {\"corpus\": \"recipes\"}\n",
    "no_corpus = {\"corpus\": \"none\"}"
   ]
  },
  {
   "cell_type": "code",
   "execution_count": null,
   "id": "9cc2c55f-aaf5-4307-a287-202606fab6e8",
   "metadata": {},
   "outputs": [],
   "source": []
  },
  {
   "cell_type": "markdown",
   "id": "61661d08-18e3-484d-955c-ad5dc172a711",
   "metadata": {
    "jp-MarkdownHeadingCollapsed": true
   },
   "source": [
    "## Mock data creation\n",
    "\n",
    "Guidance:\n",
    " 1. Low guidance\n",
    " 2. High guidance\n",
    " 3. logit_bias guidance\n",
    "\n",
    "Corpus:\n",
    " 1. Math textbook\n",
    " 2. Recipes\n",
    " 3. None\n",
    "\n",
    "Queries (~50 of these, could get more)\n",
    "\n",
    "Number of annotators...\n",
    "\n",
    "For each Query X Corpus X Prompt:\n",
    " - For corpus == Math textbook, get one relevance judgment: Wrong, Topic, Partial, Perfect\n",
    " - Faithfulness judgment: Perfect, Partial, None\n",
    " - Quality: Excellent, Partial, Wrong?\n",
    " - OR this quality metric: pairwise comparison, with \"both low quality\", \"both high quality\"\n",
    "\n",
    "Note: by definition, can't have different guidance conditions with no corpus. (Nothing to guide the answer to! Guidance only defined when using RAG)\n",
    "\n",
    "We do pairwise comparions only for these guidance/corpus crosses:\n",
    " - Low/Math x High/Math (do human perceptions of faithfulness increase with high guidance prompts?) [Manipulation check]\n",
    "   - Faithfulness: \n",
    " - Low/Recipes x High/Recipes (is this necessary? this would be more manipulation checks...)\n",
    " - */None x */Recipes (no retrieval VS bad retrieval)\n",
    "   - None x Low/Recipes x High/Recipes (is there a difference between these conditions in terms of correctness?)\n",
    "     - I don't know how to do this from pairwise comparisons, statistically speaking...\n",
    "   - None x */Recipes (does correctness drop when bad RAG is used?\n",
    "   - None x Low/Recipes (does correctness drop LESS when low-guidance RAG is used?)\n",
    "   - None x High/Recipes (does correctness drop MORE when high-guidance RAG is used?)\n",
    " - */None x */Math (no retrieval VS good retrieval)\n",
    " - High/Math x High/Math (stratified by retrieval relevance?)"
   ]
  },
  {
   "cell_type": "code",
   "execution_count": 7,
   "id": "9d3ba2cb-594c-4c7f-a1fa-363b39882d6d",
   "metadata": {},
   "outputs": [
    {
     "data": {
      "text/html": [
       "<div>\n",
       "<style scoped>\n",
       "    .dataframe tbody tr th:only-of-type {\n",
       "        vertical-align: middle;\n",
       "    }\n",
       "\n",
       "    .dataframe tbody tr th {\n",
       "        vertical-align: top;\n",
       "    }\n",
       "\n",
       "    .dataframe thead th {\n",
       "        text-align: right;\n",
       "    }\n",
       "</style>\n",
       "<table border=\"1\" class=\"dataframe\">\n",
       "  <thead>\n",
       "    <tr style=\"text-align: right;\">\n",
       "      <th></th>\n",
       "      <th>document</th>\n",
       "      <th>relevance</th>\n",
       "      <th>corpus</th>\n",
       "      <th>annotator</th>\n",
       "      <th>query</th>\n",
       "    </tr>\n",
       "  </thead>\n",
       "  <tbody>\n",
       "    <tr>\n",
       "      <th>142</th>\n",
       "      <td>Retrieved document text</td>\n",
       "      <td>topic</td>\n",
       "      <td>math</td>\n",
       "      <td>1</td>\n",
       "      <td>sample query 47</td>\n",
       "    </tr>\n",
       "  </tbody>\n",
       "</table>\n",
       "</div>"
      ],
      "text/plain": [
       "                    document relevance corpus  annotator            query\n",
       "142  Retrieved document text     topic   math          1  sample query 47"
      ]
     },
     "execution_count": 7,
     "metadata": {},
     "output_type": "execute_result"
    }
   ],
   "source": [
    "# stage 1:\n",
    "# generate relevance judgments\n",
    "# for corpus_condition == \"math\"\n",
    "ds = []\n",
    "for query in queries:\n",
    "    for annotator in annotators:\n",
    "        relevance = rng.choice(relevance_answers, p=(0.1, 0.4, 0.3, 0.2))\n",
    "        ds.append({\"document\": \"Retrieved document text\", \"relevance\": relevance, **math_corpus, **annotator, **query})\n",
    "relevance_df = pd.DataFrame(ds)\n",
    "relevance_df.sample(1)"
   ]
  },
  {
   "cell_type": "code",
   "execution_count": 8,
   "id": "805acdf7-7020-4e5e-93d6-2a104891078b",
   "metadata": {},
   "outputs": [
    {
     "data": {
      "text/plain": [
       "relevance\n",
       "topic      53\n",
       "partial    49\n",
       "perfect    37\n",
       "wrong      11\n",
       "Name: count, dtype: int64"
      ]
     },
     "execution_count": 8,
     "metadata": {},
     "output_type": "execute_result"
    }
   ],
   "source": [
    "relevance_df.relevance.value_counts()"
   ]
  },
  {
   "cell_type": "code",
   "execution_count": 9,
   "id": "4ea4aa56-2d83-41a1-8f0e-210f755ad356",
   "metadata": {},
   "outputs": [
    {
     "data": {
      "text/html": [
       "<div>\n",
       "<style scoped>\n",
       "    .dataframe tbody tr th:only-of-type {\n",
       "        vertical-align: middle;\n",
       "    }\n",
       "\n",
       "    .dataframe tbody tr th {\n",
       "        vertical-align: top;\n",
       "    }\n",
       "\n",
       "    .dataframe thead th {\n",
       "        text-align: right;\n",
       "    }\n",
       "</style>\n",
       "<table border=\"1\" class=\"dataframe\">\n",
       "  <thead>\n",
       "    <tr style=\"text-align: right;\">\n",
       "      <th></th>\n",
       "      <th>document</th>\n",
       "      <th>corpus</th>\n",
       "      <th>query</th>\n",
       "      <th>mean_relevance</th>\n",
       "    </tr>\n",
       "  </thead>\n",
       "  <tbody>\n",
       "    <tr>\n",
       "      <th>29</th>\n",
       "      <td>Retrieved document text</td>\n",
       "      <td>math</td>\n",
       "      <td>sample query 29</td>\n",
       "      <td>2.666667</td>\n",
       "    </tr>\n",
       "  </tbody>\n",
       "</table>\n",
       "</div>"
      ],
      "text/plain": [
       "                   document corpus            query  mean_relevance\n",
       "29  Retrieved document text   math  sample query 29        2.666667"
      ]
     },
     "execution_count": 9,
     "metadata": {},
     "output_type": "execute_result"
    }
   ],
   "source": [
    "relevance_df[\"relevance_level\"] = relevance_df.relevance.map(lambda r: relevance_answers.index(r))\n",
    "mean_relevance = relevance_df.groupby(\"query\").relevance_level.mean().rename(\"mean_relevance\")\n",
    "relevance_df = (\n",
    "    relevance_df.drop_duplicates(subset=\"query\")\n",
    "    .drop(columns=[\"annotator\", \"relevance\", \"relevance_level\"])\n",
    "    .join(mean_relevance, on=\"query\")\n",
    "    .reset_index(drop=True)\n",
    ")\n",
    "relevance_df.sample(n=1)"
   ]
  },
  {
   "cell_type": "code",
   "execution_count": 10,
   "id": "df048706-f10e-48db-8499-7b8e024670be",
   "metadata": {},
   "outputs": [
    {
     "data": {
      "image/png": "[encoded data removed]",
      "text/plain": [
       "<Figure size 500x300 with 1 Axes>"
      ]
     },
     "metadata": {},
     "output_type": "display_data"
    }
   ],
   "source": [
    "fig, ax = plt.subplots(1, 1, figsize=(5, 3))\n",
    "\n",
    "bin_width = 0.25\n",
    "bins = np.arange(0, len(relevance_answers) + bin_width, bin_width)\n",
    "ax.hist(relevance_df.mean_relevance, bins=bins, align=\"left\")\n",
    "ax.set_xticks(\n",
    "    list(range(len(relevance_answers))), labels=[f\"{answer} ({i})\" for i, answer in enumerate(relevance_answers)]\n",
    ")\n",
    "\n",
    "ax.set_xlabel(\"Mean relevance\")\n",
    "ax.set_ylabel(\"Query count\")\n",
    "ax.set_title(\"Distribution of human relevance scores\\non retrieved OpenStax documents\")\n",
    "\n",
    "fig.tight_layout()\n",
    "plt.show()"
   ]
  },
  {
   "cell_type": "code",
   "execution_count": 11,
   "id": "26f50378-437b-4f61-a874-cde3b0890652",
   "metadata": {},
   "outputs": [
    {
     "name": "stdout",
     "output_type": "stream",
     "text": [
      "600\n"
     ]
    },
    {
     "data": {
      "text/html": [
       "<div>\n",
       "<style scoped>\n",
       "    .dataframe tbody tr th:only-of-type {\n",
       "        vertical-align: middle;\n",
       "    }\n",
       "\n",
       "    .dataframe tbody tr th {\n",
       "        vertical-align: top;\n",
       "    }\n",
       "\n",
       "    .dataframe thead th {\n",
       "        text-align: right;\n",
       "    }\n",
       "</style>\n",
       "<table border=\"1\" class=\"dataframe\">\n",
       "  <thead>\n",
       "    <tr style=\"text-align: right;\">\n",
       "      <th></th>\n",
       "      <th>generation</th>\n",
       "      <th>document</th>\n",
       "      <th>guidance</th>\n",
       "      <th>faithfulness</th>\n",
       "      <th>corpus</th>\n",
       "      <th>annotator</th>\n",
       "      <th>query</th>\n",
       "    </tr>\n",
       "  </thead>\n",
       "  <tbody>\n",
       "    <tr>\n",
       "      <th>570</th>\n",
       "      <td>Generated text n a l m m p q a r y</td>\n",
       "      <td>Retrieved document text\\ni v o q h z h b m o\\n...</td>\n",
       "      <td>low</td>\n",
       "      <td></td>\n",
       "      <td>recipes</td>\n",
       "      <td>0</td>\n",
       "      <td>sample query 47</td>\n",
       "    </tr>\n",
       "  </tbody>\n",
       "</table>\n",
       "</div>"
      ],
      "text/plain": [
       "                             generation  \\\n",
       "570  Generated text n a l m m p q a r y   \n",
       "\n",
       "                                              document guidance faithfulness  \\\n",
       "570  Retrieved document text\\ni v o q h z h b m o\\n...      low                \n",
       "\n",
       "      corpus  annotator            query  \n",
       "570  recipes          0  sample query 47  "
      ]
     },
     "execution_count": 11,
     "metadata": {},
     "output_type": "execute_result"
    }
   ],
   "source": [
    "# create the unannotated faithfulness df\n",
    "\n",
    "\n",
    "def get_random_text(size: int = 10):\n",
    "    choices = list(string.ascii_lowercase)\n",
    "    return \" \".join(np.random.choice(choices, size=size))\n",
    "\n",
    "\n",
    "ds = []\n",
    "for query in queries:\n",
    "    for corpus in [math_corpus, recipes_corpus]:\n",
    "        for guidance in guidance_conditions:\n",
    "            document = \"Retrieved document text\\n\" + \"\\n\".join([get_random_text() for passage in range(4)])\n",
    "            generation = (\n",
    "                \"Generated text \" + get_random_text()\n",
    "            )  # TODO do rag here, retrieved a document and generating a response\n",
    "\n",
    "            for annotator in annotators:\n",
    "                ds.append(\n",
    "                    {\n",
    "                        \"generation\": generation,\n",
    "                        \"document\": document,\n",
    "                        \"guidance\": guidance,\n",
    "                        \"faithfulness\": \"\",\n",
    "                        **corpus,\n",
    "                        **annotator,\n",
    "                        **query,\n",
    "                    }\n",
    "                )\n",
    "unannotated_df = pd.DataFrame(ds)\n",
    "print(len(unannotated_df))\n",
    "unannotated_df.sample(1)"
   ]
  },
  {
   "cell_type": "code",
   "execution_count": 255,
   "id": "d1d1bb41-6893-4933-9de5-2cd8e0043449",
   "metadata": {},
   "outputs": [
    {
     "name": "stdout",
     "output_type": "stream",
     "text": [
      "['none', 'partial', 'perfect']\n"
     ]
    },
    {
     "data": {
      "text/html": [
       "<div>\n",
       "<style scoped>\n",
       "    .dataframe tbody tr th:only-of-type {\n",
       "        vertical-align: middle;\n",
       "    }\n",
       "\n",
       "    .dataframe tbody tr th {\n",
       "        vertical-align: top;\n",
       "    }\n",
       "\n",
       "    .dataframe thead th {\n",
       "        text-align: right;\n",
       "    }\n",
       "</style>\n",
       "<table border=\"1\" class=\"dataframe\">\n",
       "  <thead>\n",
       "    <tr style=\"text-align: right;\">\n",
       "      <th></th>\n",
       "      <th>generation</th>\n",
       "      <th>document</th>\n",
       "      <th>guidance</th>\n",
       "      <th>faithfulness</th>\n",
       "      <th>corpus</th>\n",
       "      <th>annotator</th>\n",
       "      <th>query</th>\n",
       "    </tr>\n",
       "  </thead>\n",
       "  <tbody>\n",
       "    <tr>\n",
       "      <th>7</th>\n",
       "      <td>Generated text</td>\n",
       "      <td>Retrieved document text</td>\n",
       "      <td>low</td>\n",
       "      <td>partial</td>\n",
       "      <td>recipes</td>\n",
       "      <td>1</td>\n",
       "      <td>sample query 0</td>\n",
       "    </tr>\n",
       "  </tbody>\n",
       "</table>\n",
       "</div>"
      ],
      "text/plain": [
       "       generation                 document guidance faithfulness   corpus  \\\n",
       "7  Generated text  Retrieved document text      low      partial  recipes   \n",
       "\n",
       "   annotator           query  \n",
       "7          1  sample query 0  "
      ]
     },
     "execution_count": 255,
     "metadata": {},
     "output_type": "execute_result"
    }
   ],
   "source": [
    "# annotate for faithfulness\n",
    "faithfulness_df = unannotated_df.copy()\n",
    "print(faithfulness_answers)\n",
    "\n",
    "\n",
    "def annotate_faithfulness(row):\n",
    "    query = row.query\n",
    "    document = row.document\n",
    "    generation = row.generation\n",
    "    guidance = row.guidance\n",
    "    # this is where a human would use the elements to make an assessment\n",
    "    if guidance == \"low\":\n",
    "        faithfulness = rng.choice(faithfulness_answers, p=(0.2, 0.5, 0.3))\n",
    "    else:\n",
    "        faithfulness = rng.choice(faithfulness_answers, p=(0.1, 0.4, 0.5))\n",
    "    return faithfulness\n",
    "\n",
    "\n",
    "faithfulness_df[\"faithfulness\"] = faithfulness_df.apply(annotate_faithfulness, axis=1)\n",
    "faithfulness_df.sample(n=1)"
   ]
  },
  {
   "cell_type": "code",
   "execution_count": 256,
   "id": "bec5ec5a-3e04-4730-b588-8c51e3fcd439",
   "metadata": {},
   "outputs": [
    {
     "data": {
      "text/html": [
       "<div>\n",
       "<style scoped>\n",
       "    .dataframe tbody tr th:only-of-type {\n",
       "        vertical-align: middle;\n",
       "    }\n",
       "\n",
       "    .dataframe tbody tr th {\n",
       "        vertical-align: top;\n",
       "    }\n",
       "\n",
       "    .dataframe thead th {\n",
       "        text-align: right;\n",
       "    }\n",
       "</style>\n",
       "<table border=\"1\" class=\"dataframe\">\n",
       "  <thead>\n",
       "    <tr style=\"text-align: right;\">\n",
       "      <th></th>\n",
       "      <th>generation</th>\n",
       "      <th>document</th>\n",
       "      <th>guidance</th>\n",
       "      <th>corpus</th>\n",
       "      <th>query</th>\n",
       "      <th>mean_faithfulness</th>\n",
       "    </tr>\n",
       "  </thead>\n",
       "  <tbody>\n",
       "    <tr>\n",
       "      <th>196</th>\n",
       "      <td>Generated text</td>\n",
       "      <td>Retrieved document text</td>\n",
       "      <td>low</td>\n",
       "      <td>math</td>\n",
       "      <td>sample query 49</td>\n",
       "      <td>1.333333</td>\n",
       "    </tr>\n",
       "  </tbody>\n",
       "</table>\n",
       "</div>"
      ],
      "text/plain": [
       "         generation                 document guidance corpus            query  \\\n",
       "196  Generated text  Retrieved document text      low   math  sample query 49   \n",
       "\n",
       "     mean_faithfulness  \n",
       "196           1.333333  "
      ]
     },
     "execution_count": 256,
     "metadata": {},
     "output_type": "execute_result"
    }
   ],
   "source": [
    "# do some annotator agreement disambiguation\n",
    "# we could just take the mean of the level (0, 1, 2)\n",
    "faithfulness_df[\"faithfulness_level\"] = faithfulness_df.faithfulness.map(lambda f: faithfulness_answers.index(f))\n",
    "group_keys = [\"query\", \"corpus\", \"guidance\"]\n",
    "mean_faithfulness = faithfulness_df.groupby(group_keys).faithfulness_level.mean().rename(\"mean_faithfulness\")\n",
    "faithfulness_df = (\n",
    "    faithfulness_df.drop_duplicates(subset=group_keys)\n",
    "    .drop(columns=[\"annotator\", \"faithfulness\", \"faithfulness_level\"])\n",
    "    .join(mean_faithfulness, on=group_keys)\n",
    "    .reset_index(drop=True)\n",
    ")\n",
    "faithfulness_df.sample(n=1)"
   ]
  },
  {
   "cell_type": "code",
   "execution_count": null,
   "id": "ff09cbe2-060e-4fe2-b984-c1ddff5201ef",
   "metadata": {},
   "outputs": [],
   "source": []
  },
  {
   "cell_type": "code",
   "execution_count": 257,
   "id": "ef434547-ca0e-4498-b199-627bd3f9b3b0",
   "metadata": {},
   "outputs": [
    {
     "data": {
      "text/html": [
       "<div>\n",
       "<style scoped>\n",
       "    .dataframe tbody tr th:only-of-type {\n",
       "        vertical-align: middle;\n",
       "    }\n",
       "\n",
       "    .dataframe tbody tr th {\n",
       "        vertical-align: top;\n",
       "    }\n",
       "\n",
       "    .dataframe thead th {\n",
       "        text-align: right;\n",
       "    }\n",
       "</style>\n",
       "<table border=\"1\" class=\"dataframe\">\n",
       "  <thead>\n",
       "    <tr style=\"text-align: right;\">\n",
       "      <th></th>\n",
       "      <th>generation</th>\n",
       "      <th>document</th>\n",
       "      <th>guidance</th>\n",
       "      <th>corpus</th>\n",
       "      <th>query</th>\n",
       "      <th>mean_faithfulness</th>\n",
       "      <th>mean_relevance</th>\n",
       "    </tr>\n",
       "  </thead>\n",
       "  <tbody>\n",
       "    <tr>\n",
       "      <th>0</th>\n",
       "      <td>Generated text</td>\n",
       "      <td>Retrieved document text</td>\n",
       "      <td>low</td>\n",
       "      <td>math</td>\n",
       "      <td>sample query 0</td>\n",
       "      <td>1.000000</td>\n",
       "      <td>1.0</td>\n",
       "    </tr>\n",
       "    <tr>\n",
       "      <th>1</th>\n",
       "      <td>Generated text</td>\n",
       "      <td>Retrieved document text</td>\n",
       "      <td>high</td>\n",
       "      <td>math</td>\n",
       "      <td>sample query 0</td>\n",
       "      <td>1.333333</td>\n",
       "      <td>1.0</td>\n",
       "    </tr>\n",
       "    <tr>\n",
       "      <th>2</th>\n",
       "      <td>Generated text</td>\n",
       "      <td>Retrieved document text</td>\n",
       "      <td>low</td>\n",
       "      <td>recipes</td>\n",
       "      <td>sample query 0</td>\n",
       "      <td>1.666667</td>\n",
       "      <td>0.0</td>\n",
       "    </tr>\n",
       "    <tr>\n",
       "      <th>3</th>\n",
       "      <td>Generated text</td>\n",
       "      <td>Retrieved document text</td>\n",
       "      <td>high</td>\n",
       "      <td>recipes</td>\n",
       "      <td>sample query 0</td>\n",
       "      <td>1.000000</td>\n",
       "      <td>0.0</td>\n",
       "    </tr>\n",
       "  </tbody>\n",
       "</table>\n",
       "</div>"
      ],
      "text/plain": [
       "       generation                 document guidance   corpus           query  \\\n",
       "0  Generated text  Retrieved document text      low     math  sample query 0   \n",
       "1  Generated text  Retrieved document text     high     math  sample query 0   \n",
       "2  Generated text  Retrieved document text      low  recipes  sample query 0   \n",
       "3  Generated text  Retrieved document text     high  recipes  sample query 0   \n",
       "\n",
       "   mean_faithfulness  mean_relevance  \n",
       "0           1.000000             1.0  \n",
       "1           1.333333             1.0  \n",
       "2           1.666667             0.0  \n",
       "3           1.000000             0.0  "
      ]
     },
     "execution_count": 257,
     "metadata": {},
     "output_type": "execute_result"
    }
   ],
   "source": [
    "# now, merge in relevance to the unannotated_df\n",
    "# pd.merge(faithfulness_df, relevance_df[[\"query\", \"mean_relevance\"]], how=\"left\", on=[\"query\", \"corpus\"])\n",
    "query_df = faithfulness_df.join(\n",
    "    relevance_df[[\"query\", \"corpus\", \"mean_relevance\"]].set_index([\"query\", \"corpus\"]),\n",
    "    how=\"left\",\n",
    "    on=[\"query\", \"corpus\"],\n",
    ")\n",
    "# by definition, recipes have no relevance to the queries\n",
    "query_df.loc[query_df.corpus == \"recipes\", \"mean_relevance\"] = 0.0\n",
    "assert query_df.mean_relevance.isna().sum() == 0\n",
    "query_df.sort_values(by=[\"query\", \"guidance\", \"corpus\"])\n",
    "query_df.head(n=4)"
   ]
  },
  {
   "cell_type": "code",
   "execution_count": 259,
   "id": "6d740737-f47a-4fc3-baa1-7af880397381",
   "metadata": {},
   "outputs": [
    {
     "data": {
      "image/png": "[encoded data removed]",
      "text/plain": [
       "<Figure size 800x700 with 4 Axes>"
      ]
     },
     "metadata": {},
     "output_type": "display_data"
    }
   ],
   "source": [
    "# compare faithfulness distribution between recipes and math corpus\n",
    "# we hypothesize that faithfulness should be the same or slightly higher for math, but this doesn't really matter\n",
    "fig, axes = plt.subplots(2, 2, figsize=(8, 7))\n",
    "axes = axes.reshape(-1)\n",
    "\n",
    "\n",
    "def plot_faithfulness_comparison(ax, g1, g2, labels, title):\n",
    "    box_width = 0.1\n",
    "    ax.boxplot(\n",
    "        [\n",
    "            g1,\n",
    "            g2,\n",
    "        ],\n",
    "        widths=box_width,\n",
    "    )\n",
    "    ax.set_xticks([1, 2], labels=labels)\n",
    "    ax.set_ylabel(\"Mean faithfulness\")\n",
    "    ax.set_title(title)\n",
    "\n",
    "    # two-sample t-test\n",
    "    # this complex line of code works, but is not necessary since the dataframe is sorted by query\n",
    "    # g1, g2 = zip(*query_df.groupby(\"query\").apply(lambda group: (group[group.corpus == \"math\"].mean_faithfulness.iloc[0], group[group.corpus == \"recipes\"].mean_faithfulness.iloc[0])))\n",
    "    g1, g2 = np.array(g1), np.array(g2)\n",
    "    mean_diff = (g1 - g2).mean()\n",
    "    t, p = scipy.stats.ttest_rel(g1, g2)\n",
    "    # ax.text(1.5, min(g1.min(), g2.min()) - 0.05, f\"Diff in means: {mean_diff:.3f} ($t$={t:.2f}, $p$={p:.3f})\", ha=\"center\", va=\"top\")\n",
    "\n",
    "    # ax.hist(g1, bins=20, orientation=\"horizontal\", bottom=1, density=True)\n",
    "    # np.histogram(g1, bins=bins\n",
    "    for g, x in [(g1, 1), (g2, 2)]:\n",
    "        xmin = x + (box_width / 2) + 0.04\n",
    "        ax.vlines(xmin, ymin=g.min(), ymax=g.max(), color=\"black\")\n",
    "        for value, count in Counter(g).most_common():\n",
    "            xmax = xmin + (count / len(g))\n",
    "            ax.hlines(y=value, xmin=xmin, xmax=xmax, color=\"black\")\n",
    "            ax.text(x=xmax + 0.02, y=value, s=f\"{count}\", va=\"center\", ha=\"left\")\n",
    "\n",
    "    ax.set_ylim(bottom=-0.25, top=2.25)\n",
    "    ax.set_xlim(0, 3)\n",
    "    ax.text(\n",
    "        1.5, ax.get_ylim()[0], f\"Diff in means: {mean_diff:.3f} ($t$={t:.2f}, $p$={p:.3f})\", ha=\"center\", va=\"bottom\"\n",
    "    )\n",
    "\n",
    "    for i, answer in enumerate(faithfulness_answers):\n",
    "        ax.axhline(i, color=\"lightgray\", linestyle=\"--\", alpha=0.5, zorder=-1)\n",
    "        ax.text(ax.get_xlim()[0] + 0.02, i + 0.02, answer, ha=\"left\", va=\"bottom\")\n",
    "\n",
    "\n",
    "for ax_ind, guidance in enumerate([\"low\", \"high\"]):\n",
    "    ax = axes[ax_ind]\n",
    "    labels = [\"Math textbook\", \"Recipes\"]\n",
    "    g1 = query_df[(query_df.corpus == \"math\") & (query_df.guidance == guidance)].mean_faithfulness\n",
    "    g2 = query_df[(query_df.corpus == \"recipes\") & (query_df.guidance == guidance)].mean_faithfulness\n",
    "    title = f\"Level of guidance: {guidance}\"\n",
    "    plot_faithfulness_comparison(ax, g1, g2, labels, title)\n",
    "\n",
    "for ax_ind, corpus in enumerate([\"math\", \"recipes\"]):\n",
    "    ax = axes[ax_ind + 2]\n",
    "    labels = [\"Low\\nguidance\", \"High\\nguidance\"]\n",
    "    g1 = query_df[(query_df.corpus == corpus) & (query_df.guidance == \"low\")].mean_faithfulness\n",
    "    g2 = query_df[(query_df.corpus == corpus) & (query_df.guidance == \"high\")].mean_faithfulness\n",
    "    title = f\"Retrieval corpus: {corpus}\"\n",
    "    plot_faithfulness_comparison(ax, g1, g2, labels, title)\n",
    "\n",
    "fig.tight_layout()\n",
    "plt.show()"
   ]
  },
  {
   "cell_type": "code",
   "execution_count": 265,
   "id": "bf3a4590-c368-451d-b52f-75ca1bef976b",
   "metadata": {},
   "outputs": [
    {
     "name": "stdout",
     "output_type": "stream",
     "text": [
      "Level of guidance: low\n",
      "                            OLS Regression Results                            \n",
      "==============================================================================\n",
      "Dep. Variable:      mean_faithfulness   R-squared:                       0.021\n",
      "Model:                            OLS   Adj. R-squared:                  0.001\n",
      "Method:                 Least Squares   F-statistic:                     1.035\n",
      "Date:                Thu, 31 Aug 2023   Prob (F-statistic):              0.314\n",
      "Time:                        14:34:59   Log-Likelihood:                -21.654\n",
      "No. Observations:                  50   AIC:                             47.31\n",
      "Df Residuals:                      48   BIC:                             51.13\n",
      "Df Model:                           1                                         \n",
      "Covariance Type:            nonrobust                                         \n",
      "==================================================================================\n",
      "                     coef    std err          t      P>|t|      [0.025      0.975]\n",
      "----------------------------------------------------------------------------------\n",
      "Intercept          0.9742      0.165      5.891      0.000       0.642       1.307\n",
      "mean_relevance     0.1090      0.107      1.018      0.314      -0.106       0.324\n",
      "==============================================================================\n",
      "Omnibus:                        3.122   Durbin-Watson:                   1.911\n",
      "Prob(Omnibus):                  0.210   Jarque-Bera (JB):                2.607\n",
      "Skew:                          -0.559   Prob(JB):                        0.272\n",
      "Kurtosis:                       2.996   Cond. No.                         6.58\n",
      "==============================================================================\n",
      "\n",
      "Notes:\n",
      "[1] Standard Errors assume that the covariance matrix of the errors is correctly specified.\n",
      "Level of guidance: high\n",
      "                            OLS Regression Results                            \n",
      "==============================================================================\n",
      "Dep. Variable:      mean_faithfulness   R-squared:                       0.009\n",
      "Model:                            OLS   Adj. R-squared:                 -0.011\n",
      "Method:                 Least Squares   F-statistic:                    0.4551\n",
      "Date:                Thu, 31 Aug 2023   Prob (F-statistic):              0.503\n",
      "Time:                        14:34:59   Log-Likelihood:                -19.283\n",
      "No. Observations:                  50   AIC:                             42.57\n",
      "Df Residuals:                      48   BIC:                             46.39\n",
      "Df Model:                           1                                         \n",
      "Covariance Type:            nonrobust                                         \n",
      "==================================================================================\n",
      "                     coef    std err          t      P>|t|      [0.025      0.975]\n",
      "----------------------------------------------------------------------------------\n",
      "Intercept          1.5539      0.158      9.852      0.000       1.237       1.871\n",
      "mean_relevance    -0.0689      0.102     -0.675      0.503      -0.274       0.136\n",
      "==============================================================================\n",
      "Omnibus:                        1.714   Durbin-Watson:                   2.046\n",
      "Prob(Omnibus):                  0.424   Jarque-Bera (JB):                1.668\n",
      "Skew:                          -0.408   Prob(JB):                        0.434\n",
      "Kurtosis:                       2.631   Cond. No.                         6.58\n",
      "==============================================================================\n",
      "\n",
      "Notes:\n",
      "[1] Standard Errors assume that the covariance matrix of the errors is correctly specified.\n"
     ]
    },
    {
     "data": {
      "image/png": "[encoded data removed]",
      "text/plain": [
       "<Figure size 700x300 with 2 Axes>"
      ]
     },
     "metadata": {},
     "output_type": "display_data"
    }
   ],
   "source": [
    "# explore correlation between relevance and faithfulness in the math corpus\n",
    "# we would expect a small positive correlation\n",
    "# when guidance is high, we expect a stronger correlation\n",
    "fig, axes = plt.subplots(1, 2, figsize=(7, 3))\n",
    "axes = axes.reshape(-1)\n",
    "\n",
    "\n",
    "def plot_relevance_vs_faithfulness(ax, sdf, title=\"\", ylim=None):\n",
    "    # correlation\n",
    "    r, p = scipy.stats.pearsonr(sdf.mean_relevance, sdf.mean_faithfulness)\n",
    "    # and the approximately equivalent linear regression\n",
    "    # https://sebastianraschka.com/faq/docs/pearson-r-vs-linear-regr.html\n",
    "    model = sm.OLS.from_formula(formula=\"mean_faithfulness ~ mean_relevance\", data=sdf)\n",
    "    model = model.fit()\n",
    "    params = model.params\n",
    "\n",
    "    # ax.hist2d(sdf.mean_relevance, sdf.mean_faithfulness, cmin=1)\n",
    "    ax.scatter(sdf.mean_relevance, sdf.mean_faithfulness, alpha=0.1, marker=\"o\")\n",
    "    ax.set_xlabel(\"Mean relevance\")\n",
    "    ax.set_ylabel(\"Mean faithfulness\")\n",
    "    ax.set_title(title)\n",
    "\n",
    "    if ylim:\n",
    "        ax.set_ylim(ylim)\n",
    "\n",
    "    statsmodels.graphics.regressionplots.abline_plot(\n",
    "        model_results=model,\n",
    "        ax=ax,\n",
    "        color=\"black\",\n",
    "        linestyle=\"--\",\n",
    "        linewidth=1.1,\n",
    "        label=f\"OLS ($r$={r:.3f}, $p$={p:.3f})\",\n",
    "    )\n",
    "    ax.legend()\n",
    "    print(title)\n",
    "    print(model.summary())\n",
    "\n",
    "\n",
    "for ax_ind, guidance in enumerate(guidance_conditions):\n",
    "    ax = axes[ax_ind]\n",
    "    sdf = query_df[(query_df.corpus == \"math\") & (query_df.guidance == guidance)]\n",
    "    title = f\"Level of guidance: {guidance}\"\n",
    "    plot_relevance_vs_faithfulness(ax, sdf, title, ylim=(0, 2))\n",
    "\n",
    "fig.suptitle(\"Relationship between relevance and faithfulness\")\n",
    "\n",
    "fig.tight_layout()\n",
    "plt.show()"
   ]
  },
  {
   "cell_type": "code",
   "execution_count": null,
   "id": "9b4408f6-dc58-4952-946c-f695f84c7b73",
   "metadata": {},
   "outputs": [],
   "source": [
    "# now create pairwise surveys\n",
    "# most important: math/low vs math/high correctness"
   ]
  },
  {
   "cell_type": "code",
   "execution_count": null,
   "id": "98c33241-bb7c-4bf1-a1ef-5ef2f92d43bc",
   "metadata": {},
   "outputs": [],
   "source": []
  },
  {
   "cell_type": "code",
   "execution_count": null,
   "id": "3561e607-21f7-4834-a6e7-8b74d6a03249",
   "metadata": {},
   "outputs": [],
   "source": []
  },
  {
   "cell_type": "code",
   "execution_count": null,
   "id": "62d9d5a1-e32a-444f-b6bc-ef9c7f776ae8",
   "metadata": {},
   "outputs": [],
   "source": [
    "# TODO could look for correlations here between automated metrics (like % of word overlap, and other more complex groundedness metrics)\n",
    "# and human annotations of faithfulness"
   ]
  },
  {
   "cell_type": "code",
   "execution_count": null,
   "id": "5cec786e-97e8-4fb5-90a5-8ed481d5f9e9",
   "metadata": {},
   "outputs": [],
   "source": []
  },
  {
   "cell_type": "code",
   "execution_count": 23,
   "id": "026774b3-d7ad-472b-bb62-20a4678fe4a0",
   "metadata": {},
   "outputs": [
    {
     "data": {
      "text/plain": [
       "0.9090909090909091"
      ]
     },
     "execution_count": 23,
     "metadata": {},
     "output_type": "execute_result"
    }
   ],
   "source": [
    "passages = [\"Test text with extra.\"]\n",
    "generation = \"test text with extra words.\"\n",
    "experiment_utils.metrics.compute_macro_f1(passages, generation)"
   ]
  },
  {
   "cell_type": "code",
   "execution_count": 7,
   "id": "62f9b918-f402-40af-a9fe-52a647ab0efd",
   "metadata": {},
   "outputs": [
    {
     "name": "stdout",
     "output_type": "stream",
     "text": [
      "300\n"
     ]
    },
    {
     "data": {
      "text/html": [
       "<div>\n",
       "<style scoped>\n",
       "    .dataframe tbody tr th:only-of-type {\n",
       "        vertical-align: middle;\n",
       "    }\n",
       "\n",
       "    .dataframe tbody tr th {\n",
       "        vertical-align: top;\n",
       "    }\n",
       "\n",
       "    .dataframe thead th {\n",
       "        text-align: right;\n",
       "    }\n",
       "</style>\n",
       "<table border=\"1\" class=\"dataframe\">\n",
       "  <thead>\n",
       "    <tr style=\"text-align: right;\">\n",
       "      <th></th>\n",
       "      <th>generation</th>\n",
       "      <th>document</th>\n",
       "      <th>guidance</th>\n",
       "      <th>corpus</th>\n",
       "      <th>query</th>\n",
       "    </tr>\n",
       "  </thead>\n",
       "  <tbody>\n",
       "    <tr>\n",
       "      <th>154</th>\n",
       "      <td>Generated text e a f c p f r z g k</td>\n",
       "      <td>Retrieved document text\\nt n h r j c m c f x\\n...</td>\n",
       "      <td>E</td>\n",
       "      <td>math</td>\n",
       "      <td>sample query 25</td>\n",
       "    </tr>\n",
       "  </tbody>\n",
       "</table>\n",
       "</div>"
      ],
      "text/plain": [
       "                             generation  \\\n",
       "154  Generated text e a f c p f r z g k   \n",
       "\n",
       "                                              document guidance corpus  \\\n",
       "154  Retrieved document text\\nt n h r j c m c f x\\n...        E   math   \n",
       "\n",
       "               query  \n",
       "154  sample query 25  "
      ]
     },
     "execution_count": 7,
     "metadata": {},
     "output_type": "execute_result"
    }
   ],
   "source": [
    "# create automated metric df\n",
    "\n",
    "\n",
    "def get_random_text(size: int = 10):\n",
    "    choices = list(string.ascii_lowercase)\n",
    "    return \" \".join(np.random.choice(choices, size=size))\n",
    "\n",
    "\n",
    "corpus = math_corpus\n",
    "ds = []\n",
    "for query in queries:\n",
    "    for guidance in [\"A\", \"B\", \"C\", \"D\", \"E\", \"F\"]:\n",
    "        document = \"Retrieved document text\\n\" + \"\\n\".join([get_random_text() for passage in range(4)])\n",
    "        generation = (\n",
    "            \"Generated text \" + get_random_text()\n",
    "        )  # TODO do rag here, retrieved a document and generating a response\n",
    "        if guidance == \"F\":\n",
    "            document += \" a a a a a b b b b\"\n",
    "            generation += \" a a a a a b b b b\"\n",
    "        ds.append({\"generation\": generation, \"document\": document, \"guidance\": guidance, **corpus, **query})\n",
    "math_df = pd.DataFrame(ds)\n",
    "print(len(math_df))\n",
    "math_df.sample(1)"
   ]
  },
  {
   "cell_type": "code",
   "execution_count": 10,
   "id": "2494286c-a2f1-4489-98ed-03bfb881f6cf",
   "metadata": {},
   "outputs": [
    {
     "data": {
      "text/html": [
       "<div>\n",
       "<style scoped>\n",
       "    .dataframe tbody tr th:only-of-type {\n",
       "        vertical-align: middle;\n",
       "    }\n",
       "\n",
       "    .dataframe tbody tr th {\n",
       "        vertical-align: top;\n",
       "    }\n",
       "\n",
       "    .dataframe thead th {\n",
       "        text-align: right;\n",
       "    }\n",
       "</style>\n",
       "<table border=\"1\" class=\"dataframe\">\n",
       "  <thead>\n",
       "    <tr style=\"text-align: right;\">\n",
       "      <th></th>\n",
       "      <th>guidance</th>\n",
       "      <th>macro_f1</th>\n",
       "      <th>macro_f1_low</th>\n",
       "      <th>macro_f1_high</th>\n",
       "    </tr>\n",
       "  </thead>\n",
       "  <tbody>\n",
       "    <tr>\n",
       "      <th>3</th>\n",
       "      <td>D</td>\n",
       "      <td>0.421927</td>\n",
       "      <td>0.404139</td>\n",
       "      <td>0.441069</td>\n",
       "    </tr>\n",
       "    <tr>\n",
       "      <th>0</th>\n",
       "      <td>A</td>\n",
       "      <td>0.438886</td>\n",
       "      <td>0.415790</td>\n",
       "      <td>0.464270</td>\n",
       "    </tr>\n",
       "    <tr>\n",
       "      <th>1</th>\n",
       "      <td>B</td>\n",
       "      <td>0.439605</td>\n",
       "      <td>0.416518</td>\n",
       "      <td>0.462711</td>\n",
       "    </tr>\n",
       "    <tr>\n",
       "      <th>4</th>\n",
       "      <td>E</td>\n",
       "      <td>0.445563</td>\n",
       "      <td>0.420524</td>\n",
       "      <td>0.469068</td>\n",
       "    </tr>\n",
       "    <tr>\n",
       "      <th>2</th>\n",
       "      <td>C</td>\n",
       "      <td>0.455749</td>\n",
       "      <td>0.435010</td>\n",
       "      <td>0.476656</td>\n",
       "    </tr>\n",
       "    <tr>\n",
       "      <th>5</th>\n",
       "      <td>F</td>\n",
       "      <td>0.464326</td>\n",
       "      <td>0.439977</td>\n",
       "      <td>0.487834</td>\n",
       "    </tr>\n",
       "  </tbody>\n",
       "</table>\n",
       "</div>"
      ],
      "text/plain": [
       "  guidance  macro_f1  macro_f1_low  macro_f1_high\n",
       "3        D  0.421927      0.404139       0.441069\n",
       "0        A  0.438886      0.415790       0.464270\n",
       "1        B  0.439605      0.416518       0.462711\n",
       "4        E  0.445563      0.420524       0.469068\n",
       "2        C  0.455749      0.435010       0.476656\n",
       "5        F  0.464326      0.439977       0.487834"
      ]
     },
     "execution_count": 10,
     "metadata": {},
     "output_type": "execute_result"
    }
   ],
   "source": [
    "sdf = math_df[math_df.corpus == \"math\"]\n",
    "# sdf = sdf.drop_duplicates(subset=[\"query\", \"generation\", \"document\", \"guidance\"])\n",
    "ds = []\n",
    "for guidance, group in sdf.groupby(\"guidance\"):\n",
    "    assert group[\"query\"].nunique() == len(group)\n",
    "    f1_scores = []\n",
    "    for row in group.itertuples():\n",
    "        passages = document.split(\"\\n\")\n",
    "        f1 = experiment.metrics.compute_macro_f1(passages, row.generation)\n",
    "        f1_scores.append(f1)\n",
    "    f1_scores = np.array(f1_scores)\n",
    "    macro_f1 = f1_scores.mean()\n",
    "    # bootstrap confidence intervals\n",
    "    bootstrap = scipy.stats.bootstrap((f1_scores,), np.mean, confidence_level=0.95, random_state=rng)\n",
    "    ds.append(\n",
    "        {\n",
    "            \"guidance\": guidance,\n",
    "            \"macro_f1\": macro_f1,\n",
    "            \"macro_f1_low\": bootstrap.confidence_interval.low,\n",
    "            \"macro_f1_high\": bootstrap.confidence_interval.high,\n",
    "        }\n",
    "    )\n",
    "f1_df = pd.DataFrame(ds).sort_values(by=\"macro_f1\", ascending=True)\n",
    "f1_df"
   ]
  },
  {
   "cell_type": "code",
   "execution_count": 22,
   "id": "47bf0f0f-eab9-4db3-9203-0ef0fe3ddb58",
   "metadata": {},
   "outputs": [
    {
     "data": {
      "image/png": "[encoded data removed]",
      "text/plain": [
       "<Figure size 320x170 with 1 Axes>"
      ]
     },
     "metadata": {},
     "output_type": "display_data"
    }
   ],
   "source": [
    "fig, ax = plt.subplots(1, 1, figsize=(3.2, 1.7))\n",
    "\n",
    "metric = \"macro_f1\"\n",
    "# copy = f1_df.copy()\n",
    "# copy[[metric, metric + \"_low\", metric + \"_high\"]] += 0.1\n",
    "# for query_set, metric_df in [(\"MN Geo\", f1_df), (\"MN PreA\", copy)]:\n",
    "for query_set, metric_df in f1_df.groupby(\"query_set\"):\n",
    "    assert metric in metric_df.columns\n",
    "    xs = list(range(len(metric_df)))\n",
    "    ys = metric_df[metric]\n",
    "    yerr = metric_df[[metric + \"_low\", metric + \"_high\"]].subtract(metric_df[metric], axis=0).abs().T\n",
    "    ax.scatter(xs, ys, color=\"black\", marker=\".\")\n",
    "    ax.errorbar(xs, ys, yerr=yerr, zorder=-1, capsize=3, ecolor=\"grey\", label=query_set)\n",
    "\n",
    "# legend\n",
    "handles, labels = ax.get_legend_handles_labels()\n",
    "handles = [h[0] for h in handles]\n",
    "ax.legend(handles, labels, frameon=False, ncol=2)\n",
    "\n",
    "\n",
    "ax.set_xticks(xs, labels=f1_df.guidance)\n",
    "ax.set_ylabel(\"K-F1++\")\n",
    "# ax.set_ylim((0.2, 0.35))  # Consider manually setting the ylim\n",
    "\n",
    "fig.tight_layout()\n",
    "plt.show()"
   ]
  },
  {
   "cell_type": "code",
   "execution_count": null,
   "id": "f150ba21-9fe8-44c2-9525-e38f9049727d",
   "metadata": {},
   "outputs": [],
   "source": []
  },
  {
   "cell_type": "markdown",
   "id": "542d6342-c1ea-4b33-856b-f745d12dcc19",
   "metadata": {},
   "source": [
    "## Real data"
   ]
  },
  {
   "cell_type": "code",
   "execution_count": null,
   "id": "f616f615-25e6-4823-976d-aa756e02121a",
   "metadata": {},
   "outputs": [],
   "source": []
  },
  {
   "cell_type": "markdown",
   "id": "03046b2d-30fe-4c2f-bc2c-17115e200812",
   "metadata": {},
   "source": [
    "#### Load query data"
   ]
  },
  {
   "cell_type": "code",
   "execution_count": 10,
   "id": "6508b424-0b24-411a-a27c-c7d4a836082a",
   "metadata": {},
   "outputs": [
    {
     "data": {
      "text/plain": [
       "51"
      ]
     },
     "execution_count": 10,
     "metadata": {},
     "output_type": "execute_result"
    }
   ],
   "source": [
    "mn_general_student_queries_filepath = data_dir / \"derived\" / \"mn_general_student_queries.csv\"\n",
    "query_df = pd.read_csv(mn_general_student_queries_filepath)\n",
    "student_queries = [\n",
    "    row.post_content.strip().replace(\"[Continued:]\", \"\\n\")\n",
    "    for row in query_df.sample(frac=1, random_state=87896).itertuples()\n",
    "    if row.is_respondable_query == \"general\"\n",
    "]\n",
    "len(student_queries)"
   ]
  },
  {
   "cell_type": "code",
   "execution_count": 11,
   "id": "345e0668-f6a4-4cdd-bfa9-ee8a53773bee",
   "metadata": {},
   "outputs": [
    {
     "data": {
      "text/plain": [
       "subject_name\n",
       "Algebra 1      43\n",
       "Geometry        9\n",
       "Pre-Algebra     3\n",
       "Name: count, dtype: int64"
      ]
     },
     "execution_count": 11,
     "metadata": {},
     "output_type": "execute_result"
    }
   ],
   "source": [
    "query_df.subject_name.value_counts()"
   ]
  },
  {
   "cell_type": "code",
   "execution_count": null,
   "id": "be413300-9169-418b-b07c-a78923f04be3",
   "metadata": {},
   "outputs": [],
   "source": []
  },
  {
   "cell_type": "markdown",
   "id": "af748e5a-b6bb-4d2d-ad42-f5882080c9b1",
   "metadata": {},
   "source": [
    "#### Retrieve documents"
   ]
  },
  {
   "cell_type": "code",
   "execution_count": 13,
   "id": "f8b95ff5-0cca-414d-b555-4e928406ceb1",
   "metadata": {},
   "outputs": [],
   "source": [
    "embedding_dir = data_dir / \"derived\" / \"embeddings\"\n",
    "rori_db = retrieval.RetrievalDb(embedding_dir, \"rori_microlesson\", \"db_string\")\n",
    "openstax_db = retrieval.RetrievalDb(embedding_dir, \"openstax_subsection\", \"db_string\")\n",
    "recipe_db = retrieval.RetrievalDb(embedding_dir, \"recipenlg\", \"db_string\")"
   ]
  },
  {
   "cell_type": "code",
   "execution_count": 12,
   "id": "f178e7cb-6b9b-41d8-b108-612844da15b9",
   "metadata": {},
   "outputs": [
    {
     "name": "stdout",
     "output_type": "stream",
     "text": [
      "204\n"
     ]
    },
    {
     "data": {
      "text/html": [
       "<div>\n",
       "<style scoped>\n",
       "    .dataframe tbody tr th:only-of-type {\n",
       "        vertical-align: middle;\n",
       "    }\n",
       "\n",
       "    .dataframe tbody tr th {\n",
       "        vertical-align: top;\n",
       "    }\n",
       "\n",
       "    .dataframe thead th {\n",
       "        text-align: right;\n",
       "    }\n",
       "</style>\n",
       "<table border=\"1\" class=\"dataframe\">\n",
       "  <thead>\n",
       "    <tr style=\"text-align: right;\">\n",
       "      <th></th>\n",
       "      <th>query_set</th>\n",
       "      <th>query</th>\n",
       "      <th>generation</th>\n",
       "      <th>document</th>\n",
       "      <th>guidance</th>\n",
       "      <th>messages</th>\n",
       "      <th>corpus</th>\n",
       "    </tr>\n",
       "  </thead>\n",
       "  <tbody>\n",
       "    <tr>\n",
       "      <th>149</th>\n",
       "      <td>math_nation</td>\n",
       "      <td>I know that this has been a consistent questio...</td>\n",
       "      <td></td>\n",
       "      <td>Identify the Intercepts on a Graph: Every line...</td>\n",
       "      <td>low</td>\n",
       "      <td>[{'role': 'system', 'content': 'You are going ...</td>\n",
       "      <td>math</td>\n",
       "    </tr>\n",
       "  </tbody>\n",
       "</table>\n",
       "</div>"
      ],
      "text/plain": [
       "       query_set                                              query  \\\n",
       "149  math_nation  I know that this has been a consistent questio...   \n",
       "\n",
       "    generation                                           document guidance  \\\n",
       "149             Identify the Intercepts on a Graph: Every line...      low   \n",
       "\n",
       "                                              messages corpus  \n",
       "149  [{'role': 'system', 'content': 'You are going ...   math  "
      ]
     },
     "execution_count": 12,
     "metadata": {},
     "output_type": "execute_result"
    }
   ],
   "source": [
    "# create generations\n",
    "openstax_subsection_db_info = retrieval.DbInfo(\n",
    "    openstax_db,\n",
    "    max_tokens=3000,\n",
    "    max_texts=1,\n",
    "    prefix=\"\",\n",
    "    use_parent_text=True,\n",
    "    parent_group_cols=[\"chapter\", \"section\"],\n",
    "    parent_sort_cols=[\"index\"],\n",
    ")\n",
    "openstax_retrieval_strategy = retrieval_strategies.MappedEmbeddingRetrievalStrategy(\n",
    "    {\n",
    "        \"openstax_subsection_texts\": openstax_subsection_db_info,\n",
    "    },\n",
    ")\n",
    "\n",
    "corpus = math_corpus\n",
    "ds = []\n",
    "for query in student_queries:\n",
    "    for guidance in experiment.guidance_conditions.guidance_condition_name_list:\n",
    "        # TODO consider adding infrastructure to cache the messages and document\n",
    "        prompt_manager = prompt_utils.PromptManager()\n",
    "        prompt_manager.set_intro_messages(experiment.guidance_conditions.guidance_condition_messages_map[guidance])\n",
    "        prompt_manager.set_retrieval_strategy(openstax_retrieval_strategy)\n",
    "        messages = prompt_manager.build_query(query)\n",
    "        document = prompt_manager.get_recent_slot_fill(\"openstax_subsection_texts\")\n",
    "        # assert document is not None, f\"Couldn't find expected key in {prompt_manager.recent_slot_fill_dict}.\"\n",
    "        ds.append(\n",
    "            {\n",
    "                \"query_set\": \"math_nation\",\n",
    "                \"query\": query,\n",
    "                \"generation\": \"\",\n",
    "                \"document\": document,\n",
    "                \"guidance\": guidance,\n",
    "                \"messages\": messages,\n",
    "                **corpus,\n",
    "            }\n",
    "        )\n",
    "math_df = pd.DataFrame(ds)\n",
    "print(len(math_df))\n",
    "math_df.sample(1)"
   ]
  },
  {
   "cell_type": "code",
   "execution_count": 13,
   "id": "d90a256c-240e-4093-88d0-e493a8fcc499",
   "metadata": {},
   "outputs": [],
   "source": [
    "# fill documents for the None retrieval condition\n",
    "documents = (\n",
    "    math_df.loc[math_df.document.notna(), [\"query\", \"corpus\", \"document\"]]\n",
    "    .drop_duplicates(keep=\"first\")\n",
    "    .set_index(\"query\")\n",
    ")\n",
    "math_df.loc[math_df.document.isna(), \"document\"] = list(\n",
    "    documents.loc[math_df.loc[math_df.document.isna(), \"query\"]].document\n",
    ")\n",
    "assert math_df.document.isna().sum() == 0"
   ]
  },
  {
   "cell_type": "markdown",
   "id": "aadd7907-baf4-46d4-a429-5ccffc5e0653",
   "metadata": {},
   "source": [
    "#### Create or load relevance annotation for queries"
   ]
  },
  {
   "cell_type": "code",
   "execution_count": 12,
   "id": "db8e83d2-7818-48b6-9a62-2205f1be17d7",
   "metadata": {},
   "outputs": [
    {
     "ename": "NameError",
     "evalue": "name 'math_df' is not defined",
     "output_type": "error",
     "traceback": [
      "\u001b[0;31m---------------------------------------------------------------------------\u001b[0m",
      "\u001b[0;31mNameError\u001b[0m                                 Traceback (most recent call last)",
      "Cell \u001b[0;32mIn[12], line 1\u001b[0m\n\u001b[0;32m----> 1\u001b[0m query_df \u001b[38;5;241m=\u001b[39m \u001b[43mmath_df\u001b[49m[(math_df\u001b[38;5;241m.\u001b[39mquery_set \u001b[38;5;241m==\u001b[39m \u001b[38;5;124m\"\u001b[39m\u001b[38;5;124mmath_nation\u001b[39m\u001b[38;5;124m\"\u001b[39m) \u001b[38;5;241m&\u001b[39m (math_df\u001b[38;5;241m.\u001b[39mcorpus \u001b[38;5;241m==\u001b[39m \u001b[38;5;124m\"\u001b[39m\u001b[38;5;124mmath\u001b[39m\u001b[38;5;124m\"\u001b[39m) \u001b[38;5;241m&\u001b[39m (math_df\u001b[38;5;241m.\u001b[39mguidance \u001b[38;5;241m==\u001b[39m \u001b[38;5;124m\"\u001b[39m\u001b[38;5;124mlow\u001b[39m\u001b[38;5;124m\"\u001b[39m)]\n\u001b[1;32m      2\u001b[0m \u001b[38;5;28;01massert\u001b[39;00m query_df[\u001b[38;5;124m\"\u001b[39m\u001b[38;5;124mquery\u001b[39m\u001b[38;5;124m\"\u001b[39m]\u001b[38;5;241m.\u001b[39mnunique() \u001b[38;5;241m==\u001b[39m \u001b[38;5;28mlen\u001b[39m(query_df)\n\u001b[1;32m      3\u001b[0m query_df\u001b[38;5;241m.\u001b[39msample(n\u001b[38;5;241m=\u001b[39m\u001b[38;5;241m1\u001b[39m)\n",
      "\u001b[0;31mNameError\u001b[0m: name 'math_df' is not defined"
     ]
    }
   ],
   "source": [
    "query_df = math_df[(math_df.query_set == \"math_nation\") & (math_df.corpus == \"math\") & (math_df.guidance == \"low\")]\n",
    "assert query_df[\"query\"].nunique() == len(query_df)\n",
    "query_df.sample(n=1)"
   ]
  },
  {
   "cell_type": "code",
   "execution_count": 14,
   "id": "c29b6619-2110-445e-b921-33c5924b7f22",
   "metadata": {},
   "outputs": [],
   "source": [
    "relevance_data_dir = data_dir / \"derived\" / \"relevance\"\n",
    "relevance_data_dir.mkdir(exist_ok=True)\n",
    "mn_relevance_filepath_1 = relevance_data_dir / \"mn_set1_relevance.csv\"\n",
    "mn_relevance_filepath_1_filled = relevance_data_dir / \"mn_set1_relevance_filled.csv\""
   ]
  },
  {
   "cell_type": "code",
   "execution_count": 15,
   "id": "229e3936-5c20-4b52-a320-7ca14468e18c",
   "metadata": {},
   "outputs": [
    {
     "data": {
      "text/html": [
       "<div>\n",
       "<style scoped>\n",
       "    .dataframe tbody tr th:only-of-type {\n",
       "        vertical-align: middle;\n",
       "    }\n",
       "\n",
       "    .dataframe tbody tr th {\n",
       "        vertical-align: top;\n",
       "    }\n",
       "\n",
       "    .dataframe thead th {\n",
       "        text-align: right;\n",
       "    }\n",
       "</style>\n",
       "<table border=\"1\" class=\"dataframe\">\n",
       "  <thead>\n",
       "    <tr style=\"text-align: right;\">\n",
       "      <th></th>\n",
       "      <th>post_id</th>\n",
       "      <th>subject_name</th>\n",
       "      <th>post_content</th>\n",
       "      <th>is_respondable_query</th>\n",
       "    </tr>\n",
       "  </thead>\n",
       "  <tbody>\n",
       "    <tr>\n",
       "      <th>33</th>\n",
       "      <td>2389599</td>\n",
       "      <td>Algebra 1</td>\n",
       "      <td>what is the difference between recursive formu...</td>\n",
       "      <td>general</td>\n",
       "    </tr>\n",
       "  </tbody>\n",
       "</table>\n",
       "</div>"
      ],
      "text/plain": [
       "    post_id subject_name                                       post_content  \\\n",
       "33  2389599    Algebra 1  what is the difference between recursive formu...   \n",
       "\n",
       "   is_respondable_query  \n",
       "33              general  "
      ]
     },
     "execution_count": 15,
     "metadata": {},
     "output_type": "execute_result"
    }
   ],
   "source": [
    "# create relevance annotation spreadsheet\n",
    "if not mn_relevance_filepath_1_filled.exists():\n",
    "    query_df = query_df[[\"query_set\", \"corpus\", \"query\", \"document\"]].reset_index(drop=True).sample(frac=1)\n",
    "    query_df[\"relevance\"] = \"\"\n",
    "\n",
    "    def make_document_more_readable(doc):\n",
    "        passages = doc.split(\"\\n\")\n",
    "        return \" - \" + \"\\n - \".join(passages)\n",
    "\n",
    "    query_df[\"document\"] = query_df[\"document\"].map(make_document_more_readable)\n",
    "    query_df.to_csv(mn_relevance_filepath_1, index=False)\n",
    "query_df.sample(n=1)"
   ]
  },
  {
   "cell_type": "code",
   "execution_count": 16,
   "id": "f196fa30-b998-40ba-9da1-1da9ad955502",
   "metadata": {},
   "outputs": [
    {
     "data": {
      "text/html": [
       "<div>\n",
       "<style scoped>\n",
       "    .dataframe tbody tr th:only-of-type {\n",
       "        vertical-align: middle;\n",
       "    }\n",
       "\n",
       "    .dataframe tbody tr th {\n",
       "        vertical-align: top;\n",
       "    }\n",
       "\n",
       "    .dataframe thead th {\n",
       "        text-align: right;\n",
       "    }\n",
       "</style>\n",
       "<table border=\"1\" class=\"dataframe\">\n",
       "  <thead>\n",
       "    <tr style=\"text-align: right;\">\n",
       "      <th></th>\n",
       "      <th>query_set</th>\n",
       "      <th>corpus</th>\n",
       "      <th>query</th>\n",
       "      <th>document</th>\n",
       "      <th>Zach</th>\n",
       "      <th>Chenglu</th>\n",
       "      <th>Wangda</th>\n",
       "    </tr>\n",
       "  </thead>\n",
       "  <tbody>\n",
       "    <tr>\n",
       "      <th>45</th>\n",
       "      <td>math_nation</td>\n",
       "      <td>math</td>\n",
       "      <td>how do i find the slope of a line in slope int...</td>\n",
       "      <td>- Use Geoboards to Model Slope: In this secti...</td>\n",
       "      <td>Topic</td>\n",
       "      <td>Perfect</td>\n",
       "      <td>Topic</td>\n",
       "    </tr>\n",
       "  </tbody>\n",
       "</table>\n",
       "</div>"
      ],
      "text/plain": [
       "      query_set corpus                                              query  \\\n",
       "45  math_nation   math  how do i find the slope of a line in slope int...   \n",
       "\n",
       "                                             document   Zach  Chenglu Wangda  \n",
       "45   - Use Geoboards to Model Slope: In this secti...  Topic  Perfect  Topic  "
      ]
     },
     "execution_count": 16,
     "metadata": {},
     "output_type": "execute_result"
    }
   ],
   "source": [
    "if mn_relevance_filepath_1_filled.exists():\n",
    "    relevance_df = pd.read_csv(mn_relevance_filepath_1_filled)\n",
    "relevance_df.sample(n=1)"
   ]
  },
  {
   "cell_type": "code",
   "execution_count": 17,
   "id": "f70e1b8c-d1eb-4a4a-a20d-ac229d677e3a",
   "metadata": {},
   "outputs": [
    {
     "name": "stdout",
     "output_type": "stream",
     "text": [
      "Zach\n",
      "Topic      23\n",
      "Perfect    10\n",
      "Partial     9\n",
      "Wrong       9\n",
      "Name: count, dtype: int64\n",
      "Chenglu\n",
      "Partial    14\n",
      "Perfect    14\n",
      "Topic      13\n",
      "Wrong      10\n",
      "Name: count, dtype: int64\n",
      "Wangda\n",
      "Wrong      17\n",
      "Topic      15\n",
      "Partial    13\n",
      "Perfect     6\n",
      "Name: count, dtype: int64\n"
     ]
    }
   ],
   "source": [
    "def get_numeric_relevance(relevance_str):\n",
    "    if pd.isna(relevance_str):\n",
    "        return np.nan\n",
    "    return relevance_answers.index(relevance_str.lower())\n",
    "\n",
    "\n",
    "for annotator_name in [\"Zach\", \"Chenglu\", \"Wangda\"]:\n",
    "    relevance_df[annotator_name].map(get_numeric_relevance)\n",
    "    print(relevance_df[annotator_name].value_counts(dropna=False))"
   ]
  },
  {
   "cell_type": "code",
   "execution_count": 18,
   "id": "7e7975b9-95a0-4774-b324-64b2c3158c05",
   "metadata": {},
   "outputs": [
    {
     "name": "stdout",
     "output_type": "stream",
     "text": [
      "Zach-Chenglu agreement: 35.29%\n",
      "Zach-Wangda agreement: 37.25%\n",
      "Chenglu-Wangda agreement: 35.29%\n",
      "All agreement: 15.69%\n"
     ]
    }
   ],
   "source": [
    "relevance_annotators = [\"Zach\", \"Chenglu\", \"Wangda\"]\n",
    "for a1, a2 in itertools.combinations(relevance_annotators, 2):\n",
    "    acc = (relevance_df[a1] == relevance_df[a2]).sum() / len(relevance_df)\n",
    "    print(f\"{a1}-{a2} agreement: {acc:.2%}\")\n",
    "a1, a2, a3 = relevance_annotators\n",
    "all_equal = (relevance_df[a1] == relevance_df[a2]) & (relevance_df[a2] == relevance_df[a3])\n",
    "print(f\"All agreement: {all_equal.sum() / len(relevance_df):.2%}\")"
   ]
  },
  {
   "cell_type": "code",
   "execution_count": 19,
   "id": "415ca84c-b5e6-4c94-bdb4-a9f0fc0be59e",
   "metadata": {},
   "outputs": [
    {
     "data": {
      "text/plain": [
       "0.40203749880846007"
      ]
     },
     "execution_count": 19,
     "metadata": {},
     "output_type": "execute_result"
    }
   ],
   "source": [
    "reliability_data = [relevance_df[annotator].map(get_numeric_relevance) for annotator in relevance_annotators]\n",
    "krippendorff.alpha(reliability_data=reliability_data, level_of_measurement=\"ordinal\")"
   ]
  },
  {
   "cell_type": "code",
   "execution_count": 20,
   "id": "cba5711d-4f6d-4500-8cb8-5599b70d1c39",
   "metadata": {},
   "outputs": [
    {
     "data": {
      "text/plain": [
       "(3, 51)"
      ]
     },
     "execution_count": 20,
     "metadata": {},
     "output_type": "execute_result"
    }
   ],
   "source": [
    "relevance_data = np.array([relevance_df[annotator].map(get_numeric_relevance) for annotator in relevance_annotators])\n",
    "relevance_data.shape"
   ]
  },
  {
   "cell_type": "code",
   "execution_count": 21,
   "id": "5f63bb70-2022-4f8e-bd3f-4fe70064f02d",
   "metadata": {},
   "outputs": [
    {
     "data": {
      "text/plain": [
       "0.13409563409563408"
      ]
     },
     "execution_count": 21,
     "metadata": {},
     "output_type": "execute_result"
    }
   ],
   "source": [
    "# data containing category assignment with subjects in rows and raters in columns\n",
    "arr, categories = statsmodels.stats.inter_rater.aggregate_raters(relevance_data.T, n_cat=len(relevance_answers))\n",
    "statsmodels.stats.inter_rater.fleiss_kappa(arr, method=\"fleiss\")"
   ]
  },
  {
   "cell_type": "code",
   "execution_count": 22,
   "id": "432d9543-9d51-4834-9b64-0ff6a9dedb3a",
   "metadata": {},
   "outputs": [
    {
     "data": {
      "image/png": "[encoded data removed]",
      "text/plain": [
       "<Figure size 276.031x190 with 1 Axes>"
      ]
     },
     "metadata": {},
     "output_type": "display_data"
    }
   ],
   "source": [
    "fig, ax = plt.subplots(1, 1, figsize=(COLUMN_WIDTH_IN / 2, 1.9))\n",
    "\n",
    "xs = relevance_data.reshape(-1)\n",
    "\n",
    "bin_width = 0.25\n",
    "bins = np.arange(0, len(relevance_answers) + bin_width, bin_width)\n",
    "ax.hist(xs, bins=bins, align=\"left\")\n",
    "ax.set_xticks(\n",
    "    list(range(len(relevance_answers))), labels=[f\"{answer}\\n({i})\" for i, answer in enumerate(relevance_answers)]\n",
    ")\n",
    "\n",
    "ax.set_xlabel(\"Relevance\")\n",
    "ax.set_ylabel(\"Annotation count\")\n",
    "\n",
    "fig.tight_layout()\n",
    "plt.show()"
   ]
  },
  {
   "cell_type": "code",
   "execution_count": 36,
   "id": "4b7e6226-714e-4156-93d3-1375c26b5c02",
   "metadata": {},
   "outputs": [
    {
     "name": "stderr",
     "output_type": "stream",
     "text": [
      "2023-09-19 12:30:06,904 - fontTools.subset - INFO - maxp pruned\n",
      "2023-09-19 12:30:06,924 - fontTools.subset - INFO - cmap pruned\n",
      "2023-09-19 12:30:06,925 - fontTools.subset - INFO - kern dropped\n",
      "2023-09-19 12:30:06,925 - fontTools.subset - INFO - post pruned\n",
      "2023-09-19 12:30:06,925 - fontTools.subset - INFO - FFTM dropped\n",
      "2023-09-19 12:30:06,936 - fontTools.subset - INFO - GPOS pruned\n",
      "2023-09-19 12:30:06,940 - fontTools.subset - INFO - GSUB pruned\n",
      "2023-09-19 12:30:06,960 - fontTools.subset - INFO - glyf pruned\n",
      "2023-09-19 12:30:06,961 - fontTools.subset - INFO - Added gid0 to subset\n",
      "2023-09-19 12:30:06,961 - fontTools.subset - INFO - Added first four glyphs to subset\n",
      "2023-09-19 12:30:06,962 - fontTools.subset - INFO - Closing glyph list over 'GSUB': 32 glyphs before\n",
      "2023-09-19 12:30:06,962 - fontTools.subset - INFO - Glyph names: ['.notdef', '.null', 'P', 'T', 'W', 'a', 'c', 'e', 'eight', 'f', 'four', 'g', 'i', 'l', 'n', 'nonmarkingreturn', 'numbersign', 'o', 'one', 'p', 'parenleft', 'parenright', 'q', 'r', 's', 'six', 'space', 't', 'three', 'two', 'u', 'zero']\n",
      "2023-09-19 12:30:06,963 - fontTools.subset - INFO - Glyph IDs:   [0, 1, 2, 3, 6, 11, 12, 19, 20, 21, 22, 23, 25, 27, 51, 55, 58, 68, 70, 72, 73, 74, 76, 79, 81, 82, 83, 84, 85, 86, 87, 88]\n",
      "2023-09-19 12:30:06,966 - fontTools.subset - INFO - Closed glyph list over 'GSUB': 37 glyphs after\n",
      "2023-09-19 12:30:06,967 - fontTools.subset - INFO - Glyph names: ['.notdef', '.null', 'P', 'T', 'W', 'a', 'c', 'e', 'eight', 'f', 'fi', 'fl', 'four', 'g', 'i', 'l', 'n', 'nonmarkingreturn', 'numbersign', 'o', 'one', 'p', 'parenleft', 'parenright', 'q', 'r', 's', 'six', 'space', 't', 'three', 'two', 'u', 'uniFB00', 'uniFB03', 'uniFB04', 'zero']\n",
      "2023-09-19 12:30:06,967 - fontTools.subset - INFO - Glyph IDs:   [0, 1, 2, 3, 6, 11, 12, 19, 20, 21, 22, 23, 25, 27, 51, 55, 58, 68, 70, 72, 73, 74, 76, 79, 81, 82, 83, 84, 85, 86, 87, 88, 5038, 5039, 5040, 5041, 5042]\n",
      "2023-09-19 12:30:06,968 - fontTools.subset - INFO - Closing glyph list over 'MATH': 37 glyphs before\n",
      "2023-09-19 12:30:06,968 - fontTools.subset - INFO - Glyph names: ['.notdef', '.null', 'P', 'T', 'W', 'a', 'c', 'e', 'eight', 'f', 'fi', 'fl', 'four', 'g', 'i', 'l', 'n', 'nonmarkingreturn', 'numbersign', 'o', 'one', 'p', 'parenleft', 'parenright', 'q', 'r', 's', 'six', 'space', 't', 'three', 'two', 'u', 'uniFB00', 'uniFB03', 'uniFB04', 'zero']\n",
      "2023-09-19 12:30:06,969 - fontTools.subset - INFO - Glyph IDs:   [0, 1, 2, 3, 6, 11, 12, 19, 20, 21, 22, 23, 25, 27, 51, 55, 58, 68, 70, 72, 73, 74, 76, 79, 81, 82, 83, 84, 85, 86, 87, 88, 5038, 5039, 5040, 5041, 5042]\n",
      "2023-09-19 12:30:06,970 - fontTools.subset - INFO - Closed glyph list over 'MATH': 43 glyphs after\n",
      "2023-09-19 12:30:06,970 - fontTools.subset - INFO - Glyph names: ['.notdef', '.null', 'P', 'T', 'W', 'a', 'c', 'e', 'eight', 'f', 'fi', 'fl', 'four', 'g', 'i', 'l', 'n', 'nonmarkingreturn', 'numbersign', 'o', 'one', 'p', 'parenleft', 'parenright', 'q', 'r', 's', 'six', 'space', 't', 'three', 'two', 'u', 'uni239B', 'uni239C', 'uni239D', 'uni239E', 'uni239F', 'uni23A0', 'uniFB00', 'uniFB03', 'uniFB04', 'zero']\n",
      "2023-09-19 12:30:06,970 - fontTools.subset - INFO - Glyph IDs:   [0, 1, 2, 3, 6, 11, 12, 19, 20, 21, 22, 23, 25, 27, 51, 55, 58, 68, 70, 72, 73, 74, 76, 79, 81, 82, 83, 84, 85, 86, 87, 88, 3506, 3507, 3508, 3509, 3510, 3511, 5038, 5039, 5040, 5041, 5042]\n",
      "2023-09-19 12:30:06,970 - fontTools.subset - INFO - Closing glyph list over 'glyf': 43 glyphs before\n",
      "2023-09-19 12:30:06,971 - fontTools.subset - INFO - Glyph names: ['.notdef', '.null', 'P', 'T', 'W', 'a', 'c', 'e', 'eight', 'f', 'fi', 'fl', 'four', 'g', 'i', 'l', 'n', 'nonmarkingreturn', 'numbersign', 'o', 'one', 'p', 'parenleft', 'parenright', 'q', 'r', 's', 'six', 'space', 't', 'three', 'two', 'u', 'uni239B', 'uni239C', 'uni239D', 'uni239E', 'uni239F', 'uni23A0', 'uniFB00', 'uniFB03', 'uniFB04', 'zero']\n",
      "2023-09-19 12:30:06,971 - fontTools.subset - INFO - Glyph IDs:   [0, 1, 2, 3, 6, 11, 12, 19, 20, 21, 22, 23, 25, 27, 51, 55, 58, 68, 70, 72, 73, 74, 76, 79, 81, 82, 83, 84, 85, 86, 87, 88, 3506, 3507, 3508, 3509, 3510, 3511, 5038, 5039, 5040, 5041, 5042]\n",
      "2023-09-19 12:30:06,971 - fontTools.subset - INFO - Closed glyph list over 'glyf': 43 glyphs after\n",
      "2023-09-19 12:30:06,971 - fontTools.subset - INFO - Glyph names: ['.notdef', '.null', 'P', 'T', 'W', 'a', 'c', 'e', 'eight', 'f', 'fi', 'fl', 'four', 'g', 'i', 'l', 'n', 'nonmarkingreturn', 'numbersign', 'o', 'one', 'p', 'parenleft', 'parenright', 'q', 'r', 's', 'six', 'space', 't', 'three', 'two', 'u', 'uni239B', 'uni239C', 'uni239D', 'uni239E', 'uni239F', 'uni23A0', 'uniFB00', 'uniFB03', 'uniFB04', 'zero']\n",
      "2023-09-19 12:30:06,972 - fontTools.subset - INFO - Glyph IDs:   [0, 1, 2, 3, 6, 11, 12, 19, 20, 21, 22, 23, 25, 27, 51, 55, 58, 68, 70, 72, 73, 74, 76, 79, 81, 82, 83, 84, 85, 86, 87, 88, 3506, 3507, 3508, 3509, 3510, 3511, 5038, 5039, 5040, 5041, 5042]\n",
      "2023-09-19 12:30:06,973 - fontTools.subset - INFO - Retaining 43 glyphs\n",
      "2023-09-19 12:30:06,975 - fontTools.subset - INFO - head subsetting not needed\n",
      "2023-09-19 12:30:06,975 - fontTools.subset - INFO - hhea subsetting not needed\n",
      "2023-09-19 12:30:06,976 - fontTools.subset - INFO - maxp subsetting not needed\n",
      "2023-09-19 12:30:06,977 - fontTools.subset - INFO - OS/2 subsetting not needed\n",
      "2023-09-19 12:30:06,980 - fontTools.subset - INFO - hmtx subsetted\n",
      "2023-09-19 12:30:06,981 - fontTools.subset - INFO - cmap subsetted\n",
      "2023-09-19 12:30:06,982 - fontTools.subset - INFO - fpgm subsetting not needed\n",
      "2023-09-19 12:30:06,982 - fontTools.subset - INFO - prep subsetting not needed\n",
      "2023-09-19 12:30:06,982 - fontTools.subset - INFO - cvt  subsetting not needed\n",
      "2023-09-19 12:30:06,982 - fontTools.subset - INFO - loca subsetting not needed\n",
      "2023-09-19 12:30:06,983 - fontTools.subset - INFO - post subsetted\n",
      "2023-09-19 12:30:06,983 - fontTools.subset - INFO - gasp subsetting not needed\n",
      "2023-09-19 12:30:06,983 - fontTools.subset - INFO - MATH subsetted\n",
      "2023-09-19 12:30:06,985 - fontTools.subset - INFO - GDEF subsetted\n",
      "2023-09-19 12:30:06,996 - fontTools.subset - INFO - GPOS subsetted\n",
      "2023-09-19 12:30:06,998 - fontTools.subset - INFO - GSUB subsetted\n",
      "2023-09-19 12:30:06,998 - fontTools.subset - INFO - name subsetting not needed\n",
      "2023-09-19 12:30:07,000 - fontTools.subset - INFO - glyf subsetted\n",
      "2023-09-19 12:30:07,000 - fontTools.subset - INFO - head pruned\n",
      "2023-09-19 12:30:07,001 - fontTools.subset - INFO - OS/2 Unicode ranges pruned: [0]\n",
      "2023-09-19 12:30:07,002 - fontTools.subset - INFO - glyf pruned\n",
      "2023-09-19 12:30:07,002 - fontTools.subset - INFO - GDEF pruned\n",
      "2023-09-19 12:30:07,003 - fontTools.subset - INFO - GPOS pruned\n",
      "2023-09-19 12:30:07,003 - fontTools.subset - INFO - GSUB pruned\n",
      "2023-09-19 12:30:07,005 - fontTools.subset - INFO - name pruned\n"
     ]
    },
    {
     "data": {
      "image/png": "[encoded data removed]",
      "text/plain": [
       "<Figure size 276.031x80 with 1 Axes>"
      ]
     },
     "metadata": {},
     "output_type": "display_data"
    }
   ],
   "source": [
    "fig, ax = plt.subplots(1, 1, figsize=(COLUMN_WIDTH_IN / 2, 0.8))\n",
    "\n",
    "xs = relevance_data.T.mean(axis=1)\n",
    "\n",
    "bin_width = 0.25\n",
    "bins = np.arange(0, len(relevance_answers) - (bin_width * 2), bin_width)\n",
    "ax.hist(xs, bins=bins, align=\"left\")\n",
    "ax.set_xticks(\n",
    "    list(range(len(relevance_answers))),\n",
    "    labels=[f\"{answer.capitalize()} ({i})\" for i, answer in enumerate(relevance_answers)],\n",
    "    fontsize=8,\n",
    ")\n",
    "ax.set_yticks([0, 2, 4, 6, 8])\n",
    "\n",
    "# ax.set_xlabel(\"Mean relevance\")\n",
    "ax.set_ylabel(\"# queries\")\n",
    "\n",
    "fig.tight_layout(pad=0)\n",
    "fig.savefig(figures_dir / \"mean_relevance.pdf\", bbox_inches=\"tight\", pad_inches=0.011, dpi=DPI)\n",
    "plt.show()"
   ]
  },
  {
   "cell_type": "code",
   "execution_count": 39,
   "id": "3a4630d4-69e8-4df8-beca-c4d354a4ed24",
   "metadata": {},
   "outputs": [
    {
     "data": {
      "text/plain": [
       "(0.7058823529411765, 0.3333333333333333)"
      ]
     },
     "execution_count": 39,
     "metadata": {},
     "output_type": "execute_result"
    }
   ],
   "source": [
    "mean_relevance = relevance_data.T.mean(axis=1)\n",
    "(mean_relevance >= 1).sum() / len(mean_relevance), (mean_relevance >= 2).sum() / len(mean_relevance)"
   ]
  },
  {
   "cell_type": "code",
   "execution_count": null,
   "id": "0ed3babc-340f-43a9-93fd-0feb8e4c02e6",
   "metadata": {},
   "outputs": [],
   "source": []
  },
  {
   "cell_type": "markdown",
   "id": "10676431-6036-42f4-be32-b88f8aa78127",
   "metadata": {},
   "source": [
    "#### Create or load generations"
   ]
  },
  {
   "cell_type": "code",
   "execution_count": 15,
   "id": "08f49d74-0c03-4ba4-8dc1-585a257d448c",
   "metadata": {},
   "outputs": [
    {
     "data": {
      "text/plain": [
       "255"
      ]
     },
     "execution_count": 15,
     "metadata": {},
     "output_type": "execute_result"
    }
   ],
   "source": [
    "corpus = experiment.generate.GenerationCorpus(data_dir / \"derived\", \"math_corpus_test\")\n",
    "metadata_list = [row.to_dict() for _, row in math_df.iterrows()]\n",
    "len(corpus.generations)"
   ]
  },
  {
   "cell_type": "code",
   "execution_count": 16,
   "id": "5af50a4d-a4a3-4373-aa1e-b4c5a63a4acc",
   "metadata": {},
   "outputs": [],
   "source": [
    "assert corpus.filter_generations() == 0"
   ]
  },
  {
   "cell_type": "code",
   "execution_count": 17,
   "id": "b9a5dcbd-7003-40bf-9bc0-dbb4b0a1b9ff",
   "metadata": {},
   "outputs": [],
   "source": [
    "# conditionally remove\n",
    "# corpus.filter_generations(should_remove_func=lambda generation: generation[\"guidance\"] == \"high\")"
   ]
  },
  {
   "cell_type": "code",
   "execution_count": 17,
   "id": "c44a779d-510e-44e6-a17c-61ad3090203d",
   "metadata": {},
   "outputs": [
    {
     "data": {
      "text/plain": [
       "255"
      ]
     },
     "execution_count": 17,
     "metadata": {},
     "output_type": "execute_result"
    }
   ],
   "source": [
    "len(corpus.generations)"
   ]
  },
  {
   "cell_type": "code",
   "execution_count": 18,
   "id": "764d401c-8993-4eae-bb9a-ffca3fd9f29c",
   "metadata": {},
   "outputs": [
    {
     "data": {
      "text/plain": [
       "0"
      ]
     },
     "execution_count": 18,
     "metadata": {},
     "output_type": "execute_result"
    }
   ],
   "source": [
    "nonmatching_generations = corpus.get_nonmatching_generations(metadata_list)\n",
    "obsolete_df = pd.DataFrame(nonmatching_generations)\n",
    "len(obsolete_df)"
   ]
  },
  {
   "cell_type": "code",
   "execution_count": 19,
   "id": "81d83f50-f52e-45af-b28a-33ba47ad5861",
   "metadata": {},
   "outputs": [
    {
     "ename": "KeyError",
     "evalue": "\"None of [Index(['query_set', 'query', 'generation', 'document', 'guidance', 'corpus'], dtype='object')] are in the [columns]\"",
     "output_type": "error",
     "traceback": [
      "\u001b[0;31m---------------------------------------------------------------------------\u001b[0m",
      "\u001b[0;31mKeyError\u001b[0m                                  Traceback (most recent call last)",
      "Cell \u001b[0;32mIn[19], line 1\u001b[0m\n\u001b[0;32m----> 1\u001b[0m \u001b[38;5;28mprint\u001b[39m(\u001b[43mobsolete_df\u001b[49m\u001b[43m[\u001b[49m\u001b[43m[\u001b[49m\u001b[38;5;124;43m\"\u001b[39;49m\u001b[38;5;124;43mquery_set\u001b[39;49m\u001b[38;5;124;43m\"\u001b[39;49m\u001b[43m,\u001b[49m\u001b[43m \u001b[49m\u001b[38;5;124;43m\"\u001b[39;49m\u001b[38;5;124;43mquery\u001b[39;49m\u001b[38;5;124;43m\"\u001b[39;49m\u001b[43m,\u001b[49m\u001b[43m \u001b[49m\u001b[38;5;124;43m\"\u001b[39;49m\u001b[38;5;124;43mgeneration\u001b[39;49m\u001b[38;5;124;43m\"\u001b[39;49m\u001b[43m,\u001b[49m\u001b[43m \u001b[49m\u001b[38;5;124;43m\"\u001b[39;49m\u001b[38;5;124;43mdocument\u001b[39;49m\u001b[38;5;124;43m\"\u001b[39;49m\u001b[43m,\u001b[49m\u001b[43m \u001b[49m\u001b[38;5;124;43m\"\u001b[39;49m\u001b[38;5;124;43mguidance\u001b[39;49m\u001b[38;5;124;43m\"\u001b[39;49m\u001b[43m,\u001b[49m\u001b[43m \u001b[49m\u001b[38;5;124;43m\"\u001b[39;49m\u001b[38;5;124;43mcorpus\u001b[39;49m\u001b[38;5;124;43m\"\u001b[39;49m\u001b[43m]\u001b[49m\u001b[43m]\u001b[49m\u001b[38;5;241m.\u001b[39mnunique())\n\u001b[1;32m      2\u001b[0m obsolete_df\u001b[38;5;241m.\u001b[39mguidance\u001b[38;5;241m.\u001b[39mvalue_counts()\n",
      "File \u001b[0;32m~/repos/annotation-tools/.venv/lib/python3.10/site-packages/pandas/core/frame.py:3902\u001b[0m, in \u001b[0;36mDataFrame.__getitem__\u001b[0;34m(self, key)\u001b[0m\n\u001b[1;32m   3900\u001b[0m     \u001b[38;5;28;01mif\u001b[39;00m is_iterator(key):\n\u001b[1;32m   3901\u001b[0m         key \u001b[38;5;241m=\u001b[39m \u001b[38;5;28mlist\u001b[39m(key)\n\u001b[0;32m-> 3902\u001b[0m     indexer \u001b[38;5;241m=\u001b[39m \u001b[38;5;28;43mself\u001b[39;49m\u001b[38;5;241;43m.\u001b[39;49m\u001b[43mcolumns\u001b[49m\u001b[38;5;241;43m.\u001b[39;49m\u001b[43m_get_indexer_strict\u001b[49m\u001b[43m(\u001b[49m\u001b[43mkey\u001b[49m\u001b[43m,\u001b[49m\u001b[43m \u001b[49m\u001b[38;5;124;43m\"\u001b[39;49m\u001b[38;5;124;43mcolumns\u001b[39;49m\u001b[38;5;124;43m\"\u001b[39;49m\u001b[43m)\u001b[49m[\u001b[38;5;241m1\u001b[39m]\n\u001b[1;32m   3904\u001b[0m \u001b[38;5;66;03m# take() does not accept boolean indexers\u001b[39;00m\n\u001b[1;32m   3905\u001b[0m \u001b[38;5;28;01mif\u001b[39;00m \u001b[38;5;28mgetattr\u001b[39m(indexer, \u001b[38;5;124m\"\u001b[39m\u001b[38;5;124mdtype\u001b[39m\u001b[38;5;124m\"\u001b[39m, \u001b[38;5;28;01mNone\u001b[39;00m) \u001b[38;5;241m==\u001b[39m \u001b[38;5;28mbool\u001b[39m:\n",
      "File \u001b[0;32m~/repos/annotation-tools/.venv/lib/python3.10/site-packages/pandas/core/indexes/base.py:6114\u001b[0m, in \u001b[0;36mIndex._get_indexer_strict\u001b[0;34m(self, key, axis_name)\u001b[0m\n\u001b[1;32m   6111\u001b[0m \u001b[38;5;28;01melse\u001b[39;00m:\n\u001b[1;32m   6112\u001b[0m     keyarr, indexer, new_indexer \u001b[38;5;241m=\u001b[39m \u001b[38;5;28mself\u001b[39m\u001b[38;5;241m.\u001b[39m_reindex_non_unique(keyarr)\n\u001b[0;32m-> 6114\u001b[0m \u001b[38;5;28;43mself\u001b[39;49m\u001b[38;5;241;43m.\u001b[39;49m\u001b[43m_raise_if_missing\u001b[49m\u001b[43m(\u001b[49m\u001b[43mkeyarr\u001b[49m\u001b[43m,\u001b[49m\u001b[43m \u001b[49m\u001b[43mindexer\u001b[49m\u001b[43m,\u001b[49m\u001b[43m \u001b[49m\u001b[43maxis_name\u001b[49m\u001b[43m)\u001b[49m\n\u001b[1;32m   6116\u001b[0m keyarr \u001b[38;5;241m=\u001b[39m \u001b[38;5;28mself\u001b[39m\u001b[38;5;241m.\u001b[39mtake(indexer)\n\u001b[1;32m   6117\u001b[0m \u001b[38;5;28;01mif\u001b[39;00m \u001b[38;5;28misinstance\u001b[39m(key, Index):\n\u001b[1;32m   6118\u001b[0m     \u001b[38;5;66;03m# GH 42790 - Preserve name from an Index\u001b[39;00m\n",
      "File \u001b[0;32m~/repos/annotation-tools/.venv/lib/python3.10/site-packages/pandas/core/indexes/base.py:6175\u001b[0m, in \u001b[0;36mIndex._raise_if_missing\u001b[0;34m(self, key, indexer, axis_name)\u001b[0m\n\u001b[1;32m   6173\u001b[0m     \u001b[38;5;28;01mif\u001b[39;00m use_interval_msg:\n\u001b[1;32m   6174\u001b[0m         key \u001b[38;5;241m=\u001b[39m \u001b[38;5;28mlist\u001b[39m(key)\n\u001b[0;32m-> 6175\u001b[0m     \u001b[38;5;28;01mraise\u001b[39;00m \u001b[38;5;167;01mKeyError\u001b[39;00m(\u001b[38;5;124mf\u001b[39m\u001b[38;5;124m\"\u001b[39m\u001b[38;5;124mNone of [\u001b[39m\u001b[38;5;132;01m{\u001b[39;00mkey\u001b[38;5;132;01m}\u001b[39;00m\u001b[38;5;124m] are in the [\u001b[39m\u001b[38;5;132;01m{\u001b[39;00maxis_name\u001b[38;5;132;01m}\u001b[39;00m\u001b[38;5;124m]\u001b[39m\u001b[38;5;124m\"\u001b[39m)\n\u001b[1;32m   6177\u001b[0m not_found \u001b[38;5;241m=\u001b[39m \u001b[38;5;28mlist\u001b[39m(ensure_index(key)[missing_mask\u001b[38;5;241m.\u001b[39mnonzero()[\u001b[38;5;241m0\u001b[39m]]\u001b[38;5;241m.\u001b[39munique())\n\u001b[1;32m   6178\u001b[0m \u001b[38;5;28;01mraise\u001b[39;00m \u001b[38;5;167;01mKeyError\u001b[39;00m(\u001b[38;5;124mf\u001b[39m\u001b[38;5;124m\"\u001b[39m\u001b[38;5;132;01m{\u001b[39;00mnot_found\u001b[38;5;132;01m}\u001b[39;00m\u001b[38;5;124m not in index\u001b[39m\u001b[38;5;124m\"\u001b[39m)\n",
      "\u001b[0;31mKeyError\u001b[0m: \"None of [Index(['query_set', 'query', 'generation', 'document', 'guidance', 'corpus'], dtype='object')] are in the [columns]\""
     ]
    }
   ],
   "source": [
    "print(obsolete_df[[\"query_set\", \"query\", \"generation\", \"document\", \"guidance\", \"corpus\"]].nunique())\n",
    "obsolete_df.guidance.value_counts()"
   ]
  },
  {
   "cell_type": "code",
   "execution_count": null,
   "id": "ac07f763-6a3c-400f-ab82-ff183b2c5577",
   "metadata": {},
   "outputs": [],
   "source": [
    "# remove non-matching from the generations list\n",
    "_ = corpus.get_nonmatching_generations(metadata_list, should_remove_nonmatching=True)\n",
    "len(corpus.generations)"
   ]
  },
  {
   "cell_type": "code",
   "execution_count": 23,
   "id": "736c34a9-a6a6-43fb-8467-aefdb886f630",
   "metadata": {},
   "outputs": [],
   "source": [
    "# optionally, overwrite to forget deleted generations\n",
    "corpus.overwrite()"
   ]
  },
  {
   "cell_type": "code",
   "execution_count": 20,
   "id": "3a71aec4-6704-47ce-b1ba-74b4d7e99c15",
   "metadata": {},
   "outputs": [
    {
     "data": {
      "text/plain": [
       "(96000.0, 24.0)"
      ]
     },
     "execution_count": 20,
     "metadata": {},
     "output_type": "execute_result"
    }
   ],
   "source": [
    "# limiting factor is tokens per minute\n",
    "# https://platform.openai.com/docs/guides/rate-limits/overview\n",
    "max_tokens_per_minute = 90000\n",
    "\n",
    "request_tokens = 4000\n",
    "n_processes = 8\n",
    "sleep_time = 16\n",
    "request_time = 4 + sleep_time\n",
    "process_tokens_per_minute = (request_tokens / request_time) * 60\n",
    "tokens_per_minute = process_tokens_per_minute * n_processes\n",
    "tokens_per_minute, tokens_per_minute / request_tokens  # approximate requests per minute"
   ]
  },
  {
   "cell_type": "code",
   "execution_count": 21,
   "id": "03da99bc-9922-4ad7-980b-1cc7ced9f731",
   "metadata": {},
   "outputs": [
    {
     "data": {
      "text/plain": [
       "(0, 204)"
      ]
     },
     "execution_count": 21,
     "metadata": {},
     "output_type": "execute_result"
    }
   ],
   "source": [
    "len(corpus.batch_filter_not_already_generated(metadata_list)), len(metadata_list)"
   ]
  },
  {
   "cell_type": "code",
   "execution_count": 22,
   "id": "f6121147-ab53-4364-9b8f-8f66b83adcc6",
   "metadata": {},
   "outputs": [
    {
     "data": {
      "text/plain": [
       "(0, 255)"
      ]
     },
     "execution_count": 22,
     "metadata": {},
     "output_type": "execute_result"
    }
   ],
   "source": [
    "n_generated = corpus.batch_generate(\n",
    "    metadata_list,\n",
    "    n_processes=8,\n",
    "    sleep=16.0,\n",
    "    should_log_successful=True,\n",
    "    request_timeout=40,\n",
    ")\n",
    "n_generated, len(corpus.generations)"
   ]
  },
  {
   "cell_type": "code",
   "execution_count": 23,
   "id": "93a9ff66-a53e-4f95-a68b-30072c1d1cf1",
   "metadata": {},
   "outputs": [
    {
     "name": "stdout",
     "output_type": "stream",
     "text": [
      "255\n",
      "204\n"
     ]
    },
    {
     "data": {
      "text/html": [
       "<div>\n",
       "<style scoped>\n",
       "    .dataframe tbody tr th:only-of-type {\n",
       "        vertical-align: middle;\n",
       "    }\n",
       "\n",
       "    .dataframe tbody tr th {\n",
       "        vertical-align: top;\n",
       "    }\n",
       "\n",
       "    .dataframe thead th {\n",
       "        text-align: right;\n",
       "    }\n",
       "</style>\n",
       "<table border=\"1\" class=\"dataframe\">\n",
       "  <thead>\n",
       "    <tr style=\"text-align: right;\">\n",
       "      <th></th>\n",
       "      <th>query_set</th>\n",
       "      <th>query</th>\n",
       "      <th>generation</th>\n",
       "      <th>document</th>\n",
       "      <th>guidance</th>\n",
       "      <th>messages</th>\n",
       "      <th>corpus</th>\n",
       "    </tr>\n",
       "  </thead>\n",
       "  <tbody>\n",
       "    <tr>\n",
       "      <th>126</th>\n",
       "      <td>math_nation</td>\n",
       "      <td>what is the difference between communtative pr...</td>\n",
       "      <td>According to the student's question, the most ...</td>\n",
       "      <td>Use the Commutative and Associative Properties...</td>\n",
       "      <td>extract_relevant</td>\n",
       "      <td>[{'role': 'user', 'content': 'Given a middle-s...</td>\n",
       "      <td>math</td>\n",
       "    </tr>\n",
       "  </tbody>\n",
       "</table>\n",
       "</div>"
      ],
      "text/plain": [
       "       query_set                                              query  \\\n",
       "126  math_nation  what is the difference between communtative pr...   \n",
       "\n",
       "                                            generation  \\\n",
       "126  According to the student's question, the most ...   \n",
       "\n",
       "                                              document          guidance  \\\n",
       "126  Use the Commutative and Associative Properties...  extract_relevant   \n",
       "\n",
       "                                              messages corpus  \n",
       "126  [{'role': 'user', 'content': 'Given a middle-s...   math  "
      ]
     },
     "execution_count": 23,
     "metadata": {},
     "output_type": "execute_result"
    }
   ],
   "source": [
    "math_df = pd.DataFrame(corpus.generations)\n",
    "print(len(math_df))\n",
    "math_df = math_df.drop_duplicates(subset=[\"query_set\", \"query\", \"guidance\", \"corpus\"], keep=\"last\")\n",
    "print(len(math_df))\n",
    "math_df.sample(n=1)"
   ]
  },
  {
   "cell_type": "code",
   "execution_count": 24,
   "id": "88762a06-5571-4f5f-9b66-5b2dde62dbca",
   "metadata": {},
   "outputs": [
    {
     "data": {
      "text/plain": [
       "guidance\n",
       "low                 51\n",
       "extract_relevant    51\n",
       "none                51\n",
       "high                51\n",
       "Name: count, dtype: int64"
      ]
     },
     "execution_count": 24,
     "metadata": {},
     "output_type": "execute_result"
    }
   ],
   "source": [
    "math_df.guidance.value_counts()"
   ]
  },
  {
   "cell_type": "code",
   "execution_count": 25,
   "id": "4c8a7a3e-c0c5-49eb-a4a4-65261e1ae428",
   "metadata": {},
   "outputs": [],
   "source": [
    "verbose = False\n",
    "if verbose:\n",
    "    query_sample = np.random.choice(list(set(math_df[\"query\"])), size=4, replace=False)\n",
    "    for query, group in math_df[math_df[\"query\"].isin(query_sample)].groupby(\"query\"):\n",
    "        print(f\"=== {query} ===\")\n",
    "        print(group.iloc[0].document)\n",
    "        for row in group.itertuples():\n",
    "            print(f\"+++ {row.guidance} +++\")\n",
    "            print(row.generation)\n",
    "            print()\n",
    "        print()"
   ]
  },
  {
   "cell_type": "code",
   "execution_count": null,
   "id": "1619f0ed-62c2-4918-9556-0c36a9a1a73a",
   "metadata": {},
   "outputs": [],
   "source": []
  },
  {
   "cell_type": "code",
   "execution_count": null,
   "id": "e0f4fb42-2b0e-44de-9a26-f0b23bbce962",
   "metadata": {},
   "outputs": [],
   "source": []
  },
  {
   "cell_type": "markdown",
   "id": "48d3bc31-3ee4-4c4c-be71-9a8653c0e281",
   "metadata": {},
   "source": [
    "#### Save math_df"
   ]
  },
  {
   "cell_type": "code",
   "execution_count": 40,
   "id": "c11e23ad-8744-483c-806b-f2d60c80d8be",
   "metadata": {},
   "outputs": [
    {
     "data": {
      "text/html": [
       "<div>\n",
       "<style scoped>\n",
       "    .dataframe tbody tr th:only-of-type {\n",
       "        vertical-align: middle;\n",
       "    }\n",
       "\n",
       "    .dataframe tbody tr th {\n",
       "        vertical-align: top;\n",
       "    }\n",
       "\n",
       "    .dataframe thead th {\n",
       "        text-align: right;\n",
       "    }\n",
       "</style>\n",
       "<table border=\"1\" class=\"dataframe\">\n",
       "  <thead>\n",
       "    <tr style=\"text-align: right;\">\n",
       "      <th></th>\n",
       "      <th>query_set</th>\n",
       "      <th>query</th>\n",
       "      <th>generation</th>\n",
       "      <th>document</th>\n",
       "      <th>guidance</th>\n",
       "      <th>messages</th>\n",
       "      <th>corpus</th>\n",
       "    </tr>\n",
       "  </thead>\n",
       "  <tbody>\n",
       "    <tr>\n",
       "      <th>187</th>\n",
       "      <td>math_nation</td>\n",
       "      <td>How do you find the zeros of a function by gra...</td>\n",
       "      <td>To find the zeros of a function by graphing, y...</td>\n",
       "      <td>Plot Points on a Rectangular Coordinate System...</td>\n",
       "      <td>none</td>\n",
       "      <td>[{'role': 'system', 'content': 'You are going ...</td>\n",
       "      <td>math</td>\n",
       "    </tr>\n",
       "  </tbody>\n",
       "</table>\n",
       "</div>"
      ],
      "text/plain": [
       "       query_set                                              query  \\\n",
       "187  math_nation  How do you find the zeros of a function by gra...   \n",
       "\n",
       "                                            generation  \\\n",
       "187  To find the zeros of a function by graphing, y...   \n",
       "\n",
       "                                              document guidance  \\\n",
       "187  Plot Points on a Rectangular Coordinate System...     none   \n",
       "\n",
       "                                              messages corpus  \n",
       "187  [{'role': 'system', 'content': 'You are going ...   math  "
      ]
     },
     "execution_count": 40,
     "metadata": {},
     "output_type": "execute_result"
    }
   ],
   "source": [
    "math_df.sample(n=1)"
   ]
  },
  {
   "cell_type": "code",
   "execution_count": 41,
   "id": "70ad6eb8-f694-442a-8af6-74049d7a9a8f",
   "metadata": {},
   "outputs": [],
   "source": [
    "generations_dir = data_dir / \"derived\" / \"generations\"\n",
    "generations_dir.mkdir(exist_ok=True)\n",
    "math_df.to_csv(generations_dir / \"math_df.csv\", index=False)"
   ]
  },
  {
   "cell_type": "markdown",
   "id": "5ed70cf4-1712-4108-96f8-5f0dc09120c9",
   "metadata": {},
   "source": [
    "#### Compute automated metrics"
   ]
  },
  {
   "cell_type": "code",
   "execution_count": 10,
   "id": "7ffeafd4-7488-4e48-a185-93ef9e723a25",
   "metadata": {},
   "outputs": [
    {
     "data": {
      "text/html": [
       "<div>\n",
       "<style scoped>\n",
       "    .dataframe tbody tr th:only-of-type {\n",
       "        vertical-align: middle;\n",
       "    }\n",
       "\n",
       "    .dataframe tbody tr th {\n",
       "        vertical-align: top;\n",
       "    }\n",
       "\n",
       "    .dataframe thead th {\n",
       "        text-align: right;\n",
       "    }\n",
       "</style>\n",
       "<table border=\"1\" class=\"dataframe\">\n",
       "  <thead>\n",
       "    <tr style=\"text-align: right;\">\n",
       "      <th></th>\n",
       "      <th>query_set</th>\n",
       "      <th>query</th>\n",
       "      <th>generation</th>\n",
       "      <th>document</th>\n",
       "      <th>guidance</th>\n",
       "      <th>messages</th>\n",
       "      <th>corpus</th>\n",
       "    </tr>\n",
       "  </thead>\n",
       "  <tbody>\n",
       "    <tr>\n",
       "      <th>171</th>\n",
       "      <td>math_nation</td>\n",
       "      <td>what is the difference between recursive formu...</td>\n",
       "      <td>In mathematics, the recursive formula and expl...</td>\n",
       "      <td>Use the Distance, Rate, and Time Formula: One ...</td>\n",
       "      <td>high</td>\n",
       "      <td>[{'role': 'system', 'content': 'You are going ...</td>\n",
       "      <td>math</td>\n",
       "    </tr>\n",
       "  </tbody>\n",
       "</table>\n",
       "</div>"
      ],
      "text/plain": [
       "       query_set                                              query  \\\n",
       "171  math_nation  what is the difference between recursive formu...   \n",
       "\n",
       "                                            generation  \\\n",
       "171  In mathematics, the recursive formula and expl...   \n",
       "\n",
       "                                              document guidance  \\\n",
       "171  Use the Distance, Rate, and Time Formula: One ...     high   \n",
       "\n",
       "                                              messages corpus  \n",
       "171  [{'role': 'system', 'content': 'You are going ...   math  "
      ]
     },
     "execution_count": 10,
     "metadata": {},
     "output_type": "execute_result"
    }
   ],
   "source": [
    "# load the data, if previously cached\n",
    "generations_dir = data_dir / \"derived\" / \"generations\"\n",
    "math_df = pd.read_csv(generations_dir / \"math_df.csv\")\n",
    "math_df.sample(n=1)"
   ]
  },
  {
   "cell_type": "code",
   "execution_count": 26,
   "id": "68ecb1dc-e555-4a7c-b91e-e7113c6625f5",
   "metadata": {},
   "outputs": [
    {
     "name": "stderr",
     "output_type": "stream",
     "text": [
      "2023-09-19 11:50:00,184 - evaluate_modules.metrics.evaluate-metric--bleurt.98e148b2f8c4a88aba5037e4e0e90c9fd9ec35dc37a054ded8cfef0fa801ffab.bleurt - WARNING - Using default BLEURT-Base checkpoint for sequence maximum length 128. You can use a bigger model for better results with e.g.: evaluate.load('bleurt', 'bleurt-large-512').\n"
     ]
    },
    {
     "name": "stdout",
     "output_type": "stream",
     "text": [
      "INFO:tensorflow:Reading checkpoint /Users/zacharylevonian/.cache/huggingface/metrics/bleurt/default/downloads/extracted/c344adb923f0c495f61e1f40865ccb4ce783ec9297c810bb96017735fbae8a91/bleurt-base-128.\n"
     ]
    },
    {
     "name": "stderr",
     "output_type": "stream",
     "text": [
      "2023-09-19 11:50:00,587 - tensorflow - INFO - Reading checkpoint /Users/zacharylevonian/.cache/huggingface/metrics/bleurt/default/downloads/extracted/c344adb923f0c495f61e1f40865ccb4ce783ec9297c810bb96017735fbae8a91/bleurt-base-128.\n"
     ]
    },
    {
     "name": "stdout",
     "output_type": "stream",
     "text": [
      "INFO:tensorflow:Config file found, reading.\n"
     ]
    },
    {
     "name": "stderr",
     "output_type": "stream",
     "text": [
      "2023-09-19 11:50:00,589 - tensorflow - INFO - Config file found, reading.\n"
     ]
    },
    {
     "name": "stdout",
     "output_type": "stream",
     "text": [
      "INFO:tensorflow:Will load checkpoint bert_custom\n"
     ]
    },
    {
     "name": "stderr",
     "output_type": "stream",
     "text": [
      "2023-09-19 11:50:00,591 - tensorflow - INFO - Will load checkpoint bert_custom\n"
     ]
    },
    {
     "name": "stdout",
     "output_type": "stream",
     "text": [
      "INFO:tensorflow:Loads full paths and checks that files exists.\n"
     ]
    },
    {
     "name": "stderr",
     "output_type": "stream",
     "text": [
      "2023-09-19 11:50:00,591 - tensorflow - INFO - Loads full paths and checks that files exists.\n"
     ]
    },
    {
     "name": "stdout",
     "output_type": "stream",
     "text": [
      "INFO:tensorflow:... name:bert_custom\n"
     ]
    },
    {
     "name": "stderr",
     "output_type": "stream",
     "text": [
      "2023-09-19 11:50:00,591 - tensorflow - INFO - ... name:bert_custom\n"
     ]
    },
    {
     "name": "stdout",
     "output_type": "stream",
     "text": [
      "INFO:tensorflow:... vocab_file:vocab.txt\n"
     ]
    },
    {
     "name": "stderr",
     "output_type": "stream",
     "text": [
      "2023-09-19 11:50:00,592 - tensorflow - INFO - ... vocab_file:vocab.txt\n"
     ]
    },
    {
     "name": "stdout",
     "output_type": "stream",
     "text": [
      "INFO:tensorflow:... bert_config_file:bert_config.json\n"
     ]
    },
    {
     "name": "stderr",
     "output_type": "stream",
     "text": [
      "2023-09-19 11:50:00,592 - tensorflow - INFO - ... bert_config_file:bert_config.json\n"
     ]
    },
    {
     "name": "stdout",
     "output_type": "stream",
     "text": [
      "INFO:tensorflow:... do_lower_case:True\n"
     ]
    },
    {
     "name": "stderr",
     "output_type": "stream",
     "text": [
      "2023-09-19 11:50:00,593 - tensorflow - INFO - ... do_lower_case:True\n"
     ]
    },
    {
     "name": "stdout",
     "output_type": "stream",
     "text": [
      "INFO:tensorflow:... max_seq_length:128\n"
     ]
    },
    {
     "name": "stderr",
     "output_type": "stream",
     "text": [
      "2023-09-19 11:50:00,593 - tensorflow - INFO - ... max_seq_length:128\n"
     ]
    },
    {
     "name": "stdout",
     "output_type": "stream",
     "text": [
      "INFO:tensorflow:Creating BLEURT scorer.\n"
     ]
    },
    {
     "name": "stderr",
     "output_type": "stream",
     "text": [
      "2023-09-19 11:50:00,593 - tensorflow - INFO - Creating BLEURT scorer.\n"
     ]
    },
    {
     "name": "stdout",
     "output_type": "stream",
     "text": [
      "INFO:tensorflow:Creating WordPiece tokenizer.\n"
     ]
    },
    {
     "name": "stderr",
     "output_type": "stream",
     "text": [
      "2023-09-19 11:50:00,594 - tensorflow - INFO - Creating WordPiece tokenizer.\n"
     ]
    },
    {
     "name": "stdout",
     "output_type": "stream",
     "text": [
      "INFO:tensorflow:WordPiece tokenizer instantiated.\n"
     ]
    },
    {
     "name": "stderr",
     "output_type": "stream",
     "text": [
      "2023-09-19 11:50:00,633 - tensorflow - INFO - WordPiece tokenizer instantiated.\n"
     ]
    },
    {
     "name": "stdout",
     "output_type": "stream",
     "text": [
      "INFO:tensorflow:Creating Eager Mode predictor.\n"
     ]
    },
    {
     "name": "stderr",
     "output_type": "stream",
     "text": [
      "2023-09-19 11:50:00,634 - tensorflow - INFO - Creating Eager Mode predictor.\n"
     ]
    },
    {
     "name": "stdout",
     "output_type": "stream",
     "text": [
      "INFO:tensorflow:Loading model.\n"
     ]
    },
    {
     "name": "stderr",
     "output_type": "stream",
     "text": [
      "2023-09-19 11:50:00,634 - tensorflow - INFO - Loading model.\n",
      "2023-09-19 11:50:01,878 - absl - INFO - Fingerprint not found. Saved model loading will continue.\n"
     ]
    },
    {
     "name": "stdout",
     "output_type": "stream",
     "text": [
      "INFO:tensorflow:BLEURT initialized.\n"
     ]
    },
    {
     "name": "stderr",
     "output_type": "stream",
     "text": [
      "2023-09-19 11:50:01,880 - tensorflow - INFO - BLEURT initialized.\n"
     ]
    }
   ],
   "source": [
    "assert experiment.metrics.get_bleurt_metric_object() is not None\n",
    "assert experiment.metrics.get_bertscore_metric_object() is not None"
   ]
  },
  {
   "cell_type": "code",
   "execution_count": 27,
   "id": "0956ae66-a5df-4986-8943-654f91fc759f",
   "metadata": {},
   "outputs": [
    {
     "name": "stderr",
     "output_type": "stream",
     "text": [
      "guidance='extract_relevant':   0%|                                                                                              | 0/51 [00:00<?, ?it/s]Some weights of RobertaModel were not initialized from the model checkpoint at roberta-large and are newly initialized: ['roberta.pooler.dense.bias', 'roberta.pooler.dense.weight']\n",
      "You should probably TRAIN this model on a down-stream task to be able to use it for predictions and inference.\n",
      "guidance='extract_relevant': 100%|█████████████████████████████████████████████████████████████████████████████████████| 51/51 [01:44<00:00,  2.05s/it]\n",
      "guidance='high': 100%|█████████████████████████████████████████████████████████████████████████████████████████████████| 51/51 [01:40<00:00,  1.96s/it]\n",
      "guidance='low': 100%|██████████████████████████████████████████████████████████████████████████████████████████████████| 51/51 [01:48<00:00,  2.13s/it]\n",
      "guidance='none': 100%|█████████████████████████████████████████████████████████████████████████████████████████████████| 51/51 [01:45<00:00,  2.08s/it]\n"
     ]
    },
    {
     "data": {
      "text/html": [
       "<div>\n",
       "<style scoped>\n",
       "    .dataframe tbody tr th:only-of-type {\n",
       "        vertical-align: middle;\n",
       "    }\n",
       "\n",
       "    .dataframe tbody tr th {\n",
       "        vertical-align: top;\n",
       "    }\n",
       "\n",
       "    .dataframe thead th {\n",
       "        text-align: right;\n",
       "    }\n",
       "</style>\n",
       "<table border=\"1\" class=\"dataframe\">\n",
       "  <thead>\n",
       "    <tr style=\"text-align: right;\">\n",
       "      <th></th>\n",
       "      <th>guidance</th>\n",
       "      <th>query_set</th>\n",
       "      <th>macro_f1</th>\n",
       "      <th>macro_f1_low</th>\n",
       "      <th>macro_f1_high</th>\n",
       "      <th>bleurt</th>\n",
       "      <th>bleurt_low</th>\n",
       "      <th>bleurt_high</th>\n",
       "      <th>bertscore</th>\n",
       "      <th>bertscore_low</th>\n",
       "      <th>bertscore_high</th>\n",
       "    </tr>\n",
       "  </thead>\n",
       "  <tbody>\n",
       "    <tr>\n",
       "      <th>3</th>\n",
       "      <td>none</td>\n",
       "      <td>math_nation</td>\n",
       "      <td>0.270858</td>\n",
       "      <td>0.256018</td>\n",
       "      <td>0.287867</td>\n",
       "      <td>-0.571418</td>\n",
       "      <td>-0.620347</td>\n",
       "      <td>-0.525058</td>\n",
       "      <td>0.833604</td>\n",
       "      <td>0.831031</td>\n",
       "      <td>0.836387</td>\n",
       "    </tr>\n",
       "    <tr>\n",
       "      <th>2</th>\n",
       "      <td>low</td>\n",
       "      <td>math_nation</td>\n",
       "      <td>0.287759</td>\n",
       "      <td>0.269585</td>\n",
       "      <td>0.305522</td>\n",
       "      <td>-0.551136</td>\n",
       "      <td>-0.604130</td>\n",
       "      <td>-0.503332</td>\n",
       "      <td>0.836041</td>\n",
       "      <td>0.832900</td>\n",
       "      <td>0.838876</td>\n",
       "    </tr>\n",
       "    <tr>\n",
       "      <th>1</th>\n",
       "      <td>high</td>\n",
       "      <td>math_nation</td>\n",
       "      <td>0.355556</td>\n",
       "      <td>0.334545</td>\n",
       "      <td>0.377555</td>\n",
       "      <td>-0.464588</td>\n",
       "      <td>-0.525164</td>\n",
       "      <td>-0.409770</td>\n",
       "      <td>0.848303</td>\n",
       "      <td>0.844106</td>\n",
       "      <td>0.852488</td>\n",
       "    </tr>\n",
       "    <tr>\n",
       "      <th>0</th>\n",
       "      <td>extract_relevant</td>\n",
       "      <td>math_nation</td>\n",
       "      <td>0.672882</td>\n",
       "      <td>0.583256</td>\n",
       "      <td>0.755949</td>\n",
       "      <td>-0.480035</td>\n",
       "      <td>-0.613007</td>\n",
       "      <td>-0.349532</td>\n",
       "      <td>0.919087</td>\n",
       "      <td>0.903057</td>\n",
       "      <td>0.934254</td>\n",
       "    </tr>\n",
       "  </tbody>\n",
       "</table>\n",
       "</div>"
      ],
      "text/plain": [
       "           guidance    query_set  macro_f1  macro_f1_low  macro_f1_high  \\\n",
       "3              none  math_nation  0.270858      0.256018       0.287867   \n",
       "2               low  math_nation  0.287759      0.269585       0.305522   \n",
       "1              high  math_nation  0.355556      0.334545       0.377555   \n",
       "0  extract_relevant  math_nation  0.672882      0.583256       0.755949   \n",
       "\n",
       "     bleurt  bleurt_low  bleurt_high  bertscore  bertscore_low  bertscore_high  \n",
       "3 -0.571418   -0.620347    -0.525058   0.833604       0.831031        0.836387  \n",
       "2 -0.551136   -0.604130    -0.503332   0.836041       0.832900        0.838876  \n",
       "1 -0.464588   -0.525164    -0.409770   0.848303       0.844106        0.852488  \n",
       "0 -0.480035   -0.613007    -0.349532   0.919087       0.903057        0.934254  "
      ]
     },
     "execution_count": 27,
     "metadata": {},
     "output_type": "execute_result"
    }
   ],
   "source": [
    "use_bootstrap = True\n",
    "\n",
    "sdf = math_df\n",
    "assert sdf.query_set.nunique() == 1\n",
    "ds = []\n",
    "for guidance, group in sdf.groupby(\"guidance\"):\n",
    "    assert group[\"query\"].nunique() == len(group)\n",
    "    f1_scores = []\n",
    "    bleurt_scores = []\n",
    "    bertscore_scores = []\n",
    "    for row in tqdm(group.itertuples(), desc=f\"{guidance=}\", total=len(group)):\n",
    "        passages = row.document.split(\"\\n\")\n",
    "        f1 = experiment.metrics.compute_macro_f1(passages, row.generation, discount_text=row.query)\n",
    "        f1_scores.append(f1)\n",
    "        bleurt = experiment.metrics.compute_bleurt(passages, row.generation)\n",
    "        bleurt_scores.append(bleurt)\n",
    "        bertscore = experiment.metrics.compute_bertscore(passages, row.generation)\n",
    "        bertscore_scores.append(bertscore)\n",
    "    f1_scores = np.array(f1_scores)\n",
    "    bleurt_scores = np.array(bleurt_scores)\n",
    "    bertscore_scores = np.array(bertscore_scores)\n",
    "    macro_f1 = f1_scores.mean()\n",
    "    if use_bootstrap:\n",
    "        # bootstrap confidence intervals\n",
    "        bootstrap = scipy.stats.bootstrap((f1_scores,), np.mean, confidence_level=0.95, random_state=rng)\n",
    "        bleurt_bootstrap = scipy.stats.bootstrap((bleurt_scores,), np.mean, confidence_level=0.95, random_state=rng)\n",
    "        bertscore_bootstrap = scipy.stats.bootstrap(\n",
    "            (bertscore_scores,), np.mean, confidence_level=0.95, random_state=rng\n",
    "        )\n",
    "    else:\n",
    "        # TODO do something more reasonable, e.g. the student's t approximation\n",
    "        pass\n",
    "    ds.append(\n",
    "        {\n",
    "            \"guidance\": guidance,\n",
    "            \"query_set\": sdf.iloc[0].query_set,\n",
    "            \"macro_f1\": macro_f1,\n",
    "            \"macro_f1_low\": bootstrap.confidence_interval.low,\n",
    "            \"macro_f1_high\": bootstrap.confidence_interval.high,\n",
    "            \"bleurt\": bleurt_scores.mean(),\n",
    "            \"bleurt_low\": bleurt_bootstrap.confidence_interval.low,\n",
    "            \"bleurt_high\": bleurt_bootstrap.confidence_interval.high,\n",
    "            \"bertscore\": bertscore_scores.mean(),\n",
    "            \"bertscore_low\": bertscore_bootstrap.confidence_interval.low,\n",
    "            \"bertscore_high\": bertscore_bootstrap.confidence_interval.high,\n",
    "        }\n",
    "    )\n",
    "metric_df = pd.DataFrame(ds).sort_values(by=\"macro_f1\", ascending=True)\n",
    "metric_df"
   ]
  },
  {
   "cell_type": "code",
   "execution_count": 32,
   "id": "1cc334cd-2828-428c-8224-abd060f00190",
   "metadata": {},
   "outputs": [
    {
     "name": "stderr",
     "output_type": "stream",
     "text": [
      "2023-09-19 12:28:53,431 - fontTools.subset - INFO - maxp pruned\n",
      "2023-09-19 12:28:53,437 - fontTools.subset - INFO - cmap pruned\n",
      "2023-09-19 12:28:53,438 - fontTools.subset - INFO - kern dropped\n",
      "2023-09-19 12:28:53,438 - fontTools.subset - INFO - post pruned\n",
      "2023-09-19 12:28:53,439 - fontTools.subset - INFO - FFTM dropped\n",
      "2023-09-19 12:28:53,442 - fontTools.subset - INFO - GPOS pruned\n",
      "2023-09-19 12:28:53,444 - fontTools.subset - INFO - GSUB pruned\n",
      "2023-09-19 12:28:53,449 - fontTools.subset - INFO - glyf pruned\n",
      "2023-09-19 12:28:53,450 - fontTools.subset - INFO - Added gid0 to subset\n",
      "2023-09-19 12:28:53,450 - fontTools.subset - INFO - Added first four glyphs to subset\n",
      "2023-09-19 12:28:53,451 - fontTools.subset - INFO - Closing glyph list over 'GSUB': 32 glyphs before\n",
      "2023-09-19 12:28:53,451 - fontTools.subset - INFO - Glyph names: ['.notdef', '.null', 'B', 'E', 'F', 'H', 'I', 'K', 'L', 'N', 'R', 'S', 'T', 'U', 'c', 'e', 'eight', 'five', 'four', 'hyphen', 'minus', 'n', 'nine', 'nonmarkingreturn', 'o', 'one', 'period', 'plus', 'r', 'six', 'space', 'zero']\n",
      "2023-09-19 12:28:53,452 - fontTools.subset - INFO - Glyph IDs:   [0, 1, 2, 3, 14, 16, 17, 19, 20, 23, 24, 25, 27, 28, 37, 40, 41, 43, 44, 46, 47, 49, 53, 54, 55, 56, 70, 72, 81, 82, 85, 3228]\n",
      "2023-09-19 12:28:53,453 - fontTools.subset - INFO - Closed glyph list over 'GSUB': 32 glyphs after\n",
      "2023-09-19 12:28:53,454 - fontTools.subset - INFO - Glyph names: ['.notdef', '.null', 'B', 'E', 'F', 'H', 'I', 'K', 'L', 'N', 'R', 'S', 'T', 'U', 'c', 'e', 'eight', 'five', 'four', 'hyphen', 'minus', 'n', 'nine', 'nonmarkingreturn', 'o', 'one', 'period', 'plus', 'r', 'six', 'space', 'zero']\n",
      "2023-09-19 12:28:53,454 - fontTools.subset - INFO - Glyph IDs:   [0, 1, 2, 3, 14, 16, 17, 19, 20, 23, 24, 25, 27, 28, 37, 40, 41, 43, 44, 46, 47, 49, 53, 54, 55, 56, 70, 72, 81, 82, 85, 3228]\n",
      "2023-09-19 12:28:53,454 - fontTools.subset - INFO - Closing glyph list over 'MATH': 32 glyphs before\n",
      "2023-09-19 12:28:53,454 - fontTools.subset - INFO - Glyph names: ['.notdef', '.null', 'B', 'E', 'F', 'H', 'I', 'K', 'L', 'N', 'R', 'S', 'T', 'U', 'c', 'e', 'eight', 'five', 'four', 'hyphen', 'minus', 'n', 'nine', 'nonmarkingreturn', 'o', 'one', 'period', 'plus', 'r', 'six', 'space', 'zero']\n",
      "2023-09-19 12:28:53,455 - fontTools.subset - INFO - Glyph IDs:   [0, 1, 2, 3, 14, 16, 17, 19, 20, 23, 24, 25, 27, 28, 37, 40, 41, 43, 44, 46, 47, 49, 53, 54, 55, 56, 70, 72, 81, 82, 85, 3228]\n",
      "2023-09-19 12:28:53,455 - fontTools.subset - INFO - Closed glyph list over 'MATH': 32 glyphs after\n",
      "2023-09-19 12:28:53,456 - fontTools.subset - INFO - Glyph names: ['.notdef', '.null', 'B', 'E', 'F', 'H', 'I', 'K', 'L', 'N', 'R', 'S', 'T', 'U', 'c', 'e', 'eight', 'five', 'four', 'hyphen', 'minus', 'n', 'nine', 'nonmarkingreturn', 'o', 'one', 'period', 'plus', 'r', 'six', 'space', 'zero']\n",
      "2023-09-19 12:28:53,456 - fontTools.subset - INFO - Glyph IDs:   [0, 1, 2, 3, 14, 16, 17, 19, 20, 23, 24, 25, 27, 28, 37, 40, 41, 43, 44, 46, 47, 49, 53, 54, 55, 56, 70, 72, 81, 82, 85, 3228]\n",
      "2023-09-19 12:28:53,456 - fontTools.subset - INFO - Closing glyph list over 'glyf': 32 glyphs before\n",
      "2023-09-19 12:28:53,457 - fontTools.subset - INFO - Glyph names: ['.notdef', '.null', 'B', 'E', 'F', 'H', 'I', 'K', 'L', 'N', 'R', 'S', 'T', 'U', 'c', 'e', 'eight', 'five', 'four', 'hyphen', 'minus', 'n', 'nine', 'nonmarkingreturn', 'o', 'one', 'period', 'plus', 'r', 'six', 'space', 'zero']\n",
      "2023-09-19 12:28:53,457 - fontTools.subset - INFO - Glyph IDs:   [0, 1, 2, 3, 14, 16, 17, 19, 20, 23, 24, 25, 27, 28, 37, 40, 41, 43, 44, 46, 47, 49, 53, 54, 55, 56, 70, 72, 81, 82, 85, 3228]\n",
      "2023-09-19 12:28:53,457 - fontTools.subset - INFO - Closed glyph list over 'glyf': 32 glyphs after\n",
      "2023-09-19 12:28:53,458 - fontTools.subset - INFO - Glyph names: ['.notdef', '.null', 'B', 'E', 'F', 'H', 'I', 'K', 'L', 'N', 'R', 'S', 'T', 'U', 'c', 'e', 'eight', 'five', 'four', 'hyphen', 'minus', 'n', 'nine', 'nonmarkingreturn', 'o', 'one', 'period', 'plus', 'r', 'six', 'space', 'zero']\n",
      "2023-09-19 12:28:53,458 - fontTools.subset - INFO - Glyph IDs:   [0, 1, 2, 3, 14, 16, 17, 19, 20, 23, 24, 25, 27, 28, 37, 40, 41, 43, 44, 46, 47, 49, 53, 54, 55, 56, 70, 72, 81, 82, 85, 3228]\n",
      "2023-09-19 12:28:53,458 - fontTools.subset - INFO - Retaining 32 glyphs\n",
      "2023-09-19 12:28:53,459 - fontTools.subset - INFO - head subsetting not needed\n",
      "2023-09-19 12:28:53,459 - fontTools.subset - INFO - hhea subsetting not needed\n",
      "2023-09-19 12:28:53,459 - fontTools.subset - INFO - maxp subsetting not needed\n",
      "2023-09-19 12:28:53,459 - fontTools.subset - INFO - OS/2 subsetting not needed\n",
      "2023-09-19 12:28:53,462 - fontTools.subset - INFO - hmtx subsetted\n",
      "2023-09-19 12:28:53,463 - fontTools.subset - INFO - cmap subsetted\n",
      "2023-09-19 12:28:53,463 - fontTools.subset - INFO - fpgm subsetting not needed\n",
      "2023-09-19 12:28:53,464 - fontTools.subset - INFO - prep subsetting not needed\n",
      "2023-09-19 12:28:53,464 - fontTools.subset - INFO - cvt  subsetting not needed\n",
      "2023-09-19 12:28:53,464 - fontTools.subset - INFO - loca subsetting not needed\n",
      "2023-09-19 12:28:53,464 - fontTools.subset - INFO - post subsetted\n",
      "2023-09-19 12:28:53,465 - fontTools.subset - INFO - gasp subsetting not needed\n",
      "2023-09-19 12:28:53,465 - fontTools.subset - INFO - MATH subsetted\n",
      "2023-09-19 12:28:53,467 - fontTools.subset - INFO - GDEF subsetted\n",
      "2023-09-19 12:28:53,860 - fontTools.subset - INFO - GPOS subsetted\n",
      "2023-09-19 12:28:53,861 - fontTools.subset - INFO - GSUB subsetted\n",
      "2023-09-19 12:28:53,861 - fontTools.subset - INFO - name subsetting not needed\n",
      "2023-09-19 12:28:53,862 - fontTools.subset - INFO - glyf subsetted\n",
      "2023-09-19 12:28:53,863 - fontTools.subset - INFO - head pruned\n",
      "2023-09-19 12:28:53,863 - fontTools.subset - INFO - OS/2 Unicode ranges pruned: [0, 38]\n",
      "2023-09-19 12:28:53,864 - fontTools.subset - INFO - glyf pruned\n",
      "2023-09-19 12:28:53,864 - fontTools.subset - INFO - GDEF pruned\n",
      "2023-09-19 12:28:53,864 - fontTools.subset - INFO - GPOS pruned\n",
      "2023-09-19 12:28:53,864 - fontTools.subset - INFO - GSUB pruned\n",
      "2023-09-19 12:28:53,867 - fontTools.subset - INFO - name pruned\n"
     ]
    },
    {
     "data": {
      "image/png": "[encoded data removed]",
      "text/plain": [
       "<Figure size 552.062x110 with 3 Axes>"
      ]
     },
     "metadata": {},
     "output_type": "display_data"
    }
   ],
   "source": [
    "fig, axes = plt.subplots(1, 3, figsize=(COLUMN_WIDTH_IN, 1.1))\n",
    "\n",
    "metric_pretty_name_map = {\n",
    "    \"macro_f1\": \"K-F1++\",\n",
    "    \"bleurt\": \"BLEURT\",\n",
    "    \"bertscore\": \"BERTScore\",\n",
    "}\n",
    "\n",
    "guidance_short_name_map = {\n",
    "    \"none\": \"None\",\n",
    "    \"extract_relevant\": \"IE\",\n",
    "    \"low\": \"L\",\n",
    "    \"medium\": \"M\",\n",
    "    \"high\": \"H\",\n",
    "}\n",
    "\n",
    "for ax, metric in zip(axes, [\"macro_f1\", \"bleurt\", \"bertscore\"]):\n",
    "    for query_set, mdf in metric_df.groupby(\"query_set\"):\n",
    "        assert metric in mdf.columns\n",
    "        xs = list(range(len(mdf)))\n",
    "        ys = mdf[metric]\n",
    "        yerr = mdf[[metric + \"_low\", metric + \"_high\"]].subtract(mdf[metric], axis=0).abs().T\n",
    "        ax.scatter(xs, ys, color=\"black\", marker=\".\")\n",
    "        ax.errorbar(xs, ys, yerr=yerr, zorder=-1, capsize=3, ecolor=\"grey\", label=query_set)\n",
    "\n",
    "    # legend\n",
    "    # handles, labels = ax.get_legend_handles_labels()\n",
    "    # handles = [h[0] for h in handles]\n",
    "    # ax.legend(handles, labels, frameon=False, ncol=2)\n",
    "\n",
    "    ax.set_xticks(xs, labels=[guidance_short_name_map[guidance] for guidance in metric_df.guidance])\n",
    "    ax.set_ylabel(metric_pretty_name_map[metric])\n",
    "\n",
    "fig.tight_layout(pad=0.01, w_pad=0.2)\n",
    "fig.savefig(figures_dir / \"guidance_autometrics.pdf\", bbox_inches=\"tight\", pad_inches=0.01, dpi=DPI)\n",
    "plt.show()"
   ]
  },
  {
   "cell_type": "code",
   "execution_count": null,
   "id": "d9eae3d9-5dad-401e-9744-b13f43cdf6c0",
   "metadata": {},
   "outputs": [],
   "source": []
  },
  {
   "cell_type": "markdown",
   "id": "2807eca8-3e62-4a57-b3c0-744a2ead215f",
   "metadata": {},
   "source": [
    "#### Create qualtrics surveys"
   ]
  },
  {
   "cell_type": "code",
   "execution_count": 11,
   "id": "63e7a7c5-d290-4560-b809-a8ba478d4616",
   "metadata": {},
   "outputs": [
    {
     "data": {
      "text/plain": [
       "153"
      ]
     },
     "execution_count": 11,
     "metadata": {},
     "output_type": "execute_result"
    }
   ],
   "source": [
    "guidance_survey_set = {\"none\", \"low\", \"high\"}\n",
    "survey_input_df = math_df[\n",
    "    (math_df.query_set == \"math_nation\") & (math_df.corpus == \"math\") & (math_df.guidance.isin(guidance_survey_set))\n",
    "]\n",
    "len(survey_input_df)"
   ]
  },
  {
   "cell_type": "code",
   "execution_count": 12,
   "id": "b0e0c1a7-6e71-4b59-ad0f-52cf13c9d20b",
   "metadata": {},
   "outputs": [],
   "source": [
    "qualtrics_template_filepath = data_dir / \"raw\" / \"qualtrics\" / \"Rori_ranking_annotations_-_template.qsf\"\n",
    "survey_dir = data_dir / \"derived\" / \"qualtrics\"\n",
    "assert qualtrics_template_filepath.exists()"
   ]
  },
  {
   "cell_type": "code",
   "execution_count": 13,
   "id": "24cd80f0-795e-4789-8461-526c4c52a2d1",
   "metadata": {},
   "outputs": [
    {
     "data": {
      "text/plain": [
       "51"
      ]
     },
     "execution_count": 13,
     "metadata": {},
     "output_type": "execute_result"
    }
   ],
   "source": [
    "template_survey_text = experiment.qualtrics.get_template(qualtrics_template_filepath)\n",
    "survey_df = experiment.qualtrics.create_surveys(survey_input_df, template_survey_text, survey_dir)\n",
    "len(survey_df)"
   ]
  },
  {
   "cell_type": "code",
   "execution_count": 14,
   "id": "6798d831-f4a0-4964-be33-a8cc05fd129e",
   "metadata": {},
   "outputs": [
    {
     "data": {
      "text/html": [
       "<div>\n",
       "<style scoped>\n",
       "    .dataframe tbody tr th:only-of-type {\n",
       "        vertical-align: middle;\n",
       "    }\n",
       "\n",
       "    .dataframe tbody tr th {\n",
       "        vertical-align: top;\n",
       "    }\n",
       "\n",
       "    .dataframe thead th {\n",
       "        text-align: right;\n",
       "    }\n",
       "</style>\n",
       "<table border=\"1\" class=\"dataframe\">\n",
       "  <thead>\n",
       "    <tr style=\"text-align: right;\">\n",
       "      <th></th>\n",
       "      <th>query</th>\n",
       "      <th>document</th>\n",
       "      <th>response1</th>\n",
       "      <th>response2</th>\n",
       "      <th>response3</th>\n",
       "      <th>response1_meta</th>\n",
       "      <th>response2_meta</th>\n",
       "      <th>response3_meta</th>\n",
       "      <th>survey_id</th>\n",
       "    </tr>\n",
       "  </thead>\n",
       "  <tbody>\n",
       "    <tr>\n",
       "      <th>22</th>\n",
       "      <td>How do you multiply fractions?!?!?</td>\n",
       "      <td>Simplify Fractions: In working with equivalent...</td>\n",
       "      <td>Great question! To multiply fractions, you sim...</td>\n",
       "      <td>Great question! To multiply fractions, you nee...</td>\n",
       "      <td>To multiply fractions, you can multiply the nu...</td>\n",
       "      <td>{'query_set': 'math_nation', 'guidance': 'low'...</td>\n",
       "      <td>{'query_set': 'math_nation', 'guidance': 'none...</td>\n",
       "      <td>{'query_set': 'math_nation', 'guidance': 'high...</td>\n",
       "      <td>s_20230919_2/4</td>\n",
       "    </tr>\n",
       "  </tbody>\n",
       "</table>\n",
       "</div>"
      ],
      "text/plain": [
       "                                 query  \\\n",
       "22  How do you multiply fractions?!?!?   \n",
       "\n",
       "                                             document  \\\n",
       "22  Simplify Fractions: In working with equivalent...   \n",
       "\n",
       "                                            response1  \\\n",
       "22  Great question! To multiply fractions, you sim...   \n",
       "\n",
       "                                            response2  \\\n",
       "22  Great question! To multiply fractions, you nee...   \n",
       "\n",
       "                                            response3  \\\n",
       "22  To multiply fractions, you can multiply the nu...   \n",
       "\n",
       "                                       response1_meta  \\\n",
       "22  {'query_set': 'math_nation', 'guidance': 'low'...   \n",
       "\n",
       "                                       response2_meta  \\\n",
       "22  {'query_set': 'math_nation', 'guidance': 'none...   \n",
       "\n",
       "                                       response3_meta       survey_id  \n",
       "22  {'query_set': 'math_nation', 'guidance': 'high...  s_20230919_2/4  "
      ]
     },
     "execution_count": 14,
     "metadata": {},
     "output_type": "execute_result"
    }
   ],
   "source": [
    "survey_df.sample(n=1)"
   ]
  },
  {
   "cell_type": "code",
   "execution_count": 15,
   "id": "464f6422-1d22-4898-9bbd-e3d2da8d9511",
   "metadata": {},
   "outputs": [
    {
     "data": {
      "text/plain": [
       "survey_id\n",
       "s_20230919_1/4    15\n",
       "s_20230919_2/4    15\n",
       "s_20230919_3/4    15\n",
       "s_20230919_4/4     6\n",
       "Name: count, dtype: int64"
      ]
     },
     "execution_count": 15,
     "metadata": {},
     "output_type": "execute_result"
    }
   ],
   "source": [
    "survey_df.survey_id.value_counts()"
   ]
  },
  {
   "cell_type": "code",
   "execution_count": 16,
   "id": "d093e5d1-df59-4bf7-a885-6878ab80ddf4",
   "metadata": {},
   "outputs": [
    {
     "data": {
      "text/html": [
       "<div>\n",
       "<style scoped>\n",
       "    .dataframe tbody tr th:only-of-type {\n",
       "        vertical-align: middle;\n",
       "    }\n",
       "\n",
       "    .dataframe tbody tr th {\n",
       "        vertical-align: top;\n",
       "    }\n",
       "\n",
       "    .dataframe thead th {\n",
       "        text-align: right;\n",
       "    }\n",
       "</style>\n",
       "<table border=\"1\" class=\"dataframe\">\n",
       "  <thead>\n",
       "    <tr style=\"text-align: right;\">\n",
       "      <th></th>\n",
       "      <th>query</th>\n",
       "      <th>document</th>\n",
       "      <th>response1</th>\n",
       "      <th>response2</th>\n",
       "      <th>response3</th>\n",
       "      <th>response1_meta</th>\n",
       "      <th>response2_meta</th>\n",
       "      <th>response3_meta</th>\n",
       "      <th>survey_id</th>\n",
       "    </tr>\n",
       "  </thead>\n",
       "  <tbody>\n",
       "    <tr>\n",
       "      <th>0</th>\n",
       "      <td>Just checking, If I have a problem like x to t...</td>\n",
       "      <td>Simplify Expressions with Exponents: Remember ...</td>\n",
       "      <td>No, you would not multiply the exponent in the...</td>\n",
       "      <td>Great question! When you have an exponent outs...</td>\n",
       "      <td>Great question! When you have an exponent outs...</td>\n",
       "      <td>{'query_set': 'math_nation', 'guidance': 'high...</td>\n",
       "      <td>{'query_set': 'math_nation', 'guidance': 'none...</td>\n",
       "      <td>{'query_set': 'math_nation', 'guidance': 'low'...</td>\n",
       "      <td>s_20230919_1/4</td>\n",
       "    </tr>\n",
       "    <tr>\n",
       "      <th>1</th>\n",
       "      <td>how  far can a polynomial go</td>\n",
       "      <td>Identify Polynomials, Monomials, Binomials, an...</td>\n",
       "      <td>Polynomials can have different degrees, which ...</td>\n",
       "      <td>A polynomial can go as far as we want it to go...</td>\n",
       "      <td>A polynomial can go on indefinitely, meaning i...</td>\n",
       "      <td>{'query_set': 'math_nation', 'guidance': 'low'...</td>\n",
       "      <td>{'query_set': 'math_nation', 'guidance': 'high...</td>\n",
       "      <td>{'query_set': 'math_nation', 'guidance': 'none...</td>\n",
       "      <td>s_20230919_1/4</td>\n",
       "    </tr>\n",
       "    <tr>\n",
       "      <th>2</th>\n",
       "      <td>Why does the sine of an angle equal the sine o...</td>\n",
       "      <td>Use the Properties of Angles: Are you familiar...</td>\n",
       "      <td>The sine of an angle does not necessarily equa...</td>\n",
       "      <td>That's a great question! The sine function is ...</td>\n",
       "      <td>The reason why the sine of an angle equals the...</td>\n",
       "      <td>{'query_set': 'math_nation', 'guidance': 'low'...</td>\n",
       "      <td>{'query_set': 'math_nation', 'guidance': 'none...</td>\n",
       "      <td>{'query_set': 'math_nation', 'guidance': 'high...</td>\n",
       "      <td>s_20230919_1/4</td>\n",
       "    </tr>\n",
       "  </tbody>\n",
       "</table>\n",
       "</div>"
      ],
      "text/plain": [
       "                                               query  \\\n",
       "0  Just checking, If I have a problem like x to t...   \n",
       "1                       how  far can a polynomial go   \n",
       "2  Why does the sine of an angle equal the sine o...   \n",
       "\n",
       "                                            document  \\\n",
       "0  Simplify Expressions with Exponents: Remember ...   \n",
       "1  Identify Polynomials, Monomials, Binomials, an...   \n",
       "2  Use the Properties of Angles: Are you familiar...   \n",
       "\n",
       "                                           response1  \\\n",
       "0  No, you would not multiply the exponent in the...   \n",
       "1  Polynomials can have different degrees, which ...   \n",
       "2  The sine of an angle does not necessarily equa...   \n",
       "\n",
       "                                           response2  \\\n",
       "0  Great question! When you have an exponent outs...   \n",
       "1  A polynomial can go as far as we want it to go...   \n",
       "2  That's a great question! The sine function is ...   \n",
       "\n",
       "                                           response3  \\\n",
       "0  Great question! When you have an exponent outs...   \n",
       "1  A polynomial can go on indefinitely, meaning i...   \n",
       "2  The reason why the sine of an angle equals the...   \n",
       "\n",
       "                                      response1_meta  \\\n",
       "0  {'query_set': 'math_nation', 'guidance': 'high...   \n",
       "1  {'query_set': 'math_nation', 'guidance': 'low'...   \n",
       "2  {'query_set': 'math_nation', 'guidance': 'low'...   \n",
       "\n",
       "                                      response2_meta  \\\n",
       "0  {'query_set': 'math_nation', 'guidance': 'none...   \n",
       "1  {'query_set': 'math_nation', 'guidance': 'high...   \n",
       "2  {'query_set': 'math_nation', 'guidance': 'none...   \n",
       "\n",
       "                                      response3_meta       survey_id  \n",
       "0  {'query_set': 'math_nation', 'guidance': 'low'...  s_20230919_1/4  \n",
       "1  {'query_set': 'math_nation', 'guidance': 'none...  s_20230919_1/4  \n",
       "2  {'query_set': 'math_nation', 'guidance': 'high...  s_20230919_1/4  "
      ]
     },
     "execution_count": 16,
     "metadata": {},
     "output_type": "execute_result"
    }
   ],
   "source": [
    "survey_df.head(3)"
   ]
  },
  {
   "cell_type": "code",
   "execution_count": 20,
   "id": "fb2e716f-09f7-43b9-a1f9-7bfeb2555c2e",
   "metadata": {},
   "outputs": [],
   "source": [
    "survey_df.to_csv(survey_dir / \"survey_df.csv\", index=False)"
   ]
  },
  {
   "cell_type": "code",
   "execution_count": null,
   "id": "6629c3d1-eebf-49a5-b013-dbcc9d976650",
   "metadata": {},
   "outputs": [],
   "source": []
  },
  {
   "cell_type": "markdown",
   "id": "53f50e64-0ae0-4ade-8fca-dce63c396c4e",
   "metadata": {},
   "source": [
    "#### Analyze survey results"
   ]
  },
  {
   "cell_type": "code",
   "execution_count": 144,
   "id": "1dcd357c-6bc8-4cb9-87d9-49f4403a27b8",
   "metadata": {},
   "outputs": [],
   "source": [
    "survey_input_dir = data_dir / \"derived\" / \"qualtrics\"\n",
    "survey_results_dir = data_dir / \"raw\" / \"qualtrics\" / \"results\"\n",
    "assert survey_results_dir.exists()"
   ]
  },
  {
   "cell_type": "code",
   "execution_count": 145,
   "id": "e9f11342-77b0-42f5-b7aa-fec9604c86c6",
   "metadata": {},
   "outputs": [
    {
     "data": {
      "text/html": [
       "<div>\n",
       "<style scoped>\n",
       "    .dataframe tbody tr th:only-of-type {\n",
       "        vertical-align: middle;\n",
       "    }\n",
       "\n",
       "    .dataframe tbody tr th {\n",
       "        vertical-align: top;\n",
       "    }\n",
       "\n",
       "    .dataframe thead th {\n",
       "        text-align: right;\n",
       "    }\n",
       "</style>\n",
       "<table border=\"1\" class=\"dataframe\">\n",
       "  <thead>\n",
       "    <tr style=\"text-align: right;\">\n",
       "      <th></th>\n",
       "      <th>query</th>\n",
       "      <th>document</th>\n",
       "      <th>response1</th>\n",
       "      <th>response2</th>\n",
       "      <th>response3</th>\n",
       "      <th>response1_meta</th>\n",
       "      <th>response2_meta</th>\n",
       "      <th>response3_meta</th>\n",
       "      <th>survey_id</th>\n",
       "    </tr>\n",
       "  </thead>\n",
       "  <tbody>\n",
       "    <tr>\n",
       "      <th>0</th>\n",
       "      <td>Just checking, If I have a problem like x to t...</td>\n",
       "      <td>Simplify Expressions with Exponents: Remember ...</td>\n",
       "      <td>No, you would not multiply the exponent in the...</td>\n",
       "      <td>Great question! When you have an exponent outs...</td>\n",
       "      <td>Great question! When you have an exponent outs...</td>\n",
       "      <td>{'query_set': 'math_nation', 'guidance': 'high...</td>\n",
       "      <td>{'query_set': 'math_nation', 'guidance': 'none...</td>\n",
       "      <td>{'query_set': 'math_nation', 'guidance': 'low'...</td>\n",
       "      <td>s_20230919_1/4</td>\n",
       "    </tr>\n",
       "  </tbody>\n",
       "</table>\n",
       "</div>"
      ],
      "text/plain": [
       "                                               query  \\\n",
       "0  Just checking, If I have a problem like x to t...   \n",
       "\n",
       "                                            document  \\\n",
       "0  Simplify Expressions with Exponents: Remember ...   \n",
       "\n",
       "                                           response1  \\\n",
       "0  No, you would not multiply the exponent in the...   \n",
       "\n",
       "                                           response2  \\\n",
       "0  Great question! When you have an exponent outs...   \n",
       "\n",
       "                                           response3  \\\n",
       "0  Great question! When you have an exponent outs...   \n",
       "\n",
       "                                      response1_meta  \\\n",
       "0  {'query_set': 'math_nation', 'guidance': 'high...   \n",
       "\n",
       "                                      response2_meta  \\\n",
       "0  {'query_set': 'math_nation', 'guidance': 'none...   \n",
       "\n",
       "                                      response3_meta       survey_id  \n",
       "0  {'query_set': 'math_nation', 'guidance': 'low'...  s_20230919_1/4  "
      ]
     },
     "execution_count": 145,
     "metadata": {},
     "output_type": "execute_result"
    }
   ],
   "source": [
    "survey_df = pd.read_csv(survey_input_dir / \"survey_df.csv\")\n",
    "survey_df.head(1)"
   ]
  },
  {
   "cell_type": "code",
   "execution_count": 147,
   "id": "eefa8553-55c4-4c24-a723-fb46f69dfd87",
   "metadata": {},
   "outputs": [
    {
     "name": "stdout",
     "output_type": "stream",
     "text": [
      "153 rows exploded from survey_df with 51\n"
     ]
    },
    {
     "data": {
      "text/html": [
       "<div>\n",
       "<style scoped>\n",
       "    .dataframe tbody tr th:only-of-type {\n",
       "        vertical-align: middle;\n",
       "    }\n",
       "\n",
       "    .dataframe tbody tr th {\n",
       "        vertical-align: top;\n",
       "    }\n",
       "\n",
       "    .dataframe thead th {\n",
       "        text-align: right;\n",
       "    }\n",
       "</style>\n",
       "<table border=\"1\" class=\"dataframe\">\n",
       "  <thead>\n",
       "    <tr style=\"text-align: right;\">\n",
       "      <th></th>\n",
       "      <th>query</th>\n",
       "      <th>document</th>\n",
       "      <th>generation</th>\n",
       "      <th>query_set</th>\n",
       "      <th>guidance</th>\n",
       "      <th>messages</th>\n",
       "      <th>corpus</th>\n",
       "    </tr>\n",
       "  </thead>\n",
       "  <tbody>\n",
       "    <tr>\n",
       "      <th>0</th>\n",
       "      <td>Just checking, If I have a problem like x to t...</td>\n",
       "      <td>Simplify Expressions with Exponents: Remember ...</td>\n",
       "      <td>No, you would not multiply the exponent in the...</td>\n",
       "      <td>math_nation</td>\n",
       "      <td>high</td>\n",
       "      <td>[{'role': 'system', 'content': 'You are going ...</td>\n",
       "      <td>math</td>\n",
       "    </tr>\n",
       "    <tr>\n",
       "      <th>1</th>\n",
       "      <td>Just checking, If I have a problem like x to t...</td>\n",
       "      <td>Simplify Expressions with Exponents: Remember ...</td>\n",
       "      <td>Great question! When you have an exponent outs...</td>\n",
       "      <td>math_nation</td>\n",
       "      <td>none</td>\n",
       "      <td>[{'role': 'system', 'content': 'You are going ...</td>\n",
       "      <td>math</td>\n",
       "    </tr>\n",
       "  </tbody>\n",
       "</table>\n",
       "</div>"
      ],
      "text/plain": [
       "                                               query  \\\n",
       "0  Just checking, If I have a problem like x to t...   \n",
       "1  Just checking, If I have a problem like x to t...   \n",
       "\n",
       "                                            document  \\\n",
       "0  Simplify Expressions with Exponents: Remember ...   \n",
       "1  Simplify Expressions with Exponents: Remember ...   \n",
       "\n",
       "                                          generation    query_set guidance  \\\n",
       "0  No, you would not multiply the exponent in the...  math_nation     high   \n",
       "1  Great question! When you have an exponent outs...  math_nation     none   \n",
       "\n",
       "                                            messages corpus  \n",
       "0  [{'role': 'system', 'content': 'You are going ...   math  \n",
       "1  [{'role': 'system', 'content': 'You are going ...   math  "
      ]
     },
     "execution_count": 147,
     "metadata": {},
     "output_type": "execute_result"
    }
   ],
   "source": [
    "ds = []\n",
    "response_cols = [\"response1\", \"response2\", \"response3\"]\n",
    "for _, row in survey_df.iterrows():\n",
    "    d = row.to_dict()\n",
    "    for col in response_cols:\n",
    "        d = row.to_dict()\n",
    "        d[\"generation\"] = d[col]\n",
    "        for key, value in eval(d[col + \"_meta\"]).items():\n",
    "            d[key] = value\n",
    "        for col in response_cols:\n",
    "            del d[col]\n",
    "            del d[col + \"_meta\"]\n",
    "        del d[\"survey_id\"]  # no longer useful info\n",
    "        ds.append(d)\n",
    "\n",
    "print(f\"{len(ds)} rows exploded from survey_df with {len(survey_df)}\")\n",
    "question_df = pd.DataFrame(ds)\n",
    "question_df.head(2)"
   ]
  },
  {
   "cell_type": "code",
   "execution_count": 156,
   "id": "6e038bda-69d5-4af8-8c52-c893505976b9",
   "metadata": {},
   "outputs": [
    {
     "data": {
      "text/plain": [
       "['../data/raw/qualtrics/results/Rori+survey+2_4_September+19,+2023_21.27.tsv',\n",
       " '../data/raw/qualtrics/results/Rori+survey+1_4_September 19, 2023_17.37.tsv']"
      ]
     },
     "execution_count": 156,
     "metadata": {},
     "output_type": "execute_result"
    }
   ],
   "source": [
    "survey_files = glob(str(survey_results_dir) + \"/*.tsv\")\n",
    "survey_files"
   ]
  },
  {
   "cell_type": "code",
   "execution_count": 163,
   "id": "495135fe-443e-4df2-afc4-9896a02ede46",
   "metadata": {},
   "outputs": [
    {
     "name": "stdout",
     "output_type": "stream",
     "text": [
      "../data/raw/qualtrics/results/Rori+survey+2_4_September+19,+2023_21.27.tsv\n"
     ]
    },
    {
     "data": {
      "text/html": [
       "<div>\n",
       "<style scoped>\n",
       "    .dataframe tbody tr th:only-of-type {\n",
       "        vertical-align: middle;\n",
       "    }\n",
       "\n",
       "    .dataframe tbody tr th {\n",
       "        vertical-align: top;\n",
       "    }\n",
       "\n",
       "    .dataframe thead th {\n",
       "        text-align: right;\n",
       "    }\n",
       "</style>\n",
       "<table border=\"1\" class=\"dataframe\">\n",
       "  <thead>\n",
       "    <tr style=\"text-align: right;\">\n",
       "      <th></th>\n",
       "      <th>survey_id</th>\n",
       "      <th>StartDate</th>\n",
       "      <th>EndDate</th>\n",
       "      <th>Status</th>\n",
       "      <th>IPAddress</th>\n",
       "      <th>Progress</th>\n",
       "      <th>Duration (in seconds)</th>\n",
       "      <th>Finished</th>\n",
       "      <th>RecordedDate</th>\n",
       "      <th>ResponseId</th>\n",
       "      <th>...</th>\n",
       "      <th>Q31_2</th>\n",
       "      <th>Q31_3</th>\n",
       "      <th>Q32</th>\n",
       "      <th>Q27_1</th>\n",
       "      <th>Q27_2</th>\n",
       "      <th>Q27_3</th>\n",
       "      <th>Q28_1</th>\n",
       "      <th>Q28_2</th>\n",
       "      <th>Q28_3</th>\n",
       "      <th>Q29</th>\n",
       "    </tr>\n",
       "  </thead>\n",
       "  <tbody>\n",
       "    <tr>\n",
       "      <th>0</th>\n",
       "      <td>Rori+survey+2</td>\n",
       "      <td>Start Date</td>\n",
       "      <td>End Date</td>\n",
       "      <td>Response Type</td>\n",
       "      <td>IP Address</td>\n",
       "      <td>Progress</td>\n",
       "      <td>Duration (in seconds)</td>\n",
       "      <td>Finished</td>\n",
       "      <td>Recorded Date</td>\n",
       "      <td>Response ID</td>\n",
       "      <td>...</td>\n",
       "      <td>For each response, does the response or a para...</td>\n",
       "      <td>For each response, does the response or a para...</td>\n",
       "      <td>Notes/observations, if you want to flag someth...</td>\n",
       "      <td>Rank these three responses from best to worst ...</td>\n",
       "      <td>Rank these three responses from best to worst ...</td>\n",
       "      <td>Rank these three responses from best to worst ...</td>\n",
       "      <td>For each response, does the response or a para...</td>\n",
       "      <td>For each response, does the response or a para...</td>\n",
       "      <td>For each response, does the response or a para...</td>\n",
       "      <td>Notes/observations, if you want to flag someth...</td>\n",
       "    </tr>\n",
       "    <tr>\n",
       "      <th>1</th>\n",
       "      <td>Rori+survey+2</td>\n",
       "      <td>{\"ImportId\":\"startDate\",\"timeZone\":\"America/Ch...</td>\n",
       "      <td>{\"ImportId\":\"endDate\",\"timeZone\":\"America/Chic...</td>\n",
       "      <td>{\"ImportId\":\"status\"}</td>\n",
       "      <td>{\"ImportId\":\"ipAddress\"}</td>\n",
       "      <td>{\"ImportId\":\"progress\"}</td>\n",
       "      <td>{\"ImportId\":\"duration\"}</td>\n",
       "      <td>{\"ImportId\":\"finished\"}</td>\n",
       "      <td>{\"ImportId\":\"recordedDate\",\"timeZone\":\"America...</td>\n",
       "      <td>{\"ImportId\":\"_recordId\"}</td>\n",
       "      <td>...</td>\n",
       "      <td>{\"ImportId\":\"QID31_2\"}</td>\n",
       "      <td>{\"ImportId\":\"QID31_3\"}</td>\n",
       "      <td>{\"ImportId\":\"QID32_TEXT\"}</td>\n",
       "      <td>{\"ImportId\":\"QID27_1\"}</td>\n",
       "      <td>{\"ImportId\":\"QID27_2\"}</td>\n",
       "      <td>{\"ImportId\":\"QID27_3\"}</td>\n",
       "      <td>{\"ImportId\":\"QID28_1\"}</td>\n",
       "      <td>{\"ImportId\":\"QID28_2\"}</td>\n",
       "      <td>{\"ImportId\":\"QID28_3\"}</td>\n",
       "      <td>{\"ImportId\":\"QID29_TEXT\"}</td>\n",
       "    </tr>\n",
       "    <tr>\n",
       "      <th>2</th>\n",
       "      <td>Rori+survey+2</td>\n",
       "      <td>2023-09-19 20:01:08</td>\n",
       "      <td>2023-09-19 20:02:05</td>\n",
       "      <td>IP Address</td>\n",
       "      <td>71.212.28.226</td>\n",
       "      <td>100</td>\n",
       "      <td>57</td>\n",
       "      <td>True</td>\n",
       "      <td>2023-09-19 20:02:06</td>\n",
       "      <td>R_2wgd5tudicYYdaH</td>\n",
       "      <td>...</td>\n",
       "      <td>NaN</td>\n",
       "      <td>NaN</td>\n",
       "      <td>NaN</td>\n",
       "      <td>NaN</td>\n",
       "      <td>NaN</td>\n",
       "      <td>NaN</td>\n",
       "      <td>NaN</td>\n",
       "      <td>NaN</td>\n",
       "      <td>NaN</td>\n",
       "      <td>NaN</td>\n",
       "    </tr>\n",
       "  </tbody>\n",
       "</table>\n",
       "<p>3 rows × 124 columns</p>\n",
       "</div>"
      ],
      "text/plain": [
       "       survey_id                                          StartDate  \\\n",
       "0  Rori+survey+2                                         Start Date   \n",
       "1  Rori+survey+2  {\"ImportId\":\"startDate\",\"timeZone\":\"America/Ch...   \n",
       "2  Rori+survey+2                                2023-09-19 20:01:08   \n",
       "\n",
       "                                             EndDate                 Status  \\\n",
       "0                                           End Date          Response Type   \n",
       "1  {\"ImportId\":\"endDate\",\"timeZone\":\"America/Chic...  {\"ImportId\":\"status\"}   \n",
       "2                                2023-09-19 20:02:05             IP Address   \n",
       "\n",
       "                  IPAddress                 Progress    Duration (in seconds)  \\\n",
       "0                IP Address                 Progress    Duration (in seconds)   \n",
       "1  {\"ImportId\":\"ipAddress\"}  {\"ImportId\":\"progress\"}  {\"ImportId\":\"duration\"}   \n",
       "2             71.212.28.226                      100                       57   \n",
       "\n",
       "                  Finished                                       RecordedDate  \\\n",
       "0                 Finished                                      Recorded Date   \n",
       "1  {\"ImportId\":\"finished\"}  {\"ImportId\":\"recordedDate\",\"timeZone\":\"America...   \n",
       "2                     True                                2023-09-19 20:02:06   \n",
       "\n",
       "                 ResponseId  ...  \\\n",
       "0               Response ID  ...   \n",
       "1  {\"ImportId\":\"_recordId\"}  ...   \n",
       "2         R_2wgd5tudicYYdaH  ...   \n",
       "\n",
       "                                               Q31_2  \\\n",
       "0  For each response, does the response or a para...   \n",
       "1                             {\"ImportId\":\"QID31_2\"}   \n",
       "2                                                NaN   \n",
       "\n",
       "                                               Q31_3  \\\n",
       "0  For each response, does the response or a para...   \n",
       "1                             {\"ImportId\":\"QID31_3\"}   \n",
       "2                                                NaN   \n",
       "\n",
       "                                                 Q32  \\\n",
       "0  Notes/observations, if you want to flag someth...   \n",
       "1                          {\"ImportId\":\"QID32_TEXT\"}   \n",
       "2                                                NaN   \n",
       "\n",
       "                                               Q27_1  \\\n",
       "0  Rank these three responses from best to worst ...   \n",
       "1                             {\"ImportId\":\"QID27_1\"}   \n",
       "2                                                NaN   \n",
       "\n",
       "                                               Q27_2  \\\n",
       "0  Rank these three responses from best to worst ...   \n",
       "1                             {\"ImportId\":\"QID27_2\"}   \n",
       "2                                                NaN   \n",
       "\n",
       "                                               Q27_3  \\\n",
       "0  Rank these three responses from best to worst ...   \n",
       "1                             {\"ImportId\":\"QID27_3\"}   \n",
       "2                                                NaN   \n",
       "\n",
       "                                               Q28_1  \\\n",
       "0  For each response, does the response or a para...   \n",
       "1                             {\"ImportId\":\"QID28_1\"}   \n",
       "2                                                NaN   \n",
       "\n",
       "                                               Q28_2  \\\n",
       "0  For each response, does the response or a para...   \n",
       "1                             {\"ImportId\":\"QID28_2\"}   \n",
       "2                                                NaN   \n",
       "\n",
       "                                               Q28_3  \\\n",
       "0  For each response, does the response or a para...   \n",
       "1                             {\"ImportId\":\"QID28_3\"}   \n",
       "2                                                NaN   \n",
       "\n",
       "                                                 Q29  \n",
       "0  Notes/observations, if you want to flag someth...  \n",
       "1                          {\"ImportId\":\"QID29_TEXT\"}  \n",
       "2                                                NaN  \n",
       "\n",
       "[3 rows x 124 columns]"
      ]
     },
     "metadata": {},
     "output_type": "display_data"
    },
    {
     "name": "stdout",
     "output_type": "stream",
     "text": [
      "../data/raw/qualtrics/results/Rori+survey+1_4_September 19, 2023_17.37.tsv\n"
     ]
    },
    {
     "data": {
      "text/html": [
       "<div>\n",
       "<style scoped>\n",
       "    .dataframe tbody tr th:only-of-type {\n",
       "        vertical-align: middle;\n",
       "    }\n",
       "\n",
       "    .dataframe tbody tr th {\n",
       "        vertical-align: top;\n",
       "    }\n",
       "\n",
       "    .dataframe thead th {\n",
       "        text-align: right;\n",
       "    }\n",
       "</style>\n",
       "<table border=\"1\" class=\"dataframe\">\n",
       "  <thead>\n",
       "    <tr style=\"text-align: right;\">\n",
       "      <th></th>\n",
       "      <th>survey_id</th>\n",
       "      <th>StartDate</th>\n",
       "      <th>EndDate</th>\n",
       "      <th>Status</th>\n",
       "      <th>IPAddress</th>\n",
       "      <th>Progress</th>\n",
       "      <th>Duration (in seconds)</th>\n",
       "      <th>Finished</th>\n",
       "      <th>RecordedDate</th>\n",
       "      <th>ResponseId</th>\n",
       "      <th>...</th>\n",
       "      <th>Q31_2</th>\n",
       "      <th>Q31_3</th>\n",
       "      <th>Q32</th>\n",
       "      <th>Q27_1</th>\n",
       "      <th>Q27_2</th>\n",
       "      <th>Q27_3</th>\n",
       "      <th>Q28_1</th>\n",
       "      <th>Q28_2</th>\n",
       "      <th>Q28_3</th>\n",
       "      <th>Q29</th>\n",
       "    </tr>\n",
       "  </thead>\n",
       "  <tbody>\n",
       "    <tr>\n",
       "      <th>0</th>\n",
       "      <td>Rori+survey+1</td>\n",
       "      <td>Start Date</td>\n",
       "      <td>End Date</td>\n",
       "      <td>Response Type</td>\n",
       "      <td>IP Address</td>\n",
       "      <td>Progress</td>\n",
       "      <td>Duration (in seconds)</td>\n",
       "      <td>Finished</td>\n",
       "      <td>Recorded Date</td>\n",
       "      <td>Response ID</td>\n",
       "      <td>...</td>\n",
       "      <td>For each response, does the response or a para...</td>\n",
       "      <td>For each response, does the response or a para...</td>\n",
       "      <td>Notes/observations, if you want to flag someth...</td>\n",
       "      <td>Rank these three responses from best to worst ...</td>\n",
       "      <td>Rank these three responses from best to worst ...</td>\n",
       "      <td>Rank these three responses from best to worst ...</td>\n",
       "      <td>For each response, does the response or a para...</td>\n",
       "      <td>For each response, does the response or a para...</td>\n",
       "      <td>For each response, does the response or a para...</td>\n",
       "      <td>Notes/observations, if you want to flag someth...</td>\n",
       "    </tr>\n",
       "    <tr>\n",
       "      <th>1</th>\n",
       "      <td>Rori+survey+1</td>\n",
       "      <td>{\"ImportId\":\"startDate\",\"timeZone\":\"America/Ch...</td>\n",
       "      <td>{\"ImportId\":\"endDate\",\"timeZone\":\"America/Chic...</td>\n",
       "      <td>{\"ImportId\":\"status\"}</td>\n",
       "      <td>{\"ImportId\":\"ipAddress\"}</td>\n",
       "      <td>{\"ImportId\":\"progress\"}</td>\n",
       "      <td>{\"ImportId\":\"duration\"}</td>\n",
       "      <td>{\"ImportId\":\"finished\"}</td>\n",
       "      <td>{\"ImportId\":\"recordedDate\",\"timeZone\":\"America...</td>\n",
       "      <td>{\"ImportId\":\"_recordId\"}</td>\n",
       "      <td>...</td>\n",
       "      <td>{\"ImportId\":\"QID31_2\"}</td>\n",
       "      <td>{\"ImportId\":\"QID31_3\"}</td>\n",
       "      <td>{\"ImportId\":\"QID32_TEXT\"}</td>\n",
       "      <td>{\"ImportId\":\"QID27_1\"}</td>\n",
       "      <td>{\"ImportId\":\"QID27_2\"}</td>\n",
       "      <td>{\"ImportId\":\"QID27_3\"}</td>\n",
       "      <td>{\"ImportId\":\"QID28_1\"}</td>\n",
       "      <td>{\"ImportId\":\"QID28_2\"}</td>\n",
       "      <td>{\"ImportId\":\"QID28_3\"}</td>\n",
       "      <td>{\"ImportId\":\"QID29_TEXT\"}</td>\n",
       "    </tr>\n",
       "    <tr>\n",
       "      <th>2</th>\n",
       "      <td>Rori+survey+1</td>\n",
       "      <td>2023-09-17 23:57:57</td>\n",
       "      <td>2023-09-18 00:00:25</td>\n",
       "      <td>IP Address</td>\n",
       "      <td>71.212.28.226</td>\n",
       "      <td>100</td>\n",
       "      <td>147</td>\n",
       "      <td>True</td>\n",
       "      <td>2023-09-18 00:00:26</td>\n",
       "      <td>R_AyxnmfeoQzsvSCd</td>\n",
       "      <td>...</td>\n",
       "      <td>NaN</td>\n",
       "      <td>NaN</td>\n",
       "      <td>NaN</td>\n",
       "      <td>NaN</td>\n",
       "      <td>NaN</td>\n",
       "      <td>NaN</td>\n",
       "      <td>NaN</td>\n",
       "      <td>NaN</td>\n",
       "      <td>NaN</td>\n",
       "      <td>NaN</td>\n",
       "    </tr>\n",
       "  </tbody>\n",
       "</table>\n",
       "<p>3 rows × 124 columns</p>\n",
       "</div>"
      ],
      "text/plain": [
       "       survey_id                                          StartDate  \\\n",
       "0  Rori+survey+1                                         Start Date   \n",
       "1  Rori+survey+1  {\"ImportId\":\"startDate\",\"timeZone\":\"America/Ch...   \n",
       "2  Rori+survey+1                                2023-09-17 23:57:57   \n",
       "\n",
       "                                             EndDate                 Status  \\\n",
       "0                                           End Date          Response Type   \n",
       "1  {\"ImportId\":\"endDate\",\"timeZone\":\"America/Chic...  {\"ImportId\":\"status\"}   \n",
       "2                                2023-09-18 00:00:25             IP Address   \n",
       "\n",
       "                  IPAddress                 Progress    Duration (in seconds)  \\\n",
       "0                IP Address                 Progress    Duration (in seconds)   \n",
       "1  {\"ImportId\":\"ipAddress\"}  {\"ImportId\":\"progress\"}  {\"ImportId\":\"duration\"}   \n",
       "2             71.212.28.226                      100                      147   \n",
       "\n",
       "                  Finished                                       RecordedDate  \\\n",
       "0                 Finished                                      Recorded Date   \n",
       "1  {\"ImportId\":\"finished\"}  {\"ImportId\":\"recordedDate\",\"timeZone\":\"America...   \n",
       "2                     True                                2023-09-18 00:00:26   \n",
       "\n",
       "                 ResponseId  ...  \\\n",
       "0               Response ID  ...   \n",
       "1  {\"ImportId\":\"_recordId\"}  ...   \n",
       "2         R_AyxnmfeoQzsvSCd  ...   \n",
       "\n",
       "                                               Q31_2  \\\n",
       "0  For each response, does the response or a para...   \n",
       "1                             {\"ImportId\":\"QID31_2\"}   \n",
       "2                                                NaN   \n",
       "\n",
       "                                               Q31_3  \\\n",
       "0  For each response, does the response or a para...   \n",
       "1                             {\"ImportId\":\"QID31_3\"}   \n",
       "2                                                NaN   \n",
       "\n",
       "                                                 Q32  \\\n",
       "0  Notes/observations, if you want to flag someth...   \n",
       "1                          {\"ImportId\":\"QID32_TEXT\"}   \n",
       "2                                                NaN   \n",
       "\n",
       "                                               Q27_1  \\\n",
       "0  Rank these three responses from best to worst ...   \n",
       "1                             {\"ImportId\":\"QID27_1\"}   \n",
       "2                                                NaN   \n",
       "\n",
       "                                               Q27_2  \\\n",
       "0  Rank these three responses from best to worst ...   \n",
       "1                             {\"ImportId\":\"QID27_2\"}   \n",
       "2                                                NaN   \n",
       "\n",
       "                                               Q27_3  \\\n",
       "0  Rank these three responses from best to worst ...   \n",
       "1                             {\"ImportId\":\"QID27_3\"}   \n",
       "2                                                NaN   \n",
       "\n",
       "                                               Q28_1  \\\n",
       "0  For each response, does the response or a para...   \n",
       "1                             {\"ImportId\":\"QID28_1\"}   \n",
       "2                                                NaN   \n",
       "\n",
       "                                               Q28_2  \\\n",
       "0  For each response, does the response or a para...   \n",
       "1                             {\"ImportId\":\"QID28_2\"}   \n",
       "2                                                NaN   \n",
       "\n",
       "                                               Q28_3  \\\n",
       "0  For each response, does the response or a para...   \n",
       "1                             {\"ImportId\":\"QID28_3\"}   \n",
       "2                                                NaN   \n",
       "\n",
       "                                                 Q29  \n",
       "0  Notes/observations, if you want to flag someth...  \n",
       "1                          {\"ImportId\":\"QID29_TEXT\"}  \n",
       "2                                                NaN  \n",
       "\n",
       "[3 rows x 124 columns]"
      ]
     },
     "metadata": {},
     "output_type": "display_data"
    }
   ],
   "source": [
    "survey_dfs = []\n",
    "for survey_filepath in survey_files:\n",
    "    sdf = pd.read_csv(survey_filepath, sep=\"\\t\", encoding=\"utf-16\")\n",
    "    survey_id = os.path.basename(survey_filepath).split(\"_\")[0]\n",
    "    sdf.insert(0, \"survey_id\", survey_id)\n",
    "    survey_dfs.append(sdf)\n",
    "    print(survey_filepath)\n",
    "    display(sdf.head(3))"
   ]
  },
  {
   "cell_type": "code",
   "execution_count": 159,
   "id": "196ad74c-712b-46c2-b0b4-79caf02be020",
   "metadata": {},
   "outputs": [
    {
     "data": {
      "text/plain": [
       "array(['StartDate', 'EndDate', 'Status', 'IPAddress', 'Progress',\n",
       "       'Duration (in seconds)', 'Finished', 'RecordedDate', 'ResponseId',\n",
       "       'RecipientLastName', 'RecipientFirstName', 'RecipientEmail',\n",
       "       'ExternalReference', 'LocationLatitude', 'LocationLongitude',\n",
       "       'DistributionChannel', 'UserLanguage', 'annotator_name', 'Q2_1',\n",
       "       'Q2_2', 'Q2_3', 'Q3_1', 'Q3_2', 'Q3_3', 'Q4', 'Q66_1', 'Q66_2',\n",
       "       'Q66_3', 'Q67_1', 'Q67_2', 'Q67_3', 'Q68', 'Q63_1', 'Q63_2',\n",
       "       'Q63_3', 'Q64_1', 'Q64_2', 'Q64_3', 'Q65', 'Q60_1', 'Q60_2',\n",
       "       'Q60_3', 'Q61_1', 'Q61_2', 'Q61_3', 'Q62', 'Q57_1', 'Q57_2',\n",
       "       'Q57_3', 'Q58_1', 'Q58_2', 'Q58_3', 'Q59', 'Q54_1', 'Q54_2',\n",
       "       'Q54_3', 'Q55_1', 'Q55_2', 'Q55_3', 'Q56', 'Q51_1', 'Q51_2',\n",
       "       'Q51_3', 'Q52_1', 'Q52_2', 'Q52_3', 'Q53', 'Q48_1', 'Q48_2',\n",
       "       'Q48_3', 'Q49_1', 'Q49_2', 'Q49_3', 'Q50', 'Q45_1', 'Q45_2',\n",
       "       'Q45_3', 'Q46_1', 'Q46_2', 'Q46_3', 'Q47', 'Q42_1', 'Q42_2',\n",
       "       'Q42_3', 'Q43_1', 'Q43_2', 'Q43_3', 'Q44', 'Q39_1', 'Q39_2',\n",
       "       'Q39_3', 'Q40_1', 'Q40_2', 'Q40_3', 'Q41', 'Q36_1', 'Q36_2',\n",
       "       'Q36_3', 'Q37_1', 'Q37_2', 'Q37_3', 'Q38', 'Q33_1', 'Q33_2',\n",
       "       'Q33_3', 'Q34_1', 'Q34_2', 'Q34_3', 'Q35', 'Q30_1', 'Q30_2',\n",
       "       'Q30_3', 'Q31_1', 'Q31_2', 'Q31_3', 'Q32', 'Q27_1', 'Q27_2',\n",
       "       'Q27_3', 'Q28_1', 'Q28_2', 'Q28_3', 'Q29'], dtype=object)"
      ]
     },
     "execution_count": 159,
     "metadata": {},
     "output_type": "execute_result"
    }
   ],
   "source": [
    "np.array(sdf.columns).reshape(-1)"
   ]
  },
  {
   "cell_type": "code",
   "execution_count": 160,
   "id": "3dcd88ee-9e34-4ade-825b-9bf5837c59a1",
   "metadata": {},
   "outputs": [
    {
     "data": {
      "text/plain": [
       "0    Who are you? (Annotator name)\n",
       "1        {\"ImportId\":\"QID20_TEXT\"}\n",
       "2                             test\n",
       "3                       Chenglu Li\n",
       "4                           Millie\n",
       "Name: annotator_name, dtype: object"
      ]
     },
     "execution_count": 160,
     "metadata": {},
     "output_type": "execute_result"
    }
   ],
   "source": [
    "sdf.annotator_name"
   ]
  },
  {
   "cell_type": "code",
   "execution_count": 152,
   "id": "46b75af5-bf64-4793-9d55-5e1381766546",
   "metadata": {},
   "outputs": [
    {
     "data": {
      "text/plain": [
       "0    Rank these three responses from best to worst ...\n",
       "1                               {\"ImportId\":\"QID17_1\"}\n",
       "2                                                    1\n",
       "3                                                    2\n",
       "4                                                    3\n",
       "Name: Q2_1, dtype: object"
      ]
     },
     "execution_count": 152,
     "metadata": {},
     "output_type": "execute_result"
    }
   ],
   "source": [
    "sdf.Q2_1"
   ]
  },
  {
   "cell_type": "code",
   "execution_count": 153,
   "id": "ef5bfda8-715a-4ecd-8dac-376693da6385",
   "metadata": {},
   "outputs": [
    {
     "data": {
      "text/plain": [
       "\"Rank these three responses from best to worst response. Consider if the response answers the question and is factually correct.\\nStudent's question: Can someone give me a factoring  example I don't get it and I re watched the videos and I still don't get it. - <p>Factoring can sometimes be challenging, but let&#x27;s break it down step by step. To find the greatest common factor (GCF) of two or more expressions, you need to identify the largest expression that divides evenly into all the terms. </p><p></p><p>For example, let&#x27;s say we want to factor the GCF of the expressions 2x + 4 and 6x + 12. We can first look for any common factors in the terms. In this case, both expressions have a common factor of 2. We can then factor out this common factor, like this:</p><p></p><p>2x + 4 = 2(x + 2)</p><p>6x + 12 = 2(3x + 6)</p><p></p><p>By factoring out the common factor of 2, we simplify the expressions and write them as products.</p><p></p><p>In this example, the common factor was a constant (2). However, the GCF can also have variables raised to powers along with coefficients. The steps for finding the GCF are similar to those used for finding the least common multiple (LCM) of two or more expressions.</p><p></p><p>Remember to refer to the textbook for more detailed examples and explanations on how to factor expressions and find the GCF. If you have any specific questions or need further clarification, feel free to ask!</p>\""
      ]
     },
     "execution_count": 153,
     "metadata": {},
     "output_type": "execute_result"
    }
   ],
   "source": [
    "sdf.Q2_1.iloc[0]"
   ]
  },
  {
   "cell_type": "code",
   "execution_count": 154,
   "id": "56672369-c6a0-4049-9147-7f15f317cb04",
   "metadata": {},
   "outputs": [
    {
     "data": {
      "text/plain": [
       "'For each response, does the response or a paraphrase of the response appear anywhere in the following document?\\nNote: \"First response\" refers to the first response in the order they appear above, NOT the document you ranked as \"1\".\\n\\n\\n\\nThe document:Find the Greatest Common Factor of Two or More Expressions: Earlier we multiplied factors together to get a product. Now, we will be reversing this process; we will start with a product and then break it down into its factors. Splitting a product into factors is called factoring.  In The Language of Algebra we factored numbers to find the least common multiple (LCM) of two or more numbers. Now we will factor expressions and find the greatest common factor of two or more expressions. The method we use is similar to what we used to find the LCM.  First we will find the greatest common factor of two numbers.  In the previous example, we found the greatest common factor of constants. The greatest common factor of an algebraic expression can contain variables raised to powers along with coefficients. We summarize the steps we use to find the greatest common factor.  In the examples so far, the greatest common factor was a constant. In the next two examples we will get variables in the greatest common factor.\\nFactor the Greatest Common Factor from a Polynomial: Just like in arithmetic, where it is sometimes useful to represent a number in factored form (for example, 12 as 2·6or3·4), in algebra it can be useful to represent a polynomial in factored form. One way to do this is by finding the greatest common factor of all the terms. Remember that you can multiply a polynomial by a monomial as follows:  Here, we will start with a product, like 2x+14, and end with its factors, 2(x+7). To do this we apply the Distributive Property “in reverse”.  The form on the left is used to multiply. The form on the right is used to factor.  So how do we use the Distributive Property to factor a polynomial? We find the GCF of all the terms and write the polynomial as a product!  Notice that in Example 10.84, we used the word factor as both a noun and a verb:  The expressions in the next example have several factors in common. Remember to write the GCF as the product of all the common factors.  Now we’ll factor the greatest common factor from a trinomial. We start by finding the GCF of all three terms.  In the next example, we factor a variable from a binomial.  When there are several common factors, as we’ll see in the next two examples, good organization and neat work helps!  When the leading coefficient, the coefficient of the first term, is negative, we factor the negative out as part of the GCF.  Pay close attention to the signs of the terms in the next example.\\n  \\n\\nNone: The response, even paraphrased, does not appear anywhere in the document.\\n\\nPartial: Part of the response (or a paraphrase of the response) appears in the document.\\n\\nPerfect: The response (or a paraphrase of the response) appears in the document. - First response'"
      ]
     },
     "execution_count": 154,
     "metadata": {},
     "output_type": "execute_result"
    }
   ],
   "source": [
    "sdf.Q3_1.iloc[0]"
   ]
  },
  {
   "cell_type": "code",
   "execution_count": 164,
   "id": "c076b983-4e8b-4695-9a93-5fea0f62e448",
   "metadata": {},
   "outputs": [
    {
     "data": {
      "text/plain": [
       "'Test text & more'"
      ]
     },
     "execution_count": 164,
     "metadata": {},
     "output_type": "execute_result"
    }
   ],
   "source": [
    "class MLStripper(HTMLParser):\n",
    "    def __init__(self):\n",
    "        super().__init__()\n",
    "        self.reset()\n",
    "        self.strict = False\n",
    "        self.convert_charrefs = True\n",
    "        self.text = StringIO()\n",
    "\n",
    "    def handle_data(self, d):\n",
    "        self.text.write(d)\n",
    "\n",
    "    def get_data(self):\n",
    "        return self.text.getvalue()\n",
    "\n",
    "\n",
    "def strip_tags(html):\n",
    "    s = MLStripper()\n",
    "    s.feed(html)\n",
    "    return s.get_data()\n",
    "\n",
    "\n",
    "strip_tags(html.unescape(\"<p>Test text & more</p>\"))"
   ]
  },
  {
   "cell_type": "code",
   "execution_count": 175,
   "id": "979efdab-7edc-4ff2-b07e-4c5463e282e2",
   "metadata": {},
   "outputs": [
    {
     "data": {
      "text/plain": [
       "Index(['query', 'document', 'generation_index', 'generation', 'survey_id',\n",
       "       'ranking_q', 'faithfulness_q'],\n",
       "      dtype='object')"
      ]
     },
     "metadata": {},
     "output_type": "display_data"
    },
    {
     "data": {
      "text/plain": [
       "survey_id\n",
       "Rori+survey+2    45\n",
       "Rori+survey+1    45\n",
       "Name: count, dtype: int64"
      ]
     },
     "execution_count": 175,
     "metadata": {},
     "output_type": "execute_result"
    }
   ],
   "source": [
    "ds = []\n",
    "for sdf in survey_dfs:\n",
    "    questions = np.array([column for column in sdf.columns if column.startswith(\"Q\")]).reshape(-1, 7)\n",
    "    question_pairs = []\n",
    "    for row in questions:\n",
    "        assert \"_1\" in row[0]\n",
    "        assert \"_1\" in row[3]\n",
    "        assert \"_\" not in row[6]\n",
    "        ranking_q = row[0].split(\"_\")[0]\n",
    "        faithfulness_q = row[3].split(\"_\")[0]\n",
    "        question_pairs.append((ranking_q, faithfulness_q))\n",
    "    assert len(question_pairs) == 15\n",
    "\n",
    "    for ranking_q, faithfulness_q in question_pairs:\n",
    "        question_text = sdf[faithfulness_q + \"_1\"].iloc[0]\n",
    "        document = question_text.split(\"\\n\\nNone\")[0].split(\"\\n\\nThe document:\")[1]\n",
    "\n",
    "        student_question_set = set()\n",
    "        for i, option in enumerate([\"_1\", \"_2\", \"_3\"]):\n",
    "            question = ranking_q + option\n",
    "            question_text = strip_tags(html.unescape(sdf[question].iloc[0].replace(\"</p>\", \"</p>\\n\")))\n",
    "            tokens = question_text.split(\" - \")\n",
    "            assert len(tokens) >= 2\n",
    "            student_question_part = tokens[0]\n",
    "            response_part = \" - \".join(tokens[1:]).strip()\n",
    "            student_question = re.search(\n",
    "                \"Student's question: (.*)\", student_question_part, flags=re.DOTALL | re.MULTILINE\n",
    "            ).group(1)\n",
    "            student_question_set.add(student_question)\n",
    "            assert len(student_question_set) == 1\n",
    "            query = next(iter(student_question_set))\n",
    "            ds.append(\n",
    "                {\n",
    "                    \"query\": query,\n",
    "                    \"document\": document,\n",
    "                    \"generation_index\": i + 1,\n",
    "                    \"generation\": response_part,\n",
    "                    \"survey_id\": sdf.iloc[0].survey_id,\n",
    "                    \"ranking_q\": ranking_q,\n",
    "                    \"faithfulness_q\": faithfulness_q,\n",
    "                }\n",
    "            )\n",
    "survey_question_df = pd.DataFrame(ds)\n",
    "display(survey_question_df.columns)\n",
    "survey_question_df.survey_id.value_counts()"
   ]
  },
  {
   "cell_type": "code",
   "execution_count": 176,
   "id": "02d6bb48-c3b3-421d-95e9-373b0bc5d676",
   "metadata": {},
   "outputs": [],
   "source": [
    "assert survey_question_df.ranking_q.nunique() == 15"
   ]
  },
  {
   "cell_type": "code",
   "execution_count": 184,
   "id": "f82745f6-5644-4d48-ae65-9994730a9f3e",
   "metadata": {},
   "outputs": [
    {
     "name": "stderr",
     "output_type": "stream",
     "text": [
      "/Users/zacharylevonian/repos/annotation-tools/.venv/lib/python3.10/site-packages/skrub/_fuzzy_join.py:359: UserWarning: This feature is still experimental.\n",
      "  warnings.warn(\"This feature is still experimental.\")\n"
     ]
    },
    {
     "data": {
      "text/html": [
       "<div>\n",
       "<style scoped>\n",
       "    .dataframe tbody tr th:only-of-type {\n",
       "        vertical-align: middle;\n",
       "    }\n",
       "\n",
       "    .dataframe tbody tr th {\n",
       "        vertical-align: top;\n",
       "    }\n",
       "\n",
       "    .dataframe thead th {\n",
       "        text-align: right;\n",
       "    }\n",
       "</style>\n",
       "<table border=\"1\" class=\"dataframe\">\n",
       "  <thead>\n",
       "    <tr style=\"text-align: right;\">\n",
       "      <th></th>\n",
       "      <th>query</th>\n",
       "      <th>document</th>\n",
       "      <th>generation</th>\n",
       "      <th>query_set</th>\n",
       "      <th>guidance</th>\n",
       "      <th>messages</th>\n",
       "      <th>corpus</th>\n",
       "      <th>query_survey</th>\n",
       "      <th>document_survey</th>\n",
       "      <th>generation_index</th>\n",
       "      <th>generation_survey</th>\n",
       "      <th>survey_id</th>\n",
       "      <th>ranking_q</th>\n",
       "      <th>faithfulness_q</th>\n",
       "      <th>matching_score</th>\n",
       "    </tr>\n",
       "  </thead>\n",
       "  <tbody>\n",
       "    <tr>\n",
       "      <th>149</th>\n",
       "      <td>How do you find the radius?</td>\n",
       "      <td>Convert Fractions to Decimals: In Decimals, we...</td>\n",
       "      <td>To find the radius of a circle, you need to kn...</td>\n",
       "      <td>math_nation</td>\n",
       "      <td>low</td>\n",
       "      <td>[{'role': 'system', 'content': 'You are going ...</td>\n",
       "      <td>math</td>\n",
       "      <td>What is a function notation?</td>\n",
       "      <td>Use Addition Notation: A college student has a...</td>\n",
       "      <td>2</td>\n",
       "      <td>Function notation is a way to represent the re...</td>\n",
       "      <td>Rori+survey+2</td>\n",
       "      <td>Q54</td>\n",
       "      <td>Q55</td>\n",
       "      <td>0.500000</td>\n",
       "    </tr>\n",
       "    <tr>\n",
       "      <th>147</th>\n",
       "      <td>How do you find the radius?</td>\n",
       "      <td>Convert Fractions to Decimals: In Decimals, we...</td>\n",
       "      <td>To find the radius of a circle, you can use th...</td>\n",
       "      <td>math_nation</td>\n",
       "      <td>high</td>\n",
       "      <td>[{'role': 'system', 'content': 'You are going ...</td>\n",
       "      <td>math</td>\n",
       "      <td>What is a function notation?</td>\n",
       "      <td>Use Addition Notation: A college student has a...</td>\n",
       "      <td>1</td>\n",
       "      <td>Function notation is a way to represent mathem...</td>\n",
       "      <td>Rori+survey+2</td>\n",
       "      <td>Q54</td>\n",
       "      <td>Q55</td>\n",
       "      <td>0.505618</td>\n",
       "    </tr>\n",
       "    <tr>\n",
       "      <th>148</th>\n",
       "      <td>How do you find the radius?</td>\n",
       "      <td>Convert Fractions to Decimals: In Decimals, we...</td>\n",
       "      <td>To find the radius of a circle, you can use th...</td>\n",
       "      <td>math_nation</td>\n",
       "      <td>none</td>\n",
       "      <td>[{'role': 'system', 'content': 'You are going ...</td>\n",
       "      <td>math</td>\n",
       "      <td>What is a function notation?</td>\n",
       "      <td>Use Addition Notation: A college student has a...</td>\n",
       "      <td>2</td>\n",
       "      <td>Function notation is a way to represent the re...</td>\n",
       "      <td>Rori+survey+2</td>\n",
       "      <td>Q54</td>\n",
       "      <td>Q55</td>\n",
       "      <td>0.508313</td>\n",
       "    </tr>\n",
       "    <tr>\n",
       "      <th>15</th>\n",
       "      <td>after you distribute a negative does it disapp...</td>\n",
       "      <td>Model Subtraction of Integers: Remember the st...</td>\n",
       "      <td>When you distribute a negative, it does not di...</td>\n",
       "      <td>math_nation</td>\n",
       "      <td>high</td>\n",
       "      <td>[{'role': 'system', 'content': 'You are going ...</td>\n",
       "      <td>math</td>\n",
       "      <td>what is the difference between communtative pr...</td>\n",
       "      <td>Use the Commutative and Associative Properties...</td>\n",
       "      <td>2</td>\n",
       "      <td>The commutative property of addition states th...</td>\n",
       "      <td>Rori+survey+1</td>\n",
       "      <td>Q48</td>\n",
       "      <td>Q49</td>\n",
       "      <td>0.544742</td>\n",
       "    </tr>\n",
       "    <tr>\n",
       "      <th>16</th>\n",
       "      <td>after you distribute a negative does it disapp...</td>\n",
       "      <td>Model Subtraction of Integers: Remember the st...</td>\n",
       "      <td>When you distribute a negative sign to terms i...</td>\n",
       "      <td>math_nation</td>\n",
       "      <td>low</td>\n",
       "      <td>[{'role': 'system', 'content': 'You are going ...</td>\n",
       "      <td>math</td>\n",
       "      <td>what is the difference between communtative pr...</td>\n",
       "      <td>Use the Commutative and Associative Properties...</td>\n",
       "      <td>2</td>\n",
       "      <td>The commutative property of addition states th...</td>\n",
       "      <td>Rori+survey+1</td>\n",
       "      <td>Q48</td>\n",
       "      <td>Q49</td>\n",
       "      <td>0.548220</td>\n",
       "    </tr>\n",
       "  </tbody>\n",
       "</table>\n",
       "</div>"
      ],
      "text/plain": [
       "                                                 query  \\\n",
       "149                        How do you find the radius?   \n",
       "147                        How do you find the radius?   \n",
       "148                        How do you find the radius?   \n",
       "15   after you distribute a negative does it disapp...   \n",
       "16   after you distribute a negative does it disapp...   \n",
       "\n",
       "                                              document  \\\n",
       "149  Convert Fractions to Decimals: In Decimals, we...   \n",
       "147  Convert Fractions to Decimals: In Decimals, we...   \n",
       "148  Convert Fractions to Decimals: In Decimals, we...   \n",
       "15   Model Subtraction of Integers: Remember the st...   \n",
       "16   Model Subtraction of Integers: Remember the st...   \n",
       "\n",
       "                                            generation    query_set guidance  \\\n",
       "149  To find the radius of a circle, you need to kn...  math_nation      low   \n",
       "147  To find the radius of a circle, you can use th...  math_nation     high   \n",
       "148  To find the radius of a circle, you can use th...  math_nation     none   \n",
       "15   When you distribute a negative, it does not di...  math_nation     high   \n",
       "16   When you distribute a negative sign to terms i...  math_nation      low   \n",
       "\n",
       "                                              messages corpus  \\\n",
       "149  [{'role': 'system', 'content': 'You are going ...   math   \n",
       "147  [{'role': 'system', 'content': 'You are going ...   math   \n",
       "148  [{'role': 'system', 'content': 'You are going ...   math   \n",
       "15   [{'role': 'system', 'content': 'You are going ...   math   \n",
       "16   [{'role': 'system', 'content': 'You are going ...   math   \n",
       "\n",
       "                                          query_survey  \\\n",
       "149                       What is a function notation?   \n",
       "147                       What is a function notation?   \n",
       "148                       What is a function notation?   \n",
       "15   what is the difference between communtative pr...   \n",
       "16   what is the difference between communtative pr...   \n",
       "\n",
       "                                       document_survey  generation_index  \\\n",
       "149  Use Addition Notation: A college student has a...                 2   \n",
       "147  Use Addition Notation: A college student has a...                 1   \n",
       "148  Use Addition Notation: A college student has a...                 2   \n",
       "15   Use the Commutative and Associative Properties...                 2   \n",
       "16   Use the Commutative and Associative Properties...                 2   \n",
       "\n",
       "                                     generation_survey      survey_id  \\\n",
       "149  Function notation is a way to represent the re...  Rori+survey+2   \n",
       "147  Function notation is a way to represent mathem...  Rori+survey+2   \n",
       "148  Function notation is a way to represent the re...  Rori+survey+2   \n",
       "15   The commutative property of addition states th...  Rori+survey+1   \n",
       "16   The commutative property of addition states th...  Rori+survey+1   \n",
       "\n",
       "    ranking_q faithfulness_q  matching_score  \n",
       "149       Q54            Q55        0.500000  \n",
       "147       Q54            Q55        0.505618  \n",
       "148       Q54            Q55        0.508313  \n",
       "15        Q48            Q49        0.544742  \n",
       "16        Q48            Q49        0.548220  "
      ]
     },
     "execution_count": 184,
     "metadata": {},
     "output_type": "execute_result"
    }
   ],
   "source": [
    "# do a fuzzy join\n",
    "join_cols = [\"query\", \"document\", \"generation\"]\n",
    "joined_df = skrub.fuzzy_join(\n",
    "    question_df,\n",
    "    survey_question_df,\n",
    "    on=join_cols,\n",
    "    return_score=True,\n",
    "    suffixes=(\"\", \"_survey\"),\n",
    ")\n",
    "joined_df.sort_values(by=\"matching_score\", ascending=True).head(5)"
   ]
  },
  {
   "cell_type": "code",
   "execution_count": 179,
   "id": "ccfc89c8-353a-4e7c-aad3-ef51b210e409",
   "metadata": {},
   "outputs": [
    {
     "data": {
      "image/png": "[encoded data removed]",
      "text/plain": [
       "<Figure size 400x200 with 1 Axes>"
      ]
     },
     "metadata": {},
     "output_type": "display_data"
    }
   ],
   "source": [
    "# sanity-check the join scores: they should be very high!\n",
    "fig, ax = plt.subplots(1, 1, figsize=(4, 2))\n",
    "\n",
    "ax.hist(joined_df.matching_score, bins=50)\n",
    "\n",
    "plt.show()"
   ]
  },
  {
   "cell_type": "code",
   "execution_count": 182,
   "id": "c37bcec1-b3ba-4811-982e-935aa06e6376",
   "metadata": {},
   "outputs": [],
   "source": [
    "expected_minimum_matching_score = 0.5\n",
    "assert (joined_df.matching_score >= expected_minimum_matching_score).all()"
   ]
  },
  {
   "cell_type": "code",
   "execution_count": 183,
   "id": "5f82ca6e-6cfd-4057-bd8a-69ac6ab6b339",
   "metadata": {},
   "outputs": [
    {
     "data": {
      "text/plain": [
       "Index(['query', 'document', 'generation', 'query_set', 'guidance', 'messages',\n",
       "       'corpus', 'query_survey', 'document_survey', 'generation_index',\n",
       "       'generation_survey', 'survey_id', 'ranking_q', 'faithfulness_q',\n",
       "       'matching_score'],\n",
       "      dtype='object')"
      ]
     },
     "execution_count": 183,
     "metadata": {},
     "output_type": "execute_result"
    }
   ],
   "source": [
    "joined_df.columns"
   ]
  },
  {
   "cell_type": "code",
   "execution_count": null,
   "id": "06b042d1-69d0-4e6d-9d09-fe7a2dc39879",
   "metadata": {},
   "outputs": [],
   "source": []
  },
  {
   "cell_type": "code",
   "execution_count": null,
   "id": "061c8908-2a94-44d7-899d-ae85cb98b683",
   "metadata": {},
   "outputs": [],
   "source": []
  },
  {
   "cell_type": "code",
   "execution_count": null,
   "id": "0079098b-46ce-4434-900e-4128bef2ef67",
   "metadata": {},
   "outputs": [],
   "source": []
  },
  {
   "cell_type": "code",
   "execution_count": null,
   "id": "f141b0f5-2233-4c6f-8791-263bc00e1f85",
   "metadata": {},
   "outputs": [],
   "source": []
  },
  {
   "cell_type": "code",
   "execution_count": null,
   "id": "ffde4733-1899-417e-b98f-f541cdd8f31d",
   "metadata": {},
   "outputs": [],
   "source": []
  }
 ],
 "metadata": {
  "kernelspec": {
   "display_name": "Python 3 (ipykernel)",
   "language": "python",
   "name": "python3"
  },
  "language_info": {
   "codemirror_mode": {
    "name": "ipython",
    "version": 3
   },
   "file_extension": ".py",
   "mimetype": "text/x-python",
   "name": "python",
   "nbconvert_exporter": "python",
   "pygments_lexer": "ipython3",
   "version": "3.10.11"
  }
 },
 "nbformat": 4,
 "nbformat_minor": 5
}
