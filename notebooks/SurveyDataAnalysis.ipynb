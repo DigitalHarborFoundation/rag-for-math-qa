{
 "cells": [
  {
   "cell_type": "markdown",
   "id": "08297797-5500-4fcf-b61b-4bd90f4467b5",
   "metadata": {},
   "source": [
    "Survey Data Analysis\n",
    "==="
   ]
  },
  {
   "cell_type": "code",
   "execution_count": 1,
   "id": "16107d69-4887-441c-97f2-709ac349c288",
   "metadata": {},
   "outputs": [],
   "source": [
    "import html\n",
    "import itertools\n",
    "import logging\n",
    "import os\n",
    "import re\n",
    "import string\n",
    "import sys\n",
    "from collections import Counter\n",
    "from glob import glob\n",
    "from html.parser import HTMLParser\n",
    "from io import StringIO\n",
    "from pathlib import Path\n",
    "\n",
    "import dotenv\n",
    "import krippendorff\n",
    "import matplotlib\n",
    "import matplotlib.pyplot as plt\n",
    "import numpy as np\n",
    "import openai\n",
    "import pandas as pd\n",
    "import scipy\n",
    "import skrub\n",
    "import statsmodels.api as sm\n",
    "import statsmodels.graphics.regressionplots\n",
    "from tqdm import tqdm\n",
    "\n",
    "import experiment.completion_utils\n",
    "import experiment.generate\n",
    "import experiment.guidance_conditions\n",
    "import experiment.metrics\n",
    "import experiment.qualtrics\n",
    "from rag import prompt_utils, retrieval, retrieval_strategies"
   ]
  },
  {
   "cell_type": "code",
   "execution_count": 2,
   "id": "ce11f47a-09f3-467d-b22a-530065773adb",
   "metadata": {},
   "outputs": [],
   "source": [
    "# http://phyletica.org/matplotlib-fonts/\n",
    "# matplotlib.rcParams['text.usetex'] = True\n",
    "matplotlib.rcParams[\"pdf.fonttype\"] = 42\n",
    "matplotlib.rcParams[\"ps.fonttype\"] = 42"
   ]
  },
  {
   "cell_type": "code",
   "execution_count": 3,
   "id": "4a37bd6a-2b40-4924-9e99-4ac087e2524a",
   "metadata": {},
   "outputs": [],
   "source": [
    "# width of the template column in inches (points / 72)\n",
    "COLUMN_WIDTH_IN = 5.52062486111\n",
    "DPI = 150"
   ]
  },
  {
   "cell_type": "code",
   "execution_count": 4,
   "id": "9a84174f-594b-4e2f-af08-7e655fc0108a",
   "metadata": {},
   "outputs": [],
   "source": [
    "data_dir = Path(\"../data\")\n",
    "assert data_dir.exists()\n",
    "figures_dir = Path(\"../figures\")\n",
    "figures_dir.mkdir(exist_ok=True)\n",
    "assert figures_dir.exists()"
   ]
  },
  {
   "cell_type": "code",
   "execution_count": 5,
   "id": "2c42a6b7-5623-4ebb-af55-9b1ae693fa8c",
   "metadata": {},
   "outputs": [
    {
     "data": {
      "text/plain": [
       "'sk-'"
      ]
     },
     "execution_count": 5,
     "metadata": {},
     "output_type": "execute_result"
    }
   ],
   "source": [
    "dotenv.load_dotenv(\"../.env\")\n",
    "openai.api_key = os.environ[\"OPENAI_API_KEY\"]\n",
    "os.environ[\"OPENAI_API_KEY\"][:3]"
   ]
  },
  {
   "cell_type": "code",
   "execution_count": 6,
   "id": "1daca0fc-27b2-477e-a0ea-66fecbaab01d",
   "metadata": {},
   "outputs": [
    {
     "name": "stderr",
     "output_type": "stream",
     "text": [
      "2023-12-08 17:55:51,818 - SurveyDataAnalysis - INFO - Logging configured.\n"
     ]
    }
   ],
   "source": [
    "logging.basicConfig(format=\"%(asctime)s - %(name)s - %(levelname)s - %(message)s\", level=logging.INFO)\n",
    "logging.getLogger(\"fontTools.subset\").setLevel(\n",
    "    logging.WARNING\n",
    ")  # turns off logging that activates during matplotlib.savefig()\n",
    "logger = logging.getLogger(\"SurveyDataAnalysis\")\n",
    "logger.info(\"Logging configured.\")"
   ]
  },
  {
   "cell_type": "code",
   "execution_count": null,
   "id": "e20bd3a4-6899-4a89-bae1-10736d6f0727",
   "metadata": {},
   "outputs": [],
   "source": []
  },
  {
   "cell_type": "markdown",
   "id": "ccf2dff1-07ef-4a23-b602-1e1ba47c8569",
   "metadata": {},
   "source": [
    "#### Constants and conditions"
   ]
  },
  {
   "cell_type": "code",
   "execution_count": 7,
   "id": "4bfff662-eeb7-412e-a84d-1ddab9081ab9",
   "metadata": {},
   "outputs": [],
   "source": [
    "guidance_conditions = [\n",
    "    \"low\",\n",
    "    \"high\",\n",
    "    #    \"logit_bias\",\n",
    "]\n",
    "corpus_conditions = [\n",
    "    \"math\",\n",
    "    \"recipes\",\n",
    "    \"none\",\n",
    "]\n",
    "\n",
    "n_queries = 50\n",
    "n_annotators = 3\n",
    "\n",
    "relevance_answers = [\n",
    "    \"wrong\",\n",
    "    \"topic\",\n",
    "    \"partial\",\n",
    "    \"perfect\",\n",
    "]\n",
    "faithfulness_answers = [\n",
    "    \"none\",\n",
    "    \"partial\",\n",
    "    \"perfect\",\n",
    "]"
   ]
  },
  {
   "cell_type": "code",
   "execution_count": 8,
   "id": "aef433da-c4f9-4e1a-9db9-8e82e4867e50",
   "metadata": {},
   "outputs": [],
   "source": [
    "rng = np.random.default_rng(seed=7567313564)"
   ]
  },
  {
   "cell_type": "code",
   "execution_count": 9,
   "id": "d9ab83c4-89c4-42f6-90a0-fa13db436d95",
   "metadata": {},
   "outputs": [],
   "source": [
    "annotators = [{\"annotator\": i} for i in range(n_annotators)]\n",
    "queries = [{\"query\": f\"sample query {i}\"} for i in range(n_queries)]\n",
    "math_corpus = {\"corpus\": \"math\"}\n",
    "recipes_corpus = {\"corpus\": \"recipes\"}\n",
    "no_corpus = {\"corpus\": \"none\"}"
   ]
  },
  {
   "cell_type": "code",
   "execution_count": null,
   "id": "9cc2c55f-aaf5-4307-a287-202606fab6e8",
   "metadata": {},
   "outputs": [],
   "source": []
  },
  {
   "cell_type": "markdown",
   "id": "61661d08-18e3-484d-955c-ad5dc172a711",
   "metadata": {},
   "source": [
    "## Mock data creation\n",
    "\n",
    "Guidance:\n",
    " 1. Low guidance\n",
    " 2. High guidance\n",
    " 3. logit_bias guidance\n",
    "\n",
    "Corpus:\n",
    " 1. Math textbook\n",
    " 2. Recipes\n",
    " 3. None\n",
    "\n",
    "Queries (~50 of these, could get more)\n",
    "\n",
    "Number of annotators...\n",
    "\n",
    "For each Query X Corpus X Prompt:\n",
    " - For corpus == Math textbook, get one relevance judgment: Wrong, Topic, Partial, Perfect\n",
    " - Faithfulness judgment: Perfect, Partial, None\n",
    " - Quality: Excellent, Partial, Wrong?\n",
    " - OR this quality metric: pairwise comparison, with \"both low quality\", \"both high quality\"\n",
    "\n",
    "Note: by definition, can't have different guidance conditions with no corpus. (Nothing to guide the answer to! Guidance only defined when using RAG)\n",
    "\n",
    "We do pairwise comparions only for these guidance/corpus crosses:\n",
    " - Low/Math x High/Math (do human perceptions of faithfulness increase with high guidance prompts?) [Manipulation check]\n",
    "   - Faithfulness: \n",
    " - Low/Recipes x High/Recipes (is this necessary? this would be more manipulation checks...)\n",
    " - */None x */Recipes (no retrieval VS bad retrieval)\n",
    "   - None x Low/Recipes x High/Recipes (is there a difference between these conditions in terms of correctness?)\n",
    "     - I don't know how to do this from pairwise comparisons, statistically speaking...\n",
    "   - None x */Recipes (does correctness drop when bad RAG is used?\n",
    "   - None x Low/Recipes (does correctness drop LESS when low-guidance RAG is used?)\n",
    "   - None x High/Recipes (does correctness drop MORE when high-guidance RAG is used?)\n",
    " - */None x */Math (no retrieval VS good retrieval)\n",
    " - High/Math x High/Math (stratified by retrieval relevance?)"
   ]
  },
  {
   "cell_type": "code",
   "execution_count": 7,
   "id": "9d3ba2cb-594c-4c7f-a1fa-363b39882d6d",
   "metadata": {},
   "outputs": [
    {
     "data": {
      "text/html": [
       "<div>\n",
       "<style scoped>\n",
       "    .dataframe tbody tr th:only-of-type {\n",
       "        vertical-align: middle;\n",
       "    }\n",
       "\n",
       "    .dataframe tbody tr th {\n",
       "        vertical-align: top;\n",
       "    }\n",
       "\n",
       "    .dataframe thead th {\n",
       "        text-align: right;\n",
       "    }\n",
       "</style>\n",
       "<table border=\"1\" class=\"dataframe\">\n",
       "  <thead>\n",
       "    <tr style=\"text-align: right;\">\n",
       "      <th></th>\n",
       "      <th>document</th>\n",
       "      <th>relevance</th>\n",
       "      <th>corpus</th>\n",
       "      <th>annotator</th>\n",
       "      <th>query</th>\n",
       "    </tr>\n",
       "  </thead>\n",
       "  <tbody>\n",
       "    <tr>\n",
       "      <th>142</th>\n",
       "      <td>Retrieved document text</td>\n",
       "      <td>topic</td>\n",
       "      <td>math</td>\n",
       "      <td>1</td>\n",
       "      <td>sample query 47</td>\n",
       "    </tr>\n",
       "  </tbody>\n",
       "</table>\n",
       "</div>"
      ],
      "text/plain": [
       "                    document relevance corpus  annotator            query\n",
       "142  Retrieved document text     topic   math          1  sample query 47"
      ]
     },
     "execution_count": 7,
     "metadata": {},
     "output_type": "execute_result"
    }
   ],
   "source": [
    "# stage 1:\n",
    "# generate relevance judgments\n",
    "# for corpus_condition == \"math\"\n",
    "ds = []\n",
    "for query in queries:\n",
    "    for annotator in annotators:\n",
    "        relevance = rng.choice(relevance_answers, p=(0.1, 0.4, 0.3, 0.2))\n",
    "        ds.append({\"document\": \"Retrieved document text\", \"relevance\": relevance, **math_corpus, **annotator, **query})\n",
    "relevance_df = pd.DataFrame(ds)\n",
    "relevance_df.sample(1)"
   ]
  },
  {
   "cell_type": "code",
   "execution_count": 8,
   "id": "805acdf7-7020-4e5e-93d6-2a104891078b",
   "metadata": {},
   "outputs": [
    {
     "data": {
      "text/plain": [
       "relevance\n",
       "topic      53\n",
       "partial    49\n",
       "perfect    37\n",
       "wrong      11\n",
       "Name: count, dtype: int64"
      ]
     },
     "execution_count": 8,
     "metadata": {},
     "output_type": "execute_result"
    }
   ],
   "source": [
    "relevance_df.relevance.value_counts()"
   ]
  },
  {
   "cell_type": "code",
   "execution_count": 9,
   "id": "4ea4aa56-2d83-41a1-8f0e-210f755ad356",
   "metadata": {},
   "outputs": [
    {
     "data": {
      "text/html": [
       "<div>\n",
       "<style scoped>\n",
       "    .dataframe tbody tr th:only-of-type {\n",
       "        vertical-align: middle;\n",
       "    }\n",
       "\n",
       "    .dataframe tbody tr th {\n",
       "        vertical-align: top;\n",
       "    }\n",
       "\n",
       "    .dataframe thead th {\n",
       "        text-align: right;\n",
       "    }\n",
       "</style>\n",
       "<table border=\"1\" class=\"dataframe\">\n",
       "  <thead>\n",
       "    <tr style=\"text-align: right;\">\n",
       "      <th></th>\n",
       "      <th>document</th>\n",
       "      <th>corpus</th>\n",
       "      <th>query</th>\n",
       "      <th>mean_relevance</th>\n",
       "    </tr>\n",
       "  </thead>\n",
       "  <tbody>\n",
       "    <tr>\n",
       "      <th>29</th>\n",
       "      <td>Retrieved document text</td>\n",
       "      <td>math</td>\n",
       "      <td>sample query 29</td>\n",
       "      <td>2.666667</td>\n",
       "    </tr>\n",
       "  </tbody>\n",
       "</table>\n",
       "</div>"
      ],
      "text/plain": [
       "                   document corpus            query  mean_relevance\n",
       "29  Retrieved document text   math  sample query 29        2.666667"
      ]
     },
     "execution_count": 9,
     "metadata": {},
     "output_type": "execute_result"
    }
   ],
   "source": [
    "relevance_df[\"relevance_level\"] = relevance_df.relevance.map(lambda r: relevance_answers.index(r))\n",
    "mean_relevance = relevance_df.groupby(\"query\").relevance_level.mean().rename(\"mean_relevance\")\n",
    "relevance_df = (\n",
    "    relevance_df.drop_duplicates(subset=\"query\")\n",
    "    .drop(columns=[\"annotator\", \"relevance\", \"relevance_level\"])\n",
    "    .join(mean_relevance, on=\"query\")\n",
    "    .reset_index(drop=True)\n",
    ")\n",
    "relevance_df.sample(n=1)"
   ]
  },
  {
   "cell_type": "code",
   "execution_count": 10,
   "id": "df048706-f10e-48db-8499-7b8e024670be",
   "metadata": {},
   "outputs": [
    {
     "data": {
      "image/png": "[encoded data removed]",
      "text/plain": [
       "<Figure size 500x300 with 1 Axes>"
      ]
     },
     "metadata": {},
     "output_type": "display_data"
    }
   ],
   "source": [
    "fig, ax = plt.subplots(1, 1, figsize=(5, 3))\n",
    "\n",
    "bin_width = 0.25\n",
    "bins = np.arange(0, len(relevance_answers) + bin_width, bin_width)\n",
    "ax.hist(relevance_df.mean_relevance, bins=bins, align=\"left\")\n",
    "ax.set_xticks(\n",
    "    list(range(len(relevance_answers))), labels=[f\"{answer} ({i})\" for i, answer in enumerate(relevance_answers)]\n",
    ")\n",
    "\n",
    "ax.set_xlabel(\"Mean relevance\")\n",
    "ax.set_ylabel(\"Query count\")\n",
    "ax.set_title(\"Distribution of human relevance scores\\non retrieved OpenStax documents\")\n",
    "\n",
    "fig.tight_layout()\n",
    "plt.show()"
   ]
  },
  {
   "cell_type": "code",
   "execution_count": 11,
   "id": "26f50378-437b-4f61-a874-cde3b0890652",
   "metadata": {},
   "outputs": [
    {
     "name": "stdout",
     "output_type": "stream",
     "text": [
      "600\n"
     ]
    },
    {
     "data": {
      "text/html": [
       "<div>\n",
       "<style scoped>\n",
       "    .dataframe tbody tr th:only-of-type {\n",
       "        vertical-align: middle;\n",
       "    }\n",
       "\n",
       "    .dataframe tbody tr th {\n",
       "        vertical-align: top;\n",
       "    }\n",
       "\n",
       "    .dataframe thead th {\n",
       "        text-align: right;\n",
       "    }\n",
       "</style>\n",
       "<table border=\"1\" class=\"dataframe\">\n",
       "  <thead>\n",
       "    <tr style=\"text-align: right;\">\n",
       "      <th></th>\n",
       "      <th>generation</th>\n",
       "      <th>document</th>\n",
       "      <th>guidance</th>\n",
       "      <th>faithfulness</th>\n",
       "      <th>corpus</th>\n",
       "      <th>annotator</th>\n",
       "      <th>query</th>\n",
       "    </tr>\n",
       "  </thead>\n",
       "  <tbody>\n",
       "    <tr>\n",
       "      <th>570</th>\n",
       "      <td>Generated text n a l m m p q a r y</td>\n",
       "      <td>Retrieved document text\\ni v o q h z h b m o\\n...</td>\n",
       "      <td>low</td>\n",
       "      <td></td>\n",
       "      <td>recipes</td>\n",
       "      <td>0</td>\n",
       "      <td>sample query 47</td>\n",
       "    </tr>\n",
       "  </tbody>\n",
       "</table>\n",
       "</div>"
      ],
      "text/plain": [
       "                             generation  \\\n",
       "570  Generated text n a l m m p q a r y   \n",
       "\n",
       "                                              document guidance faithfulness  \\\n",
       "570  Retrieved document text\\ni v o q h z h b m o\\n...      low                \n",
       "\n",
       "      corpus  annotator            query  \n",
       "570  recipes          0  sample query 47  "
      ]
     },
     "execution_count": 11,
     "metadata": {},
     "output_type": "execute_result"
    }
   ],
   "source": [
    "# create the unannotated faithfulness df\n",
    "\n",
    "\n",
    "def get_random_text(size: int = 10):\n",
    "    choices = list(string.ascii_lowercase)\n",
    "    return \" \".join(np.random.choice(choices, size=size))\n",
    "\n",
    "\n",
    "ds = []\n",
    "for query in queries:\n",
    "    for corpus in [math_corpus, recipes_corpus]:\n",
    "        for guidance in guidance_conditions:\n",
    "            document = \"Retrieved document text\\n\" + \"\\n\".join([get_random_text() for passage in range(4)])\n",
    "            generation = (\n",
    "                \"Generated text \" + get_random_text()\n",
    "            )  # TODO do rag here, retrieved a document and generating a response\n",
    "\n",
    "            for annotator in annotators:\n",
    "                ds.append(\n",
    "                    {\n",
    "                        \"generation\": generation,\n",
    "                        \"document\": document,\n",
    "                        \"guidance\": guidance,\n",
    "                        \"faithfulness\": \"\",\n",
    "                        **corpus,\n",
    "                        **annotator,\n",
    "                        **query,\n",
    "                    }\n",
    "                )\n",
    "unannotated_df = pd.DataFrame(ds)\n",
    "print(len(unannotated_df))\n",
    "unannotated_df.sample(1)"
   ]
  },
  {
   "cell_type": "code",
   "execution_count": 255,
   "id": "d1d1bb41-6893-4933-9de5-2cd8e0043449",
   "metadata": {},
   "outputs": [
    {
     "name": "stdout",
     "output_type": "stream",
     "text": [
      "['none', 'partial', 'perfect']\n"
     ]
    },
    {
     "data": {
      "text/html": [
       "<div>\n",
       "<style scoped>\n",
       "    .dataframe tbody tr th:only-of-type {\n",
       "        vertical-align: middle;\n",
       "    }\n",
       "\n",
       "    .dataframe tbody tr th {\n",
       "        vertical-align: top;\n",
       "    }\n",
       "\n",
       "    .dataframe thead th {\n",
       "        text-align: right;\n",
       "    }\n",
       "</style>\n",
       "<table border=\"1\" class=\"dataframe\">\n",
       "  <thead>\n",
       "    <tr style=\"text-align: right;\">\n",
       "      <th></th>\n",
       "      <th>generation</th>\n",
       "      <th>document</th>\n",
       "      <th>guidance</th>\n",
       "      <th>faithfulness</th>\n",
       "      <th>corpus</th>\n",
       "      <th>annotator</th>\n",
       "      <th>query</th>\n",
       "    </tr>\n",
       "  </thead>\n",
       "  <tbody>\n",
       "    <tr>\n",
       "      <th>7</th>\n",
       "      <td>Generated text</td>\n",
       "      <td>Retrieved document text</td>\n",
       "      <td>low</td>\n",
       "      <td>partial</td>\n",
       "      <td>recipes</td>\n",
       "      <td>1</td>\n",
       "      <td>sample query 0</td>\n",
       "    </tr>\n",
       "  </tbody>\n",
       "</table>\n",
       "</div>"
      ],
      "text/plain": [
       "       generation                 document guidance faithfulness   corpus  \\\n",
       "7  Generated text  Retrieved document text      low      partial  recipes   \n",
       "\n",
       "   annotator           query  \n",
       "7          1  sample query 0  "
      ]
     },
     "execution_count": 255,
     "metadata": {},
     "output_type": "execute_result"
    }
   ],
   "source": [
    "# annotate for faithfulness\n",
    "faithfulness_df = unannotated_df.copy()\n",
    "print(faithfulness_answers)\n",
    "\n",
    "\n",
    "def annotate_faithfulness(row):\n",
    "    query = row.query\n",
    "    document = row.document\n",
    "    generation = row.generation\n",
    "    guidance = row.guidance\n",
    "    # this is where a human would use the elements to make an assessment\n",
    "    if guidance == \"low\":\n",
    "        faithfulness = rng.choice(faithfulness_answers, p=(0.2, 0.5, 0.3))\n",
    "    else:\n",
    "        faithfulness = rng.choice(faithfulness_answers, p=(0.1, 0.4, 0.5))\n",
    "    return faithfulness\n",
    "\n",
    "\n",
    "faithfulness_df[\"faithfulness\"] = faithfulness_df.apply(annotate_faithfulness, axis=1)\n",
    "faithfulness_df.sample(n=1)"
   ]
  },
  {
   "cell_type": "code",
   "execution_count": 256,
   "id": "bec5ec5a-3e04-4730-b588-8c51e3fcd439",
   "metadata": {},
   "outputs": [
    {
     "data": {
      "text/html": [
       "<div>\n",
       "<style scoped>\n",
       "    .dataframe tbody tr th:only-of-type {\n",
       "        vertical-align: middle;\n",
       "    }\n",
       "\n",
       "    .dataframe tbody tr th {\n",
       "        vertical-align: top;\n",
       "    }\n",
       "\n",
       "    .dataframe thead th {\n",
       "        text-align: right;\n",
       "    }\n",
       "</style>\n",
       "<table border=\"1\" class=\"dataframe\">\n",
       "  <thead>\n",
       "    <tr style=\"text-align: right;\">\n",
       "      <th></th>\n",
       "      <th>generation</th>\n",
       "      <th>document</th>\n",
       "      <th>guidance</th>\n",
       "      <th>corpus</th>\n",
       "      <th>query</th>\n",
       "      <th>mean_faithfulness</th>\n",
       "    </tr>\n",
       "  </thead>\n",
       "  <tbody>\n",
       "    <tr>\n",
       "      <th>196</th>\n",
       "      <td>Generated text</td>\n",
       "      <td>Retrieved document text</td>\n",
       "      <td>low</td>\n",
       "      <td>math</td>\n",
       "      <td>sample query 49</td>\n",
       "      <td>1.333333</td>\n",
       "    </tr>\n",
       "  </tbody>\n",
       "</table>\n",
       "</div>"
      ],
      "text/plain": [
       "         generation                 document guidance corpus            query  \\\n",
       "196  Generated text  Retrieved document text      low   math  sample query 49   \n",
       "\n",
       "     mean_faithfulness  \n",
       "196           1.333333  "
      ]
     },
     "execution_count": 256,
     "metadata": {},
     "output_type": "execute_result"
    }
   ],
   "source": [
    "# do some annotator agreement disambiguation\n",
    "# we could just take the mean of the level (0, 1, 2)\n",
    "faithfulness_df[\"faithfulness_level\"] = faithfulness_df.faithfulness.map(lambda f: faithfulness_answers.index(f))\n",
    "group_keys = [\"query\", \"corpus\", \"guidance\"]\n",
    "mean_faithfulness = faithfulness_df.groupby(group_keys).faithfulness_level.mean().rename(\"mean_faithfulness\")\n",
    "faithfulness_df = (\n",
    "    faithfulness_df.drop_duplicates(subset=group_keys)\n",
    "    .drop(columns=[\"annotator\", \"faithfulness\", \"faithfulness_level\"])\n",
    "    .join(mean_faithfulness, on=group_keys)\n",
    "    .reset_index(drop=True)\n",
    ")\n",
    "faithfulness_df.sample(n=1)"
   ]
  },
  {
   "cell_type": "code",
   "execution_count": null,
   "id": "ff09cbe2-060e-4fe2-b984-c1ddff5201ef",
   "metadata": {},
   "outputs": [],
   "source": []
  },
  {
   "cell_type": "code",
   "execution_count": 257,
   "id": "ef434547-ca0e-4498-b199-627bd3f9b3b0",
   "metadata": {},
   "outputs": [
    {
     "data": {
      "text/html": [
       "<div>\n",
       "<style scoped>\n",
       "    .dataframe tbody tr th:only-of-type {\n",
       "        vertical-align: middle;\n",
       "    }\n",
       "\n",
       "    .dataframe tbody tr th {\n",
       "        vertical-align: top;\n",
       "    }\n",
       "\n",
       "    .dataframe thead th {\n",
       "        text-align: right;\n",
       "    }\n",
       "</style>\n",
       "<table border=\"1\" class=\"dataframe\">\n",
       "  <thead>\n",
       "    <tr style=\"text-align: right;\">\n",
       "      <th></th>\n",
       "      <th>generation</th>\n",
       "      <th>document</th>\n",
       "      <th>guidance</th>\n",
       "      <th>corpus</th>\n",
       "      <th>query</th>\n",
       "      <th>mean_faithfulness</th>\n",
       "      <th>mean_relevance</th>\n",
       "    </tr>\n",
       "  </thead>\n",
       "  <tbody>\n",
       "    <tr>\n",
       "      <th>0</th>\n",
       "      <td>Generated text</td>\n",
       "      <td>Retrieved document text</td>\n",
       "      <td>low</td>\n",
       "      <td>math</td>\n",
       "      <td>sample query 0</td>\n",
       "      <td>1.000000</td>\n",
       "      <td>1.0</td>\n",
       "    </tr>\n",
       "    <tr>\n",
       "      <th>1</th>\n",
       "      <td>Generated text</td>\n",
       "      <td>Retrieved document text</td>\n",
       "      <td>high</td>\n",
       "      <td>math</td>\n",
       "      <td>sample query 0</td>\n",
       "      <td>1.333333</td>\n",
       "      <td>1.0</td>\n",
       "    </tr>\n",
       "    <tr>\n",
       "      <th>2</th>\n",
       "      <td>Generated text</td>\n",
       "      <td>Retrieved document text</td>\n",
       "      <td>low</td>\n",
       "      <td>recipes</td>\n",
       "      <td>sample query 0</td>\n",
       "      <td>1.666667</td>\n",
       "      <td>0.0</td>\n",
       "    </tr>\n",
       "    <tr>\n",
       "      <th>3</th>\n",
       "      <td>Generated text</td>\n",
       "      <td>Retrieved document text</td>\n",
       "      <td>high</td>\n",
       "      <td>recipes</td>\n",
       "      <td>sample query 0</td>\n",
       "      <td>1.000000</td>\n",
       "      <td>0.0</td>\n",
       "    </tr>\n",
       "  </tbody>\n",
       "</table>\n",
       "</div>"
      ],
      "text/plain": [
       "       generation                 document guidance   corpus           query  \\\n",
       "0  Generated text  Retrieved document text      low     math  sample query 0   \n",
       "1  Generated text  Retrieved document text     high     math  sample query 0   \n",
       "2  Generated text  Retrieved document text      low  recipes  sample query 0   \n",
       "3  Generated text  Retrieved document text     high  recipes  sample query 0   \n",
       "\n",
       "   mean_faithfulness  mean_relevance  \n",
       "0           1.000000             1.0  \n",
       "1           1.333333             1.0  \n",
       "2           1.666667             0.0  \n",
       "3           1.000000             0.0  "
      ]
     },
     "execution_count": 257,
     "metadata": {},
     "output_type": "execute_result"
    }
   ],
   "source": [
    "# now, merge in relevance to the unannotated_df\n",
    "# pd.merge(faithfulness_df, relevance_df[[\"query\", \"mean_relevance\"]], how=\"left\", on=[\"query\", \"corpus\"])\n",
    "query_df = faithfulness_df.join(\n",
    "    relevance_df[[\"query\", \"corpus\", \"mean_relevance\"]].set_index([\"query\", \"corpus\"]),\n",
    "    how=\"left\",\n",
    "    on=[\"query\", \"corpus\"],\n",
    ")\n",
    "# by definition, recipes have no relevance to the queries\n",
    "query_df.loc[query_df.corpus == \"recipes\", \"mean_relevance\"] = 0.0\n",
    "assert query_df.mean_relevance.isna().sum() == 0\n",
    "query_df.sort_values(by=[\"query\", \"guidance\", \"corpus\"])\n",
    "query_df.head(n=4)"
   ]
  },
  {
   "cell_type": "code",
   "execution_count": 259,
   "id": "6d740737-f47a-4fc3-baa1-7af880397381",
   "metadata": {},
   "outputs": [
    {
     "data": {
      "image/png": "[encoded data removed]",
      "text/plain": [
       "<Figure size 800x700 with 4 Axes>"
      ]
     },
     "metadata": {},
     "output_type": "display_data"
    }
   ],
   "source": [
    "# compare faithfulness distribution between recipes and math corpus\n",
    "# we hypothesize that faithfulness should be the same or slightly higher for math, but this doesn't really matter\n",
    "fig, axes = plt.subplots(2, 2, figsize=(8, 7))\n",
    "axes = axes.reshape(-1)\n",
    "\n",
    "\n",
    "def plot_faithfulness_comparison(ax, g1, g2, labels, title):\n",
    "    box_width = 0.1\n",
    "    ax.boxplot(\n",
    "        [\n",
    "            g1,\n",
    "            g2,\n",
    "        ],\n",
    "        widths=box_width,\n",
    "    )\n",
    "    ax.set_xticks([1, 2], labels=labels)\n",
    "    ax.set_ylabel(\"Mean faithfulness\")\n",
    "    ax.set_title(title)\n",
    "\n",
    "    # two-sample t-test\n",
    "    # this complex line of code works, but is not necessary since the dataframe is sorted by query\n",
    "    # g1, g2 = zip(*query_df.groupby(\"query\").apply(lambda group: (group[group.corpus == \"math\"].mean_faithfulness.iloc[0], group[group.corpus == \"recipes\"].mean_faithfulness.iloc[0])))\n",
    "    g1, g2 = np.array(g1), np.array(g2)\n",
    "    mean_diff = (g1 - g2).mean()\n",
    "    t, p = scipy.stats.ttest_rel(g1, g2)\n",
    "    # ax.text(1.5, min(g1.min(), g2.min()) - 0.05, f\"Diff in means: {mean_diff:.3f} ($t$={t:.2f}, $p$={p:.3f})\", ha=\"center\", va=\"top\")\n",
    "\n",
    "    # ax.hist(g1, bins=20, orientation=\"horizontal\", bottom=1, density=True)\n",
    "    # np.histogram(g1, bins=bins\n",
    "    for g, x in [(g1, 1), (g2, 2)]:\n",
    "        xmin = x + (box_width / 2) + 0.04\n",
    "        ax.vlines(xmin, ymin=g.min(), ymax=g.max(), color=\"black\")\n",
    "        for value, count in Counter(g).most_common():\n",
    "            xmax = xmin + (count / len(g))\n",
    "            ax.hlines(y=value, xmin=xmin, xmax=xmax, color=\"black\")\n",
    "            ax.text(x=xmax + 0.02, y=value, s=f\"{count}\", va=\"center\", ha=\"left\")\n",
    "\n",
    "    ax.set_ylim(bottom=-0.25, top=2.25)\n",
    "    ax.set_xlim(0, 3)\n",
    "    ax.text(\n",
    "        1.5, ax.get_ylim()[0], f\"Diff in means: {mean_diff:.3f} ($t$={t:.2f}, $p$={p:.3f})\", ha=\"center\", va=\"bottom\"\n",
    "    )\n",
    "\n",
    "    for i, answer in enumerate(faithfulness_answers):\n",
    "        ax.axhline(i, color=\"lightgray\", linestyle=\"--\", alpha=0.5, zorder=-1)\n",
    "        ax.text(ax.get_xlim()[0] + 0.02, i + 0.02, answer, ha=\"left\", va=\"bottom\")\n",
    "\n",
    "\n",
    "for ax_ind, guidance in enumerate([\"low\", \"high\"]):\n",
    "    ax = axes[ax_ind]\n",
    "    labels = [\"Math textbook\", \"Recipes\"]\n",
    "    g1 = query_df[(query_df.corpus == \"math\") & (query_df.guidance == guidance)].mean_faithfulness\n",
    "    g2 = query_df[(query_df.corpus == \"recipes\") & (query_df.guidance == guidance)].mean_faithfulness\n",
    "    title = f\"Level of guidance: {guidance}\"\n",
    "    plot_faithfulness_comparison(ax, g1, g2, labels, title)\n",
    "\n",
    "for ax_ind, corpus in enumerate([\"math\", \"recipes\"]):\n",
    "    ax = axes[ax_ind + 2]\n",
    "    labels = [\"Low\\nguidance\", \"High\\nguidance\"]\n",
    "    g1 = query_df[(query_df.corpus == corpus) & (query_df.guidance == \"low\")].mean_faithfulness\n",
    "    g2 = query_df[(query_df.corpus == corpus) & (query_df.guidance == \"high\")].mean_faithfulness\n",
    "    title = f\"Retrieval corpus: {corpus}\"\n",
    "    plot_faithfulness_comparison(ax, g1, g2, labels, title)\n",
    "\n",
    "fig.tight_layout()\n",
    "plt.show()"
   ]
  },
  {
   "cell_type": "code",
   "execution_count": 265,
   "id": "bf3a4590-c368-451d-b52f-75ca1bef976b",
   "metadata": {},
   "outputs": [
    {
     "name": "stdout",
     "output_type": "stream",
     "text": [
      "Level of guidance: low\n",
      "                            OLS Regression Results                            \n",
      "==============================================================================\n",
      "Dep. Variable:      mean_faithfulness   R-squared:                       0.021\n",
      "Model:                            OLS   Adj. R-squared:                  0.001\n",
      "Method:                 Least Squares   F-statistic:                     1.035\n",
      "Date:                Thu, 31 Aug 2023   Prob (F-statistic):              0.314\n",
      "Time:                        14:34:59   Log-Likelihood:                -21.654\n",
      "No. Observations:                  50   AIC:                             47.31\n",
      "Df Residuals:                      48   BIC:                             51.13\n",
      "Df Model:                           1                                         \n",
      "Covariance Type:            nonrobust                                         \n",
      "==================================================================================\n",
      "                     coef    std err          t      P>|t|      [0.025      0.975]\n",
      "----------------------------------------------------------------------------------\n",
      "Intercept          0.9742      0.165      5.891      0.000       0.642       1.307\n",
      "mean_relevance     0.1090      0.107      1.018      0.314      -0.106       0.324\n",
      "==============================================================================\n",
      "Omnibus:                        3.122   Durbin-Watson:                   1.911\n",
      "Prob(Omnibus):                  0.210   Jarque-Bera (JB):                2.607\n",
      "Skew:                          -0.559   Prob(JB):                        0.272\n",
      "Kurtosis:                       2.996   Cond. No.                         6.58\n",
      "==============================================================================\n",
      "\n",
      "Notes:\n",
      "[1] Standard Errors assume that the covariance matrix of the errors is correctly specified.\n",
      "Level of guidance: high\n",
      "                            OLS Regression Results                            \n",
      "==============================================================================\n",
      "Dep. Variable:      mean_faithfulness   R-squared:                       0.009\n",
      "Model:                            OLS   Adj. R-squared:                 -0.011\n",
      "Method:                 Least Squares   F-statistic:                    0.4551\n",
      "Date:                Thu, 31 Aug 2023   Prob (F-statistic):              0.503\n",
      "Time:                        14:34:59   Log-Likelihood:                -19.283\n",
      "No. Observations:                  50   AIC:                             42.57\n",
      "Df Residuals:                      48   BIC:                             46.39\n",
      "Df Model:                           1                                         \n",
      "Covariance Type:            nonrobust                                         \n",
      "==================================================================================\n",
      "                     coef    std err          t      P>|t|      [0.025      0.975]\n",
      "----------------------------------------------------------------------------------\n",
      "Intercept          1.5539      0.158      9.852      0.000       1.237       1.871\n",
      "mean_relevance    -0.0689      0.102     -0.675      0.503      -0.274       0.136\n",
      "==============================================================================\n",
      "Omnibus:                        1.714   Durbin-Watson:                   2.046\n",
      "Prob(Omnibus):                  0.424   Jarque-Bera (JB):                1.668\n",
      "Skew:                          -0.408   Prob(JB):                        0.434\n",
      "Kurtosis:                       2.631   Cond. No.                         6.58\n",
      "==============================================================================\n",
      "\n",
      "Notes:\n",
      "[1] Standard Errors assume that the covariance matrix of the errors is correctly specified.\n"
     ]
    },
    {
     "data": {
      "image/png": "[encoded data removed]",
      "text/plain": [
       "<Figure size 700x300 with 2 Axes>"
      ]
     },
     "metadata": {},
     "output_type": "display_data"
    }
   ],
   "source": [
    "# explore correlation between relevance and faithfulness in the math corpus\n",
    "# we would expect a small positive correlation\n",
    "# when guidance is high, we expect a stronger correlation\n",
    "fig, axes = plt.subplots(1, 2, figsize=(7, 3))\n",
    "axes = axes.reshape(-1)\n",
    "\n",
    "\n",
    "def plot_relevance_vs_faithfulness(ax, sdf, title=\"\", ylim=None):\n",
    "    # correlation\n",
    "    r, p = scipy.stats.pearsonr(sdf.mean_relevance, sdf.mean_faithfulness)\n",
    "    # and the approximately equivalent linear regression\n",
    "    # https://sebastianraschka.com/faq/docs/pearson-r-vs-linear-regr.html\n",
    "    model = sm.OLS.from_formula(formula=\"mean_faithfulness ~ mean_relevance\", data=sdf)\n",
    "    model = model.fit()\n",
    "    params = model.params\n",
    "\n",
    "    # ax.hist2d(sdf.mean_relevance, sdf.mean_faithfulness, cmin=1)\n",
    "    ax.scatter(sdf.mean_relevance, sdf.mean_faithfulness, alpha=0.1, marker=\"o\")\n",
    "    ax.set_xlabel(\"Mean relevance\")\n",
    "    ax.set_ylabel(\"Mean faithfulness\")\n",
    "    ax.set_title(title)\n",
    "\n",
    "    if ylim:\n",
    "        ax.set_ylim(ylim)\n",
    "\n",
    "    statsmodels.graphics.regressionplots.abline_plot(\n",
    "        model_results=model,\n",
    "        ax=ax,\n",
    "        color=\"black\",\n",
    "        linestyle=\"--\",\n",
    "        linewidth=1.1,\n",
    "        label=f\"OLS ($r$={r:.3f}, $p$={p:.3f})\",\n",
    "    )\n",
    "    ax.legend()\n",
    "    print(title)\n",
    "    print(model.summary())\n",
    "\n",
    "\n",
    "for ax_ind, guidance in enumerate(guidance_conditions):\n",
    "    ax = axes[ax_ind]\n",
    "    sdf = query_df[(query_df.corpus == \"math\") & (query_df.guidance == guidance)]\n",
    "    title = f\"Level of guidance: {guidance}\"\n",
    "    plot_relevance_vs_faithfulness(ax, sdf, title, ylim=(0, 2))\n",
    "\n",
    "fig.suptitle(\"Relationship between relevance and faithfulness\")\n",
    "\n",
    "fig.tight_layout()\n",
    "plt.show()"
   ]
  },
  {
   "cell_type": "code",
   "execution_count": null,
   "id": "9b4408f6-dc58-4952-946c-f695f84c7b73",
   "metadata": {},
   "outputs": [],
   "source": [
    "# now create pairwise surveys\n",
    "# most important: math/low vs math/high correctness"
   ]
  },
  {
   "cell_type": "code",
   "execution_count": null,
   "id": "98c33241-bb7c-4bf1-a1ef-5ef2f92d43bc",
   "metadata": {},
   "outputs": [],
   "source": []
  },
  {
   "cell_type": "code",
   "execution_count": null,
   "id": "3561e607-21f7-4834-a6e7-8b74d6a03249",
   "metadata": {},
   "outputs": [],
   "source": []
  },
  {
   "cell_type": "code",
   "execution_count": null,
   "id": "62d9d5a1-e32a-444f-b6bc-ef9c7f776ae8",
   "metadata": {},
   "outputs": [],
   "source": [
    "# TODO could look for correlations here between automated metrics (like % of word overlap, and other more complex groundedness metrics)\n",
    "# and human annotations of faithfulness"
   ]
  },
  {
   "cell_type": "code",
   "execution_count": null,
   "id": "5cec786e-97e8-4fb5-90a5-8ed481d5f9e9",
   "metadata": {},
   "outputs": [],
   "source": []
  },
  {
   "cell_type": "code",
   "execution_count": 23,
   "id": "026774b3-d7ad-472b-bb62-20a4678fe4a0",
   "metadata": {},
   "outputs": [
    {
     "data": {
      "text/plain": [
       "0.9090909090909091"
      ]
     },
     "execution_count": 23,
     "metadata": {},
     "output_type": "execute_result"
    }
   ],
   "source": [
    "passages = [\"Test text with extra.\"]\n",
    "generation = \"test text with extra words.\"\n",
    "experiment_utils.metrics.compute_macro_f1(passages, generation)"
   ]
  },
  {
   "cell_type": "code",
   "execution_count": 7,
   "id": "62f9b918-f402-40af-a9fe-52a647ab0efd",
   "metadata": {},
   "outputs": [
    {
     "name": "stdout",
     "output_type": "stream",
     "text": [
      "300\n"
     ]
    },
    {
     "data": {
      "text/html": [
       "<div>\n",
       "<style scoped>\n",
       "    .dataframe tbody tr th:only-of-type {\n",
       "        vertical-align: middle;\n",
       "    }\n",
       "\n",
       "    .dataframe tbody tr th {\n",
       "        vertical-align: top;\n",
       "    }\n",
       "\n",
       "    .dataframe thead th {\n",
       "        text-align: right;\n",
       "    }\n",
       "</style>\n",
       "<table border=\"1\" class=\"dataframe\">\n",
       "  <thead>\n",
       "    <tr style=\"text-align: right;\">\n",
       "      <th></th>\n",
       "      <th>generation</th>\n",
       "      <th>document</th>\n",
       "      <th>guidance</th>\n",
       "      <th>corpus</th>\n",
       "      <th>query</th>\n",
       "    </tr>\n",
       "  </thead>\n",
       "  <tbody>\n",
       "    <tr>\n",
       "      <th>154</th>\n",
       "      <td>Generated text e a f c p f r z g k</td>\n",
       "      <td>Retrieved document text\\nt n h r j c m c f x\\n...</td>\n",
       "      <td>E</td>\n",
       "      <td>math</td>\n",
       "      <td>sample query 25</td>\n",
       "    </tr>\n",
       "  </tbody>\n",
       "</table>\n",
       "</div>"
      ],
      "text/plain": [
       "                             generation  \\\n",
       "154  Generated text e a f c p f r z g k   \n",
       "\n",
       "                                              document guidance corpus  \\\n",
       "154  Retrieved document text\\nt n h r j c m c f x\\n...        E   math   \n",
       "\n",
       "               query  \n",
       "154  sample query 25  "
      ]
     },
     "execution_count": 7,
     "metadata": {},
     "output_type": "execute_result"
    }
   ],
   "source": [
    "# create automated metric df\n",
    "\n",
    "\n",
    "def get_random_text(size: int = 10):\n",
    "    choices = list(string.ascii_lowercase)\n",
    "    return \" \".join(np.random.choice(choices, size=size))\n",
    "\n",
    "\n",
    "corpus = math_corpus\n",
    "ds = []\n",
    "for query in queries:\n",
    "    for guidance in [\"A\", \"B\", \"C\", \"D\", \"E\", \"F\"]:\n",
    "        document = \"Retrieved document text\\n\" + \"\\n\".join([get_random_text() for passage in range(4)])\n",
    "        generation = (\n",
    "            \"Generated text \" + get_random_text()\n",
    "        )  # TODO do rag here, retrieved a document and generating a response\n",
    "        if guidance == \"F\":\n",
    "            document += \" a a a a a b b b b\"\n",
    "            generation += \" a a a a a b b b b\"\n",
    "        ds.append({\"generation\": generation, \"document\": document, \"guidance\": guidance, **corpus, **query})\n",
    "math_df = pd.DataFrame(ds)\n",
    "print(len(math_df))\n",
    "math_df.sample(1)"
   ]
  },
  {
   "cell_type": "code",
   "execution_count": 10,
   "id": "2494286c-a2f1-4489-98ed-03bfb881f6cf",
   "metadata": {},
   "outputs": [
    {
     "data": {
      "text/html": [
       "<div>\n",
       "<style scoped>\n",
       "    .dataframe tbody tr th:only-of-type {\n",
       "        vertical-align: middle;\n",
       "    }\n",
       "\n",
       "    .dataframe tbody tr th {\n",
       "        vertical-align: top;\n",
       "    }\n",
       "\n",
       "    .dataframe thead th {\n",
       "        text-align: right;\n",
       "    }\n",
       "</style>\n",
       "<table border=\"1\" class=\"dataframe\">\n",
       "  <thead>\n",
       "    <tr style=\"text-align: right;\">\n",
       "      <th></th>\n",
       "      <th>guidance</th>\n",
       "      <th>macro_f1</th>\n",
       "      <th>macro_f1_low</th>\n",
       "      <th>macro_f1_high</th>\n",
       "    </tr>\n",
       "  </thead>\n",
       "  <tbody>\n",
       "    <tr>\n",
       "      <th>3</th>\n",
       "      <td>D</td>\n",
       "      <td>0.421927</td>\n",
       "      <td>0.404139</td>\n",
       "      <td>0.441069</td>\n",
       "    </tr>\n",
       "    <tr>\n",
       "      <th>0</th>\n",
       "      <td>A</td>\n",
       "      <td>0.438886</td>\n",
       "      <td>0.415790</td>\n",
       "      <td>0.464270</td>\n",
       "    </tr>\n",
       "    <tr>\n",
       "      <th>1</th>\n",
       "      <td>B</td>\n",
       "      <td>0.439605</td>\n",
       "      <td>0.416518</td>\n",
       "      <td>0.462711</td>\n",
       "    </tr>\n",
       "    <tr>\n",
       "      <th>4</th>\n",
       "      <td>E</td>\n",
       "      <td>0.445563</td>\n",
       "      <td>0.420524</td>\n",
       "      <td>0.469068</td>\n",
       "    </tr>\n",
       "    <tr>\n",
       "      <th>2</th>\n",
       "      <td>C</td>\n",
       "      <td>0.455749</td>\n",
       "      <td>0.435010</td>\n",
       "      <td>0.476656</td>\n",
       "    </tr>\n",
       "    <tr>\n",
       "      <th>5</th>\n",
       "      <td>F</td>\n",
       "      <td>0.464326</td>\n",
       "      <td>0.439977</td>\n",
       "      <td>0.487834</td>\n",
       "    </tr>\n",
       "  </tbody>\n",
       "</table>\n",
       "</div>"
      ],
      "text/plain": [
       "  guidance  macro_f1  macro_f1_low  macro_f1_high\n",
       "3        D  0.421927      0.404139       0.441069\n",
       "0        A  0.438886      0.415790       0.464270\n",
       "1        B  0.439605      0.416518       0.462711\n",
       "4        E  0.445563      0.420524       0.469068\n",
       "2        C  0.455749      0.435010       0.476656\n",
       "5        F  0.464326      0.439977       0.487834"
      ]
     },
     "execution_count": 10,
     "metadata": {},
     "output_type": "execute_result"
    }
   ],
   "source": [
    "sdf = math_df[math_df.corpus == \"math\"]\n",
    "# sdf = sdf.drop_duplicates(subset=[\"query\", \"generation\", \"document\", \"guidance\"])\n",
    "ds = []\n",
    "for guidance, group in sdf.groupby(\"guidance\"):\n",
    "    assert group[\"query\"].nunique() == len(group)\n",
    "    f1_scores = []\n",
    "    for row in group.itertuples():\n",
    "        passages = document.split(\"\\n\")\n",
    "        f1 = experiment.metrics.compute_macro_f1(passages, row.generation)\n",
    "        f1_scores.append(f1)\n",
    "    f1_scores = np.array(f1_scores)\n",
    "    macro_f1 = f1_scores.mean()\n",
    "    # bootstrap confidence intervals\n",
    "    bootstrap = scipy.stats.bootstrap((f1_scores,), np.mean, confidence_level=0.95, random_state=rng)\n",
    "    ds.append(\n",
    "        {\n",
    "            \"guidance\": guidance,\n",
    "            \"macro_f1\": macro_f1,\n",
    "            \"macro_f1_low\": bootstrap.confidence_interval.low,\n",
    "            \"macro_f1_high\": bootstrap.confidence_interval.high,\n",
    "        }\n",
    "    )\n",
    "f1_df = pd.DataFrame(ds).sort_values(by=\"macro_f1\", ascending=True)\n",
    "f1_df"
   ]
  },
  {
   "cell_type": "code",
   "execution_count": 22,
   "id": "47bf0f0f-eab9-4db3-9203-0ef0fe3ddb58",
   "metadata": {},
   "outputs": [
    {
     "data": {
      "image/png": "[encoded data removed]",
      "text/plain": [
       "<Figure size 320x170 with 1 Axes>"
      ]
     },
     "metadata": {},
     "output_type": "display_data"
    }
   ],
   "source": [
    "fig, ax = plt.subplots(1, 1, figsize=(3.2, 1.7))\n",
    "\n",
    "metric = \"macro_f1\"\n",
    "# copy = f1_df.copy()\n",
    "# copy[[metric, metric + \"_low\", metric + \"_high\"]] += 0.1\n",
    "# for query_set, metric_df in [(\"MN Geo\", f1_df), (\"MN PreA\", copy)]:\n",
    "for query_set, metric_df in f1_df.groupby(\"query_set\"):\n",
    "    assert metric in metric_df.columns\n",
    "    xs = list(range(len(metric_df)))\n",
    "    ys = metric_df[metric]\n",
    "    yerr = metric_df[[metric + \"_low\", metric + \"_high\"]].subtract(metric_df[metric], axis=0).abs().T\n",
    "    ax.scatter(xs, ys, color=\"black\", marker=\".\")\n",
    "    ax.errorbar(xs, ys, yerr=yerr, zorder=-1, capsize=3, ecolor=\"grey\", label=query_set)\n",
    "\n",
    "# legend\n",
    "handles, labels = ax.get_legend_handles_labels()\n",
    "handles = [h[0] for h in handles]\n",
    "ax.legend(handles, labels, frameon=False, ncol=2)\n",
    "\n",
    "\n",
    "ax.set_xticks(xs, labels=f1_df.guidance)\n",
    "ax.set_ylabel(\"K-F1++\")\n",
    "# ax.set_ylim((0.2, 0.35))  # Consider manually setting the ylim\n",
    "\n",
    "fig.tight_layout()\n",
    "plt.show()"
   ]
  },
  {
   "cell_type": "code",
   "execution_count": null,
   "id": "f150ba21-9fe8-44c2-9525-e38f9049727d",
   "metadata": {},
   "outputs": [],
   "source": []
  },
  {
   "cell_type": "markdown",
   "id": "542d6342-c1ea-4b33-856b-f745d12dcc19",
   "metadata": {},
   "source": [
    "## Real data"
   ]
  },
  {
   "cell_type": "code",
   "execution_count": null,
   "id": "f616f615-25e6-4823-976d-aa756e02121a",
   "metadata": {},
   "outputs": [],
   "source": []
  },
  {
   "cell_type": "markdown",
   "id": "03046b2d-30fe-4c2f-bc2c-17115e200812",
   "metadata": {},
   "source": [
    "#### Load query data"
   ]
  },
  {
   "cell_type": "code",
   "execution_count": 10,
   "id": "6508b424-0b24-411a-a27c-c7d4a836082a",
   "metadata": {},
   "outputs": [
    {
     "data": {
      "text/plain": [
       "51"
      ]
     },
     "execution_count": 10,
     "metadata": {},
     "output_type": "execute_result"
    }
   ],
   "source": [
    "mn_general_student_queries_filepath = data_dir / \"derived\" / \"mn_general_student_queries.csv\"\n",
    "query_df = pd.read_csv(mn_general_student_queries_filepath)\n",
    "student_queries = [\n",
    "    row.post_content.strip().replace(\"[Continued:]\", \"\\n\")\n",
    "    for row in query_df.sample(frac=1, random_state=87896).itertuples()\n",
    "    if row.is_respondable_query == \"general\"\n",
    "]\n",
    "len(student_queries)"
   ]
  },
  {
   "cell_type": "code",
   "execution_count": 11,
   "id": "345e0668-f6a4-4cdd-bfa9-ee8a53773bee",
   "metadata": {},
   "outputs": [
    {
     "data": {
      "text/plain": [
       "subject_name\n",
       "Algebra 1      43\n",
       "Geometry        9\n",
       "Pre-Algebra     3\n",
       "Name: count, dtype: int64"
      ]
     },
     "execution_count": 11,
     "metadata": {},
     "output_type": "execute_result"
    }
   ],
   "source": [
    "query_df.subject_name.value_counts()"
   ]
  },
  {
   "cell_type": "code",
   "execution_count": null,
   "id": "be413300-9169-418b-b07c-a78923f04be3",
   "metadata": {},
   "outputs": [],
   "source": []
  },
  {
   "cell_type": "markdown",
   "id": "af748e5a-b6bb-4d2d-ad42-f5882080c9b1",
   "metadata": {},
   "source": [
    "#### Retrieve documents"
   ]
  },
  {
   "cell_type": "code",
   "execution_count": 12,
   "id": "f8b95ff5-0cca-414d-b555-4e928406ceb1",
   "metadata": {},
   "outputs": [],
   "source": [
    "embedding_dir = data_dir / \"derived\" / \"embeddings\"\n",
    "rori_db = retrieval.RetrievalDb(embedding_dir, \"rori_microlesson\", \"db_string\")\n",
    "openstax_db = retrieval.RetrievalDb(embedding_dir, \"openstax_subsection\", \"db_string\")\n",
    "recipe_db = retrieval.RetrievalDb(embedding_dir, \"recipenlg\", \"db_string\")"
   ]
  },
  {
   "cell_type": "code",
   "execution_count": 13,
   "id": "72d4ef84-b3d3-4b7a-ae52-a07a5975eb73",
   "metadata": {},
   "outputs": [
    {
     "data": {
      "text/plain": [
       "185.0"
      ]
     },
     "execution_count": 13,
     "metadata": {},
     "output_type": "execute_result"
    }
   ],
   "source": [
    "openstax_db.df.n_tokens.median()"
   ]
  },
  {
   "cell_type": "code",
   "execution_count": 14,
   "id": "90541021-c914-4521-8eab-fda24a83aa1b",
   "metadata": {},
   "outputs": [
    {
     "data": {
      "text/plain": [
       "5050.0"
      ]
     },
     "execution_count": 14,
     "metadata": {},
     "output_type": "execute_result"
    }
   ],
   "source": [
    "openstax_db.df.groupby(\"chapter\").n_tokens.sum().median()"
   ]
  },
  {
   "cell_type": "code",
   "execution_count": 12,
   "id": "f178e7cb-6b9b-41d8-b108-612844da15b9",
   "metadata": {},
   "outputs": [
    {
     "name": "stdout",
     "output_type": "stream",
     "text": [
      "204\n"
     ]
    },
    {
     "data": {
      "text/html": [
       "<div>\n",
       "<style scoped>\n",
       "    .dataframe tbody tr th:only-of-type {\n",
       "        vertical-align: middle;\n",
       "    }\n",
       "\n",
       "    .dataframe tbody tr th {\n",
       "        vertical-align: top;\n",
       "    }\n",
       "\n",
       "    .dataframe thead th {\n",
       "        text-align: right;\n",
       "    }\n",
       "</style>\n",
       "<table border=\"1\" class=\"dataframe\">\n",
       "  <thead>\n",
       "    <tr style=\"text-align: right;\">\n",
       "      <th></th>\n",
       "      <th>query_set</th>\n",
       "      <th>query</th>\n",
       "      <th>generation</th>\n",
       "      <th>document</th>\n",
       "      <th>guidance</th>\n",
       "      <th>messages</th>\n",
       "      <th>corpus</th>\n",
       "    </tr>\n",
       "  </thead>\n",
       "  <tbody>\n",
       "    <tr>\n",
       "      <th>149</th>\n",
       "      <td>math_nation</td>\n",
       "      <td>I know that this has been a consistent questio...</td>\n",
       "      <td></td>\n",
       "      <td>Identify the Intercepts on a Graph: Every line...</td>\n",
       "      <td>low</td>\n",
       "      <td>[{'role': 'system', 'content': 'You are going ...</td>\n",
       "      <td>math</td>\n",
       "    </tr>\n",
       "  </tbody>\n",
       "</table>\n",
       "</div>"
      ],
      "text/plain": [
       "       query_set                                              query  \\\n",
       "149  math_nation  I know that this has been a consistent questio...   \n",
       "\n",
       "    generation                                           document guidance  \\\n",
       "149             Identify the Intercepts on a Graph: Every line...      low   \n",
       "\n",
       "                                              messages corpus  \n",
       "149  [{'role': 'system', 'content': 'You are going ...   math  "
      ]
     },
     "execution_count": 12,
     "metadata": {},
     "output_type": "execute_result"
    }
   ],
   "source": [
    "# create generations\n",
    "openstax_subsection_db_info = retrieval.DbInfo(\n",
    "    openstax_db,\n",
    "    max_tokens=3000,\n",
    "    max_texts=1,\n",
    "    prefix=\"\",\n",
    "    use_parent_text=True,\n",
    "    parent_group_cols=[\"chapter\", \"section\"],\n",
    "    parent_sort_cols=[\"index\"],\n",
    ")\n",
    "openstax_retrieval_strategy = retrieval_strategies.MappedEmbeddingRetrievalStrategy(\n",
    "    {\n",
    "        \"openstax_subsection_texts\": openstax_subsection_db_info,\n",
    "    },\n",
    ")\n",
    "\n",
    "corpus = math_corpus\n",
    "ds = []\n",
    "for query in student_queries:\n",
    "    for guidance in experiment.guidance_conditions.guidance_condition_name_list:\n",
    "        # TODO consider adding infrastructure to cache the messages and document\n",
    "        prompt_manager = prompt_utils.PromptManager()\n",
    "        prompt_manager.set_intro_messages(experiment.guidance_conditions.guidance_condition_messages_map[guidance])\n",
    "        prompt_manager.set_retrieval_strategy(openstax_retrieval_strategy)\n",
    "        messages = prompt_manager.build_query(query)\n",
    "        document = prompt_manager.get_recent_slot_fill(\"openstax_subsection_texts\")\n",
    "        # assert document is not None, f\"Couldn't find expected key in {prompt_manager.recent_slot_fill_dict}.\"\n",
    "        ds.append(\n",
    "            {\n",
    "                \"query_set\": \"math_nation\",\n",
    "                \"query\": query,\n",
    "                \"generation\": \"\",\n",
    "                \"document\": document,\n",
    "                \"guidance\": guidance,\n",
    "                \"messages\": messages,\n",
    "                **corpus,\n",
    "            }\n",
    "        )\n",
    "math_df = pd.DataFrame(ds)\n",
    "print(len(math_df))\n",
    "math_df.sample(1)"
   ]
  },
  {
   "cell_type": "code",
   "execution_count": 13,
   "id": "d90a256c-240e-4093-88d0-e493a8fcc499",
   "metadata": {},
   "outputs": [],
   "source": [
    "# fill documents for the None retrieval condition\n",
    "documents = (\n",
    "    math_df.loc[math_df.document.notna(), [\"query\", \"corpus\", \"document\"]]\n",
    "    .drop_duplicates(keep=\"first\")\n",
    "    .set_index(\"query\")\n",
    ")\n",
    "math_df.loc[math_df.document.isna(), \"document\"] = list(\n",
    "    documents.loc[math_df.loc[math_df.document.isna(), \"query\"]].document\n",
    ")\n",
    "assert math_df.document.isna().sum() == 0"
   ]
  },
  {
   "cell_type": "markdown",
   "id": "aadd7907-baf4-46d4-a429-5ccffc5e0653",
   "metadata": {},
   "source": [
    "#### Create or load relevance annotation for queries"
   ]
  },
  {
   "cell_type": "code",
   "execution_count": 12,
   "id": "db8e83d2-7818-48b6-9a62-2205f1be17d7",
   "metadata": {},
   "outputs": [
    {
     "ename": "NameError",
     "evalue": "name 'math_df' is not defined",
     "output_type": "error",
     "traceback": [
      "\u001b[0;31m---------------------------------------------------------------------------\u001b[0m",
      "\u001b[0;31mNameError\u001b[0m                                 Traceback (most recent call last)",
      "Cell \u001b[0;32mIn[12], line 1\u001b[0m\n\u001b[0;32m----> 1\u001b[0m query_df \u001b[38;5;241m=\u001b[39m \u001b[43mmath_df\u001b[49m[(math_df\u001b[38;5;241m.\u001b[39mquery_set \u001b[38;5;241m==\u001b[39m \u001b[38;5;124m\"\u001b[39m\u001b[38;5;124mmath_nation\u001b[39m\u001b[38;5;124m\"\u001b[39m) \u001b[38;5;241m&\u001b[39m (math_df\u001b[38;5;241m.\u001b[39mcorpus \u001b[38;5;241m==\u001b[39m \u001b[38;5;124m\"\u001b[39m\u001b[38;5;124mmath\u001b[39m\u001b[38;5;124m\"\u001b[39m) \u001b[38;5;241m&\u001b[39m (math_df\u001b[38;5;241m.\u001b[39mguidance \u001b[38;5;241m==\u001b[39m \u001b[38;5;124m\"\u001b[39m\u001b[38;5;124mlow\u001b[39m\u001b[38;5;124m\"\u001b[39m)]\n\u001b[1;32m      2\u001b[0m \u001b[38;5;28;01massert\u001b[39;00m query_df[\u001b[38;5;124m\"\u001b[39m\u001b[38;5;124mquery\u001b[39m\u001b[38;5;124m\"\u001b[39m]\u001b[38;5;241m.\u001b[39mnunique() \u001b[38;5;241m==\u001b[39m \u001b[38;5;28mlen\u001b[39m(query_df)\n\u001b[1;32m      3\u001b[0m query_df\u001b[38;5;241m.\u001b[39msample(n\u001b[38;5;241m=\u001b[39m\u001b[38;5;241m1\u001b[39m)\n",
      "\u001b[0;31mNameError\u001b[0m: name 'math_df' is not defined"
     ]
    }
   ],
   "source": [
    "query_df = math_df[(math_df.query_set == \"math_nation\") & (math_df.corpus == \"math\") & (math_df.guidance == \"low\")]\n",
    "assert query_df[\"query\"].nunique() == len(query_df)\n",
    "query_df.sample(n=1)"
   ]
  },
  {
   "cell_type": "code",
   "execution_count": 15,
   "id": "c29b6619-2110-445e-b921-33c5924b7f22",
   "metadata": {},
   "outputs": [],
   "source": [
    "relevance_data_dir = data_dir / \"derived\" / \"relevance\"\n",
    "relevance_data_dir.mkdir(exist_ok=True)\n",
    "mn_relevance_filepath_1 = relevance_data_dir / \"mn_set1_relevance.csv\"\n",
    "mn_relevance_filepath_1_filled = relevance_data_dir / \"mn_set1_relevance_filled.csv\""
   ]
  },
  {
   "cell_type": "code",
   "execution_count": 16,
   "id": "229e3936-5c20-4b52-a320-7ca14468e18c",
   "metadata": {},
   "outputs": [
    {
     "data": {
      "text/html": [
       "<div>\n",
       "<style scoped>\n",
       "    .dataframe tbody tr th:only-of-type {\n",
       "        vertical-align: middle;\n",
       "    }\n",
       "\n",
       "    .dataframe tbody tr th {\n",
       "        vertical-align: top;\n",
       "    }\n",
       "\n",
       "    .dataframe thead th {\n",
       "        text-align: right;\n",
       "    }\n",
       "</style>\n",
       "<table border=\"1\" class=\"dataframe\">\n",
       "  <thead>\n",
       "    <tr style=\"text-align: right;\">\n",
       "      <th></th>\n",
       "      <th>post_id</th>\n",
       "      <th>subject_name</th>\n",
       "      <th>post_content</th>\n",
       "      <th>is_respondable_query</th>\n",
       "    </tr>\n",
       "  </thead>\n",
       "  <tbody>\n",
       "    <tr>\n",
       "      <th>14</th>\n",
       "      <td>1140336</td>\n",
       "      <td>Algebra 1</td>\n",
       "      <td>how do i solve square root functions</td>\n",
       "      <td>general</td>\n",
       "    </tr>\n",
       "  </tbody>\n",
       "</table>\n",
       "</div>"
      ],
      "text/plain": [
       "    post_id subject_name                          post_content  \\\n",
       "14  1140336    Algebra 1  how do i solve square root functions   \n",
       "\n",
       "   is_respondable_query  \n",
       "14              general  "
      ]
     },
     "execution_count": 16,
     "metadata": {},
     "output_type": "execute_result"
    }
   ],
   "source": [
    "# create relevance annotation spreadsheet\n",
    "if not mn_relevance_filepath_1_filled.exists():\n",
    "    query_df = query_df[[\"query_set\", \"corpus\", \"query\", \"document\"]].reset_index(drop=True).sample(frac=1)\n",
    "    query_df[\"relevance\"] = \"\"\n",
    "\n",
    "    def make_document_more_readable(doc):\n",
    "        passages = doc.split(\"\\n\")\n",
    "        return \" - \" + \"\\n - \".join(passages)\n",
    "\n",
    "    query_df[\"document\"] = query_df[\"document\"].map(make_document_more_readable)\n",
    "    query_df.to_csv(mn_relevance_filepath_1, index=False)\n",
    "query_df.sample(n=1)"
   ]
  },
  {
   "cell_type": "code",
   "execution_count": 126,
   "id": "f196fa30-b998-40ba-9da1-1da9ad955502",
   "metadata": {},
   "outputs": [
    {
     "data": {
      "text/html": [
       "<div>\n",
       "<style scoped>\n",
       "    .dataframe tbody tr th:only-of-type {\n",
       "        vertical-align: middle;\n",
       "    }\n",
       "\n",
       "    .dataframe tbody tr th {\n",
       "        vertical-align: top;\n",
       "    }\n",
       "\n",
       "    .dataframe thead th {\n",
       "        text-align: right;\n",
       "    }\n",
       "</style>\n",
       "<table border=\"1\" class=\"dataframe\">\n",
       "  <thead>\n",
       "    <tr style=\"text-align: right;\">\n",
       "      <th></th>\n",
       "      <th>query_set</th>\n",
       "      <th>corpus</th>\n",
       "      <th>query</th>\n",
       "      <th>document</th>\n",
       "      <th>Zach</th>\n",
       "      <th>Chenglu</th>\n",
       "      <th>Wangda</th>\n",
       "    </tr>\n",
       "  </thead>\n",
       "  <tbody>\n",
       "    <tr>\n",
       "      <th>11</th>\n",
       "      <td>math_nation</td>\n",
       "      <td>math</td>\n",
       "      <td>after you distribute a negative does it disapp...</td>\n",
       "      <td>- Model Subtraction of Integers: Remember the...</td>\n",
       "      <td>Partial</td>\n",
       "      <td>Partial</td>\n",
       "      <td>Partial</td>\n",
       "    </tr>\n",
       "  </tbody>\n",
       "</table>\n",
       "</div>"
      ],
      "text/plain": [
       "      query_set corpus                                              query  \\\n",
       "11  math_nation   math  after you distribute a negative does it disapp...   \n",
       "\n",
       "                                             document     Zach  Chenglu  \\\n",
       "11   - Model Subtraction of Integers: Remember the...  Partial  Partial   \n",
       "\n",
       "     Wangda  \n",
       "11  Partial  "
      ]
     },
     "execution_count": 126,
     "metadata": {},
     "output_type": "execute_result"
    }
   ],
   "source": [
    "# load relevance_df\n",
    "if mn_relevance_filepath_1_filled.exists():\n",
    "    relevance_df = pd.read_csv(mn_relevance_filepath_1_filled)\n",
    "relevance_df.sample(n=1)"
   ]
  },
  {
   "cell_type": "code",
   "execution_count": 127,
   "id": "f70e1b8c-d1eb-4a4a-a20d-ac229d677e3a",
   "metadata": {},
   "outputs": [
    {
     "name": "stdout",
     "output_type": "stream",
     "text": [
      "Zach\n",
      "Topic      23\n",
      "Perfect    10\n",
      "Partial     9\n",
      "Wrong       9\n",
      "Name: count, dtype: int64\n",
      "Chenglu\n",
      "Partial    14\n",
      "Perfect    14\n",
      "Topic      13\n",
      "Wrong      10\n",
      "Name: count, dtype: int64\n",
      "Wangda\n",
      "Wrong      17\n",
      "Topic      15\n",
      "Partial    13\n",
      "Perfect     6\n",
      "Name: count, dtype: int64\n"
     ]
    }
   ],
   "source": [
    "def get_numeric_relevance(relevance_str):\n",
    "    if pd.isna(relevance_str):\n",
    "        return np.nan\n",
    "    return relevance_answers.index(relevance_str.lower())\n",
    "\n",
    "\n",
    "for annotator_name in [\"Zach\", \"Chenglu\", \"Wangda\"]:\n",
    "    relevance_df[annotator_name].map(get_numeric_relevance)\n",
    "    print(relevance_df[annotator_name].value_counts(dropna=False))"
   ]
  },
  {
   "cell_type": "code",
   "execution_count": 19,
   "id": "7e7975b9-95a0-4774-b324-64b2c3158c05",
   "metadata": {},
   "outputs": [
    {
     "name": "stdout",
     "output_type": "stream",
     "text": [
      "Zach-Chenglu agreement: 35.29%\n",
      "Zach-Wangda agreement: 37.25%\n",
      "Chenglu-Wangda agreement: 35.29%\n",
      "All agreement: 15.69%\n"
     ]
    }
   ],
   "source": [
    "relevance_annotators = [\"Zach\", \"Chenglu\", \"Wangda\"]\n",
    "for a1, a2 in itertools.combinations(relevance_annotators, 2):\n",
    "    acc = (relevance_df[a1] == relevance_df[a2]).sum() / len(relevance_df)\n",
    "    print(f\"{a1}-{a2} agreement: {acc:.2%}\")\n",
    "a1, a2, a3 = relevance_annotators\n",
    "all_equal = (relevance_df[a1] == relevance_df[a2]) & (relevance_df[a2] == relevance_df[a3])\n",
    "print(f\"All agreement: {all_equal.sum() / len(relevance_df):.2%}\")"
   ]
  },
  {
   "cell_type": "code",
   "execution_count": 20,
   "id": "415ca84c-b5e6-4c94-bdb4-a9f0fc0be59e",
   "metadata": {},
   "outputs": [
    {
     "data": {
      "text/plain": [
       "0.40203749880846007"
      ]
     },
     "execution_count": 20,
     "metadata": {},
     "output_type": "execute_result"
    }
   ],
   "source": [
    "reliability_data = [relevance_df[annotator].map(get_numeric_relevance) for annotator in relevance_annotators]\n",
    "krippendorff.alpha(reliability_data=reliability_data, level_of_measurement=\"ordinal\")"
   ]
  },
  {
   "cell_type": "code",
   "execution_count": 21,
   "id": "cba5711d-4f6d-4500-8cb8-5599b70d1c39",
   "metadata": {},
   "outputs": [
    {
     "data": {
      "text/plain": [
       "(3, 51)"
      ]
     },
     "execution_count": 21,
     "metadata": {},
     "output_type": "execute_result"
    }
   ],
   "source": [
    "relevance_data = np.array([relevance_df[annotator].map(get_numeric_relevance) for annotator in relevance_annotators])\n",
    "relevance_data.shape"
   ]
  },
  {
   "cell_type": "code",
   "execution_count": 22,
   "id": "5f63bb70-2022-4f8e-bd3f-4fe70064f02d",
   "metadata": {},
   "outputs": [
    {
     "data": {
      "text/plain": [
       "0.13409563409563408"
      ]
     },
     "execution_count": 22,
     "metadata": {},
     "output_type": "execute_result"
    }
   ],
   "source": [
    "# data containing category assignment with subjects in rows and raters in columns\n",
    "arr, categories = statsmodels.stats.inter_rater.aggregate_raters(relevance_data.T, n_cat=len(relevance_answers))\n",
    "statsmodels.stats.inter_rater.fleiss_kappa(arr, method=\"fleiss\")"
   ]
  },
  {
   "cell_type": "code",
   "execution_count": 23,
   "id": "432d9543-9d51-4834-9b64-0ff6a9dedb3a",
   "metadata": {},
   "outputs": [
    {
     "data": {
      "image/png": "[encoded data removed]",
      "text/plain": [
       "<Figure size 276.031x190 with 1 Axes>"
      ]
     },
     "metadata": {},
     "output_type": "display_data"
    }
   ],
   "source": [
    "fig, ax = plt.subplots(1, 1, figsize=(COLUMN_WIDTH_IN / 2, 1.9))\n",
    "\n",
    "xs = relevance_data.reshape(-1)\n",
    "\n",
    "bin_width = 0.25\n",
    "bins = np.arange(0, len(relevance_answers) + bin_width, bin_width)\n",
    "ax.hist(xs, bins=bins, align=\"left\")\n",
    "ax.set_xticks(\n",
    "    list(range(len(relevance_answers))), labels=[f\"{answer}\\n({i})\" for i, answer in enumerate(relevance_answers)]\n",
    ")\n",
    "\n",
    "ax.set_xlabel(\"Relevance\")\n",
    "ax.set_ylabel(\"Annotation count\")\n",
    "\n",
    "fig.tight_layout()\n",
    "plt.show()"
   ]
  },
  {
   "cell_type": "code",
   "execution_count": 24,
   "id": "4b7e6226-714e-4156-93d3-1375c26b5c02",
   "metadata": {},
   "outputs": [
    {
     "data": {
      "image/png": "[encoded data removed]",
      "text/plain": [
       "<Figure size 276.031x80 with 1 Axes>"
      ]
     },
     "metadata": {},
     "output_type": "display_data"
    }
   ],
   "source": [
    "fig, ax = plt.subplots(1, 1, figsize=(COLUMN_WIDTH_IN / 2, 0.8))\n",
    "\n",
    "xs = relevance_data.T.mean(axis=1)\n",
    "\n",
    "bin_width = 0.25\n",
    "bins = np.arange(0, len(relevance_answers) - (bin_width * 2), bin_width)\n",
    "ax.hist(xs, bins=bins, align=\"left\", color=matplotlib.cm.viridis(0.18))\n",
    "ax.set_xticks(\n",
    "    list(range(len(relevance_answers))),\n",
    "    labels=[f\"{answer.capitalize()} ({i})\" for i, answer in enumerate(relevance_answers)],\n",
    "    fontsize=8,\n",
    ")\n",
    "ax.set_yticks([0, 2, 4, 6, 8])\n",
    "\n",
    "# ax.set_xlabel(\"Mean relevance\")\n",
    "ax.set_ylabel(\"# queries\")\n",
    "\n",
    "fig.tight_layout(pad=0)\n",
    "fig.savefig(figures_dir / \"mean_relevance2.pdf\", bbox_inches=\"tight\", pad_inches=0.011, dpi=DPI)\n",
    "plt.show()"
   ]
  },
  {
   "cell_type": "code",
   "execution_count": 25,
   "id": "db74eace-cee9-47c1-a7a1-c17945e42fc0",
   "metadata": {},
   "outputs": [
    {
     "data": {
      "text/plain": [
       "(0.7058823529411765, 0.3333333333333333)"
      ]
     },
     "execution_count": 25,
     "metadata": {},
     "output_type": "execute_result"
    }
   ],
   "source": [
    "mean_relevance = relevance_data.T.mean(axis=1)\n",
    "(mean_relevance >= 1).sum() / len(mean_relevance), (mean_relevance >= 2).sum() / len(mean_relevance)"
   ]
  },
  {
   "cell_type": "code",
   "execution_count": 26,
   "id": "04929f1f-3da2-4c6e-b024-c47404facd67",
   "metadata": {},
   "outputs": [],
   "source": [
    "# make relevance_df numeric\n",
    "relevance_df.loc[:, [\"Chenglu\", \"Zach\", \"Wangda\"]] = relevance_df[[\"Chenglu\", \"Zach\", \"Wangda\"]].map(\n",
    "    get_numeric_relevance\n",
    ")"
   ]
  },
  {
   "cell_type": "code",
   "execution_count": 27,
   "id": "b4ff173f-3f72-45d4-9ba5-8d2be113ecaf",
   "metadata": {},
   "outputs": [
    {
     "data": {
      "text/plain": [
       "(1.3333333333333333, 1.3921568627450978)"
      ]
     },
     "execution_count": 27,
     "metadata": {},
     "output_type": "execute_result"
    }
   ],
   "source": [
    "# create mean_relevance_series\n",
    "mean_relevance_series = (\n",
    "    relevance_df.groupby(\"query\")[[\"Chenglu\", \"Zach\", \"Wangda\"]].apply(np.mean).rename(\"mean_relevance\")\n",
    ")\n",
    "mean_relevance_series.median(), mean_relevance_series.mean()"
   ]
  },
  {
   "cell_type": "code",
   "execution_count": null,
   "id": "0ed3babc-340f-43a9-93fd-0feb8e4c02e6",
   "metadata": {},
   "outputs": [],
   "source": []
  },
  {
   "cell_type": "markdown",
   "id": "10676431-6036-42f4-be32-b88f8aa78127",
   "metadata": {},
   "source": [
    "#### Create or load generations"
   ]
  },
  {
   "cell_type": "code",
   "execution_count": 15,
   "id": "08f49d74-0c03-4ba4-8dc1-585a257d448c",
   "metadata": {},
   "outputs": [
    {
     "data": {
      "text/plain": [
       "255"
      ]
     },
     "execution_count": 15,
     "metadata": {},
     "output_type": "execute_result"
    }
   ],
   "source": [
    "corpus = experiment.generate.GenerationCorpus(data_dir / \"derived\", \"math_corpus_test\")\n",
    "metadata_list = [row.to_dict() for _, row in math_df.iterrows()]\n",
    "len(corpus.generations)"
   ]
  },
  {
   "cell_type": "code",
   "execution_count": 16,
   "id": "5af50a4d-a4a3-4373-aa1e-b4c5a63a4acc",
   "metadata": {},
   "outputs": [],
   "source": [
    "assert corpus.filter_generations() == 0"
   ]
  },
  {
   "cell_type": "code",
   "execution_count": 17,
   "id": "b9a5dcbd-7003-40bf-9bc0-dbb4b0a1b9ff",
   "metadata": {},
   "outputs": [],
   "source": [
    "# conditionally remove\n",
    "# corpus.filter_generations(should_remove_func=lambda generation: generation[\"guidance\"] == \"high\")"
   ]
  },
  {
   "cell_type": "code",
   "execution_count": 17,
   "id": "c44a779d-510e-44e6-a17c-61ad3090203d",
   "metadata": {},
   "outputs": [
    {
     "data": {
      "text/plain": [
       "255"
      ]
     },
     "execution_count": 17,
     "metadata": {},
     "output_type": "execute_result"
    }
   ],
   "source": [
    "len(corpus.generations)"
   ]
  },
  {
   "cell_type": "code",
   "execution_count": 18,
   "id": "764d401c-8993-4eae-bb9a-ffca3fd9f29c",
   "metadata": {},
   "outputs": [
    {
     "data": {
      "text/plain": [
       "0"
      ]
     },
     "execution_count": 18,
     "metadata": {},
     "output_type": "execute_result"
    }
   ],
   "source": [
    "nonmatching_generations = corpus.get_nonmatching_generations(metadata_list)\n",
    "obsolete_df = pd.DataFrame(nonmatching_generations)\n",
    "len(obsolete_df)"
   ]
  },
  {
   "cell_type": "code",
   "execution_count": 19,
   "id": "81d83f50-f52e-45af-b28a-33ba47ad5861",
   "metadata": {},
   "outputs": [
    {
     "ename": "KeyError",
     "evalue": "\"None of [Index(['query_set', 'query', 'generation', 'document', 'guidance', 'corpus'], dtype='object')] are in the [columns]\"",
     "output_type": "error",
     "traceback": [
      "\u001b[0;31m---------------------------------------------------------------------------\u001b[0m",
      "\u001b[0;31mKeyError\u001b[0m                                  Traceback (most recent call last)",
      "Cell \u001b[0;32mIn[19], line 1\u001b[0m\n\u001b[0;32m----> 1\u001b[0m \u001b[38;5;28mprint\u001b[39m(\u001b[43mobsolete_df\u001b[49m\u001b[43m[\u001b[49m\u001b[43m[\u001b[49m\u001b[38;5;124;43m\"\u001b[39;49m\u001b[38;5;124;43mquery_set\u001b[39;49m\u001b[38;5;124;43m\"\u001b[39;49m\u001b[43m,\u001b[49m\u001b[43m \u001b[49m\u001b[38;5;124;43m\"\u001b[39;49m\u001b[38;5;124;43mquery\u001b[39;49m\u001b[38;5;124;43m\"\u001b[39;49m\u001b[43m,\u001b[49m\u001b[43m \u001b[49m\u001b[38;5;124;43m\"\u001b[39;49m\u001b[38;5;124;43mgeneration\u001b[39;49m\u001b[38;5;124;43m\"\u001b[39;49m\u001b[43m,\u001b[49m\u001b[43m \u001b[49m\u001b[38;5;124;43m\"\u001b[39;49m\u001b[38;5;124;43mdocument\u001b[39;49m\u001b[38;5;124;43m\"\u001b[39;49m\u001b[43m,\u001b[49m\u001b[43m \u001b[49m\u001b[38;5;124;43m\"\u001b[39;49m\u001b[38;5;124;43mguidance\u001b[39;49m\u001b[38;5;124;43m\"\u001b[39;49m\u001b[43m,\u001b[49m\u001b[43m \u001b[49m\u001b[38;5;124;43m\"\u001b[39;49m\u001b[38;5;124;43mcorpus\u001b[39;49m\u001b[38;5;124;43m\"\u001b[39;49m\u001b[43m]\u001b[49m\u001b[43m]\u001b[49m\u001b[38;5;241m.\u001b[39mnunique())\n\u001b[1;32m      2\u001b[0m obsolete_df\u001b[38;5;241m.\u001b[39mguidance\u001b[38;5;241m.\u001b[39mvalue_counts()\n",
      "File \u001b[0;32m~/repos/annotation-tools/.venv/lib/python3.10/site-packages/pandas/core/frame.py:3902\u001b[0m, in \u001b[0;36mDataFrame.__getitem__\u001b[0;34m(self, key)\u001b[0m\n\u001b[1;32m   3900\u001b[0m     \u001b[38;5;28;01mif\u001b[39;00m is_iterator(key):\n\u001b[1;32m   3901\u001b[0m         key \u001b[38;5;241m=\u001b[39m \u001b[38;5;28mlist\u001b[39m(key)\n\u001b[0;32m-> 3902\u001b[0m     indexer \u001b[38;5;241m=\u001b[39m \u001b[38;5;28;43mself\u001b[39;49m\u001b[38;5;241;43m.\u001b[39;49m\u001b[43mcolumns\u001b[49m\u001b[38;5;241;43m.\u001b[39;49m\u001b[43m_get_indexer_strict\u001b[49m\u001b[43m(\u001b[49m\u001b[43mkey\u001b[49m\u001b[43m,\u001b[49m\u001b[43m \u001b[49m\u001b[38;5;124;43m\"\u001b[39;49m\u001b[38;5;124;43mcolumns\u001b[39;49m\u001b[38;5;124;43m\"\u001b[39;49m\u001b[43m)\u001b[49m[\u001b[38;5;241m1\u001b[39m]\n\u001b[1;32m   3904\u001b[0m \u001b[38;5;66;03m# take() does not accept boolean indexers\u001b[39;00m\n\u001b[1;32m   3905\u001b[0m \u001b[38;5;28;01mif\u001b[39;00m \u001b[38;5;28mgetattr\u001b[39m(indexer, \u001b[38;5;124m\"\u001b[39m\u001b[38;5;124mdtype\u001b[39m\u001b[38;5;124m\"\u001b[39m, \u001b[38;5;28;01mNone\u001b[39;00m) \u001b[38;5;241m==\u001b[39m \u001b[38;5;28mbool\u001b[39m:\n",
      "File \u001b[0;32m~/repos/annotation-tools/.venv/lib/python3.10/site-packages/pandas/core/indexes/base.py:6114\u001b[0m, in \u001b[0;36mIndex._get_indexer_strict\u001b[0;34m(self, key, axis_name)\u001b[0m\n\u001b[1;32m   6111\u001b[0m \u001b[38;5;28;01melse\u001b[39;00m:\n\u001b[1;32m   6112\u001b[0m     keyarr, indexer, new_indexer \u001b[38;5;241m=\u001b[39m \u001b[38;5;28mself\u001b[39m\u001b[38;5;241m.\u001b[39m_reindex_non_unique(keyarr)\n\u001b[0;32m-> 6114\u001b[0m \u001b[38;5;28;43mself\u001b[39;49m\u001b[38;5;241;43m.\u001b[39;49m\u001b[43m_raise_if_missing\u001b[49m\u001b[43m(\u001b[49m\u001b[43mkeyarr\u001b[49m\u001b[43m,\u001b[49m\u001b[43m \u001b[49m\u001b[43mindexer\u001b[49m\u001b[43m,\u001b[49m\u001b[43m \u001b[49m\u001b[43maxis_name\u001b[49m\u001b[43m)\u001b[49m\n\u001b[1;32m   6116\u001b[0m keyarr \u001b[38;5;241m=\u001b[39m \u001b[38;5;28mself\u001b[39m\u001b[38;5;241m.\u001b[39mtake(indexer)\n\u001b[1;32m   6117\u001b[0m \u001b[38;5;28;01mif\u001b[39;00m \u001b[38;5;28misinstance\u001b[39m(key, Index):\n\u001b[1;32m   6118\u001b[0m     \u001b[38;5;66;03m# GH 42790 - Preserve name from an Index\u001b[39;00m\n",
      "File \u001b[0;32m~/repos/annotation-tools/.venv/lib/python3.10/site-packages/pandas/core/indexes/base.py:6175\u001b[0m, in \u001b[0;36mIndex._raise_if_missing\u001b[0;34m(self, key, indexer, axis_name)\u001b[0m\n\u001b[1;32m   6173\u001b[0m     \u001b[38;5;28;01mif\u001b[39;00m use_interval_msg:\n\u001b[1;32m   6174\u001b[0m         key \u001b[38;5;241m=\u001b[39m \u001b[38;5;28mlist\u001b[39m(key)\n\u001b[0;32m-> 6175\u001b[0m     \u001b[38;5;28;01mraise\u001b[39;00m \u001b[38;5;167;01mKeyError\u001b[39;00m(\u001b[38;5;124mf\u001b[39m\u001b[38;5;124m\"\u001b[39m\u001b[38;5;124mNone of [\u001b[39m\u001b[38;5;132;01m{\u001b[39;00mkey\u001b[38;5;132;01m}\u001b[39;00m\u001b[38;5;124m] are in the [\u001b[39m\u001b[38;5;132;01m{\u001b[39;00maxis_name\u001b[38;5;132;01m}\u001b[39;00m\u001b[38;5;124m]\u001b[39m\u001b[38;5;124m\"\u001b[39m)\n\u001b[1;32m   6177\u001b[0m not_found \u001b[38;5;241m=\u001b[39m \u001b[38;5;28mlist\u001b[39m(ensure_index(key)[missing_mask\u001b[38;5;241m.\u001b[39mnonzero()[\u001b[38;5;241m0\u001b[39m]]\u001b[38;5;241m.\u001b[39munique())\n\u001b[1;32m   6178\u001b[0m \u001b[38;5;28;01mraise\u001b[39;00m \u001b[38;5;167;01mKeyError\u001b[39;00m(\u001b[38;5;124mf\u001b[39m\u001b[38;5;124m\"\u001b[39m\u001b[38;5;132;01m{\u001b[39;00mnot_found\u001b[38;5;132;01m}\u001b[39;00m\u001b[38;5;124m not in index\u001b[39m\u001b[38;5;124m\"\u001b[39m)\n",
      "\u001b[0;31mKeyError\u001b[0m: \"None of [Index(['query_set', 'query', 'generation', 'document', 'guidance', 'corpus'], dtype='object')] are in the [columns]\""
     ]
    }
   ],
   "source": [
    "print(obsolete_df[[\"query_set\", \"query\", \"generation\", \"document\", \"guidance\", \"corpus\"]].nunique())\n",
    "obsolete_df.guidance.value_counts()"
   ]
  },
  {
   "cell_type": "code",
   "execution_count": null,
   "id": "ac07f763-6a3c-400f-ab82-ff183b2c5577",
   "metadata": {},
   "outputs": [],
   "source": [
    "# remove non-matching from the generations list\n",
    "_ = corpus.get_nonmatching_generations(metadata_list, should_remove_nonmatching=True)\n",
    "len(corpus.generations)"
   ]
  },
  {
   "cell_type": "code",
   "execution_count": 23,
   "id": "736c34a9-a6a6-43fb-8467-aefdb886f630",
   "metadata": {},
   "outputs": [],
   "source": [
    "# optionally, overwrite to forget deleted generations\n",
    "corpus.overwrite()"
   ]
  },
  {
   "cell_type": "code",
   "execution_count": 20,
   "id": "3a71aec4-6704-47ce-b1ba-74b4d7e99c15",
   "metadata": {},
   "outputs": [
    {
     "data": {
      "text/plain": [
       "(96000.0, 24.0)"
      ]
     },
     "execution_count": 20,
     "metadata": {},
     "output_type": "execute_result"
    }
   ],
   "source": [
    "# limiting factor is tokens per minute\n",
    "# https://platform.openai.com/docs/guides/rate-limits/overview\n",
    "max_tokens_per_minute = 90000\n",
    "\n",
    "request_tokens = 4000\n",
    "n_processes = 8\n",
    "sleep_time = 16\n",
    "request_time = 4 + sleep_time\n",
    "process_tokens_per_minute = (request_tokens / request_time) * 60\n",
    "tokens_per_minute = process_tokens_per_minute * n_processes\n",
    "tokens_per_minute, tokens_per_minute / request_tokens  # approximate requests per minute"
   ]
  },
  {
   "cell_type": "code",
   "execution_count": 21,
   "id": "03da99bc-9922-4ad7-980b-1cc7ced9f731",
   "metadata": {},
   "outputs": [
    {
     "data": {
      "text/plain": [
       "(0, 204)"
      ]
     },
     "execution_count": 21,
     "metadata": {},
     "output_type": "execute_result"
    }
   ],
   "source": [
    "len(corpus.batch_filter_not_already_generated(metadata_list)), len(metadata_list)"
   ]
  },
  {
   "cell_type": "code",
   "execution_count": 22,
   "id": "f6121147-ab53-4364-9b8f-8f66b83adcc6",
   "metadata": {},
   "outputs": [
    {
     "data": {
      "text/plain": [
       "(0, 255)"
      ]
     },
     "execution_count": 22,
     "metadata": {},
     "output_type": "execute_result"
    }
   ],
   "source": [
    "n_generated = corpus.batch_generate(\n",
    "    metadata_list,\n",
    "    n_processes=8,\n",
    "    sleep=16.0,\n",
    "    should_log_successful=True,\n",
    "    request_timeout=40,\n",
    ")\n",
    "n_generated, len(corpus.generations)"
   ]
  },
  {
   "cell_type": "code",
   "execution_count": 23,
   "id": "93a9ff66-a53e-4f95-a68b-30072c1d1cf1",
   "metadata": {},
   "outputs": [
    {
     "name": "stdout",
     "output_type": "stream",
     "text": [
      "255\n",
      "204\n"
     ]
    },
    {
     "data": {
      "text/html": [
       "<div>\n",
       "<style scoped>\n",
       "    .dataframe tbody tr th:only-of-type {\n",
       "        vertical-align: middle;\n",
       "    }\n",
       "\n",
       "    .dataframe tbody tr th {\n",
       "        vertical-align: top;\n",
       "    }\n",
       "\n",
       "    .dataframe thead th {\n",
       "        text-align: right;\n",
       "    }\n",
       "</style>\n",
       "<table border=\"1\" class=\"dataframe\">\n",
       "  <thead>\n",
       "    <tr style=\"text-align: right;\">\n",
       "      <th></th>\n",
       "      <th>query_set</th>\n",
       "      <th>query</th>\n",
       "      <th>generation</th>\n",
       "      <th>document</th>\n",
       "      <th>guidance</th>\n",
       "      <th>messages</th>\n",
       "      <th>corpus</th>\n",
       "    </tr>\n",
       "  </thead>\n",
       "  <tbody>\n",
       "    <tr>\n",
       "      <th>126</th>\n",
       "      <td>math_nation</td>\n",
       "      <td>what is the difference between communtative pr...</td>\n",
       "      <td>According to the student's question, the most ...</td>\n",
       "      <td>Use the Commutative and Associative Properties...</td>\n",
       "      <td>extract_relevant</td>\n",
       "      <td>[{'role': 'user', 'content': 'Given a middle-s...</td>\n",
       "      <td>math</td>\n",
       "    </tr>\n",
       "  </tbody>\n",
       "</table>\n",
       "</div>"
      ],
      "text/plain": [
       "       query_set                                              query  \\\n",
       "126  math_nation  what is the difference between communtative pr...   \n",
       "\n",
       "                                            generation  \\\n",
       "126  According to the student's question, the most ...   \n",
       "\n",
       "                                              document          guidance  \\\n",
       "126  Use the Commutative and Associative Properties...  extract_relevant   \n",
       "\n",
       "                                              messages corpus  \n",
       "126  [{'role': 'user', 'content': 'Given a middle-s...   math  "
      ]
     },
     "execution_count": 23,
     "metadata": {},
     "output_type": "execute_result"
    }
   ],
   "source": [
    "math_df = pd.DataFrame(corpus.generations)\n",
    "print(len(math_df))\n",
    "math_df = math_df.drop_duplicates(subset=[\"query_set\", \"query\", \"guidance\", \"corpus\"], keep=\"last\")\n",
    "print(len(math_df))\n",
    "math_df.sample(n=1)"
   ]
  },
  {
   "cell_type": "code",
   "execution_count": 24,
   "id": "88762a06-5571-4f5f-9b66-5b2dde62dbca",
   "metadata": {},
   "outputs": [
    {
     "data": {
      "text/plain": [
       "guidance\n",
       "low                 51\n",
       "extract_relevant    51\n",
       "none                51\n",
       "high                51\n",
       "Name: count, dtype: int64"
      ]
     },
     "execution_count": 24,
     "metadata": {},
     "output_type": "execute_result"
    }
   ],
   "source": [
    "math_df.guidance.value_counts()"
   ]
  },
  {
   "cell_type": "code",
   "execution_count": 25,
   "id": "4c8a7a3e-c0c5-49eb-a4a4-65261e1ae428",
   "metadata": {},
   "outputs": [],
   "source": [
    "verbose = False\n",
    "if verbose:\n",
    "    query_sample = np.random.choice(list(set(math_df[\"query\"])), size=4, replace=False)\n",
    "    for query, group in math_df[math_df[\"query\"].isin(query_sample)].groupby(\"query\"):\n",
    "        print(f\"=== {query} ===\")\n",
    "        print(group.iloc[0].document)\n",
    "        for row in group.itertuples():\n",
    "            print(f\"+++ {row.guidance} +++\")\n",
    "            print(row.generation)\n",
    "            print()\n",
    "        print()"
   ]
  },
  {
   "cell_type": "code",
   "execution_count": null,
   "id": "1619f0ed-62c2-4918-9556-0c36a9a1a73a",
   "metadata": {},
   "outputs": [],
   "source": []
  },
  {
   "cell_type": "code",
   "execution_count": null,
   "id": "e0f4fb42-2b0e-44de-9a26-f0b23bbce962",
   "metadata": {},
   "outputs": [],
   "source": []
  },
  {
   "cell_type": "markdown",
   "id": "48d3bc31-3ee4-4c4c-be71-9a8653c0e281",
   "metadata": {},
   "source": [
    "#### Save math_df"
   ]
  },
  {
   "cell_type": "code",
   "execution_count": 40,
   "id": "c11e23ad-8744-483c-806b-f2d60c80d8be",
   "metadata": {},
   "outputs": [
    {
     "data": {
      "text/html": [
       "<div>\n",
       "<style scoped>\n",
       "    .dataframe tbody tr th:only-of-type {\n",
       "        vertical-align: middle;\n",
       "    }\n",
       "\n",
       "    .dataframe tbody tr th {\n",
       "        vertical-align: top;\n",
       "    }\n",
       "\n",
       "    .dataframe thead th {\n",
       "        text-align: right;\n",
       "    }\n",
       "</style>\n",
       "<table border=\"1\" class=\"dataframe\">\n",
       "  <thead>\n",
       "    <tr style=\"text-align: right;\">\n",
       "      <th></th>\n",
       "      <th>query_set</th>\n",
       "      <th>query</th>\n",
       "      <th>generation</th>\n",
       "      <th>document</th>\n",
       "      <th>guidance</th>\n",
       "      <th>messages</th>\n",
       "      <th>corpus</th>\n",
       "    </tr>\n",
       "  </thead>\n",
       "  <tbody>\n",
       "    <tr>\n",
       "      <th>187</th>\n",
       "      <td>math_nation</td>\n",
       "      <td>How do you find the zeros of a function by gra...</td>\n",
       "      <td>To find the zeros of a function by graphing, y...</td>\n",
       "      <td>Plot Points on a Rectangular Coordinate System...</td>\n",
       "      <td>none</td>\n",
       "      <td>[{'role': 'system', 'content': 'You are going ...</td>\n",
       "      <td>math</td>\n",
       "    </tr>\n",
       "  </tbody>\n",
       "</table>\n",
       "</div>"
      ],
      "text/plain": [
       "       query_set                                              query  \\\n",
       "187  math_nation  How do you find the zeros of a function by gra...   \n",
       "\n",
       "                                            generation  \\\n",
       "187  To find the zeros of a function by graphing, y...   \n",
       "\n",
       "                                              document guidance  \\\n",
       "187  Plot Points on a Rectangular Coordinate System...     none   \n",
       "\n",
       "                                              messages corpus  \n",
       "187  [{'role': 'system', 'content': 'You are going ...   math  "
      ]
     },
     "execution_count": 40,
     "metadata": {},
     "output_type": "execute_result"
    }
   ],
   "source": [
    "math_df.sample(n=1)"
   ]
  },
  {
   "cell_type": "code",
   "execution_count": 41,
   "id": "70ad6eb8-f694-442a-8af6-74049d7a9a8f",
   "metadata": {},
   "outputs": [],
   "source": [
    "generations_dir = data_dir / \"derived\" / \"generations\"\n",
    "generations_dir.mkdir(exist_ok=True)\n",
    "math_df.to_csv(generations_dir / \"math_df.csv\", index=False)"
   ]
  },
  {
   "cell_type": "markdown",
   "id": "5ed70cf4-1712-4108-96f8-5f0dc09120c9",
   "metadata": {},
   "source": [
    "#### Compute automated metrics"
   ]
  },
  {
   "cell_type": "code",
   "execution_count": 12,
   "id": "7ffeafd4-7488-4e48-a185-93ef9e723a25",
   "metadata": {},
   "outputs": [
    {
     "data": {
      "text/html": [
       "<div>\n",
       "<style scoped>\n",
       "    .dataframe tbody tr th:only-of-type {\n",
       "        vertical-align: middle;\n",
       "    }\n",
       "\n",
       "    .dataframe tbody tr th {\n",
       "        vertical-align: top;\n",
       "    }\n",
       "\n",
       "    .dataframe thead th {\n",
       "        text-align: right;\n",
       "    }\n",
       "</style>\n",
       "<table border=\"1\" class=\"dataframe\">\n",
       "  <thead>\n",
       "    <tr style=\"text-align: right;\">\n",
       "      <th></th>\n",
       "      <th>query_set</th>\n",
       "      <th>query</th>\n",
       "      <th>generation</th>\n",
       "      <th>document</th>\n",
       "      <th>guidance</th>\n",
       "      <th>messages</th>\n",
       "      <th>corpus</th>\n",
       "    </tr>\n",
       "  </thead>\n",
       "  <tbody>\n",
       "    <tr>\n",
       "      <th>46</th>\n",
       "      <td>math_nation</td>\n",
       "      <td>How do you find the domain and range that are ...</td>\n",
       "      <td>To find the domain and range for a function, w...</td>\n",
       "      <td>Use Division Notation: So far we have explored...</td>\n",
       "      <td>low</td>\n",
       "      <td>[{'role': 'system', 'content': 'You are going ...</td>\n",
       "      <td>math</td>\n",
       "    </tr>\n",
       "  </tbody>\n",
       "</table>\n",
       "</div>"
      ],
      "text/plain": [
       "      query_set                                              query  \\\n",
       "46  math_nation  How do you find the domain and range that are ...   \n",
       "\n",
       "                                           generation  \\\n",
       "46  To find the domain and range for a function, w...   \n",
       "\n",
       "                                             document guidance  \\\n",
       "46  Use Division Notation: So far we have explored...      low   \n",
       "\n",
       "                                             messages corpus  \n",
       "46  [{'role': 'system', 'content': 'You are going ...   math  "
      ]
     },
     "execution_count": 12,
     "metadata": {},
     "output_type": "execute_result"
    }
   ],
   "source": [
    "# load the data, if previously cached\n",
    "generations_dir = data_dir / \"derived\" / \"generations\"\n",
    "math_df = pd.read_csv(generations_dir / \"math_df.csv\")\n",
    "math_df.sample(n=1)"
   ]
  },
  {
   "cell_type": "code",
   "execution_count": 13,
   "id": "68ecb1dc-e555-4a7c-b91e-e7113c6625f5",
   "metadata": {},
   "outputs": [
    {
     "name": "stderr",
     "output_type": "stream",
     "text": [
      "2023-12-08 17:59:32,299 - evaluate_modules.metrics.evaluate-metric--bleurt.98e148b2f8c4a88aba5037e4e0e90c9fd9ec35dc37a054ded8cfef0fa801ffab.bleurt - WARNING - Using default BLEURT-Base checkpoint for sequence maximum length 128. You can use a bigger model for better results with e.g.: evaluate.load('bleurt', 'bleurt-large-512').\n"
     ]
    },
    {
     "name": "stdout",
     "output_type": "stream",
     "text": [
      "INFO:tensorflow:Reading checkpoint /Users/zacharylevonian/.cache/huggingface/metrics/bleurt/default/downloads/extracted/c344adb923f0c495f61e1f40865ccb4ce783ec9297c810bb96017735fbae8a91/bleurt-base-128.\n"
     ]
    },
    {
     "name": "stderr",
     "output_type": "stream",
     "text": [
      "2023-12-08 17:59:32,674 - tensorflow - INFO - Reading checkpoint /Users/zacharylevonian/.cache/huggingface/metrics/bleurt/default/downloads/extracted/c344adb923f0c495f61e1f40865ccb4ce783ec9297c810bb96017735fbae8a91/bleurt-base-128.\n"
     ]
    },
    {
     "name": "stdout",
     "output_type": "stream",
     "text": [
      "INFO:tensorflow:Config file found, reading.\n"
     ]
    },
    {
     "name": "stderr",
     "output_type": "stream",
     "text": [
      "2023-12-08 17:59:32,674 - tensorflow - INFO - Config file found, reading.\n"
     ]
    },
    {
     "name": "stdout",
     "output_type": "stream",
     "text": [
      "INFO:tensorflow:Will load checkpoint bert_custom\n"
     ]
    },
    {
     "name": "stderr",
     "output_type": "stream",
     "text": [
      "2023-12-08 17:59:32,675 - tensorflow - INFO - Will load checkpoint bert_custom\n"
     ]
    },
    {
     "name": "stdout",
     "output_type": "stream",
     "text": [
      "INFO:tensorflow:Loads full paths and checks that files exists.\n"
     ]
    },
    {
     "name": "stderr",
     "output_type": "stream",
     "text": [
      "2023-12-08 17:59:32,676 - tensorflow - INFO - Loads full paths and checks that files exists.\n"
     ]
    },
    {
     "name": "stdout",
     "output_type": "stream",
     "text": [
      "INFO:tensorflow:... name:bert_custom\n"
     ]
    },
    {
     "name": "stderr",
     "output_type": "stream",
     "text": [
      "2023-12-08 17:59:32,676 - tensorflow - INFO - ... name:bert_custom\n"
     ]
    },
    {
     "name": "stdout",
     "output_type": "stream",
     "text": [
      "INFO:tensorflow:... vocab_file:vocab.txt\n"
     ]
    },
    {
     "name": "stderr",
     "output_type": "stream",
     "text": [
      "2023-12-08 17:59:32,677 - tensorflow - INFO - ... vocab_file:vocab.txt\n"
     ]
    },
    {
     "name": "stdout",
     "output_type": "stream",
     "text": [
      "INFO:tensorflow:... bert_config_file:bert_config.json\n"
     ]
    },
    {
     "name": "stderr",
     "output_type": "stream",
     "text": [
      "2023-12-08 17:59:32,677 - tensorflow - INFO - ... bert_config_file:bert_config.json\n"
     ]
    },
    {
     "name": "stdout",
     "output_type": "stream",
     "text": [
      "INFO:tensorflow:... do_lower_case:True\n"
     ]
    },
    {
     "name": "stderr",
     "output_type": "stream",
     "text": [
      "2023-12-08 17:59:32,678 - tensorflow - INFO - ... do_lower_case:True\n"
     ]
    },
    {
     "name": "stdout",
     "output_type": "stream",
     "text": [
      "INFO:tensorflow:... max_seq_length:128\n"
     ]
    },
    {
     "name": "stderr",
     "output_type": "stream",
     "text": [
      "2023-12-08 17:59:32,678 - tensorflow - INFO - ... max_seq_length:128\n"
     ]
    },
    {
     "name": "stdout",
     "output_type": "stream",
     "text": [
      "INFO:tensorflow:Creating BLEURT scorer.\n"
     ]
    },
    {
     "name": "stderr",
     "output_type": "stream",
     "text": [
      "2023-12-08 17:59:32,678 - tensorflow - INFO - Creating BLEURT scorer.\n"
     ]
    },
    {
     "name": "stdout",
     "output_type": "stream",
     "text": [
      "INFO:tensorflow:Creating WordPiece tokenizer.\n"
     ]
    },
    {
     "name": "stderr",
     "output_type": "stream",
     "text": [
      "2023-12-08 17:59:32,679 - tensorflow - INFO - Creating WordPiece tokenizer.\n"
     ]
    },
    {
     "name": "stdout",
     "output_type": "stream",
     "text": [
      "INFO:tensorflow:WordPiece tokenizer instantiated.\n"
     ]
    },
    {
     "name": "stderr",
     "output_type": "stream",
     "text": [
      "2023-12-08 17:59:32,717 - tensorflow - INFO - WordPiece tokenizer instantiated.\n"
     ]
    },
    {
     "name": "stdout",
     "output_type": "stream",
     "text": [
      "INFO:tensorflow:Creating Eager Mode predictor.\n"
     ]
    },
    {
     "name": "stderr",
     "output_type": "stream",
     "text": [
      "2023-12-08 17:59:32,718 - tensorflow - INFO - Creating Eager Mode predictor.\n"
     ]
    },
    {
     "name": "stdout",
     "output_type": "stream",
     "text": [
      "INFO:tensorflow:Loading model.\n"
     ]
    },
    {
     "name": "stderr",
     "output_type": "stream",
     "text": [
      "2023-12-08 17:59:32,719 - tensorflow - INFO - Loading model.\n",
      "2023-12-08 17:59:33,949 - absl - INFO - Fingerprint not found. Saved model loading will continue.\n"
     ]
    },
    {
     "name": "stdout",
     "output_type": "stream",
     "text": [
      "INFO:tensorflow:BLEURT initialized.\n"
     ]
    },
    {
     "name": "stderr",
     "output_type": "stream",
     "text": [
      "2023-12-08 17:59:33,952 - tensorflow - INFO - BLEURT initialized.\n"
     ]
    }
   ],
   "source": [
    "assert experiment.metrics.get_bleurt_metric_object() is not None\n",
    "assert experiment.metrics.get_bertscore_metric_object() is not None"
   ]
  },
  {
   "cell_type": "code",
   "execution_count": 14,
   "id": "cc042412-3622-4d4d-9310-353ca25316ec",
   "metadata": {},
   "outputs": [
    {
     "name": "stderr",
     "output_type": "stream",
     "text": [
      "  0%|                                                                                                    | 0/204 [00:00<?, ?it/s]Some weights of RobertaModel were not initialized from the model checkpoint at roberta-large and are newly initialized: ['roberta.pooler.dense.bias', 'roberta.pooler.dense.weight']\n",
      "You should probably TRAIN this model on a down-stream task to be able to use it for predictions and inference.\n",
      "100%|██████████████████████████████████████████████████████████████████████████████████████████| 204/204 [05:51<00:00,  1.72s/it]\n"
     ]
    },
    {
     "data": {
      "text/html": [
       "<div>\n",
       "<style scoped>\n",
       "    .dataframe tbody tr th:only-of-type {\n",
       "        vertical-align: middle;\n",
       "    }\n",
       "\n",
       "    .dataframe tbody tr th {\n",
       "        vertical-align: top;\n",
       "    }\n",
       "\n",
       "    .dataframe thead th {\n",
       "        text-align: right;\n",
       "    }\n",
       "</style>\n",
       "<table border=\"1\" class=\"dataframe\">\n",
       "  <thead>\n",
       "    <tr style=\"text-align: right;\">\n",
       "      <th></th>\n",
       "      <th>Index</th>\n",
       "      <th>query_set</th>\n",
       "      <th>query</th>\n",
       "      <th>generation</th>\n",
       "      <th>document</th>\n",
       "      <th>guidance</th>\n",
       "      <th>messages</th>\n",
       "      <th>corpus</th>\n",
       "      <th>f1</th>\n",
       "      <th>bleurt</th>\n",
       "      <th>bertscore</th>\n",
       "    </tr>\n",
       "  </thead>\n",
       "  <tbody>\n",
       "    <tr>\n",
       "      <th>0</th>\n",
       "      <td>0</td>\n",
       "      <td>math_nation</td>\n",
       "      <td>Can I get the steps for factoring quadratics</td>\n",
       "      <td>Of course! Factoring quadratics can be done us...</td>\n",
       "      <td>Find the Greatest Common Factor of Two or More...</td>\n",
       "      <td>low</td>\n",
       "      <td>[{'role': 'system', 'content': 'You are going ...</td>\n",
       "      <td>math</td>\n",
       "      <td>0.362694</td>\n",
       "      <td>-0.785839</td>\n",
       "      <td>0.837763</td>\n",
       "    </tr>\n",
       "  </tbody>\n",
       "</table>\n",
       "</div>"
      ],
      "text/plain": [
       "   Index    query_set                                         query  \\\n",
       "0      0  math_nation  Can I get the steps for factoring quadratics   \n",
       "\n",
       "                                          generation  \\\n",
       "0  Of course! Factoring quadratics can be done us...   \n",
       "\n",
       "                                            document guidance  \\\n",
       "0  Find the Greatest Common Factor of Two or More...      low   \n",
       "\n",
       "                                            messages corpus        f1  \\\n",
       "0  [{'role': 'system', 'content': 'You are going ...   math  0.362694   \n",
       "\n",
       "     bleurt  bertscore  \n",
       "0 -0.785839   0.837763  "
      ]
     },
     "execution_count": 14,
     "metadata": {},
     "output_type": "execute_result"
    }
   ],
   "source": [
    "sdf = math_df\n",
    "assert sdf.query_set.nunique() == 1\n",
    "ds = []\n",
    "for row in tqdm(sdf.itertuples(), total=len(sdf)):\n",
    "    passages = row.document.split(\"\\n\")\n",
    "    f1 = experiment.metrics.compute_macro_f1(passages, row.generation, discount_text=row.query)\n",
    "    bleurt = experiment.metrics.compute_bleurt(passages, row.generation)\n",
    "    bertscore = experiment.metrics.compute_bertscore(passages, row.generation)\n",
    "    ds.append(\n",
    "        {\n",
    "            **row._asdict(),\n",
    "            \"f1\": f1,\n",
    "            \"bleurt\": bleurt,\n",
    "            \"bertscore\": bertscore,\n",
    "        }\n",
    "    )\n",
    "autometric_df = pd.DataFrame(ds)\n",
    "autometric_df.head(1)"
   ]
  },
  {
   "cell_type": "code",
   "execution_count": 15,
   "id": "4dc095de-a0cb-48aa-bafa-3cd1279da6d1",
   "metadata": {},
   "outputs": [
    {
     "data": {
      "image/png": "[encoded data removed]",
      "text/plain": [
       "<Figure size 552.062x190 with 3 Axes>"
      ]
     },
     "metadata": {},
     "output_type": "display_data"
    }
   ],
   "source": [
    "fig, axes = plt.subplots(1, 3, figsize=(COLUMN_WIDTH_IN, 1.9))\n",
    "mdf = autometric_df\n",
    "for ax, metric in zip(axes, [\"f1\", \"bleurt\", \"bertscore\"]):\n",
    "    assert metric in mdf.columns\n",
    "    ax.hist(mdf[metric], bins=50)\n",
    "    ax.set_title(metric)\n",
    "\n",
    "fig.suptitle(\"Distribution of automated metrics\")\n",
    "fig.tight_layout(pad=0.8)\n",
    "plt.show()"
   ]
  },
  {
   "cell_type": "code",
   "execution_count": 16,
   "id": "88bd9a4c-7656-4ba5-9476-f5b6ac1e3f4a",
   "metadata": {},
   "outputs": [
    {
     "data": {
      "text/html": [
       "<div>\n",
       "<style scoped>\n",
       "    .dataframe tbody tr th:only-of-type {\n",
       "        vertical-align: middle;\n",
       "    }\n",
       "\n",
       "    .dataframe tbody tr th {\n",
       "        vertical-align: top;\n",
       "    }\n",
       "\n",
       "    .dataframe thead th {\n",
       "        text-align: right;\n",
       "    }\n",
       "</style>\n",
       "<table border=\"1\" class=\"dataframe\">\n",
       "  <thead>\n",
       "    <tr style=\"text-align: right;\">\n",
       "      <th></th>\n",
       "      <th>guidance</th>\n",
       "      <th>query_set</th>\n",
       "      <th>macro_f1</th>\n",
       "      <th>macro_f1_low</th>\n",
       "      <th>macro_f1_high</th>\n",
       "      <th>bleurt</th>\n",
       "      <th>bleurt_low</th>\n",
       "      <th>bleurt_high</th>\n",
       "      <th>bertscore</th>\n",
       "      <th>bertscore_low</th>\n",
       "      <th>bertscore_high</th>\n",
       "    </tr>\n",
       "  </thead>\n",
       "  <tbody>\n",
       "    <tr>\n",
       "      <th>3</th>\n",
       "      <td>none</td>\n",
       "      <td>math_nation</td>\n",
       "      <td>0.270858</td>\n",
       "      <td>0.254724</td>\n",
       "      <td>0.286991</td>\n",
       "      <td>-0.571418</td>\n",
       "      <td>-0.619313</td>\n",
       "      <td>-0.523524</td>\n",
       "      <td>0.833604</td>\n",
       "      <td>0.830900</td>\n",
       "      <td>0.836308</td>\n",
       "    </tr>\n",
       "    <tr>\n",
       "      <th>2</th>\n",
       "      <td>low</td>\n",
       "      <td>math_nation</td>\n",
       "      <td>0.287759</td>\n",
       "      <td>0.269676</td>\n",
       "      <td>0.305841</td>\n",
       "      <td>-0.551136</td>\n",
       "      <td>-0.601682</td>\n",
       "      <td>-0.500591</td>\n",
       "      <td>0.836041</td>\n",
       "      <td>0.833053</td>\n",
       "      <td>0.839030</td>\n",
       "    </tr>\n",
       "    <tr>\n",
       "      <th>1</th>\n",
       "      <td>high</td>\n",
       "      <td>math_nation</td>\n",
       "      <td>0.355556</td>\n",
       "      <td>0.333788</td>\n",
       "      <td>0.377324</td>\n",
       "      <td>-0.464588</td>\n",
       "      <td>-0.522172</td>\n",
       "      <td>-0.407004</td>\n",
       "      <td>0.848303</td>\n",
       "      <td>0.844029</td>\n",
       "      <td>0.852577</td>\n",
       "    </tr>\n",
       "    <tr>\n",
       "      <th>0</th>\n",
       "      <td>extract_relevant</td>\n",
       "      <td>math_nation</td>\n",
       "      <td>0.672882</td>\n",
       "      <td>0.585646</td>\n",
       "      <td>0.760118</td>\n",
       "      <td>-0.480035</td>\n",
       "      <td>-0.612709</td>\n",
       "      <td>-0.347361</td>\n",
       "      <td>0.919087</td>\n",
       "      <td>0.903411</td>\n",
       "      <td>0.934763</td>\n",
       "    </tr>\n",
       "  </tbody>\n",
       "</table>\n",
       "</div>"
      ],
      "text/plain": [
       "           guidance    query_set  macro_f1  macro_f1_low  macro_f1_high  \\\n",
       "3              none  math_nation  0.270858      0.254724       0.286991   \n",
       "2               low  math_nation  0.287759      0.269676       0.305841   \n",
       "1              high  math_nation  0.355556      0.333788       0.377324   \n",
       "0  extract_relevant  math_nation  0.672882      0.585646       0.760118   \n",
       "\n",
       "     bleurt  bleurt_low  bleurt_high  bertscore  bertscore_low  bertscore_high  \n",
       "3 -0.571418   -0.619313    -0.523524   0.833604       0.830900        0.836308  \n",
       "2 -0.551136   -0.601682    -0.500591   0.836041       0.833053        0.839030  \n",
       "1 -0.464588   -0.522172    -0.407004   0.848303       0.844029        0.852577  \n",
       "0 -0.480035   -0.612709    -0.347361   0.919087       0.903411        0.934763  "
      ]
     },
     "execution_count": 16,
     "metadata": {},
     "output_type": "execute_result"
    }
   ],
   "source": [
    "use_bootstrap = False\n",
    "\n",
    "ds = []\n",
    "for guidance, group in autometric_df.groupby(\"guidance\"):\n",
    "    assert group[\"query\"].nunique() == len(group)\n",
    "    if use_bootstrap:\n",
    "        # bootstrap confidence intervals\n",
    "        bootstrap = scipy.stats.bootstrap((group.f1,), np.mean, confidence_level=0.95, random_state=rng)\n",
    "        f1_low, f1_high = bootstrap.confidence_interval.low, bootstrap.confidence_interval.high\n",
    "        bleurt_bootstrap = scipy.stats.bootstrap((group.bleurt,), np.mean, confidence_level=0.95, random_state=rng)\n",
    "        bleurt_low, bleurt_high = bleurt_bootstrap.confidence_interval.low, bleurt_bootstrap.confidence_interval.high\n",
    "        bertscore_bootstrap = scipy.stats.bootstrap(\n",
    "            (group.bertscore,), np.mean, confidence_level=0.95, random_state=rng\n",
    "        )\n",
    "        bertscore_low, bertscore_high = (\n",
    "            bertscore_bootstrap.confidence_interval.low,\n",
    "            bertscore_bootstrap.confidence_interval.high,\n",
    "        )\n",
    "    else:\n",
    "        f1_low, f1_high = statsmodels.stats.weightstats.zconfint(group.f1, alpha=0.05)\n",
    "        bleurt_low, bleurt_high = statsmodels.stats.weightstats.zconfint(group.bleurt, alpha=0.05)\n",
    "        bertscore_low, bertscore_high = statsmodels.stats.weightstats.zconfint(group.bertscore, alpha=0.05)\n",
    "    ds.append(\n",
    "        {\n",
    "            \"guidance\": guidance,\n",
    "            \"query_set\": group.iloc[0].query_set,\n",
    "            \"macro_f1\": group.f1.mean(),\n",
    "            \"macro_f1_low\": f1_low,\n",
    "            \"macro_f1_high\": f1_high,\n",
    "            \"bleurt\": group.bleurt.mean(),\n",
    "            \"bleurt_low\": bleurt_low,\n",
    "            \"bleurt_high\": bleurt_high,\n",
    "            \"bertscore\": group.bertscore.mean(),\n",
    "            \"bertscore_low\": bertscore_low,\n",
    "            \"bertscore_high\": bertscore_high,\n",
    "        }\n",
    "    )\n",
    "metric_df = pd.DataFrame(ds).sort_values(by=\"macro_f1\", ascending=True)\n",
    "metric_df"
   ]
  },
  {
   "cell_type": "code",
   "execution_count": 17,
   "id": "1cc334cd-2828-428c-8224-abd060f00190",
   "metadata": {},
   "outputs": [
    {
     "data": {
      "image/png": "[encoded data removed]",
      "text/plain": [
       "<Figure size 552.062x110 with 3 Axes>"
      ]
     },
     "metadata": {},
     "output_type": "display_data"
    }
   ],
   "source": [
    "fig, axes = plt.subplots(1, 3, figsize=(COLUMN_WIDTH_IN, 1.1))\n",
    "\n",
    "metric_pretty_name_map = {\n",
    "    \"macro_f1\": \"K-F1++\",\n",
    "    \"bleurt\": \"BLEURT\",\n",
    "    \"bertscore\": \"BERTScore\",\n",
    "}\n",
    "\n",
    "guidance_short_name_map = {\n",
    "    \"none\": \"None\",\n",
    "    \"extract_relevant\": \"IR\",\n",
    "    \"low\": \"Low\",\n",
    "    \"medium\": \"M\",\n",
    "    \"high\": \"High\",\n",
    "}\n",
    "\n",
    "for ax, metric in zip(axes, [\"macro_f1\", \"bleurt\", \"bertscore\"]):\n",
    "    for query_set, mdf in metric_df.groupby(\"query_set\"):\n",
    "        assert metric in mdf.columns\n",
    "        xs = list(range(len(mdf)))\n",
    "        ys = mdf[metric]\n",
    "        yerr = mdf[[metric + \"_low\", metric + \"_high\"]].subtract(mdf[metric], axis=0).abs().T\n",
    "        ax.scatter(xs, ys, color=\"black\", marker=\".\")\n",
    "        ax.errorbar(\n",
    "            xs, ys, yerr=yerr, zorder=-1, capsize=2, ecolor=\"gray\", color=matplotlib.cm.viridis(0.45), label=query_set\n",
    "        )\n",
    "\n",
    "    # legend\n",
    "    # handles, labels = ax.get_legend_handles_labels()\n",
    "    # handles = [h[0] for h in handles]\n",
    "    # ax.legend(handles, labels, frameon=False, ncol=2)\n",
    "\n",
    "    ax.set_xticks(xs, labels=[guidance_short_name_map[guidance] for guidance in metric_df.guidance])\n",
    "    ax.set_ylabel(metric_pretty_name_map[metric])\n",
    "\n",
    "fig.tight_layout(pad=0.01, w_pad=0.2)\n",
    "# fig.savefig(figures_dir / \"guidance_autometrics.pdf\", bbox_inches=\"tight\", pad_inches=0.01, dpi=DPI)\n",
    "plt.show()"
   ]
  },
  {
   "cell_type": "code",
   "execution_count": 27,
   "id": "7fdf73e5-2451-45c4-a28c-82091b460396",
   "metadata": {},
   "outputs": [
    {
     "data": {
      "text/html": [
       "<div>\n",
       "<style scoped>\n",
       "    .dataframe tbody tr th:only-of-type {\n",
       "        vertical-align: middle;\n",
       "    }\n",
       "\n",
       "    .dataframe tbody tr th {\n",
       "        vertical-align: top;\n",
       "    }\n",
       "\n",
       "    .dataframe thead th {\n",
       "        text-align: right;\n",
       "    }\n",
       "</style>\n",
       "<table border=\"1\" class=\"dataframe\">\n",
       "  <thead>\n",
       "    <tr style=\"text-align: right;\">\n",
       "      <th></th>\n",
       "      <th>Index</th>\n",
       "      <th>query_set</th>\n",
       "      <th>query</th>\n",
       "      <th>generation</th>\n",
       "      <th>document</th>\n",
       "      <th>guidance</th>\n",
       "      <th>messages</th>\n",
       "      <th>corpus</th>\n",
       "      <th>f1</th>\n",
       "      <th>bleurt</th>\n",
       "      <th>bertscore</th>\n",
       "    </tr>\n",
       "  </thead>\n",
       "  <tbody>\n",
       "    <tr>\n",
       "      <th>0</th>\n",
       "      <td>0</td>\n",
       "      <td>math_nation</td>\n",
       "      <td>Can I get the steps for factoring quadratics</td>\n",
       "      <td>Of course! Factoring quadratics can be done us...</td>\n",
       "      <td>Find the Greatest Common Factor of Two or More...</td>\n",
       "      <td>low</td>\n",
       "      <td>[{'role': 'system', 'content': 'You are going ...</td>\n",
       "      <td>math</td>\n",
       "      <td>0.362694</td>\n",
       "      <td>-0.785839</td>\n",
       "      <td>0.837763</td>\n",
       "    </tr>\n",
       "    <tr>\n",
       "      <th>1</th>\n",
       "      <td>1</td>\n",
       "      <td>math_nation</td>\n",
       "      <td>I need a standard way of recognizing polynomia...</td>\n",
       "      <td>Of course! I'd be happy to help you recognize ...</td>\n",
       "      <td>Identify Polynomials, Monomials, Binomials, an...</td>\n",
       "      <td>low</td>\n",
       "      <td>[{'role': 'system', 'content': \"You are going ...</td>\n",
       "      <td>math</td>\n",
       "      <td>0.465409</td>\n",
       "      <td>-0.560453</td>\n",
       "      <td>0.842730</td>\n",
       "    </tr>\n",
       "    <tr>\n",
       "      <th>2</th>\n",
       "      <td>2</td>\n",
       "      <td>math_nation</td>\n",
       "      <td>how do i solve square root functions</td>\n",
       "      <td>To solve square root functions, follow these s...</td>\n",
       "      <td>Simplify Expressions with Square Roots: To sta...</td>\n",
       "      <td>low</td>\n",
       "      <td>[{'role': 'system', 'content': 'You are going ...</td>\n",
       "      <td>math</td>\n",
       "      <td>0.273504</td>\n",
       "      <td>-0.516538</td>\n",
       "      <td>0.830718</td>\n",
       "    </tr>\n",
       "    <tr>\n",
       "      <th>3</th>\n",
       "      <td>3</td>\n",
       "      <td>math_nation</td>\n",
       "      <td>Can someone explain like interior and exterior...</td>\n",
       "      <td>Of course! I'd be happy to explain interior an...</td>\n",
       "      <td>Use the Properties of Angles: Are you familiar...</td>\n",
       "      <td>low</td>\n",
       "      <td>[{'role': 'system', 'content': 'You are going ...</td>\n",
       "      <td>math</td>\n",
       "      <td>0.362319</td>\n",
       "      <td>-0.657461</td>\n",
       "      <td>0.837373</td>\n",
       "    </tr>\n",
       "    <tr>\n",
       "      <th>4</th>\n",
       "      <td>4</td>\n",
       "      <td>math_nation</td>\n",
       "      <td>How do you find the radius?</td>\n",
       "      <td>To find the radius of a circle, you need to kn...</td>\n",
       "      <td>Convert Fractions to Decimals: In Decimals, we...</td>\n",
       "      <td>low</td>\n",
       "      <td>[{'role': 'system', 'content': 'You are going ...</td>\n",
       "      <td>math</td>\n",
       "      <td>0.250000</td>\n",
       "      <td>-0.257543</td>\n",
       "      <td>0.834398</td>\n",
       "    </tr>\n",
       "    <tr>\n",
       "      <th>...</th>\n",
       "      <td>...</td>\n",
       "      <td>...</td>\n",
       "      <td>...</td>\n",
       "      <td>...</td>\n",
       "      <td>...</td>\n",
       "      <td>...</td>\n",
       "      <td>...</td>\n",
       "      <td>...</td>\n",
       "      <td>...</td>\n",
       "      <td>...</td>\n",
       "      <td>...</td>\n",
       "    </tr>\n",
       "    <tr>\n",
       "      <th>199</th>\n",
       "      <td>199</td>\n",
       "      <td>math_nation</td>\n",
       "      <td>How do you find the domain and range that are ...</td>\n",
       "      <td>To find the domain and range of a certain func...</td>\n",
       "      <td>Use Division Notation: So far we have explored...</td>\n",
       "      <td>high</td>\n",
       "      <td>[{'role': 'system', 'content': 'You are going ...</td>\n",
       "      <td>math</td>\n",
       "      <td>0.252874</td>\n",
       "      <td>-0.429044</td>\n",
       "      <td>0.816907</td>\n",
       "    </tr>\n",
       "    <tr>\n",
       "      <th>200</th>\n",
       "      <td>200</td>\n",
       "      <td>math_nation</td>\n",
       "      <td>Is a rational and irrational number always irr...</td>\n",
       "      <td>A rational number is a number that can be writ...</td>\n",
       "      <td>Identify Rational Numbers and Irrational Numbe...</td>\n",
       "      <td>high</td>\n",
       "      <td>[{'role': 'system', 'content': 'You are going ...</td>\n",
       "      <td>math</td>\n",
       "      <td>0.274648</td>\n",
       "      <td>-0.549916</td>\n",
       "      <td>0.846885</td>\n",
       "    </tr>\n",
       "    <tr>\n",
       "      <th>201</th>\n",
       "      <td>201</td>\n",
       "      <td>math_nation</td>\n",
       "      <td>what is the quadratic formula?</td>\n",
       "      <td>The quadratic formula is a formula that allows...</td>\n",
       "      <td>Simplify Expressions with Square Roots: To sta...</td>\n",
       "      <td>high</td>\n",
       "      <td>[{'role': 'system', 'content': 'You are going ...</td>\n",
       "      <td>math</td>\n",
       "      <td>0.294118</td>\n",
       "      <td>-0.459381</td>\n",
       "      <td>0.831446</td>\n",
       "    </tr>\n",
       "    <tr>\n",
       "      <th>202</th>\n",
       "      <td>202</td>\n",
       "      <td>math_nation</td>\n",
       "      <td>i need help on how to  graph quadratic funtions</td>\n",
       "      <td>To graph quadratic functions, we can use a sim...</td>\n",
       "      <td>Recognize the Relation Between the Solutions o...</td>\n",
       "      <td>high</td>\n",
       "      <td>[{'role': 'system', 'content': 'You are going ...</td>\n",
       "      <td>math</td>\n",
       "      <td>0.401674</td>\n",
       "      <td>-0.268822</td>\n",
       "      <td>0.852153</td>\n",
       "    </tr>\n",
       "    <tr>\n",
       "      <th>203</th>\n",
       "      <td>203</td>\n",
       "      <td>math_nation</td>\n",
       "      <td>How do i graph an inequality with a less than ...</td>\n",
       "      <td>To graph an inequality with a less than or equ...</td>\n",
       "      <td>Locate Positive and Negative Numbers on the Nu...</td>\n",
       "      <td>high</td>\n",
       "      <td>[{'role': 'system', 'content': 'You are going ...</td>\n",
       "      <td>math</td>\n",
       "      <td>0.400000</td>\n",
       "      <td>-0.475986</td>\n",
       "      <td>0.846508</td>\n",
       "    </tr>\n",
       "  </tbody>\n",
       "</table>\n",
       "<p>204 rows × 11 columns</p>\n",
       "</div>"
      ],
      "text/plain": [
       "     Index    query_set                                              query  \\\n",
       "0        0  math_nation       Can I get the steps for factoring quadratics   \n",
       "1        1  math_nation  I need a standard way of recognizing polynomia...   \n",
       "2        2  math_nation               how do i solve square root functions   \n",
       "3        3  math_nation  Can someone explain like interior and exterior...   \n",
       "4        4  math_nation                        How do you find the radius?   \n",
       "..     ...          ...                                                ...   \n",
       "199    199  math_nation  How do you find the domain and range that are ...   \n",
       "200    200  math_nation  Is a rational and irrational number always irr...   \n",
       "201    201  math_nation                     what is the quadratic formula?   \n",
       "202    202  math_nation    i need help on how to  graph quadratic funtions   \n",
       "203    203  math_nation  How do i graph an inequality with a less than ...   \n",
       "\n",
       "                                            generation  \\\n",
       "0    Of course! Factoring quadratics can be done us...   \n",
       "1    Of course! I'd be happy to help you recognize ...   \n",
       "2    To solve square root functions, follow these s...   \n",
       "3    Of course! I'd be happy to explain interior an...   \n",
       "4    To find the radius of a circle, you need to kn...   \n",
       "..                                                 ...   \n",
       "199  To find the domain and range of a certain func...   \n",
       "200  A rational number is a number that can be writ...   \n",
       "201  The quadratic formula is a formula that allows...   \n",
       "202  To graph quadratic functions, we can use a sim...   \n",
       "203  To graph an inequality with a less than or equ...   \n",
       "\n",
       "                                              document guidance  \\\n",
       "0    Find the Greatest Common Factor of Two or More...      low   \n",
       "1    Identify Polynomials, Monomials, Binomials, an...      low   \n",
       "2    Simplify Expressions with Square Roots: To sta...      low   \n",
       "3    Use the Properties of Angles: Are you familiar...      low   \n",
       "4    Convert Fractions to Decimals: In Decimals, we...      low   \n",
       "..                                                 ...      ...   \n",
       "199  Use Division Notation: So far we have explored...     high   \n",
       "200  Identify Rational Numbers and Irrational Numbe...     high   \n",
       "201  Simplify Expressions with Square Roots: To sta...     high   \n",
       "202  Recognize the Relation Between the Solutions o...     high   \n",
       "203  Locate Positive and Negative Numbers on the Nu...     high   \n",
       "\n",
       "                                              messages corpus        f1  \\\n",
       "0    [{'role': 'system', 'content': 'You are going ...   math  0.362694   \n",
       "1    [{'role': 'system', 'content': \"You are going ...   math  0.465409   \n",
       "2    [{'role': 'system', 'content': 'You are going ...   math  0.273504   \n",
       "3    [{'role': 'system', 'content': 'You are going ...   math  0.362319   \n",
       "4    [{'role': 'system', 'content': 'You are going ...   math  0.250000   \n",
       "..                                                 ...    ...       ...   \n",
       "199  [{'role': 'system', 'content': 'You are going ...   math  0.252874   \n",
       "200  [{'role': 'system', 'content': 'You are going ...   math  0.274648   \n",
       "201  [{'role': 'system', 'content': 'You are going ...   math  0.294118   \n",
       "202  [{'role': 'system', 'content': 'You are going ...   math  0.401674   \n",
       "203  [{'role': 'system', 'content': 'You are going ...   math  0.400000   \n",
       "\n",
       "       bleurt  bertscore  \n",
       "0   -0.785839   0.837763  \n",
       "1   -0.560453   0.842730  \n",
       "2   -0.516538   0.830718  \n",
       "3   -0.657461   0.837373  \n",
       "4   -0.257543   0.834398  \n",
       "..        ...        ...  \n",
       "199 -0.429044   0.816907  \n",
       "200 -0.549916   0.846885  \n",
       "201 -0.459381   0.831446  \n",
       "202 -0.268822   0.852153  \n",
       "203 -0.475986   0.846508  \n",
       "\n",
       "[204 rows x 11 columns]"
      ]
     },
     "execution_count": 27,
     "metadata": {},
     "output_type": "execute_result"
    }
   ],
   "source": [
    "autometric_df"
   ]
  },
  {
   "cell_type": "code",
   "execution_count": 38,
   "id": "02d91665-32b7-42a1-a30e-bb3b62d27b2c",
   "metadata": {},
   "outputs": [
    {
     "name": "stdout",
     "output_type": "stream",
     "text": [
      "normal median: -0.517; median<0: -0.517\n"
     ]
    },
    {
     "data": {
      "text/plain": [
       "177    0.075259\n",
       "185    0.055574\n",
       "Name: bleurt, dtype: float64"
      ]
     },
     "metadata": {},
     "output_type": "display_data"
    },
    {
     "name": "stdout",
     "output_type": "stream",
     "text": [
      "none median: -0.565; median<0: -0.565\n"
     ]
    },
    {
     "data": {
      "text/plain": [
       "Series([], Name: bleurt, dtype: float64)"
      ]
     },
     "metadata": {},
     "output_type": "display_data"
    },
    {
     "name": "stdout",
     "output_type": "stream",
     "text": [
      "low median: -0.551; median<0: -0.551\n"
     ]
    },
    {
     "data": {
      "text/plain": [
       "Series([], Name: bleurt, dtype: float64)"
      ]
     },
     "metadata": {},
     "output_type": "display_data"
    },
    {
     "name": "stdout",
     "output_type": "stream",
     "text": [
      "high median: -0.463; median<0: -0.468\n"
     ]
    },
    {
     "data": {
      "text/plain": [
       "177    0.075259\n",
       "185    0.055574\n",
       "Name: bleurt, dtype: float64"
      ]
     },
     "metadata": {},
     "output_type": "display_data"
    },
    {
     "name": "stdout",
     "output_type": "stream",
     "text": [
      "extract_relevant median: -0.486; median<0: -0.564\n"
     ]
    },
    {
     "data": {
      "text/plain": [
       "70    0.398484\n",
       "66    0.397741\n",
       "85    0.378764\n",
       "Name: bleurt, dtype: float64"
      ]
     },
     "metadata": {},
     "output_type": "display_data"
    },
    {
     "data": {
      "image/png": "[encoded data removed]",
      "text/plain": [
       "<Figure size 1104.12x190 with 5 Axes>"
      ]
     },
     "metadata": {},
     "output_type": "display_data"
    }
   ],
   "source": [
    "fig, axes = plt.subplots(1, 5, figsize=(COLUMN_WIDTH_IN * 2, 1.9))\n",
    "for ax, group_name in zip(axes, [\"normal\", \"none\", \"low\", \"high\", \"extract_relevant\"]):\n",
    "    if group_name == \"normal\":\n",
    "        mdf = autometric_df[autometric_df.guidance != \"extract_relevant\"]\n",
    "    else:\n",
    "        mdf = autometric_df[autometric_df.guidance == group_name]\n",
    "    ax.hist(mdf[\"bleurt\"], bins=50, log=False)\n",
    "    ax.set_title(group_name)\n",
    "    print(f\"{group_name} median: {mdf.bleurt.median():.3f}; median<0: {mdf[mdf.bleurt < 0].bleurt.median():.3f}\")\n",
    "    display(mdf[mdf.bleurt > 0].bleurt.sort_values(ascending=False).head(3))\n",
    "\n",
    "fig.suptitle(\"Distribution of BLEURT between guidance conditions\")\n",
    "fig.tight_layout(pad=0.8)\n",
    "plt.show()"
   ]
  },
  {
   "cell_type": "code",
   "execution_count": 34,
   "id": "1aa4e77e-4a0e-4bca-ad2b-ad23c4c687a7",
   "metadata": {},
   "outputs": [
    {
     "data": {
      "text/html": [
       "<div>\n",
       "<style scoped>\n",
       "    .dataframe tbody tr th:only-of-type {\n",
       "        vertical-align: middle;\n",
       "    }\n",
       "\n",
       "    .dataframe tbody tr th {\n",
       "        vertical-align: top;\n",
       "    }\n",
       "\n",
       "    .dataframe thead th {\n",
       "        text-align: right;\n",
       "    }\n",
       "</style>\n",
       "<table border=\"1\" class=\"dataframe\">\n",
       "  <thead>\n",
       "    <tr style=\"text-align: right;\">\n",
       "      <th></th>\n",
       "      <th>Index</th>\n",
       "      <th>query_set</th>\n",
       "      <th>query</th>\n",
       "      <th>generation</th>\n",
       "      <th>document</th>\n",
       "      <th>guidance</th>\n",
       "      <th>messages</th>\n",
       "      <th>corpus</th>\n",
       "      <th>f1</th>\n",
       "      <th>bleurt</th>\n",
       "      <th>bertscore</th>\n",
       "      <th>mean_relevance</th>\n",
       "    </tr>\n",
       "  </thead>\n",
       "  <tbody>\n",
       "    <tr>\n",
       "      <th>0</th>\n",
       "      <td>0</td>\n",
       "      <td>math_nation</td>\n",
       "      <td>Can I get the steps for factoring quadratics</td>\n",
       "      <td>Of course! Factoring quadratics can be done us...</td>\n",
       "      <td>Find the Greatest Common Factor of Two or More...</td>\n",
       "      <td>low</td>\n",
       "      <td>[{'role': 'system', 'content': 'You are going ...</td>\n",
       "      <td>math</td>\n",
       "      <td>0.362694</td>\n",
       "      <td>-0.785839</td>\n",
       "      <td>0.837763</td>\n",
       "      <td>2.0</td>\n",
       "    </tr>\n",
       "  </tbody>\n",
       "</table>\n",
       "</div>"
      ],
      "text/plain": [
       "   Index    query_set                                         query  \\\n",
       "0      0  math_nation  Can I get the steps for factoring quadratics   \n",
       "\n",
       "                                          generation  \\\n",
       "0  Of course! Factoring quadratics can be done us...   \n",
       "\n",
       "                                            document guidance  \\\n",
       "0  Find the Greatest Common Factor of Two or More...      low   \n",
       "\n",
       "                                            messages corpus        f1  \\\n",
       "0  [{'role': 'system', 'content': 'You are going ...   math  0.362694   \n",
       "\n",
       "     bleurt  bertscore  mean_relevance  \n",
       "0 -0.785839   0.837763             2.0  "
      ]
     },
     "execution_count": 34,
     "metadata": {},
     "output_type": "execute_result"
    }
   ],
   "source": [
    "# merge in relevance\n",
    "autometric_relevance_df = autometric_df.merge(mean_relevance_series, on=\"query\")\n",
    "autometric_relevance_df.head(1)"
   ]
  },
  {
   "cell_type": "code",
   "execution_count": 35,
   "id": "657f9d09-2bdc-4fe4-98fa-296eefeffc39",
   "metadata": {},
   "outputs": [
    {
     "name": "stdout",
     "output_type": "stream",
     "text": [
      "metric='f1' guidance='none' n=51 r=0.2574 (p=0.0682, p_bonf.=0.6137)\n",
      "metric='bleurt' guidance='none' n=51 r=0.3439 (p=0.0135, p_bonf.=0.1212)\n",
      "metric='bertscore' guidance='none' n=51 r=0.4303 (p=0.0016, p_bonf.=0.0146)\n",
      "metric='f1' guidance='low' n=51 r=0.4270 (p=0.0018, p_bonf.=0.0160)\n",
      "metric='bleurt' guidance='low' n=51 r=0.3407 (p=0.0144, p_bonf.=0.1298)\n",
      "metric='bertscore' guidance='low' n=51 r=0.5014 (p=0.0002, p_bonf.=0.0016)\n",
      "metric='f1' guidance='high' n=51 r=0.3710 (p=0.0074, p_bonf.=0.0663)\n",
      "metric='bleurt' guidance='high' n=51 r=0.2551 (p=0.0708, p_bonf.=0.6371)\n",
      "metric='bertscore' guidance='high' n=51 r=0.4952 (p=0.0002, p_bonf.=0.0020)\n",
      "metric='f1' guidance='all' n=204 r=0.0147 (p=0.8351, p_bonf.=7.5162)\n",
      "metric='bleurt' guidance='all' n=204 r=0.0961 (p=0.1713, p_bonf.=1.5420)\n",
      "metric='bertscore' guidance='all' n=204 r=0.0278 (p=0.6929, p_bonf.=6.2358)\n"
     ]
    }
   ],
   "source": [
    "for guidance in [\"none\", \"low\", \"high\", \"all\"]:\n",
    "    for metric in [\"f1\", \"bleurt\", \"bertscore\"]:\n",
    "        if guidance == \"all\":\n",
    "            sdf = autometric_relevance_df\n",
    "        else:\n",
    "            sdf = autometric_relevance_df[autometric_relevance_df.guidance == guidance]\n",
    "        r, p = scipy.stats.pearsonr(sdf[metric], sdf.mean_relevance)\n",
    "        print(f\"{metric=} {guidance=} n={len(sdf)} r={r:.4f} (p={p:.4f}, p_bonf.={p*9:.4f})\")"
   ]
  },
  {
   "cell_type": "code",
   "execution_count": null,
   "id": "d9eae3d9-5dad-401e-9744-b13f43cdf6c0",
   "metadata": {},
   "outputs": [],
   "source": []
  },
  {
   "cell_type": "markdown",
   "id": "2807eca8-3e62-4a57-b3c0-744a2ead215f",
   "metadata": {},
   "source": [
    "#### Create qualtrics surveys"
   ]
  },
  {
   "cell_type": "code",
   "execution_count": 16,
   "id": "63e7a7c5-d290-4560-b809-a8ba478d4616",
   "metadata": {},
   "outputs": [
    {
     "data": {
      "text/plain": [
       "153"
      ]
     },
     "execution_count": 16,
     "metadata": {},
     "output_type": "execute_result"
    }
   ],
   "source": [
    "guidance_survey_set = {\"none\", \"low\", \"high\"}\n",
    "survey_input_df = math_df[\n",
    "    (math_df.query_set == \"math_nation\") & (math_df.corpus == \"math\") & (math_df.guidance.isin(guidance_survey_set))\n",
    "]\n",
    "len(survey_input_df)"
   ]
  },
  {
   "cell_type": "code",
   "execution_count": 17,
   "id": "b0e0c1a7-6e71-4b59-ad0f-52cf13c9d20b",
   "metadata": {},
   "outputs": [],
   "source": [
    "qualtrics_template_filepath = data_dir / \"raw\" / \"qualtrics\" / \"Rori_ranking_annotations_-_template.qsf\"\n",
    "survey_dir = data_dir / \"derived\" / \"qualtrics\"\n",
    "assert qualtrics_template_filepath.exists()"
   ]
  },
  {
   "cell_type": "code",
   "execution_count": 18,
   "id": "24cd80f0-795e-4789-8461-526c4c52a2d1",
   "metadata": {},
   "outputs": [
    {
     "data": {
      "text/plain": [
       "51"
      ]
     },
     "execution_count": 18,
     "metadata": {},
     "output_type": "execute_result"
    }
   ],
   "source": [
    "template_survey_text = experiment.qualtrics.get_template(qualtrics_template_filepath)\n",
    "survey_df = experiment.qualtrics.create_surveys(survey_input_df, template_survey_text, survey_dir)\n",
    "len(survey_df)"
   ]
  },
  {
   "cell_type": "code",
   "execution_count": 19,
   "id": "6798d831-f4a0-4964-be33-a8cc05fd129e",
   "metadata": {},
   "outputs": [
    {
     "data": {
      "text/html": [
       "<div>\n",
       "<style scoped>\n",
       "    .dataframe tbody tr th:only-of-type {\n",
       "        vertical-align: middle;\n",
       "    }\n",
       "\n",
       "    .dataframe tbody tr th {\n",
       "        vertical-align: top;\n",
       "    }\n",
       "\n",
       "    .dataframe thead th {\n",
       "        text-align: right;\n",
       "    }\n",
       "</style>\n",
       "<table border=\"1\" class=\"dataframe\">\n",
       "  <thead>\n",
       "    <tr style=\"text-align: right;\">\n",
       "      <th></th>\n",
       "      <th>query</th>\n",
       "      <th>document</th>\n",
       "      <th>response1</th>\n",
       "      <th>response2</th>\n",
       "      <th>response3</th>\n",
       "      <th>response1_meta</th>\n",
       "      <th>response2_meta</th>\n",
       "      <th>response3_meta</th>\n",
       "      <th>survey_id</th>\n",
       "    </tr>\n",
       "  </thead>\n",
       "  <tbody>\n",
       "    <tr>\n",
       "      <th>11</th>\n",
       "      <td>I'm still a little lost on how you find midpoi...</td>\n",
       "      <td>Plot Points on a Rectangular Coordinate System...</td>\n",
       "      <td>To find the midpoint on a graph, you need to f...</td>\n",
       "      <td>Finding the midpoint on a graph involves findi...</td>\n",
       "      <td>Finding the midpoint on a graph is actually qu...</td>\n",
       "      <td>{'query_set': 'math_nation', 'guidance': 'high...</td>\n",
       "      <td>{'query_set': 'math_nation', 'guidance': 'low'...</td>\n",
       "      <td>{'query_set': 'math_nation', 'guidance': 'none...</td>\n",
       "      <td>s_20230921_1/4</td>\n",
       "    </tr>\n",
       "  </tbody>\n",
       "</table>\n",
       "</div>"
      ],
      "text/plain": [
       "                                                query  \\\n",
       "11  I'm still a little lost on how you find midpoi...   \n",
       "\n",
       "                                             document  \\\n",
       "11  Plot Points on a Rectangular Coordinate System...   \n",
       "\n",
       "                                            response1  \\\n",
       "11  To find the midpoint on a graph, you need to f...   \n",
       "\n",
       "                                            response2  \\\n",
       "11  Finding the midpoint on a graph involves findi...   \n",
       "\n",
       "                                            response3  \\\n",
       "11  Finding the midpoint on a graph is actually qu...   \n",
       "\n",
       "                                       response1_meta  \\\n",
       "11  {'query_set': 'math_nation', 'guidance': 'high...   \n",
       "\n",
       "                                       response2_meta  \\\n",
       "11  {'query_set': 'math_nation', 'guidance': 'low'...   \n",
       "\n",
       "                                       response3_meta       survey_id  \n",
       "11  {'query_set': 'math_nation', 'guidance': 'none...  s_20230921_1/4  "
      ]
     },
     "execution_count": 19,
     "metadata": {},
     "output_type": "execute_result"
    }
   ],
   "source": [
    "survey_df.sample(n=1)"
   ]
  },
  {
   "cell_type": "code",
   "execution_count": 20,
   "id": "464f6422-1d22-4898-9bbd-e3d2da8d9511",
   "metadata": {},
   "outputs": [
    {
     "data": {
      "text/plain": [
       "survey_id\n",
       "s_20230921_1/4    15\n",
       "s_20230921_2/4    15\n",
       "s_20230921_3/4    15\n",
       "s_20230921_4/4     6\n",
       "Name: count, dtype: int64"
      ]
     },
     "execution_count": 20,
     "metadata": {},
     "output_type": "execute_result"
    }
   ],
   "source": [
    "survey_df.survey_id.value_counts()"
   ]
  },
  {
   "cell_type": "code",
   "execution_count": 21,
   "id": "d093e5d1-df59-4bf7-a885-6878ab80ddf4",
   "metadata": {},
   "outputs": [
    {
     "data": {
      "text/html": [
       "<div>\n",
       "<style scoped>\n",
       "    .dataframe tbody tr th:only-of-type {\n",
       "        vertical-align: middle;\n",
       "    }\n",
       "\n",
       "    .dataframe tbody tr th {\n",
       "        vertical-align: top;\n",
       "    }\n",
       "\n",
       "    .dataframe thead th {\n",
       "        text-align: right;\n",
       "    }\n",
       "</style>\n",
       "<table border=\"1\" class=\"dataframe\">\n",
       "  <thead>\n",
       "    <tr style=\"text-align: right;\">\n",
       "      <th></th>\n",
       "      <th>query</th>\n",
       "      <th>document</th>\n",
       "      <th>response1</th>\n",
       "      <th>response2</th>\n",
       "      <th>response3</th>\n",
       "      <th>response1_meta</th>\n",
       "      <th>response2_meta</th>\n",
       "      <th>response3_meta</th>\n",
       "      <th>survey_id</th>\n",
       "    </tr>\n",
       "  </thead>\n",
       "  <tbody>\n",
       "    <tr>\n",
       "      <th>0</th>\n",
       "      <td>What is vertex form and how do you solve for it?</td>\n",
       "      <td>Use the Distance, Rate, and Time Formula: One ...</td>\n",
       "      <td>Vertex form, also known as completed square fo...</td>\n",
       "      <td>Vertex form is a specific form of writing quad...</td>\n",
       "      <td>Vertex form is a way to write the equation of ...</td>\n",
       "      <td>{'query_set': 'math_nation', 'guidance': 'none...</td>\n",
       "      <td>{'query_set': 'math_nation', 'guidance': 'high...</td>\n",
       "      <td>{'query_set': 'math_nation', 'guidance': 'low'...</td>\n",
       "      <td>s_20230921_1/4</td>\n",
       "    </tr>\n",
       "    <tr>\n",
       "      <th>1</th>\n",
       "      <td>how  far can a polynomial go</td>\n",
       "      <td>Identify Polynomials, Monomials, Binomials, an...</td>\n",
       "      <td>A polynomial can go as far as we want it to go...</td>\n",
       "      <td>Polynomials can have different degrees, which ...</td>\n",
       "      <td>A polynomial can go on indefinitely, meaning i...</td>\n",
       "      <td>{'query_set': 'math_nation', 'guidance': 'high...</td>\n",
       "      <td>{'query_set': 'math_nation', 'guidance': 'low'...</td>\n",
       "      <td>{'query_set': 'math_nation', 'guidance': 'none...</td>\n",
       "      <td>s_20230921_1/4</td>\n",
       "    </tr>\n",
       "    <tr>\n",
       "      <th>2</th>\n",
       "      <td>What is a function notation?</td>\n",
       "      <td>Use Addition Notation: A college student has a...</td>\n",
       "      <td>Function notation is a way to represent the re...</td>\n",
       "      <td>Function notation is a way to represent a math...</td>\n",
       "      <td>Function notation is a way to represent mathem...</td>\n",
       "      <td>{'query_set': 'math_nation', 'guidance': 'none...</td>\n",
       "      <td>{'query_set': 'math_nation', 'guidance': 'low'...</td>\n",
       "      <td>{'query_set': 'math_nation', 'guidance': 'high...</td>\n",
       "      <td>s_20230921_1/4</td>\n",
       "    </tr>\n",
       "  </tbody>\n",
       "</table>\n",
       "</div>"
      ],
      "text/plain": [
       "                                              query  \\\n",
       "0  What is vertex form and how do you solve for it?   \n",
       "1                      how  far can a polynomial go   \n",
       "2                      What is a function notation?   \n",
       "\n",
       "                                            document  \\\n",
       "0  Use the Distance, Rate, and Time Formula: One ...   \n",
       "1  Identify Polynomials, Monomials, Binomials, an...   \n",
       "2  Use Addition Notation: A college student has a...   \n",
       "\n",
       "                                           response1  \\\n",
       "0  Vertex form, also known as completed square fo...   \n",
       "1  A polynomial can go as far as we want it to go...   \n",
       "2  Function notation is a way to represent the re...   \n",
       "\n",
       "                                           response2  \\\n",
       "0  Vertex form is a specific form of writing quad...   \n",
       "1  Polynomials can have different degrees, which ...   \n",
       "2  Function notation is a way to represent a math...   \n",
       "\n",
       "                                           response3  \\\n",
       "0  Vertex form is a way to write the equation of ...   \n",
       "1  A polynomial can go on indefinitely, meaning i...   \n",
       "2  Function notation is a way to represent mathem...   \n",
       "\n",
       "                                      response1_meta  \\\n",
       "0  {'query_set': 'math_nation', 'guidance': 'none...   \n",
       "1  {'query_set': 'math_nation', 'guidance': 'high...   \n",
       "2  {'query_set': 'math_nation', 'guidance': 'none...   \n",
       "\n",
       "                                      response2_meta  \\\n",
       "0  {'query_set': 'math_nation', 'guidance': 'high...   \n",
       "1  {'query_set': 'math_nation', 'guidance': 'low'...   \n",
       "2  {'query_set': 'math_nation', 'guidance': 'low'...   \n",
       "\n",
       "                                      response3_meta       survey_id  \n",
       "0  {'query_set': 'math_nation', 'guidance': 'low'...  s_20230921_1/4  \n",
       "1  {'query_set': 'math_nation', 'guidance': 'none...  s_20230921_1/4  \n",
       "2  {'query_set': 'math_nation', 'guidance': 'high...  s_20230921_1/4  "
      ]
     },
     "execution_count": 21,
     "metadata": {},
     "output_type": "execute_result"
    }
   ],
   "source": [
    "survey_df.head(3)"
   ]
  },
  {
   "cell_type": "code",
   "execution_count": 22,
   "id": "fb2e716f-09f7-43b9-a1f9-7bfeb2555c2e",
   "metadata": {},
   "outputs": [],
   "source": [
    "survey_df.to_csv(survey_dir / \"survey_df.csv\", index=False)"
   ]
  },
  {
   "cell_type": "code",
   "execution_count": null,
   "id": "6629c3d1-eebf-49a5-b013-dbcc9d976650",
   "metadata": {},
   "outputs": [],
   "source": []
  },
  {
   "cell_type": "markdown",
   "id": "53f50e64-0ae0-4ade-8fca-dce63c396c4e",
   "metadata": {},
   "source": [
    "#### Analyze survey results"
   ]
  },
  {
   "cell_type": "code",
   "execution_count": 36,
   "id": "1dcd357c-6bc8-4cb9-87d9-49f4403a27b8",
   "metadata": {},
   "outputs": [],
   "source": [
    "survey_input_dir = data_dir / \"derived\" / \"qualtrics\"\n",
    "survey_results_dir = data_dir / \"raw\" / \"qualtrics\" / \"results\"\n",
    "assert survey_results_dir.exists()"
   ]
  },
  {
   "cell_type": "code",
   "execution_count": 37,
   "id": "e9f11342-77b0-42f5-b7aa-fec9604c86c6",
   "metadata": {},
   "outputs": [
    {
     "data": {
      "text/html": [
       "<div>\n",
       "<style scoped>\n",
       "    .dataframe tbody tr th:only-of-type {\n",
       "        vertical-align: middle;\n",
       "    }\n",
       "\n",
       "    .dataframe tbody tr th {\n",
       "        vertical-align: top;\n",
       "    }\n",
       "\n",
       "    .dataframe thead th {\n",
       "        text-align: right;\n",
       "    }\n",
       "</style>\n",
       "<table border=\"1\" class=\"dataframe\">\n",
       "  <thead>\n",
       "    <tr style=\"text-align: right;\">\n",
       "      <th></th>\n",
       "      <th>query</th>\n",
       "      <th>document</th>\n",
       "      <th>response1</th>\n",
       "      <th>response2</th>\n",
       "      <th>response3</th>\n",
       "      <th>response1_meta</th>\n",
       "      <th>response2_meta</th>\n",
       "      <th>response3_meta</th>\n",
       "      <th>survey_id</th>\n",
       "    </tr>\n",
       "  </thead>\n",
       "  <tbody>\n",
       "    <tr>\n",
       "      <th>0</th>\n",
       "      <td>What is vertex form and how do you solve for it?</td>\n",
       "      <td>Use the Distance, Rate, and Time Formula: One ...</td>\n",
       "      <td>Vertex form, also known as completed square fo...</td>\n",
       "      <td>Vertex form is a specific form of writing quad...</td>\n",
       "      <td>Vertex form is a way to write the equation of ...</td>\n",
       "      <td>{'query_set': 'math_nation', 'guidance': 'none...</td>\n",
       "      <td>{'query_set': 'math_nation', 'guidance': 'high...</td>\n",
       "      <td>{'query_set': 'math_nation', 'guidance': 'low'...</td>\n",
       "      <td>s_20230921_1/4</td>\n",
       "    </tr>\n",
       "  </tbody>\n",
       "</table>\n",
       "</div>"
      ],
      "text/plain": [
       "                                              query  \\\n",
       "0  What is vertex form and how do you solve for it?   \n",
       "\n",
       "                                            document  \\\n",
       "0  Use the Distance, Rate, and Time Formula: One ...   \n",
       "\n",
       "                                           response1  \\\n",
       "0  Vertex form, also known as completed square fo...   \n",
       "\n",
       "                                           response2  \\\n",
       "0  Vertex form is a specific form of writing quad...   \n",
       "\n",
       "                                           response3  \\\n",
       "0  Vertex form is a way to write the equation of ...   \n",
       "\n",
       "                                      response1_meta  \\\n",
       "0  {'query_set': 'math_nation', 'guidance': 'none...   \n",
       "\n",
       "                                      response2_meta  \\\n",
       "0  {'query_set': 'math_nation', 'guidance': 'high...   \n",
       "\n",
       "                                      response3_meta       survey_id  \n",
       "0  {'query_set': 'math_nation', 'guidance': 'low'...  s_20230921_1/4  "
      ]
     },
     "execution_count": 37,
     "metadata": {},
     "output_type": "execute_result"
    }
   ],
   "source": [
    "survey_df = pd.read_csv(survey_input_dir / \"survey_df.csv\")\n",
    "survey_df.head(1)"
   ]
  },
  {
   "cell_type": "code",
   "execution_count": 38,
   "id": "eefa8553-55c4-4c24-a723-fb46f69dfd87",
   "metadata": {},
   "outputs": [
    {
     "name": "stdout",
     "output_type": "stream",
     "text": [
      "153 rows exploded from survey_df with 51\n"
     ]
    },
    {
     "data": {
      "text/html": [
       "<div>\n",
       "<style scoped>\n",
       "    .dataframe tbody tr th:only-of-type {\n",
       "        vertical-align: middle;\n",
       "    }\n",
       "\n",
       "    .dataframe tbody tr th {\n",
       "        vertical-align: top;\n",
       "    }\n",
       "\n",
       "    .dataframe thead th {\n",
       "        text-align: right;\n",
       "    }\n",
       "</style>\n",
       "<table border=\"1\" class=\"dataframe\">\n",
       "  <thead>\n",
       "    <tr style=\"text-align: right;\">\n",
       "      <th></th>\n",
       "      <th>query</th>\n",
       "      <th>document</th>\n",
       "      <th>generation</th>\n",
       "      <th>query_set</th>\n",
       "      <th>guidance</th>\n",
       "      <th>messages</th>\n",
       "      <th>corpus</th>\n",
       "    </tr>\n",
       "  </thead>\n",
       "  <tbody>\n",
       "    <tr>\n",
       "      <th>0</th>\n",
       "      <td>What is vertex form and how do you solve for it?</td>\n",
       "      <td>Use the Distance, Rate, and Time Formula: One ...</td>\n",
       "      <td>Vertex form, also known as completed square fo...</td>\n",
       "      <td>math_nation</td>\n",
       "      <td>none</td>\n",
       "      <td>[{'role': 'system', 'content': 'You are going ...</td>\n",
       "      <td>math</td>\n",
       "    </tr>\n",
       "    <tr>\n",
       "      <th>1</th>\n",
       "      <td>What is vertex form and how do you solve for it?</td>\n",
       "      <td>Use the Distance, Rate, and Time Formula: One ...</td>\n",
       "      <td>Vertex form is a specific form of writing quad...</td>\n",
       "      <td>math_nation</td>\n",
       "      <td>high</td>\n",
       "      <td>[{'role': 'system', 'content': 'You are going ...</td>\n",
       "      <td>math</td>\n",
       "    </tr>\n",
       "  </tbody>\n",
       "</table>\n",
       "</div>"
      ],
      "text/plain": [
       "                                              query  \\\n",
       "0  What is vertex form and how do you solve for it?   \n",
       "1  What is vertex form and how do you solve for it?   \n",
       "\n",
       "                                            document  \\\n",
       "0  Use the Distance, Rate, and Time Formula: One ...   \n",
       "1  Use the Distance, Rate, and Time Formula: One ...   \n",
       "\n",
       "                                          generation    query_set guidance  \\\n",
       "0  Vertex form, also known as completed square fo...  math_nation     none   \n",
       "1  Vertex form is a specific form of writing quad...  math_nation     high   \n",
       "\n",
       "                                            messages corpus  \n",
       "0  [{'role': 'system', 'content': 'You are going ...   math  \n",
       "1  [{'role': 'system', 'content': 'You are going ...   math  "
      ]
     },
     "execution_count": 38,
     "metadata": {},
     "output_type": "execute_result"
    }
   ],
   "source": [
    "ds = []\n",
    "response_cols = [\"response1\", \"response2\", \"response3\"]\n",
    "for _, row in survey_df.iterrows():\n",
    "    d = row.to_dict()\n",
    "    for col in response_cols:\n",
    "        d = row.to_dict()\n",
    "        d[\"generation\"] = d[col]\n",
    "        for key, value in eval(d[col + \"_meta\"]).items():\n",
    "            d[key] = value\n",
    "        for col in response_cols:\n",
    "            del d[col]\n",
    "            del d[col + \"_meta\"]\n",
    "        del d[\"survey_id\"]  # no longer useful info\n",
    "        ds.append(d)\n",
    "\n",
    "print(f\"{len(ds)} rows exploded from survey_df with {len(survey_df)}\")\n",
    "question_df = pd.DataFrame(ds)\n",
    "question_df.head(2)"
   ]
  },
  {
   "cell_type": "code",
   "execution_count": 39,
   "id": "6e038bda-69d5-4af8-8c52-c893505976b9",
   "metadata": {},
   "outputs": [
    {
     "data": {
      "text/plain": [
       "['../data/raw/qualtrics/results/Rori+survey+3_4_September+24,+2023_19.53.tsv',\n",
       " '../data/raw/qualtrics/results/Rori+survey+2_4_September+24,+2023_19.54.tsv',\n",
       " '../data/raw/qualtrics/results/Rori+survey+4_4_September+21,+2023_11.22.tsv',\n",
       " '../data/raw/qualtrics/results/Rori+survey+1_4_September+21,+2023_10.08.tsv']"
      ]
     },
     "execution_count": 39,
     "metadata": {},
     "output_type": "execute_result"
    }
   ],
   "source": [
    "survey_files = glob(str(survey_results_dir) + \"/*.tsv\")\n",
    "survey_files"
   ]
  },
  {
   "cell_type": "code",
   "execution_count": 40,
   "id": "495135fe-443e-4df2-afc4-9896a02ede46",
   "metadata": {},
   "outputs": [
    {
     "name": "stdout",
     "output_type": "stream",
     "text": [
      "../data/raw/qualtrics/results/Rori+survey+3_4_September+24,+2023_19.53.tsv\n"
     ]
    },
    {
     "data": {
      "text/html": [
       "<div>\n",
       "<style scoped>\n",
       "    .dataframe tbody tr th:only-of-type {\n",
       "        vertical-align: middle;\n",
       "    }\n",
       "\n",
       "    .dataframe tbody tr th {\n",
       "        vertical-align: top;\n",
       "    }\n",
       "\n",
       "    .dataframe thead th {\n",
       "        text-align: right;\n",
       "    }\n",
       "</style>\n",
       "<table border=\"1\" class=\"dataframe\">\n",
       "  <thead>\n",
       "    <tr style=\"text-align: right;\">\n",
       "      <th></th>\n",
       "      <th>survey_id</th>\n",
       "      <th>StartDate</th>\n",
       "      <th>EndDate</th>\n",
       "      <th>Status</th>\n",
       "      <th>IPAddress</th>\n",
       "      <th>Progress</th>\n",
       "      <th>Duration (in seconds)</th>\n",
       "      <th>Finished</th>\n",
       "      <th>RecordedDate</th>\n",
       "      <th>ResponseId</th>\n",
       "      <th>...</th>\n",
       "      <th>Q31_2</th>\n",
       "      <th>Q31_3</th>\n",
       "      <th>Q32</th>\n",
       "      <th>Q27_1</th>\n",
       "      <th>Q27_2</th>\n",
       "      <th>Q27_3</th>\n",
       "      <th>Q28_1</th>\n",
       "      <th>Q28_2</th>\n",
       "      <th>Q28_3</th>\n",
       "      <th>Q29</th>\n",
       "    </tr>\n",
       "  </thead>\n",
       "  <tbody>\n",
       "    <tr>\n",
       "      <th>0</th>\n",
       "      <td>Rori+survey+3</td>\n",
       "      <td>Start Date</td>\n",
       "      <td>End Date</td>\n",
       "      <td>Response Type</td>\n",
       "      <td>IP Address</td>\n",
       "      <td>Progress</td>\n",
       "      <td>Duration (in seconds)</td>\n",
       "      <td>Finished</td>\n",
       "      <td>Recorded Date</td>\n",
       "      <td>Response ID</td>\n",
       "      <td>...</td>\n",
       "      <td>For each response, does the response or a para...</td>\n",
       "      <td>For each response, does the response or a para...</td>\n",
       "      <td>Notes/observations, if you want to flag someth...</td>\n",
       "      <td>Rank these three responses from best to worst ...</td>\n",
       "      <td>Rank these three responses from best to worst ...</td>\n",
       "      <td>Rank these three responses from best to worst ...</td>\n",
       "      <td>For each response, does the response or a para...</td>\n",
       "      <td>For each response, does the response or a para...</td>\n",
       "      <td>For each response, does the response or a para...</td>\n",
       "      <td>Notes/observations, if you want to flag someth...</td>\n",
       "    </tr>\n",
       "    <tr>\n",
       "      <th>1</th>\n",
       "      <td>Rori+survey+3</td>\n",
       "      <td>{\"ImportId\":\"startDate\",\"timeZone\":\"America/Ch...</td>\n",
       "      <td>{\"ImportId\":\"endDate\",\"timeZone\":\"America/Chic...</td>\n",
       "      <td>{\"ImportId\":\"status\"}</td>\n",
       "      <td>{\"ImportId\":\"ipAddress\"}</td>\n",
       "      <td>{\"ImportId\":\"progress\"}</td>\n",
       "      <td>{\"ImportId\":\"duration\"}</td>\n",
       "      <td>{\"ImportId\":\"finished\"}</td>\n",
       "      <td>{\"ImportId\":\"recordedDate\",\"timeZone\":\"America...</td>\n",
       "      <td>{\"ImportId\":\"_recordId\"}</td>\n",
       "      <td>...</td>\n",
       "      <td>{\"ImportId\":\"QID31_2\"}</td>\n",
       "      <td>{\"ImportId\":\"QID31_3\"}</td>\n",
       "      <td>{\"ImportId\":\"QID32_TEXT\"}</td>\n",
       "      <td>{\"ImportId\":\"QID27_1\"}</td>\n",
       "      <td>{\"ImportId\":\"QID27_2\"}</td>\n",
       "      <td>{\"ImportId\":\"QID27_3\"}</td>\n",
       "      <td>{\"ImportId\":\"QID28_1\"}</td>\n",
       "      <td>{\"ImportId\":\"QID28_2\"}</td>\n",
       "      <td>{\"ImportId\":\"QID28_3\"}</td>\n",
       "      <td>{\"ImportId\":\"QID29_TEXT\"}</td>\n",
       "    </tr>\n",
       "    <tr>\n",
       "      <th>2</th>\n",
       "      <td>Rori+survey+3</td>\n",
       "      <td>2023-09-20 08:04:34</td>\n",
       "      <td>2023-09-20 10:12:19</td>\n",
       "      <td>IP Address</td>\n",
       "      <td>49.34.52.177</td>\n",
       "      <td>100</td>\n",
       "      <td>7665</td>\n",
       "      <td>True</td>\n",
       "      <td>2023-09-20 10:12:20</td>\n",
       "      <td>R_3e311NHctS5qKFh</td>\n",
       "      <td>...</td>\n",
       "      <td>None</td>\n",
       "      <td>None</td>\n",
       "      <td>NaN</td>\n",
       "      <td>2</td>\n",
       "      <td>1</td>\n",
       "      <td>3</td>\n",
       "      <td>None</td>\n",
       "      <td>None</td>\n",
       "      <td>None</td>\n",
       "      <td>NaN</td>\n",
       "    </tr>\n",
       "  </tbody>\n",
       "</table>\n",
       "<p>3 rows × 124 columns</p>\n",
       "</div>"
      ],
      "text/plain": [
       "       survey_id                                          StartDate  \\\n",
       "0  Rori+survey+3                                         Start Date   \n",
       "1  Rori+survey+3  {\"ImportId\":\"startDate\",\"timeZone\":\"America/Ch...   \n",
       "2  Rori+survey+3                                2023-09-20 08:04:34   \n",
       "\n",
       "                                             EndDate                 Status  \\\n",
       "0                                           End Date          Response Type   \n",
       "1  {\"ImportId\":\"endDate\",\"timeZone\":\"America/Chic...  {\"ImportId\":\"status\"}   \n",
       "2                                2023-09-20 10:12:19             IP Address   \n",
       "\n",
       "                  IPAddress                 Progress    Duration (in seconds)  \\\n",
       "0                IP Address                 Progress    Duration (in seconds)   \n",
       "1  {\"ImportId\":\"ipAddress\"}  {\"ImportId\":\"progress\"}  {\"ImportId\":\"duration\"}   \n",
       "2              49.34.52.177                      100                     7665   \n",
       "\n",
       "                  Finished                                       RecordedDate  \\\n",
       "0                 Finished                                      Recorded Date   \n",
       "1  {\"ImportId\":\"finished\"}  {\"ImportId\":\"recordedDate\",\"timeZone\":\"America...   \n",
       "2                     True                                2023-09-20 10:12:20   \n",
       "\n",
       "                 ResponseId  ...  \\\n",
       "0               Response ID  ...   \n",
       "1  {\"ImportId\":\"_recordId\"}  ...   \n",
       "2         R_3e311NHctS5qKFh  ...   \n",
       "\n",
       "                                               Q31_2  \\\n",
       "0  For each response, does the response or a para...   \n",
       "1                             {\"ImportId\":\"QID31_2\"}   \n",
       "2                                               None   \n",
       "\n",
       "                                               Q31_3  \\\n",
       "0  For each response, does the response or a para...   \n",
       "1                             {\"ImportId\":\"QID31_3\"}   \n",
       "2                                               None   \n",
       "\n",
       "                                                 Q32  \\\n",
       "0  Notes/observations, if you want to flag someth...   \n",
       "1                          {\"ImportId\":\"QID32_TEXT\"}   \n",
       "2                                                NaN   \n",
       "\n",
       "                                               Q27_1  \\\n",
       "0  Rank these three responses from best to worst ...   \n",
       "1                             {\"ImportId\":\"QID27_1\"}   \n",
       "2                                                  2   \n",
       "\n",
       "                                               Q27_2  \\\n",
       "0  Rank these three responses from best to worst ...   \n",
       "1                             {\"ImportId\":\"QID27_2\"}   \n",
       "2                                                  1   \n",
       "\n",
       "                                               Q27_3  \\\n",
       "0  Rank these three responses from best to worst ...   \n",
       "1                             {\"ImportId\":\"QID27_3\"}   \n",
       "2                                                  3   \n",
       "\n",
       "                                               Q28_1  \\\n",
       "0  For each response, does the response or a para...   \n",
       "1                             {\"ImportId\":\"QID28_1\"}   \n",
       "2                                               None   \n",
       "\n",
       "                                               Q28_2  \\\n",
       "0  For each response, does the response or a para...   \n",
       "1                             {\"ImportId\":\"QID28_2\"}   \n",
       "2                                               None   \n",
       "\n",
       "                                               Q28_3  \\\n",
       "0  For each response, does the response or a para...   \n",
       "1                             {\"ImportId\":\"QID28_3\"}   \n",
       "2                                               None   \n",
       "\n",
       "                                                 Q29  \n",
       "0  Notes/observations, if you want to flag someth...  \n",
       "1                          {\"ImportId\":\"QID29_TEXT\"}  \n",
       "2                                                NaN  \n",
       "\n",
       "[3 rows x 124 columns]"
      ]
     },
     "metadata": {},
     "output_type": "display_data"
    },
    {
     "name": "stdout",
     "output_type": "stream",
     "text": [
      "../data/raw/qualtrics/results/Rori+survey+2_4_September+24,+2023_19.54.tsv\n"
     ]
    },
    {
     "data": {
      "text/html": [
       "<div>\n",
       "<style scoped>\n",
       "    .dataframe tbody tr th:only-of-type {\n",
       "        vertical-align: middle;\n",
       "    }\n",
       "\n",
       "    .dataframe tbody tr th {\n",
       "        vertical-align: top;\n",
       "    }\n",
       "\n",
       "    .dataframe thead th {\n",
       "        text-align: right;\n",
       "    }\n",
       "</style>\n",
       "<table border=\"1\" class=\"dataframe\">\n",
       "  <thead>\n",
       "    <tr style=\"text-align: right;\">\n",
       "      <th></th>\n",
       "      <th>survey_id</th>\n",
       "      <th>StartDate</th>\n",
       "      <th>EndDate</th>\n",
       "      <th>Status</th>\n",
       "      <th>IPAddress</th>\n",
       "      <th>Progress</th>\n",
       "      <th>Duration (in seconds)</th>\n",
       "      <th>Finished</th>\n",
       "      <th>RecordedDate</th>\n",
       "      <th>ResponseId</th>\n",
       "      <th>...</th>\n",
       "      <th>Q31_2</th>\n",
       "      <th>Q31_3</th>\n",
       "      <th>Q32</th>\n",
       "      <th>Q27_1</th>\n",
       "      <th>Q27_2</th>\n",
       "      <th>Q27_3</th>\n",
       "      <th>Q28_1</th>\n",
       "      <th>Q28_2</th>\n",
       "      <th>Q28_3</th>\n",
       "      <th>Q29</th>\n",
       "    </tr>\n",
       "  </thead>\n",
       "  <tbody>\n",
       "    <tr>\n",
       "      <th>0</th>\n",
       "      <td>Rori+survey+2</td>\n",
       "      <td>Start Date</td>\n",
       "      <td>End Date</td>\n",
       "      <td>Response Type</td>\n",
       "      <td>IP Address</td>\n",
       "      <td>Progress</td>\n",
       "      <td>Duration (in seconds)</td>\n",
       "      <td>Finished</td>\n",
       "      <td>Recorded Date</td>\n",
       "      <td>Response ID</td>\n",
       "      <td>...</td>\n",
       "      <td>For each response, does the response or a para...</td>\n",
       "      <td>For each response, does the response or a para...</td>\n",
       "      <td>Notes/observations, if you want to flag someth...</td>\n",
       "      <td>Rank these three responses from best to worst ...</td>\n",
       "      <td>Rank these three responses from best to worst ...</td>\n",
       "      <td>Rank these three responses from best to worst ...</td>\n",
       "      <td>For each response, does the response or a para...</td>\n",
       "      <td>For each response, does the response or a para...</td>\n",
       "      <td>For each response, does the response or a para...</td>\n",
       "      <td>Notes/observations, if you want to flag someth...</td>\n",
       "    </tr>\n",
       "    <tr>\n",
       "      <th>1</th>\n",
       "      <td>Rori+survey+2</td>\n",
       "      <td>{\"ImportId\":\"startDate\",\"timeZone\":\"America/Ch...</td>\n",
       "      <td>{\"ImportId\":\"endDate\",\"timeZone\":\"America/Chic...</td>\n",
       "      <td>{\"ImportId\":\"status\"}</td>\n",
       "      <td>{\"ImportId\":\"ipAddress\"}</td>\n",
       "      <td>{\"ImportId\":\"progress\"}</td>\n",
       "      <td>{\"ImportId\":\"duration\"}</td>\n",
       "      <td>{\"ImportId\":\"finished\"}</td>\n",
       "      <td>{\"ImportId\":\"recordedDate\",\"timeZone\":\"America...</td>\n",
       "      <td>{\"ImportId\":\"_recordId\"}</td>\n",
       "      <td>...</td>\n",
       "      <td>{\"ImportId\":\"QID31_2\"}</td>\n",
       "      <td>{\"ImportId\":\"QID31_3\"}</td>\n",
       "      <td>{\"ImportId\":\"QID32_TEXT\"}</td>\n",
       "      <td>{\"ImportId\":\"QID27_1\"}</td>\n",
       "      <td>{\"ImportId\":\"QID27_2\"}</td>\n",
       "      <td>{\"ImportId\":\"QID27_3\"}</td>\n",
       "      <td>{\"ImportId\":\"QID28_1\"}</td>\n",
       "      <td>{\"ImportId\":\"QID28_2\"}</td>\n",
       "      <td>{\"ImportId\":\"QID28_3\"}</td>\n",
       "      <td>{\"ImportId\":\"QID29_TEXT\"}</td>\n",
       "    </tr>\n",
       "    <tr>\n",
       "      <th>2</th>\n",
       "      <td>Rori+survey+2</td>\n",
       "      <td>2023-09-19 20:01:08</td>\n",
       "      <td>2023-09-19 20:02:05</td>\n",
       "      <td>IP Address</td>\n",
       "      <td>71.212.28.226</td>\n",
       "      <td>100</td>\n",
       "      <td>57</td>\n",
       "      <td>True</td>\n",
       "      <td>2023-09-19 20:02:06</td>\n",
       "      <td>R_2wgd5tudicYYdaH</td>\n",
       "      <td>...</td>\n",
       "      <td>NaN</td>\n",
       "      <td>NaN</td>\n",
       "      <td>NaN</td>\n",
       "      <td>NaN</td>\n",
       "      <td>NaN</td>\n",
       "      <td>NaN</td>\n",
       "      <td>NaN</td>\n",
       "      <td>NaN</td>\n",
       "      <td>NaN</td>\n",
       "      <td>NaN</td>\n",
       "    </tr>\n",
       "  </tbody>\n",
       "</table>\n",
       "<p>3 rows × 124 columns</p>\n",
       "</div>"
      ],
      "text/plain": [
       "       survey_id                                          StartDate  \\\n",
       "0  Rori+survey+2                                         Start Date   \n",
       "1  Rori+survey+2  {\"ImportId\":\"startDate\",\"timeZone\":\"America/Ch...   \n",
       "2  Rori+survey+2                                2023-09-19 20:01:08   \n",
       "\n",
       "                                             EndDate                 Status  \\\n",
       "0                                           End Date          Response Type   \n",
       "1  {\"ImportId\":\"endDate\",\"timeZone\":\"America/Chic...  {\"ImportId\":\"status\"}   \n",
       "2                                2023-09-19 20:02:05             IP Address   \n",
       "\n",
       "                  IPAddress                 Progress    Duration (in seconds)  \\\n",
       "0                IP Address                 Progress    Duration (in seconds)   \n",
       "1  {\"ImportId\":\"ipAddress\"}  {\"ImportId\":\"progress\"}  {\"ImportId\":\"duration\"}   \n",
       "2             71.212.28.226                      100                       57   \n",
       "\n",
       "                  Finished                                       RecordedDate  \\\n",
       "0                 Finished                                      Recorded Date   \n",
       "1  {\"ImportId\":\"finished\"}  {\"ImportId\":\"recordedDate\",\"timeZone\":\"America...   \n",
       "2                     True                                2023-09-19 20:02:06   \n",
       "\n",
       "                 ResponseId  ...  \\\n",
       "0               Response ID  ...   \n",
       "1  {\"ImportId\":\"_recordId\"}  ...   \n",
       "2         R_2wgd5tudicYYdaH  ...   \n",
       "\n",
       "                                               Q31_2  \\\n",
       "0  For each response, does the response or a para...   \n",
       "1                             {\"ImportId\":\"QID31_2\"}   \n",
       "2                                                NaN   \n",
       "\n",
       "                                               Q31_3  \\\n",
       "0  For each response, does the response or a para...   \n",
       "1                             {\"ImportId\":\"QID31_3\"}   \n",
       "2                                                NaN   \n",
       "\n",
       "                                                 Q32  \\\n",
       "0  Notes/observations, if you want to flag someth...   \n",
       "1                          {\"ImportId\":\"QID32_TEXT\"}   \n",
       "2                                                NaN   \n",
       "\n",
       "                                               Q27_1  \\\n",
       "0  Rank these three responses from best to worst ...   \n",
       "1                             {\"ImportId\":\"QID27_1\"}   \n",
       "2                                                NaN   \n",
       "\n",
       "                                               Q27_2  \\\n",
       "0  Rank these three responses from best to worst ...   \n",
       "1                             {\"ImportId\":\"QID27_2\"}   \n",
       "2                                                NaN   \n",
       "\n",
       "                                               Q27_3  \\\n",
       "0  Rank these three responses from best to worst ...   \n",
       "1                             {\"ImportId\":\"QID27_3\"}   \n",
       "2                                                NaN   \n",
       "\n",
       "                                               Q28_1  \\\n",
       "0  For each response, does the response or a para...   \n",
       "1                             {\"ImportId\":\"QID28_1\"}   \n",
       "2                                                NaN   \n",
       "\n",
       "                                               Q28_2  \\\n",
       "0  For each response, does the response or a para...   \n",
       "1                             {\"ImportId\":\"QID28_2\"}   \n",
       "2                                                NaN   \n",
       "\n",
       "                                               Q28_3  \\\n",
       "0  For each response, does the response or a para...   \n",
       "1                             {\"ImportId\":\"QID28_3\"}   \n",
       "2                                                NaN   \n",
       "\n",
       "                                                 Q29  \n",
       "0  Notes/observations, if you want to flag someth...  \n",
       "1                          {\"ImportId\":\"QID29_TEXT\"}  \n",
       "2                                                NaN  \n",
       "\n",
       "[3 rows x 124 columns]"
      ]
     },
     "metadata": {},
     "output_type": "display_data"
    },
    {
     "name": "stdout",
     "output_type": "stream",
     "text": [
      "../data/raw/qualtrics/results/Rori+survey+4_4_September+21,+2023_11.22.tsv\n"
     ]
    },
    {
     "data": {
      "text/html": [
       "<div>\n",
       "<style scoped>\n",
       "    .dataframe tbody tr th:only-of-type {\n",
       "        vertical-align: middle;\n",
       "    }\n",
       "\n",
       "    .dataframe tbody tr th {\n",
       "        vertical-align: top;\n",
       "    }\n",
       "\n",
       "    .dataframe thead th {\n",
       "        text-align: right;\n",
       "    }\n",
       "</style>\n",
       "<table border=\"1\" class=\"dataframe\">\n",
       "  <thead>\n",
       "    <tr style=\"text-align: right;\">\n",
       "      <th></th>\n",
       "      <th>survey_id</th>\n",
       "      <th>StartDate</th>\n",
       "      <th>EndDate</th>\n",
       "      <th>Status</th>\n",
       "      <th>IPAddress</th>\n",
       "      <th>Progress</th>\n",
       "      <th>Duration (in seconds)</th>\n",
       "      <th>Finished</th>\n",
       "      <th>RecordedDate</th>\n",
       "      <th>ResponseId</th>\n",
       "      <th>...</th>\n",
       "      <th>Q31_2</th>\n",
       "      <th>Q31_3</th>\n",
       "      <th>Q32</th>\n",
       "      <th>Q27_1</th>\n",
       "      <th>Q27_2</th>\n",
       "      <th>Q27_3</th>\n",
       "      <th>Q28_1</th>\n",
       "      <th>Q28_2</th>\n",
       "      <th>Q28_3</th>\n",
       "      <th>Q29</th>\n",
       "    </tr>\n",
       "  </thead>\n",
       "  <tbody>\n",
       "    <tr>\n",
       "      <th>0</th>\n",
       "      <td>Rori+survey+4</td>\n",
       "      <td>Start Date</td>\n",
       "      <td>End Date</td>\n",
       "      <td>Response Type</td>\n",
       "      <td>IP Address</td>\n",
       "      <td>Progress</td>\n",
       "      <td>Duration (in seconds)</td>\n",
       "      <td>Finished</td>\n",
       "      <td>Recorded Date</td>\n",
       "      <td>Response ID</td>\n",
       "      <td>...</td>\n",
       "      <td>For each response, does the response or a para...</td>\n",
       "      <td>For each response, does the response or a para...</td>\n",
       "      <td>Notes/observations, if you want to flag someth...</td>\n",
       "      <td>Rank these three responses from best to worst ...</td>\n",
       "      <td>Rank these three responses from best to worst ...</td>\n",
       "      <td>Rank these three responses from best to worst ...</td>\n",
       "      <td>For each response, does the response or a para...</td>\n",
       "      <td>For each response, does the response or a para...</td>\n",
       "      <td>For each response, does the response or a para...</td>\n",
       "      <td>Notes/observations, if you want to flag someth...</td>\n",
       "    </tr>\n",
       "    <tr>\n",
       "      <th>1</th>\n",
       "      <td>Rori+survey+4</td>\n",
       "      <td>{\"ImportId\":\"startDate\",\"timeZone\":\"America/Ch...</td>\n",
       "      <td>{\"ImportId\":\"endDate\",\"timeZone\":\"America/Chic...</td>\n",
       "      <td>{\"ImportId\":\"status\"}</td>\n",
       "      <td>{\"ImportId\":\"ipAddress\"}</td>\n",
       "      <td>{\"ImportId\":\"progress\"}</td>\n",
       "      <td>{\"ImportId\":\"duration\"}</td>\n",
       "      <td>{\"ImportId\":\"finished\"}</td>\n",
       "      <td>{\"ImportId\":\"recordedDate\",\"timeZone\":\"America...</td>\n",
       "      <td>{\"ImportId\":\"_recordId\"}</td>\n",
       "      <td>...</td>\n",
       "      <td>{\"ImportId\":\"QID31_2\"}</td>\n",
       "      <td>{\"ImportId\":\"QID31_3\"}</td>\n",
       "      <td>{\"ImportId\":\"QID32_TEXT\"}</td>\n",
       "      <td>{\"ImportId\":\"QID27_1\"}</td>\n",
       "      <td>{\"ImportId\":\"QID27_2\"}</td>\n",
       "      <td>{\"ImportId\":\"QID27_3\"}</td>\n",
       "      <td>{\"ImportId\":\"QID28_1\"}</td>\n",
       "      <td>{\"ImportId\":\"QID28_2\"}</td>\n",
       "      <td>{\"ImportId\":\"QID28_3\"}</td>\n",
       "      <td>{\"ImportId\":\"QID29_TEXT\"}</td>\n",
       "    </tr>\n",
       "    <tr>\n",
       "      <th>2</th>\n",
       "      <td>Rori+survey+4</td>\n",
       "      <td>2023-09-20 05:13:02</td>\n",
       "      <td>2023-09-20 05:40:15</td>\n",
       "      <td>IP Address</td>\n",
       "      <td>90.199.148.220</td>\n",
       "      <td>100</td>\n",
       "      <td>1633</td>\n",
       "      <td>True</td>\n",
       "      <td>2023-09-20 05:40:16</td>\n",
       "      <td>R_2SDqyJIwZ5VmGO8</td>\n",
       "      <td>...</td>\n",
       "      <td>NaN</td>\n",
       "      <td>NaN</td>\n",
       "      <td>NaN</td>\n",
       "      <td>NaN</td>\n",
       "      <td>NaN</td>\n",
       "      <td>NaN</td>\n",
       "      <td>NaN</td>\n",
       "      <td>NaN</td>\n",
       "      <td>NaN</td>\n",
       "      <td>NaN</td>\n",
       "    </tr>\n",
       "  </tbody>\n",
       "</table>\n",
       "<p>3 rows × 124 columns</p>\n",
       "</div>"
      ],
      "text/plain": [
       "       survey_id                                          StartDate  \\\n",
       "0  Rori+survey+4                                         Start Date   \n",
       "1  Rori+survey+4  {\"ImportId\":\"startDate\",\"timeZone\":\"America/Ch...   \n",
       "2  Rori+survey+4                                2023-09-20 05:13:02   \n",
       "\n",
       "                                             EndDate                 Status  \\\n",
       "0                                           End Date          Response Type   \n",
       "1  {\"ImportId\":\"endDate\",\"timeZone\":\"America/Chic...  {\"ImportId\":\"status\"}   \n",
       "2                                2023-09-20 05:40:15             IP Address   \n",
       "\n",
       "                  IPAddress                 Progress    Duration (in seconds)  \\\n",
       "0                IP Address                 Progress    Duration (in seconds)   \n",
       "1  {\"ImportId\":\"ipAddress\"}  {\"ImportId\":\"progress\"}  {\"ImportId\":\"duration\"}   \n",
       "2            90.199.148.220                      100                     1633   \n",
       "\n",
       "                  Finished                                       RecordedDate  \\\n",
       "0                 Finished                                      Recorded Date   \n",
       "1  {\"ImportId\":\"finished\"}  {\"ImportId\":\"recordedDate\",\"timeZone\":\"America...   \n",
       "2                     True                                2023-09-20 05:40:16   \n",
       "\n",
       "                 ResponseId  ...  \\\n",
       "0               Response ID  ...   \n",
       "1  {\"ImportId\":\"_recordId\"}  ...   \n",
       "2         R_2SDqyJIwZ5VmGO8  ...   \n",
       "\n",
       "                                               Q31_2  \\\n",
       "0  For each response, does the response or a para...   \n",
       "1                             {\"ImportId\":\"QID31_2\"}   \n",
       "2                                                NaN   \n",
       "\n",
       "                                               Q31_3  \\\n",
       "0  For each response, does the response or a para...   \n",
       "1                             {\"ImportId\":\"QID31_3\"}   \n",
       "2                                                NaN   \n",
       "\n",
       "                                                 Q32  \\\n",
       "0  Notes/observations, if you want to flag someth...   \n",
       "1                          {\"ImportId\":\"QID32_TEXT\"}   \n",
       "2                                                NaN   \n",
       "\n",
       "                                               Q27_1  \\\n",
       "0  Rank these three responses from best to worst ...   \n",
       "1                             {\"ImportId\":\"QID27_1\"}   \n",
       "2                                                NaN   \n",
       "\n",
       "                                               Q27_2  \\\n",
       "0  Rank these three responses from best to worst ...   \n",
       "1                             {\"ImportId\":\"QID27_2\"}   \n",
       "2                                                NaN   \n",
       "\n",
       "                                               Q27_3  \\\n",
       "0  Rank these three responses from best to worst ...   \n",
       "1                             {\"ImportId\":\"QID27_3\"}   \n",
       "2                                                NaN   \n",
       "\n",
       "                                               Q28_1  \\\n",
       "0  For each response, does the response or a para...   \n",
       "1                             {\"ImportId\":\"QID28_1\"}   \n",
       "2                                                NaN   \n",
       "\n",
       "                                               Q28_2  \\\n",
       "0  For each response, does the response or a para...   \n",
       "1                             {\"ImportId\":\"QID28_2\"}   \n",
       "2                                                NaN   \n",
       "\n",
       "                                               Q28_3  \\\n",
       "0  For each response, does the response or a para...   \n",
       "1                             {\"ImportId\":\"QID28_3\"}   \n",
       "2                                                NaN   \n",
       "\n",
       "                                                 Q29  \n",
       "0  Notes/observations, if you want to flag someth...  \n",
       "1                          {\"ImportId\":\"QID29_TEXT\"}  \n",
       "2                                                NaN  \n",
       "\n",
       "[3 rows x 124 columns]"
      ]
     },
     "metadata": {},
     "output_type": "display_data"
    },
    {
     "name": "stdout",
     "output_type": "stream",
     "text": [
      "../data/raw/qualtrics/results/Rori+survey+1_4_September+21,+2023_10.08.tsv\n"
     ]
    },
    {
     "data": {
      "text/html": [
       "<div>\n",
       "<style scoped>\n",
       "    .dataframe tbody tr th:only-of-type {\n",
       "        vertical-align: middle;\n",
       "    }\n",
       "\n",
       "    .dataframe tbody tr th {\n",
       "        vertical-align: top;\n",
       "    }\n",
       "\n",
       "    .dataframe thead th {\n",
       "        text-align: right;\n",
       "    }\n",
       "</style>\n",
       "<table border=\"1\" class=\"dataframe\">\n",
       "  <thead>\n",
       "    <tr style=\"text-align: right;\">\n",
       "      <th></th>\n",
       "      <th>survey_id</th>\n",
       "      <th>StartDate</th>\n",
       "      <th>EndDate</th>\n",
       "      <th>Status</th>\n",
       "      <th>IPAddress</th>\n",
       "      <th>Progress</th>\n",
       "      <th>Duration (in seconds)</th>\n",
       "      <th>Finished</th>\n",
       "      <th>RecordedDate</th>\n",
       "      <th>ResponseId</th>\n",
       "      <th>...</th>\n",
       "      <th>Q31_2</th>\n",
       "      <th>Q31_3</th>\n",
       "      <th>Q32</th>\n",
       "      <th>Q27_1</th>\n",
       "      <th>Q27_2</th>\n",
       "      <th>Q27_3</th>\n",
       "      <th>Q28_1</th>\n",
       "      <th>Q28_2</th>\n",
       "      <th>Q28_3</th>\n",
       "      <th>Q29</th>\n",
       "    </tr>\n",
       "  </thead>\n",
       "  <tbody>\n",
       "    <tr>\n",
       "      <th>0</th>\n",
       "      <td>Rori+survey+1</td>\n",
       "      <td>Start Date</td>\n",
       "      <td>End Date</td>\n",
       "      <td>Response Type</td>\n",
       "      <td>IP Address</td>\n",
       "      <td>Progress</td>\n",
       "      <td>Duration (in seconds)</td>\n",
       "      <td>Finished</td>\n",
       "      <td>Recorded Date</td>\n",
       "      <td>Response ID</td>\n",
       "      <td>...</td>\n",
       "      <td>For each response, does the response or a para...</td>\n",
       "      <td>For each response, does the response or a para...</td>\n",
       "      <td>Notes/observations, if you want to flag someth...</td>\n",
       "      <td>Rank these three responses from best to worst ...</td>\n",
       "      <td>Rank these three responses from best to worst ...</td>\n",
       "      <td>Rank these three responses from best to worst ...</td>\n",
       "      <td>For each response, does the response or a para...</td>\n",
       "      <td>For each response, does the response or a para...</td>\n",
       "      <td>For each response, does the response or a para...</td>\n",
       "      <td>Notes/observations, if you want to flag someth...</td>\n",
       "    </tr>\n",
       "    <tr>\n",
       "      <th>1</th>\n",
       "      <td>Rori+survey+1</td>\n",
       "      <td>{\"ImportId\":\"startDate\",\"timeZone\":\"America/Ch...</td>\n",
       "      <td>{\"ImportId\":\"endDate\",\"timeZone\":\"America/Chic...</td>\n",
       "      <td>{\"ImportId\":\"status\"}</td>\n",
       "      <td>{\"ImportId\":\"ipAddress\"}</td>\n",
       "      <td>{\"ImportId\":\"progress\"}</td>\n",
       "      <td>{\"ImportId\":\"duration\"}</td>\n",
       "      <td>{\"ImportId\":\"finished\"}</td>\n",
       "      <td>{\"ImportId\":\"recordedDate\",\"timeZone\":\"America...</td>\n",
       "      <td>{\"ImportId\":\"_recordId\"}</td>\n",
       "      <td>...</td>\n",
       "      <td>{\"ImportId\":\"QID31_2\"}</td>\n",
       "      <td>{\"ImportId\":\"QID31_3\"}</td>\n",
       "      <td>{\"ImportId\":\"QID32_TEXT\"}</td>\n",
       "      <td>{\"ImportId\":\"QID27_1\"}</td>\n",
       "      <td>{\"ImportId\":\"QID27_2\"}</td>\n",
       "      <td>{\"ImportId\":\"QID27_3\"}</td>\n",
       "      <td>{\"ImportId\":\"QID28_1\"}</td>\n",
       "      <td>{\"ImportId\":\"QID28_2\"}</td>\n",
       "      <td>{\"ImportId\":\"QID28_3\"}</td>\n",
       "      <td>{\"ImportId\":\"QID29_TEXT\"}</td>\n",
       "    </tr>\n",
       "    <tr>\n",
       "      <th>2</th>\n",
       "      <td>Rori+survey+1</td>\n",
       "      <td>2023-09-17 23:57:57</td>\n",
       "      <td>2023-09-18 00:00:25</td>\n",
       "      <td>IP Address</td>\n",
       "      <td>71.212.28.226</td>\n",
       "      <td>100</td>\n",
       "      <td>147</td>\n",
       "      <td>True</td>\n",
       "      <td>2023-09-18 00:00:26</td>\n",
       "      <td>R_AyxnmfeoQzsvSCd</td>\n",
       "      <td>...</td>\n",
       "      <td>NaN</td>\n",
       "      <td>NaN</td>\n",
       "      <td>NaN</td>\n",
       "      <td>NaN</td>\n",
       "      <td>NaN</td>\n",
       "      <td>NaN</td>\n",
       "      <td>NaN</td>\n",
       "      <td>NaN</td>\n",
       "      <td>NaN</td>\n",
       "      <td>NaN</td>\n",
       "    </tr>\n",
       "  </tbody>\n",
       "</table>\n",
       "<p>3 rows × 124 columns</p>\n",
       "</div>"
      ],
      "text/plain": [
       "       survey_id                                          StartDate  \\\n",
       "0  Rori+survey+1                                         Start Date   \n",
       "1  Rori+survey+1  {\"ImportId\":\"startDate\",\"timeZone\":\"America/Ch...   \n",
       "2  Rori+survey+1                                2023-09-17 23:57:57   \n",
       "\n",
       "                                             EndDate                 Status  \\\n",
       "0                                           End Date          Response Type   \n",
       "1  {\"ImportId\":\"endDate\",\"timeZone\":\"America/Chic...  {\"ImportId\":\"status\"}   \n",
       "2                                2023-09-18 00:00:25             IP Address   \n",
       "\n",
       "                  IPAddress                 Progress    Duration (in seconds)  \\\n",
       "0                IP Address                 Progress    Duration (in seconds)   \n",
       "1  {\"ImportId\":\"ipAddress\"}  {\"ImportId\":\"progress\"}  {\"ImportId\":\"duration\"}   \n",
       "2             71.212.28.226                      100                      147   \n",
       "\n",
       "                  Finished                                       RecordedDate  \\\n",
       "0                 Finished                                      Recorded Date   \n",
       "1  {\"ImportId\":\"finished\"}  {\"ImportId\":\"recordedDate\",\"timeZone\":\"America...   \n",
       "2                     True                                2023-09-18 00:00:26   \n",
       "\n",
       "                 ResponseId  ...  \\\n",
       "0               Response ID  ...   \n",
       "1  {\"ImportId\":\"_recordId\"}  ...   \n",
       "2         R_AyxnmfeoQzsvSCd  ...   \n",
       "\n",
       "                                               Q31_2  \\\n",
       "0  For each response, does the response or a para...   \n",
       "1                             {\"ImportId\":\"QID31_2\"}   \n",
       "2                                                NaN   \n",
       "\n",
       "                                               Q31_3  \\\n",
       "0  For each response, does the response or a para...   \n",
       "1                             {\"ImportId\":\"QID31_3\"}   \n",
       "2                                                NaN   \n",
       "\n",
       "                                                 Q32  \\\n",
       "0  Notes/observations, if you want to flag someth...   \n",
       "1                          {\"ImportId\":\"QID32_TEXT\"}   \n",
       "2                                                NaN   \n",
       "\n",
       "                                               Q27_1  \\\n",
       "0  Rank these three responses from best to worst ...   \n",
       "1                             {\"ImportId\":\"QID27_1\"}   \n",
       "2                                                NaN   \n",
       "\n",
       "                                               Q27_2  \\\n",
       "0  Rank these three responses from best to worst ...   \n",
       "1                             {\"ImportId\":\"QID27_2\"}   \n",
       "2                                                NaN   \n",
       "\n",
       "                                               Q27_3  \\\n",
       "0  Rank these three responses from best to worst ...   \n",
       "1                             {\"ImportId\":\"QID27_3\"}   \n",
       "2                                                NaN   \n",
       "\n",
       "                                               Q28_1  \\\n",
       "0  For each response, does the response or a para...   \n",
       "1                             {\"ImportId\":\"QID28_1\"}   \n",
       "2                                                NaN   \n",
       "\n",
       "                                               Q28_2  \\\n",
       "0  For each response, does the response or a para...   \n",
       "1                             {\"ImportId\":\"QID28_2\"}   \n",
       "2                                                NaN   \n",
       "\n",
       "                                               Q28_3  \\\n",
       "0  For each response, does the response or a para...   \n",
       "1                             {\"ImportId\":\"QID28_3\"}   \n",
       "2                                                NaN   \n",
       "\n",
       "                                                 Q29  \n",
       "0  Notes/observations, if you want to flag someth...  \n",
       "1                          {\"ImportId\":\"QID29_TEXT\"}  \n",
       "2                                                NaN  \n",
       "\n",
       "[3 rows x 124 columns]"
      ]
     },
     "metadata": {},
     "output_type": "display_data"
    }
   ],
   "source": [
    "survey_df_map = {}\n",
    "for survey_filepath in survey_files:\n",
    "    sdf = pd.read_csv(survey_filepath, sep=\"\\t\", encoding=\"utf-16\", na_values=[\"\", \" \"], keep_default_na=False)\n",
    "    survey_id = os.path.basename(survey_filepath).split(\"_\")[0]\n",
    "    sdf.insert(0, \"survey_id\", survey_id)\n",
    "    survey_df_map[survey_id] = sdf\n",
    "    print(survey_filepath)\n",
    "    display(sdf.head(3))"
   ]
  },
  {
   "cell_type": "code",
   "execution_count": 41,
   "id": "196ad74c-712b-46c2-b0b4-79caf02be020",
   "metadata": {},
   "outputs": [
    {
     "data": {
      "text/plain": [
       "array(['survey_id', 'StartDate', 'EndDate', 'Status', 'IPAddress',\n",
       "       'Progress', 'Duration (in seconds)', 'Finished', 'RecordedDate',\n",
       "       'ResponseId', 'RecipientLastName', 'RecipientFirstName',\n",
       "       'RecipientEmail', 'ExternalReference', 'LocationLatitude',\n",
       "       'LocationLongitude', 'DistributionChannel', 'UserLanguage',\n",
       "       'annotator_name', 'Q2_1', 'Q2_2', 'Q2_3', 'Q3_1', 'Q3_2', 'Q3_3',\n",
       "       'Q4', 'Q66_1', 'Q66_2', 'Q66_3', 'Q67_1', 'Q67_2', 'Q67_3', 'Q68',\n",
       "       'Q63_1', 'Q63_2', 'Q63_3', 'Q64_1', 'Q64_2', 'Q64_3', 'Q65',\n",
       "       'Q60_1', 'Q60_2', 'Q60_3', 'Q61_1', 'Q61_2', 'Q61_3', 'Q62',\n",
       "       'Q57_1', 'Q57_2', 'Q57_3', 'Q58_1', 'Q58_2', 'Q58_3', 'Q59',\n",
       "       'Q54_1', 'Q54_2', 'Q54_3', 'Q55_1', 'Q55_2', 'Q55_3', 'Q56',\n",
       "       'Q51_1', 'Q51_2', 'Q51_3', 'Q52_1', 'Q52_2', 'Q52_3', 'Q53',\n",
       "       'Q48_1', 'Q48_2', 'Q48_3', 'Q49_1', 'Q49_2', 'Q49_3', 'Q50',\n",
       "       'Q45_1', 'Q45_2', 'Q45_3', 'Q46_1', 'Q46_2', 'Q46_3', 'Q47',\n",
       "       'Q42_1', 'Q42_2', 'Q42_3', 'Q43_1', 'Q43_2', 'Q43_3', 'Q44',\n",
       "       'Q39_1', 'Q39_2', 'Q39_3', 'Q40_1', 'Q40_2', 'Q40_3', 'Q41',\n",
       "       'Q36_1', 'Q36_2', 'Q36_3', 'Q37_1', 'Q37_2', 'Q37_3', 'Q38',\n",
       "       'Q33_1', 'Q33_2', 'Q33_3', 'Q34_1', 'Q34_2', 'Q34_3', 'Q35',\n",
       "       'Q30_1', 'Q30_2', 'Q30_3', 'Q31_1', 'Q31_2', 'Q31_3', 'Q32',\n",
       "       'Q27_1', 'Q27_2', 'Q27_3', 'Q28_1', 'Q28_2', 'Q28_3', 'Q29'],\n",
       "      dtype=object)"
      ]
     },
     "execution_count": 41,
     "metadata": {},
     "output_type": "execute_result"
    }
   ],
   "source": [
    "np.array(sdf.columns).reshape(-1)"
   ]
  },
  {
   "cell_type": "code",
   "execution_count": 42,
   "id": "c076b983-4e8b-4695-9a93-5fea0f62e448",
   "metadata": {},
   "outputs": [
    {
     "data": {
      "text/plain": [
       "'Test text & more'"
      ]
     },
     "execution_count": 42,
     "metadata": {},
     "output_type": "execute_result"
    }
   ],
   "source": [
    "class MLStripper(HTMLParser):\n",
    "    def __init__(self):\n",
    "        super().__init__()\n",
    "        self.reset()\n",
    "        self.strict = False\n",
    "        self.convert_charrefs = True\n",
    "        self.text = StringIO()\n",
    "\n",
    "    def handle_data(self, d):\n",
    "        self.text.write(d)\n",
    "\n",
    "    def get_data(self):\n",
    "        return self.text.getvalue()\n",
    "\n",
    "\n",
    "def strip_tags(html):\n",
    "    s = MLStripper()\n",
    "    s.feed(html)\n",
    "    return s.get_data()\n",
    "\n",
    "\n",
    "strip_tags(html.unescape(\"<p>Test text & more</p>\"))"
   ]
  },
  {
   "cell_type": "code",
   "execution_count": 43,
   "id": "979efdab-7edc-4ff2-b07e-4c5463e282e2",
   "metadata": {},
   "outputs": [
    {
     "data": {
      "text/plain": [
       "Index(['query', 'document', 'generation_index', 'generation', 'survey_id',\n",
       "       'ranking_q', 'faithfulness_q'],\n",
       "      dtype='object')"
      ]
     },
     "metadata": {},
     "output_type": "display_data"
    },
    {
     "data": {
      "text/plain": [
       "survey_id\n",
       "Rori+survey+3    45\n",
       "Rori+survey+2    45\n",
       "Rori+survey+1    45\n",
       "Rori+survey+4    18\n",
       "Name: count, dtype: int64"
      ]
     },
     "execution_count": 43,
     "metadata": {},
     "output_type": "execute_result"
    }
   ],
   "source": [
    "ds = []\n",
    "for survey_id, sdf in survey_df_map.items():\n",
    "    questions = np.array([column for column in sdf.columns if column.startswith(\"Q\")]).reshape(-1, 7)\n",
    "    question_pairs = []\n",
    "    for row in questions:\n",
    "        assert \"_1\" in row[0]\n",
    "        assert \"_1\" in row[3]\n",
    "        assert \"_\" not in row[6]\n",
    "        ranking_q = row[0].split(\"_\")[0]\n",
    "        faithfulness_q = row[3].split(\"_\")[0]\n",
    "        question_pairs.append((ranking_q, faithfulness_q))\n",
    "    assert len(question_pairs) == 15\n",
    "\n",
    "    for ranking_q, faithfulness_q in question_pairs:\n",
    "        question_text = sdf[faithfulness_q + \"_1\"].iloc[0]\n",
    "        document = question_text.split(\"\\n\\nNone\")[0].split(\"\\n\\nThe document:\")[1]\n",
    "\n",
    "        student_question_set = set()\n",
    "        for i, option in enumerate([\"_1\", \"_2\", \"_3\"]):\n",
    "            question = ranking_q + option\n",
    "            question_text = strip_tags(html.unescape(sdf[question].iloc[0].replace(\"</p>\", \"</p>\\n\")))\n",
    "            tokens = question_text.split(\" - \")\n",
    "            assert len(tokens) >= 2\n",
    "            student_question_part = tokens[0]\n",
    "            response_part = \" - \".join(tokens[1:]).strip()\n",
    "            student_question = re.search(\n",
    "                \"Student's question: (.*)\", student_question_part, flags=re.DOTALL | re.MULTILINE\n",
    "            ).group(1)\n",
    "            student_question_set.add(student_question)\n",
    "            assert len(student_question_set) == 1\n",
    "            query = next(iter(student_question_set))\n",
    "            if query.strip() == \"No more student queries in this survey, just click through to the end.\":\n",
    "                continue\n",
    "            ds.append(\n",
    "                {\n",
    "                    \"query\": query,\n",
    "                    \"document\": document,\n",
    "                    \"generation_index\": i + 1,\n",
    "                    \"generation\": response_part,\n",
    "                    \"survey_id\": sdf.iloc[0].survey_id,\n",
    "                    \"ranking_q\": ranking_q,\n",
    "                    \"faithfulness_q\": faithfulness_q,\n",
    "                }\n",
    "            )\n",
    "survey_question_df = pd.DataFrame(ds)\n",
    "display(survey_question_df.columns)\n",
    "survey_question_df.survey_id.value_counts()"
   ]
  },
  {
   "cell_type": "code",
   "execution_count": 44,
   "id": "02d6bb48-c3b3-421d-95e9-373b0bc5d676",
   "metadata": {},
   "outputs": [],
   "source": [
    "assert survey_question_df.ranking_q.nunique() == 15"
   ]
  },
  {
   "cell_type": "code",
   "execution_count": null,
   "id": "9fb555a4-437e-40f8-a323-3f9c92398112",
   "metadata": {},
   "outputs": [],
   "source": []
  },
  {
   "cell_type": "code",
   "execution_count": 74,
   "id": "f82745f6-5644-4d48-ae65-9994730a9f3e",
   "metadata": {},
   "outputs": [
    {
     "name": "stderr",
     "output_type": "stream",
     "text": [
      "/Users/zacharylevonian/repos/annotation-tools/.venv/lib/python3.10/site-packages/skrub/_fuzzy_join.py:359: UserWarning: This feature is still experimental.\n",
      "  warnings.warn(\"This feature is still experimental.\")\n"
     ]
    },
    {
     "data": {
      "text/plain": [
       "(153, 153, 153)"
      ]
     },
     "execution_count": 74,
     "metadata": {},
     "output_type": "execute_result"
    }
   ],
   "source": [
    "# do a fuzzy join\n",
    "# https://skrub-data.org/stable/auto_examples/04_fuzzy_joining.html\n",
    "join_cols = [\"query\", \"document\", \"generation\"]\n",
    "joined_df = skrub.fuzzy_join(\n",
    "    question_df,\n",
    "    survey_question_df,\n",
    "    on=join_cols,\n",
    "    return_score=True,\n",
    "    suffixes=(\"\", \"_survey\"),\n",
    ")\n",
    "len(question_df), len(survey_question_df), len(joined_df)"
   ]
  },
  {
   "cell_type": "code",
   "execution_count": 75,
   "id": "ccfc89c8-353a-4e7c-aad3-ef51b210e409",
   "metadata": {},
   "outputs": [
    {
     "data": {
      "image/png": "[encoded data removed]",
      "text/plain": [
       "<Figure size 400x100 with 1 Axes>"
      ]
     },
     "metadata": {},
     "output_type": "display_data"
    },
    {
     "name": "stdout",
     "output_type": "stream",
     "text": [
      "143 perfect matches of 153 total\n"
     ]
    }
   ],
   "source": [
    "# sanity-check the join scores: they should be very high!\n",
    "fig, ax = plt.subplots(1, 1, figsize=(4, 1))\n",
    "\n",
    "ax.hist(joined_df.matching_score, bins=50)\n",
    "ax.set_title(\"Survey join scores\")\n",
    "\n",
    "plt.show()\n",
    "print(f\"{(joined_df.matching_score >= 0.99).sum()} perfect matches of {len(joined_df)} total\")"
   ]
  },
  {
   "cell_type": "code",
   "execution_count": 76,
   "id": "40db8a81-b49c-4d86-8ce6-0d8d426fd962",
   "metadata": {},
   "outputs": [
    {
     "data": {
      "text/html": [
       "<div>\n",
       "<style scoped>\n",
       "    .dataframe tbody tr th:only-of-type {\n",
       "        vertical-align: middle;\n",
       "    }\n",
       "\n",
       "    .dataframe tbody tr th {\n",
       "        vertical-align: top;\n",
       "    }\n",
       "\n",
       "    .dataframe thead th {\n",
       "        text-align: right;\n",
       "    }\n",
       "</style>\n",
       "<table border=\"1\" class=\"dataframe\">\n",
       "  <thead>\n",
       "    <tr style=\"text-align: right;\">\n",
       "      <th></th>\n",
       "      <th>matching_score</th>\n",
       "      <th>ranking_q</th>\n",
       "      <th>generation_index</th>\n",
       "      <th>query</th>\n",
       "      <th>query_survey</th>\n",
       "      <th>document</th>\n",
       "      <th>document_survey</th>\n",
       "      <th>generation</th>\n",
       "      <th>generation_survey</th>\n",
       "    </tr>\n",
       "  </thead>\n",
       "  <tbody>\n",
       "    <tr>\n",
       "      <th>26</th>\n",
       "      <td>0.500000</td>\n",
       "      <td>Q33</td>\n",
       "      <td>3</td>\n",
       "      <td>Can someone help me with what an irrational nu...</td>\n",
       "      <td>Is a rational and irrational number always irr...</td>\n",
       "      <td>Identify Rational Numbers and Irrational Numbe...</td>\n",
       "      <td>Identify Rational Numbers and Irrational Numbe...</td>\n",
       "      <td>Of course! I'd be happy to help explain the di...</td>\n",
       "      <td>No, a rational number and an irrational number...</td>\n",
       "    </tr>\n",
       "    <tr>\n",
       "      <th>100</th>\n",
       "      <td>0.821084</td>\n",
       "      <td>Q2</td>\n",
       "      <td>1</td>\n",
       "      <td>Can function Notation be negative?</td>\n",
       "      <td>Can function Notation be negative?</td>\n",
       "      <td>Locate Positive and Negative Numbers on the Nu...</td>\n",
       "      <td>Locate Positive and Negative Numbers on the Nu...</td>\n",
       "      <td>No, function notation cannot be negative. Func...</td>\n",
       "      <td>No, function notation cannot be negative. Func...</td>\n",
       "    </tr>\n",
       "    <tr>\n",
       "      <th>99</th>\n",
       "      <td>0.821094</td>\n",
       "      <td>Q2</td>\n",
       "      <td>2</td>\n",
       "      <td>Can function Notation be negative?</td>\n",
       "      <td>Can function Notation be negative?</td>\n",
       "      <td>Locate Positive and Negative Numbers on the Nu...</td>\n",
       "      <td>Locate Positive and Negative Numbers on the Nu...</td>\n",
       "      <td>No, function notation itself cannot be negativ...</td>\n",
       "      <td>No, function notation itself cannot be negativ...</td>\n",
       "    </tr>\n",
       "    <tr>\n",
       "      <th>101</th>\n",
       "      <td>0.823407</td>\n",
       "      <td>Q2</td>\n",
       "      <td>3</td>\n",
       "      <td>Can function Notation be negative?</td>\n",
       "      <td>Can function Notation be negative?</td>\n",
       "      <td>Locate Positive and Negative Numbers on the Nu...</td>\n",
       "      <td>Locate Positive and Negative Numbers on the Nu...</td>\n",
       "      <td>No, function notation cannot be negative. Func...</td>\n",
       "      <td>No, function notation cannot be negative. Func...</td>\n",
       "    </tr>\n",
       "    <tr>\n",
       "      <th>116</th>\n",
       "      <td>0.825255</td>\n",
       "      <td>Q45</td>\n",
       "      <td>3</td>\n",
       "      <td>How do i graph an inequality with a less than ...</td>\n",
       "      <td>How do i graph an inequality with a less than ...</td>\n",
       "      <td>Locate Positive and Negative Numbers on the Nu...</td>\n",
       "      <td>Locate Positive and Negative Numbers on the Nu...</td>\n",
       "      <td>To graph an inequality with a less than or equ...</td>\n",
       "      <td>To graph an inequality with a less than or equ...</td>\n",
       "    </tr>\n",
       "  </tbody>\n",
       "</table>\n",
       "</div>"
      ],
      "text/plain": [
       "     matching_score ranking_q  generation_index  \\\n",
       "26         0.500000       Q33                 3   \n",
       "100        0.821084        Q2                 1   \n",
       "99         0.821094        Q2                 2   \n",
       "101        0.823407        Q2                 3   \n",
       "116        0.825255       Q45                 3   \n",
       "\n",
       "                                                 query  \\\n",
       "26   Can someone help me with what an irrational nu...   \n",
       "100                 Can function Notation be negative?   \n",
       "99                  Can function Notation be negative?   \n",
       "101                 Can function Notation be negative?   \n",
       "116  How do i graph an inequality with a less than ...   \n",
       "\n",
       "                                          query_survey  \\\n",
       "26   Is a rational and irrational number always irr...   \n",
       "100                 Can function Notation be negative?   \n",
       "99                  Can function Notation be negative?   \n",
       "101                 Can function Notation be negative?   \n",
       "116  How do i graph an inequality with a less than ...   \n",
       "\n",
       "                                              document  \\\n",
       "26   Identify Rational Numbers and Irrational Numbe...   \n",
       "100  Locate Positive and Negative Numbers on the Nu...   \n",
       "99   Locate Positive and Negative Numbers on the Nu...   \n",
       "101  Locate Positive and Negative Numbers on the Nu...   \n",
       "116  Locate Positive and Negative Numbers on the Nu...   \n",
       "\n",
       "                                       document_survey  \\\n",
       "26   Identify Rational Numbers and Irrational Numbe...   \n",
       "100  Locate Positive and Negative Numbers on the Nu...   \n",
       "99   Locate Positive and Negative Numbers on the Nu...   \n",
       "101  Locate Positive and Negative Numbers on the Nu...   \n",
       "116  Locate Positive and Negative Numbers on the Nu...   \n",
       "\n",
       "                                            generation  \\\n",
       "26   Of course! I'd be happy to help explain the di...   \n",
       "100  No, function notation cannot be negative. Func...   \n",
       "99   No, function notation itself cannot be negativ...   \n",
       "101  No, function notation cannot be negative. Func...   \n",
       "116  To graph an inequality with a less than or equ...   \n",
       "\n",
       "                                     generation_survey  \n",
       "26   No, a rational number and an irrational number...  \n",
       "100  No, function notation cannot be negative. Func...  \n",
       "99   No, function notation itself cannot be negativ...  \n",
       "101  No, function notation cannot be negative. Func...  \n",
       "116  To graph an inequality with a less than or equ...  "
      ]
     },
     "execution_count": 76,
     "metadata": {},
     "output_type": "execute_result"
    }
   ],
   "source": [
    "join_display_cols = [\n",
    "    \"matching_score\",\n",
    "    \"ranking_q\",\n",
    "    \"generation_index\",\n",
    "    \"query\",\n",
    "    \"query_survey\",\n",
    "    \"document\",\n",
    "    \"document_survey\",\n",
    "    \"generation\",\n",
    "    \"generation_survey\",\n",
    "]\n",
    "joined_df[joined_df.matching_score < 1][join_display_cols].sort_values(\"matching_score\").head()"
   ]
  },
  {
   "cell_type": "code",
   "execution_count": 77,
   "id": "c37bcec1-b3ba-4811-982e-935aa06e6376",
   "metadata": {},
   "outputs": [],
   "source": [
    "expected_minimum_matching_score = 0.5\n",
    "assert (joined_df.matching_score >= expected_minimum_matching_score).all()"
   ]
  },
  {
   "cell_type": "code",
   "execution_count": 78,
   "id": "5f82ca6e-6cfd-4057-bd8a-69ac6ab6b339",
   "metadata": {},
   "outputs": [
    {
     "data": {
      "text/plain": [
       "Index(['query', 'document', 'generation', 'query_set', 'guidance', 'messages',\n",
       "       'corpus', 'query_survey', 'document_survey', 'generation_index',\n",
       "       'generation_survey', 'survey_id', 'ranking_q', 'faithfulness_q',\n",
       "       'matching_score'],\n",
       "      dtype='object')"
      ]
     },
     "execution_count": 78,
     "metadata": {},
     "output_type": "execute_result"
    }
   ],
   "source": [
    "joined_df.columns"
   ]
  },
  {
   "cell_type": "code",
   "execution_count": 79,
   "id": "06b042d1-69d0-4e6d-9d09-fe7a2dc39879",
   "metadata": {},
   "outputs": [
    {
     "data": {
      "text/plain": [
       "query                Can someone help me with what an irrational nu...\n",
       "document             Identify Rational Numbers and Irrational Numbe...\n",
       "generation           Of course! I'd be happy to help explain the di...\n",
       "query_set                                                  math_nation\n",
       "guidance                                                          none\n",
       "messages             [{'role': 'system', 'content': 'You are going ...\n",
       "corpus                                                            math\n",
       "query_survey         Is a rational and irrational number always irr...\n",
       "document_survey      Identify Rational Numbers and Irrational Numbe...\n",
       "generation_index                                                     3\n",
       "generation_survey    No, a rational number and an irrational number...\n",
       "survey_id                                                Rori+survey+2\n",
       "ranking_q                                                          Q33\n",
       "faithfulness_q                                                     Q34\n",
       "matching_score                                                     0.5\n",
       "Name: 26, dtype: object"
      ]
     },
     "execution_count": 79,
     "metadata": {},
     "output_type": "execute_result"
    }
   ],
   "source": [
    "joined_df.iloc[26]"
   ]
  },
  {
   "cell_type": "code",
   "execution_count": 80,
   "id": "ce6f5e36-b1ea-4758-bab6-7dd0fac42f27",
   "metadata": {},
   "outputs": [
    {
     "data": {
      "text/plain": [
       "survey_id      ranking_q\n",
       "Rori+survey+1  Q2           3\n",
       "               Q27          3\n",
       "               Q30          3\n",
       "               Q33          3\n",
       "               Q36          3\n",
       "               Q39          3\n",
       "               Q42          3\n",
       "               Q45          3\n",
       "               Q48          3\n",
       "               Q51          3\n",
       "               Q54          3\n",
       "               Q57          3\n",
       "               Q60          3\n",
       "               Q63          3\n",
       "               Q66          3\n",
       "Rori+survey+2  Q2           3\n",
       "               Q27          3\n",
       "               Q30          3\n",
       "               Q33          4\n",
       "               Q36          3\n",
       "               Q39          3\n",
       "               Q42          3\n",
       "               Q45          3\n",
       "               Q48          3\n",
       "               Q51          3\n",
       "               Q54          3\n",
       "               Q57          3\n",
       "               Q60          3\n",
       "               Q63          3\n",
       "               Q66          3\n",
       "Rori+survey+3  Q2           3\n",
       "               Q27          3\n",
       "               Q30          3\n",
       "               Q33          3\n",
       "               Q36          3\n",
       "               Q39          3\n",
       "               Q42          3\n",
       "               Q45          3\n",
       "               Q48          3\n",
       "               Q51          3\n",
       "               Q54          3\n",
       "               Q57          3\n",
       "               Q60          3\n",
       "               Q63          3\n",
       "               Q66          3\n",
       "Rori+survey+4  Q2           3\n",
       "               Q54          2\n",
       "               Q57          3\n",
       "               Q60          3\n",
       "               Q63          3\n",
       "               Q66          3\n",
       "Name: generation, dtype: int64"
      ]
     },
     "execution_count": 80,
     "metadata": {},
     "output_type": "execute_result"
    }
   ],
   "source": [
    "joined_df.groupby([\"survey_id\", \"ranking_q\"]).generation.count()"
   ]
  },
  {
   "cell_type": "code",
   "execution_count": 81,
   "id": "93e3b436-98ee-4b1d-9e63-b45ea33976e7",
   "metadata": {},
   "outputs": [
    {
     "data": {
      "text/plain": [
       "survey_id      ranking_q\n",
       "Rori+survey+1  Q2           3\n",
       "               Q27          3\n",
       "               Q30          3\n",
       "               Q33          3\n",
       "               Q36          3\n",
       "               Q39          3\n",
       "               Q42          3\n",
       "               Q45          3\n",
       "               Q48          3\n",
       "               Q51          3\n",
       "               Q54          3\n",
       "               Q57          3\n",
       "               Q60          3\n",
       "               Q63          3\n",
       "               Q66          3\n",
       "Rori+survey+2  Q2           3\n",
       "               Q27          3\n",
       "               Q30          3\n",
       "               Q33          3\n",
       "               Q36          3\n",
       "               Q39          3\n",
       "               Q42          3\n",
       "               Q45          3\n",
       "               Q48          3\n",
       "               Q51          3\n",
       "               Q54          3\n",
       "               Q57          3\n",
       "               Q60          3\n",
       "               Q63          3\n",
       "               Q66          3\n",
       "Rori+survey+3  Q2           3\n",
       "               Q27          3\n",
       "               Q30          3\n",
       "               Q33          3\n",
       "               Q36          3\n",
       "               Q39          3\n",
       "               Q42          3\n",
       "               Q45          3\n",
       "               Q48          3\n",
       "               Q51          3\n",
       "               Q54          3\n",
       "               Q57          3\n",
       "               Q60          3\n",
       "               Q63          3\n",
       "               Q66          3\n",
       "Rori+survey+4  Q2           3\n",
       "               Q54          2\n",
       "               Q57          3\n",
       "               Q60          3\n",
       "               Q63          3\n",
       "               Q66          3\n",
       "Name: generation_index, dtype: int64"
      ]
     },
     "execution_count": 81,
     "metadata": {},
     "output_type": "execute_result"
    }
   ],
   "source": [
    "# should be 3 for all questions\n",
    "joined_df.groupby([\"survey_id\", \"ranking_q\"]).generation_index.nunique()"
   ]
  },
  {
   "cell_type": "code",
   "execution_count": 82,
   "id": "34e0f6ca-043e-4788-bd93-1049ff1463b3",
   "metadata": {},
   "outputs": [
    {
     "data": {
      "text/html": [
       "<div>\n",
       "<style scoped>\n",
       "    .dataframe tbody tr th:only-of-type {\n",
       "        vertical-align: middle;\n",
       "    }\n",
       "\n",
       "    .dataframe tbody tr th {\n",
       "        vertical-align: top;\n",
       "    }\n",
       "\n",
       "    .dataframe thead th {\n",
       "        text-align: right;\n",
       "    }\n",
       "</style>\n",
       "<table border=\"1\" class=\"dataframe\">\n",
       "  <thead>\n",
       "    <tr style=\"text-align: right;\">\n",
       "      <th></th>\n",
       "      <th>matching_score</th>\n",
       "      <th>ranking_q</th>\n",
       "      <th>generation_index</th>\n",
       "      <th>query</th>\n",
       "      <th>query_survey</th>\n",
       "      <th>document</th>\n",
       "      <th>document_survey</th>\n",
       "      <th>generation</th>\n",
       "      <th>generation_survey</th>\n",
       "    </tr>\n",
       "  </thead>\n",
       "  <tbody>\n",
       "    <tr>\n",
       "      <th>24</th>\n",
       "      <td>1.0</td>\n",
       "      <td>Q54</td>\n",
       "      <td>2</td>\n",
       "      <td>Can someone help me with what an irrational nu...</td>\n",
       "      <td>Can someone help me with what an irrational nu...</td>\n",
       "      <td>Identify Rational Numbers and Irrational Numbe...</td>\n",
       "      <td>Identify Rational Numbers and Irrational Numbe...</td>\n",
       "      <td>Of course! I can definitely help you understan...</td>\n",
       "      <td>Of course! I can definitely help you understan...</td>\n",
       "    </tr>\n",
       "    <tr>\n",
       "      <th>25</th>\n",
       "      <td>1.0</td>\n",
       "      <td>Q54</td>\n",
       "      <td>3</td>\n",
       "      <td>Can someone help me with what an irrational nu...</td>\n",
       "      <td>Can someone help me with what an irrational nu...</td>\n",
       "      <td>Identify Rational Numbers and Irrational Numbe...</td>\n",
       "      <td>Identify Rational Numbers and Irrational Numbe...</td>\n",
       "      <td>Rational numbers are numbers that can be writt...</td>\n",
       "      <td>Rational numbers are numbers that can be writt...</td>\n",
       "    </tr>\n",
       "  </tbody>\n",
       "</table>\n",
       "</div>"
      ],
      "text/plain": [
       "    matching_score ranking_q  generation_index  \\\n",
       "24             1.0       Q54                 2   \n",
       "25             1.0       Q54                 3   \n",
       "\n",
       "                                                query  \\\n",
       "24  Can someone help me with what an irrational nu...   \n",
       "25  Can someone help me with what an irrational nu...   \n",
       "\n",
       "                                         query_survey  \\\n",
       "24  Can someone help me with what an irrational nu...   \n",
       "25  Can someone help me with what an irrational nu...   \n",
       "\n",
       "                                             document  \\\n",
       "24  Identify Rational Numbers and Irrational Numbe...   \n",
       "25  Identify Rational Numbers and Irrational Numbe...   \n",
       "\n",
       "                                      document_survey  \\\n",
       "24  Identify Rational Numbers and Irrational Numbe...   \n",
       "25  Identify Rational Numbers and Irrational Numbe...   \n",
       "\n",
       "                                           generation  \\\n",
       "24  Of course! I can definitely help you understan...   \n",
       "25  Rational numbers are numbers that can be writt...   \n",
       "\n",
       "                                    generation_survey  \n",
       "24  Of course! I can definitely help you understan...  \n",
       "25  Rational numbers are numbers that can be writt...  "
      ]
     },
     "execution_count": 82,
     "metadata": {},
     "output_type": "execute_result"
    }
   ],
   "source": [
    "joined_df[(joined_df.survey_id == \"Rori+survey+4\") & (joined_df.ranking_q == \"Q54\")][join_display_cols]"
   ]
  },
  {
   "cell_type": "code",
   "execution_count": 83,
   "id": "061c8908-2a94-44d7-899d-ae85cb98b683",
   "metadata": {},
   "outputs": [
    {
     "data": {
      "text/html": [
       "<div>\n",
       "<style scoped>\n",
       "    .dataframe tbody tr th:only-of-type {\n",
       "        vertical-align: middle;\n",
       "    }\n",
       "\n",
       "    .dataframe tbody tr th {\n",
       "        vertical-align: top;\n",
       "    }\n",
       "\n",
       "    .dataframe thead th {\n",
       "        text-align: right;\n",
       "    }\n",
       "</style>\n",
       "<table border=\"1\" class=\"dataframe\">\n",
       "  <thead>\n",
       "    <tr style=\"text-align: right;\">\n",
       "      <th></th>\n",
       "      <th>matching_score</th>\n",
       "      <th>ranking_q</th>\n",
       "      <th>generation_index</th>\n",
       "      <th>query</th>\n",
       "      <th>query_survey</th>\n",
       "      <th>document</th>\n",
       "      <th>document_survey</th>\n",
       "      <th>generation</th>\n",
       "      <th>generation_survey</th>\n",
       "    </tr>\n",
       "  </thead>\n",
       "  <tbody>\n",
       "    <tr>\n",
       "      <th>26</th>\n",
       "      <td>0.5</td>\n",
       "      <td>Q33</td>\n",
       "      <td>3</td>\n",
       "      <td>Can someone help me with what an irrational nu...</td>\n",
       "      <td>Is a rational and irrational number always irr...</td>\n",
       "      <td>Identify Rational Numbers and Irrational Numbe...</td>\n",
       "      <td>Identify Rational Numbers and Irrational Numbe...</td>\n",
       "      <td>Of course! I'd be happy to help explain the di...</td>\n",
       "      <td>No, a rational number and an irrational number...</td>\n",
       "    </tr>\n",
       "    <tr>\n",
       "      <th>87</th>\n",
       "      <td>1.0</td>\n",
       "      <td>Q33</td>\n",
       "      <td>3</td>\n",
       "      <td>Is a rational and irrational number always irr...</td>\n",
       "      <td>Is a rational and irrational number always irr...</td>\n",
       "      <td>Identify Rational Numbers and Irrational Numbe...</td>\n",
       "      <td>Identify Rational Numbers and Irrational Numbe...</td>\n",
       "      <td>No, a rational number and an irrational number...</td>\n",
       "      <td>No, a rational number and an irrational number...</td>\n",
       "    </tr>\n",
       "    <tr>\n",
       "      <th>88</th>\n",
       "      <td>1.0</td>\n",
       "      <td>Q33</td>\n",
       "      <td>2</td>\n",
       "      <td>Is a rational and irrational number always irr...</td>\n",
       "      <td>Is a rational and irrational number always irr...</td>\n",
       "      <td>Identify Rational Numbers and Irrational Numbe...</td>\n",
       "      <td>Identify Rational Numbers and Irrational Numbe...</td>\n",
       "      <td>No, actually a rational number can't be irrati...</td>\n",
       "      <td>No, actually a rational number can't be irrati...</td>\n",
       "    </tr>\n",
       "    <tr>\n",
       "      <th>89</th>\n",
       "      <td>1.0</td>\n",
       "      <td>Q33</td>\n",
       "      <td>1</td>\n",
       "      <td>Is a rational and irrational number always irr...</td>\n",
       "      <td>Is a rational and irrational number always irr...</td>\n",
       "      <td>Identify Rational Numbers and Irrational Numbe...</td>\n",
       "      <td>Identify Rational Numbers and Irrational Numbe...</td>\n",
       "      <td>A rational number is a number that can be writ...</td>\n",
       "      <td>A rational number is a number that can be writ...</td>\n",
       "    </tr>\n",
       "  </tbody>\n",
       "</table>\n",
       "</div>"
      ],
      "text/plain": [
       "    matching_score ranking_q  generation_index  \\\n",
       "26             0.5       Q33                 3   \n",
       "87             1.0       Q33                 3   \n",
       "88             1.0       Q33                 2   \n",
       "89             1.0       Q33                 1   \n",
       "\n",
       "                                                query  \\\n",
       "26  Can someone help me with what an irrational nu...   \n",
       "87  Is a rational and irrational number always irr...   \n",
       "88  Is a rational and irrational number always irr...   \n",
       "89  Is a rational and irrational number always irr...   \n",
       "\n",
       "                                         query_survey  \\\n",
       "26  Is a rational and irrational number always irr...   \n",
       "87  Is a rational and irrational number always irr...   \n",
       "88  Is a rational and irrational number always irr...   \n",
       "89  Is a rational and irrational number always irr...   \n",
       "\n",
       "                                             document  \\\n",
       "26  Identify Rational Numbers and Irrational Numbe...   \n",
       "87  Identify Rational Numbers and Irrational Numbe...   \n",
       "88  Identify Rational Numbers and Irrational Numbe...   \n",
       "89  Identify Rational Numbers and Irrational Numbe...   \n",
       "\n",
       "                                      document_survey  \\\n",
       "26  Identify Rational Numbers and Irrational Numbe...   \n",
       "87  Identify Rational Numbers and Irrational Numbe...   \n",
       "88  Identify Rational Numbers and Irrational Numbe...   \n",
       "89  Identify Rational Numbers and Irrational Numbe...   \n",
       "\n",
       "                                           generation  \\\n",
       "26  Of course! I'd be happy to help explain the di...   \n",
       "87  No, a rational number and an irrational number...   \n",
       "88  No, actually a rational number can't be irrati...   \n",
       "89  A rational number is a number that can be writ...   \n",
       "\n",
       "                                    generation_survey  \n",
       "26  No, a rational number and an irrational number...  \n",
       "87  No, a rational number and an irrational number...  \n",
       "88  No, actually a rational number can't be irrati...  \n",
       "89  A rational number is a number that can be writ...  "
      ]
     },
     "execution_count": 83,
     "metadata": {},
     "output_type": "execute_result"
    }
   ],
   "source": [
    "joined_df[(joined_df.survey_id == \"Rori+survey+2\") & (joined_df.ranking_q == \"Q33\")][join_display_cols]"
   ]
  },
  {
   "cell_type": "code",
   "execution_count": 84,
   "id": "c40a8998-eb79-405c-8917-b5d3e23830a0",
   "metadata": {},
   "outputs": [
    {
     "data": {
      "text/html": [
       "<div>\n",
       "<style scoped>\n",
       "    .dataframe tbody tr th:only-of-type {\n",
       "        vertical-align: middle;\n",
       "    }\n",
       "\n",
       "    .dataframe tbody tr th {\n",
       "        vertical-align: top;\n",
       "    }\n",
       "\n",
       "    .dataframe thead th {\n",
       "        text-align: right;\n",
       "    }\n",
       "</style>\n",
       "<table border=\"1\" class=\"dataframe\">\n",
       "  <thead>\n",
       "    <tr style=\"text-align: right;\">\n",
       "      <th></th>\n",
       "      <th>query</th>\n",
       "      <th>document</th>\n",
       "      <th>generation_index</th>\n",
       "      <th>generation</th>\n",
       "      <th>survey_id</th>\n",
       "      <th>ranking_q</th>\n",
       "      <th>faithfulness_q</th>\n",
       "    </tr>\n",
       "  </thead>\n",
       "  <tbody>\n",
       "    <tr>\n",
       "      <th>105</th>\n",
       "      <td>Can someone help me with what an irrational nu...</td>\n",
       "      <td>Identify Rational Numbers and Irrational Numbe...</td>\n",
       "      <td>1</td>\n",
       "      <td>Of course! I'd be happy to help explain the di...</td>\n",
       "      <td>Rori+survey+4</td>\n",
       "      <td>Q54</td>\n",
       "      <td>Q55</td>\n",
       "    </tr>\n",
       "    <tr>\n",
       "      <th>106</th>\n",
       "      <td>Can someone help me with what an irrational nu...</td>\n",
       "      <td>Identify Rational Numbers and Irrational Numbe...</td>\n",
       "      <td>2</td>\n",
       "      <td>Of course! I can definitely help you understan...</td>\n",
       "      <td>Rori+survey+4</td>\n",
       "      <td>Q54</td>\n",
       "      <td>Q55</td>\n",
       "    </tr>\n",
       "    <tr>\n",
       "      <th>107</th>\n",
       "      <td>Can someone help me with what an irrational nu...</td>\n",
       "      <td>Identify Rational Numbers and Irrational Numbe...</td>\n",
       "      <td>3</td>\n",
       "      <td>Rational numbers are numbers that can be writt...</td>\n",
       "      <td>Rori+survey+4</td>\n",
       "      <td>Q54</td>\n",
       "      <td>Q55</td>\n",
       "    </tr>\n",
       "  </tbody>\n",
       "</table>\n",
       "</div>"
      ],
      "text/plain": [
       "                                                 query  \\\n",
       "105  Can someone help me with what an irrational nu...   \n",
       "106  Can someone help me with what an irrational nu...   \n",
       "107  Can someone help me with what an irrational nu...   \n",
       "\n",
       "                                              document  generation_index  \\\n",
       "105  Identify Rational Numbers and Irrational Numbe...                 1   \n",
       "106  Identify Rational Numbers and Irrational Numbe...                 2   \n",
       "107  Identify Rational Numbers and Irrational Numbe...                 3   \n",
       "\n",
       "                                            generation      survey_id  \\\n",
       "105  Of course! I'd be happy to help explain the di...  Rori+survey+4   \n",
       "106  Of course! I can definitely help you understan...  Rori+survey+4   \n",
       "107  Rational numbers are numbers that can be writt...  Rori+survey+4   \n",
       "\n",
       "    ranking_q faithfulness_q  \n",
       "105       Q54            Q55  \n",
       "106       Q54            Q55  \n",
       "107       Q54            Q55  "
      ]
     },
     "execution_count": 84,
     "metadata": {},
     "output_type": "execute_result"
    }
   ],
   "source": [
    "survey_question_df[(survey_question_df.survey_id == \"Rori+survey+4\") & (survey_question_df.ranking_q == \"Q54\")]"
   ]
  },
  {
   "cell_type": "code",
   "execution_count": 85,
   "id": "aaa4129b-1c28-4fd9-a260-2ebf9a65e5e2",
   "metadata": {},
   "outputs": [
    {
     "data": {
      "text/html": [
       "<div>\n",
       "<style scoped>\n",
       "    .dataframe tbody tr th:only-of-type {\n",
       "        vertical-align: middle;\n",
       "    }\n",
       "\n",
       "    .dataframe tbody tr th {\n",
       "        vertical-align: top;\n",
       "    }\n",
       "\n",
       "    .dataframe thead th {\n",
       "        text-align: right;\n",
       "    }\n",
       "</style>\n",
       "<table border=\"1\" class=\"dataframe\">\n",
       "  <thead>\n",
       "    <tr style=\"text-align: right;\">\n",
       "      <th></th>\n",
       "      <th>query</th>\n",
       "      <th>document</th>\n",
       "      <th>generation_index</th>\n",
       "      <th>generation</th>\n",
       "      <th>survey_id</th>\n",
       "      <th>ranking_q</th>\n",
       "      <th>faithfulness_q</th>\n",
       "    </tr>\n",
       "  </thead>\n",
       "  <tbody>\n",
       "    <tr>\n",
       "      <th>81</th>\n",
       "      <td>Is a rational and irrational number always irr...</td>\n",
       "      <td>Identify Rational Numbers and Irrational Numbe...</td>\n",
       "      <td>1</td>\n",
       "      <td>A rational number is a number that can be writ...</td>\n",
       "      <td>Rori+survey+2</td>\n",
       "      <td>Q33</td>\n",
       "      <td>Q34</td>\n",
       "    </tr>\n",
       "    <tr>\n",
       "      <th>82</th>\n",
       "      <td>Is a rational and irrational number always irr...</td>\n",
       "      <td>Identify Rational Numbers and Irrational Numbe...</td>\n",
       "      <td>2</td>\n",
       "      <td>No, actually a rational number can't be irrati...</td>\n",
       "      <td>Rori+survey+2</td>\n",
       "      <td>Q33</td>\n",
       "      <td>Q34</td>\n",
       "    </tr>\n",
       "    <tr>\n",
       "      <th>83</th>\n",
       "      <td>Is a rational and irrational number always irr...</td>\n",
       "      <td>Identify Rational Numbers and Irrational Numbe...</td>\n",
       "      <td>3</td>\n",
       "      <td>No, a rational number and an irrational number...</td>\n",
       "      <td>Rori+survey+2</td>\n",
       "      <td>Q33</td>\n",
       "      <td>Q34</td>\n",
       "    </tr>\n",
       "  </tbody>\n",
       "</table>\n",
       "</div>"
      ],
      "text/plain": [
       "                                                query  \\\n",
       "81  Is a rational and irrational number always irr...   \n",
       "82  Is a rational and irrational number always irr...   \n",
       "83  Is a rational and irrational number always irr...   \n",
       "\n",
       "                                             document  generation_index  \\\n",
       "81  Identify Rational Numbers and Irrational Numbe...                 1   \n",
       "82  Identify Rational Numbers and Irrational Numbe...                 2   \n",
       "83  Identify Rational Numbers and Irrational Numbe...                 3   \n",
       "\n",
       "                                           generation      survey_id  \\\n",
       "81  A rational number is a number that can be writ...  Rori+survey+2   \n",
       "82  No, actually a rational number can't be irrati...  Rori+survey+2   \n",
       "83  No, a rational number and an irrational number...  Rori+survey+2   \n",
       "\n",
       "   ranking_q faithfulness_q  \n",
       "81       Q33            Q34  \n",
       "82       Q33            Q34  \n",
       "83       Q33            Q34  "
      ]
     },
     "execution_count": 85,
     "metadata": {},
     "output_type": "execute_result"
    }
   ],
   "source": [
    "survey_question_df[(survey_question_df.survey_id == \"Rori+survey+2\") & (survey_question_df.ranking_q == \"Q33\")]"
   ]
  },
  {
   "cell_type": "code",
   "execution_count": 86,
   "id": "9c76c110-b424-48b5-a91f-042c82b7eaab",
   "metadata": {},
   "outputs": [
    {
     "data": {
      "text/plain": [
       "query                Can someone help me with what an irrational nu...\n",
       "document             Identify Rational Numbers and Irrational Numbe...\n",
       "generation           Of course! I'd be happy to help explain the di...\n",
       "query_set                                                  math_nation\n",
       "guidance                                                          none\n",
       "messages             [{'role': 'system', 'content': 'You are going ...\n",
       "corpus                                                            math\n",
       "query_survey         Can someone help me with what an irrational nu...\n",
       "document_survey      Identify Rational Numbers and Irrational Numbe...\n",
       "generation_index                                                     1\n",
       "generation_survey    Of course! I'd be happy to help explain the di...\n",
       "survey_id                                                Rori+survey+4\n",
       "ranking_q                                                          Q54\n",
       "faithfulness_q                                                     Q55\n",
       "matching_score                                                     0.5\n",
       "Name: 26, dtype: object"
      ]
     },
     "execution_count": 86,
     "metadata": {},
     "output_type": "execute_result"
    }
   ],
   "source": [
    "# map joined_df iloc 26 to the survey_question_df iloc that corresponds\n",
    "for survey_column in survey_question_df.columns:\n",
    "    source_column = survey_column\n",
    "    if survey_column in question_df.columns:\n",
    "        source_column = survey_column + \"_survey\"\n",
    "    joined_df.loc[26, source_column] = survey_question_df.iloc[105][survey_column]\n",
    "joined_df.iloc[26]"
   ]
  },
  {
   "cell_type": "code",
   "execution_count": 87,
   "id": "1ad1a2a8-4a6a-4ead-ba4e-29b4384f7946",
   "metadata": {},
   "outputs": [],
   "source": [
    "# should be 3 generations associated with each survey/question\n",
    "assert (joined_df.groupby([\"survey_id\", \"ranking_q\"]).generation_index.nunique() == 3).all()\n",
    "assert (joined_df.groupby([\"survey_id\", \"faithfulness_q\"]).generation_index.nunique() == 3).all()"
   ]
  },
  {
   "cell_type": "code",
   "execution_count": 88,
   "id": "ff6da8a9-23e1-4137-9452-1985f37da7fd",
   "metadata": {},
   "outputs": [
    {
     "data": {
      "text/plain": [
       "survey_id      ranking_q\n",
       "Rori+survey+1  Q2           3\n",
       "               Q27          3\n",
       "               Q30          3\n",
       "               Q33          3\n",
       "               Q36          3\n",
       "               Q39          3\n",
       "               Q42          3\n",
       "               Q45          3\n",
       "               Q48          3\n",
       "               Q51          3\n",
       "               Q54          3\n",
       "               Q57          3\n",
       "               Q60          3\n",
       "               Q63          3\n",
       "               Q66          3\n",
       "Rori+survey+2  Q2           3\n",
       "               Q27          3\n",
       "               Q30          3\n",
       "               Q33          3\n",
       "               Q36          3\n",
       "               Q39          3\n",
       "               Q42          3\n",
       "               Q45          3\n",
       "               Q48          3\n",
       "               Q51          3\n",
       "               Q54          3\n",
       "               Q57          3\n",
       "               Q60          3\n",
       "               Q63          3\n",
       "               Q66          3\n",
       "Rori+survey+3  Q2           3\n",
       "               Q27          3\n",
       "               Q30          3\n",
       "               Q33          3\n",
       "               Q36          3\n",
       "               Q39          3\n",
       "               Q42          3\n",
       "               Q45          3\n",
       "               Q48          3\n",
       "               Q51          3\n",
       "               Q54          3\n",
       "               Q57          3\n",
       "               Q60          3\n",
       "               Q63          3\n",
       "               Q66          3\n",
       "Rori+survey+4  Q2           3\n",
       "               Q54          3\n",
       "               Q57          3\n",
       "               Q60          3\n",
       "               Q63          3\n",
       "               Q66          3\n",
       "Name: generation_index, dtype: int64"
      ]
     },
     "execution_count": 88,
     "metadata": {},
     "output_type": "execute_result"
    }
   ],
   "source": [
    "joined_df.groupby([\"survey_id\", \"ranking_q\"]).generation_index.nunique()"
   ]
  },
  {
   "cell_type": "code",
   "execution_count": 89,
   "id": "58c1959d-28e2-418a-bd29-8f87c7ae9fe2",
   "metadata": {},
   "outputs": [
    {
     "data": {
      "text/html": [
       "<div>\n",
       "<style scoped>\n",
       "    .dataframe tbody tr th:only-of-type {\n",
       "        vertical-align: middle;\n",
       "    }\n",
       "\n",
       "    .dataframe tbody tr th {\n",
       "        vertical-align: top;\n",
       "    }\n",
       "\n",
       "    .dataframe thead th {\n",
       "        text-align: right;\n",
       "    }\n",
       "</style>\n",
       "<table border=\"1\" class=\"dataframe\">\n",
       "  <thead>\n",
       "    <tr style=\"text-align: right;\">\n",
       "      <th></th>\n",
       "      <th>matching_score</th>\n",
       "      <th>ranking_q</th>\n",
       "      <th>generation_index</th>\n",
       "      <th>query</th>\n",
       "      <th>query_survey</th>\n",
       "      <th>document</th>\n",
       "      <th>document_survey</th>\n",
       "      <th>generation</th>\n",
       "      <th>generation_survey</th>\n",
       "    </tr>\n",
       "  </thead>\n",
       "  <tbody>\n",
       "    <tr>\n",
       "      <th>0</th>\n",
       "      <td>1.0</td>\n",
       "      <td>Q57</td>\n",
       "      <td>1</td>\n",
       "      <td>What is vertex form and how do you solve for it?</td>\n",
       "      <td>What is vertex form and how do you solve for it?</td>\n",
       "      <td>Use the Distance, Rate, and Time Formula: One ...</td>\n",
       "      <td>Use the Distance, Rate, and Time Formula: One ...</td>\n",
       "      <td>Vertex form, also known as completed square fo...</td>\n",
       "      <td>Vertex form, also known as completed square fo...</td>\n",
       "    </tr>\n",
       "    <tr>\n",
       "      <th>1</th>\n",
       "      <td>1.0</td>\n",
       "      <td>Q57</td>\n",
       "      <td>3</td>\n",
       "      <td>What is vertex form and how do you solve for it?</td>\n",
       "      <td>What is vertex form and how do you solve for it?</td>\n",
       "      <td>Use the Distance, Rate, and Time Formula: One ...</td>\n",
       "      <td>Use the Distance, Rate, and Time Formula: One ...</td>\n",
       "      <td>Vertex form is a specific form of writing quad...</td>\n",
       "      <td>Vertex form is a specific form of writing quad...</td>\n",
       "    </tr>\n",
       "    <tr>\n",
       "      <th>2</th>\n",
       "      <td>1.0</td>\n",
       "      <td>Q57</td>\n",
       "      <td>2</td>\n",
       "      <td>What is vertex form and how do you solve for it?</td>\n",
       "      <td>What is vertex form and how do you solve for it?</td>\n",
       "      <td>Use the Distance, Rate, and Time Formula: One ...</td>\n",
       "      <td>Use the Distance, Rate, and Time Formula: One ...</td>\n",
       "      <td>Vertex form is a way to write the equation of ...</td>\n",
       "      <td>Vertex form is a way to write the equation of ...</td>\n",
       "    </tr>\n",
       "  </tbody>\n",
       "</table>\n",
       "</div>"
      ],
      "text/plain": [
       "   matching_score ranking_q  generation_index  \\\n",
       "0             1.0       Q57                 1   \n",
       "1             1.0       Q57                 3   \n",
       "2             1.0       Q57                 2   \n",
       "\n",
       "                                              query  \\\n",
       "0  What is vertex form and how do you solve for it?   \n",
       "1  What is vertex form and how do you solve for it?   \n",
       "2  What is vertex form and how do you solve for it?   \n",
       "\n",
       "                                       query_survey  \\\n",
       "0  What is vertex form and how do you solve for it?   \n",
       "1  What is vertex form and how do you solve for it?   \n",
       "2  What is vertex form and how do you solve for it?   \n",
       "\n",
       "                                            document  \\\n",
       "0  Use the Distance, Rate, and Time Formula: One ...   \n",
       "1  Use the Distance, Rate, and Time Formula: One ...   \n",
       "2  Use the Distance, Rate, and Time Formula: One ...   \n",
       "\n",
       "                                     document_survey  \\\n",
       "0  Use the Distance, Rate, and Time Formula: One ...   \n",
       "1  Use the Distance, Rate, and Time Formula: One ...   \n",
       "2  Use the Distance, Rate, and Time Formula: One ...   \n",
       "\n",
       "                                          generation  \\\n",
       "0  Vertex form, also known as completed square fo...   \n",
       "1  Vertex form is a specific form of writing quad...   \n",
       "2  Vertex form is a way to write the equation of ...   \n",
       "\n",
       "                                   generation_survey  \n",
       "0  Vertex form, also known as completed square fo...  \n",
       "1  Vertex form is a specific form of writing quad...  \n",
       "2  Vertex form is a way to write the equation of ...  "
      ]
     },
     "execution_count": 89,
     "metadata": {},
     "output_type": "execute_result"
    }
   ],
   "source": [
    "joined_df.head(3)[join_display_cols]"
   ]
  },
  {
   "cell_type": "code",
   "execution_count": null,
   "id": "e3974e6c-6dff-4f76-9b24-f91bd3b6e665",
   "metadata": {},
   "outputs": [],
   "source": []
  },
  {
   "cell_type": "code",
   "execution_count": 90,
   "id": "e4ce4944-21c4-4bd3-afb2-e4f66a5b9c78",
   "metadata": {},
   "outputs": [
    {
     "data": {
      "text/plain": [
       "(612, 7)"
      ]
     },
     "execution_count": 90,
     "metadata": {},
     "output_type": "execute_result"
    }
   ],
   "source": [
    "ds = []\n",
    "for survey_id, sdf in survey_df_map.items():\n",
    "    sjdf = joined_df[joined_df.survey_id == survey_id]\n",
    "    paired_qs = set(zip(sjdf.ranking_q, sjdf.faithfulness_q))\n",
    "    for ranking_q, faithfulness_q in paired_qs:\n",
    "        for suffix in [\"_1\", \"_2\", \"_3\"]:\n",
    "            i = int(suffix[1])\n",
    "            for annotator, rank, faithfulness in zip(\n",
    "                sdf.loc[2:, \"annotator_name\"], sdf.loc[2:, ranking_q + suffix], sdf.loc[2:, faithfulness_q + suffix]\n",
    "            ):\n",
    "                d = {\n",
    "                    \"survey_id\": survey_id,\n",
    "                    \"annotator\": annotator,\n",
    "                    \"ranking_q\": ranking_q,\n",
    "                    \"faithfulness_q\": faithfulness_q,\n",
    "                    \"generation_index\": i,\n",
    "                    \"preference_rank\": rank,\n",
    "                    \"faithfulness\": faithfulness,\n",
    "                }\n",
    "                ds.append(d)\n",
    "ranking_df = pd.DataFrame(ds)\n",
    "ranking_df.shape"
   ]
  },
  {
   "cell_type": "code",
   "execution_count": 91,
   "id": "b706df3c-5d68-4974-b343-664364a50100",
   "metadata": {},
   "outputs": [
    {
     "data": {
      "text/plain": [
       "annotator\n",
       "Anoushka                 90\n",
       "test                     90\n",
       "Chenglu Li               90\n",
       "Urmil Patel              63\n",
       "KAVITHA SREE             63\n",
       "Sannidhi                 45\n",
       "Millie                   45\n",
       "Hannah HR (with Rori)    45\n",
       "Zach                     45\n",
       "Hannah HR (rori)         18\n",
       "Owen                     18\n",
       "Name: count, dtype: int64"
      ]
     },
     "execution_count": 91,
     "metadata": {},
     "output_type": "execute_result"
    }
   ],
   "source": [
    "ranking_df.annotator.value_counts(dropna=False)"
   ]
  },
  {
   "cell_type": "code",
   "execution_count": 92,
   "id": "09436424-2e20-49a8-b7cf-a35d53246c95",
   "metadata": {},
   "outputs": [
    {
     "data": {
      "text/plain": [
       "annotator\n",
       "Anoushka        90\n",
       "Chenglu Li      90\n",
       "Urmil Patel     63\n",
       "KAVITHA SREE    63\n",
       "Hannah HR       63\n",
       "Sannidhi        45\n",
       "Millie          45\n",
       "Zach            45\n",
       "Owen            18\n",
       "Name: count, dtype: int64"
      ]
     },
     "execution_count": 92,
     "metadata": {},
     "output_type": "execute_result"
    }
   ],
   "source": [
    "# merge annotators\n",
    "ranking_df.loc[ranking_df.annotator.str.startswith(\"Hannah HR\"), \"annotator\"] = \"Hannah HR\"\n",
    "ranking_df.drop(ranking_df[ranking_df.annotator == \"test\"].index, inplace=True)\n",
    "ranking_df.annotator.value_counts()"
   ]
  },
  {
   "cell_type": "code",
   "execution_count": 93,
   "id": "dce7fe9a-1e45-4479-9079-07d50769334e",
   "metadata": {},
   "outputs": [
    {
     "data": {
      "text/html": [
       "<div>\n",
       "<style scoped>\n",
       "    .dataframe tbody tr th:only-of-type {\n",
       "        vertical-align: middle;\n",
       "    }\n",
       "\n",
       "    .dataframe tbody tr th {\n",
       "        vertical-align: top;\n",
       "    }\n",
       "\n",
       "    .dataframe thead th {\n",
       "        text-align: right;\n",
       "    }\n",
       "</style>\n",
       "<table border=\"1\" class=\"dataframe\">\n",
       "  <thead>\n",
       "    <tr style=\"text-align: right;\">\n",
       "      <th>preference_rank</th>\n",
       "      <th>1</th>\n",
       "      <th>2</th>\n",
       "      <th>3</th>\n",
       "      <th>NaN</th>\n",
       "    </tr>\n",
       "    <tr>\n",
       "      <th>annotator</th>\n",
       "      <th></th>\n",
       "      <th></th>\n",
       "      <th></th>\n",
       "      <th></th>\n",
       "    </tr>\n",
       "  </thead>\n",
       "  <tbody>\n",
       "    <tr>\n",
       "      <th>Anoushka</th>\n",
       "      <td>30</td>\n",
       "      <td>30</td>\n",
       "      <td>30</td>\n",
       "      <td>0</td>\n",
       "    </tr>\n",
       "    <tr>\n",
       "      <th>Chenglu Li</th>\n",
       "      <td>30</td>\n",
       "      <td>30</td>\n",
       "      <td>30</td>\n",
       "      <td>0</td>\n",
       "    </tr>\n",
       "    <tr>\n",
       "      <th>Hannah HR</th>\n",
       "      <td>21</td>\n",
       "      <td>21</td>\n",
       "      <td>21</td>\n",
       "      <td>0</td>\n",
       "    </tr>\n",
       "    <tr>\n",
       "      <th>KAVITHA SREE</th>\n",
       "      <td>18</td>\n",
       "      <td>18</td>\n",
       "      <td>18</td>\n",
       "      <td>9</td>\n",
       "    </tr>\n",
       "    <tr>\n",
       "      <th>Millie</th>\n",
       "      <td>15</td>\n",
       "      <td>15</td>\n",
       "      <td>15</td>\n",
       "      <td>0</td>\n",
       "    </tr>\n",
       "    <tr>\n",
       "      <th>Owen</th>\n",
       "      <td>6</td>\n",
       "      <td>6</td>\n",
       "      <td>6</td>\n",
       "      <td>0</td>\n",
       "    </tr>\n",
       "    <tr>\n",
       "      <th>Sannidhi</th>\n",
       "      <td>15</td>\n",
       "      <td>15</td>\n",
       "      <td>15</td>\n",
       "      <td>0</td>\n",
       "    </tr>\n",
       "    <tr>\n",
       "      <th>Urmil Patel</th>\n",
       "      <td>21</td>\n",
       "      <td>21</td>\n",
       "      <td>21</td>\n",
       "      <td>0</td>\n",
       "    </tr>\n",
       "    <tr>\n",
       "      <th>Zach</th>\n",
       "      <td>15</td>\n",
       "      <td>15</td>\n",
       "      <td>15</td>\n",
       "      <td>0</td>\n",
       "    </tr>\n",
       "  </tbody>\n",
       "</table>\n",
       "</div>"
      ],
      "text/plain": [
       "preference_rank   1   2   3  NaN\n",
       "annotator                       \n",
       "Anoushka         30  30  30    0\n",
       "Chenglu Li       30  30  30    0\n",
       "Hannah HR        21  21  21    0\n",
       "KAVITHA SREE     18  18  18    9\n",
       "Millie           15  15  15    0\n",
       "Owen              6   6   6    0\n",
       "Sannidhi         15  15  15    0\n",
       "Urmil Patel      21  21  21    0\n",
       "Zach             15  15  15    0"
      ]
     },
     "metadata": {},
     "output_type": "display_data"
    },
    {
     "data": {
      "text/html": [
       "<div>\n",
       "<style scoped>\n",
       "    .dataframe tbody tr th:only-of-type {\n",
       "        vertical-align: middle;\n",
       "    }\n",
       "\n",
       "    .dataframe tbody tr th {\n",
       "        vertical-align: top;\n",
       "    }\n",
       "\n",
       "    .dataframe thead th {\n",
       "        text-align: right;\n",
       "    }\n",
       "</style>\n",
       "<table border=\"1\" class=\"dataframe\">\n",
       "  <thead>\n",
       "    <tr style=\"text-align: right;\">\n",
       "      <th>faithfulness</th>\n",
       "      <th>None</th>\n",
       "      <th>Partial</th>\n",
       "      <th>Perfect</th>\n",
       "      <th>NaN</th>\n",
       "    </tr>\n",
       "    <tr>\n",
       "      <th>annotator</th>\n",
       "      <th></th>\n",
       "      <th></th>\n",
       "      <th></th>\n",
       "      <th></th>\n",
       "    </tr>\n",
       "  </thead>\n",
       "  <tbody>\n",
       "    <tr>\n",
       "      <th>Anoushka</th>\n",
       "      <td>40</td>\n",
       "      <td>32</td>\n",
       "      <td>18</td>\n",
       "      <td>0</td>\n",
       "    </tr>\n",
       "    <tr>\n",
       "      <th>Chenglu Li</th>\n",
       "      <td>24</td>\n",
       "      <td>34</td>\n",
       "      <td>32</td>\n",
       "      <td>0</td>\n",
       "    </tr>\n",
       "    <tr>\n",
       "      <th>Hannah HR</th>\n",
       "      <td>25</td>\n",
       "      <td>23</td>\n",
       "      <td>15</td>\n",
       "      <td>0</td>\n",
       "    </tr>\n",
       "    <tr>\n",
       "      <th>KAVITHA SREE</th>\n",
       "      <td>40</td>\n",
       "      <td>12</td>\n",
       "      <td>2</td>\n",
       "      <td>9</td>\n",
       "    </tr>\n",
       "    <tr>\n",
       "      <th>Millie</th>\n",
       "      <td>16</td>\n",
       "      <td>19</td>\n",
       "      <td>10</td>\n",
       "      <td>0</td>\n",
       "    </tr>\n",
       "    <tr>\n",
       "      <th>Owen</th>\n",
       "      <td>10</td>\n",
       "      <td>8</td>\n",
       "      <td>0</td>\n",
       "      <td>0</td>\n",
       "    </tr>\n",
       "    <tr>\n",
       "      <th>Sannidhi</th>\n",
       "      <td>24</td>\n",
       "      <td>12</td>\n",
       "      <td>9</td>\n",
       "      <td>0</td>\n",
       "    </tr>\n",
       "    <tr>\n",
       "      <th>Urmil Patel</th>\n",
       "      <td>56</td>\n",
       "      <td>6</td>\n",
       "      <td>1</td>\n",
       "      <td>0</td>\n",
       "    </tr>\n",
       "    <tr>\n",
       "      <th>Zach</th>\n",
       "      <td>19</td>\n",
       "      <td>21</td>\n",
       "      <td>5</td>\n",
       "      <td>0</td>\n",
       "    </tr>\n",
       "  </tbody>\n",
       "</table>\n",
       "</div>"
      ],
      "text/plain": [
       "faithfulness  None  Partial  Perfect  NaN\n",
       "annotator                                \n",
       "Anoushka        40       32       18    0\n",
       "Chenglu Li      24       34       32    0\n",
       "Hannah HR       25       23       15    0\n",
       "KAVITHA SREE    40       12        2    9\n",
       "Millie          16       19       10    0\n",
       "Owen            10        8        0    0\n",
       "Sannidhi        24       12        9    0\n",
       "Urmil Patel     56        6        1    0\n",
       "Zach            19       21        5    0"
      ]
     },
     "metadata": {},
     "output_type": "display_data"
    }
   ],
   "source": [
    "display(pd.crosstab(ranking_df.annotator, ranking_df.preference_rank, dropna=False))\n",
    "display(pd.crosstab(ranking_df.annotator, ranking_df.faithfulness, dropna=False))"
   ]
  },
  {
   "cell_type": "code",
   "execution_count": 94,
   "id": "93d3fe26-24ed-46cb-8cee-af9e1613c641",
   "metadata": {},
   "outputs": [
    {
     "data": {
      "text/plain": [
       "Index(['survey_id', 'annotator', 'ranking_q', 'faithfulness_q',\n",
       "       'generation_index', 'preference_rank', 'faithfulness'],\n",
       "      dtype='object')"
      ]
     },
     "execution_count": 94,
     "metadata": {},
     "output_type": "execute_result"
    }
   ],
   "source": [
    "ranking_df.columns"
   ]
  },
  {
   "cell_type": "code",
   "execution_count": 95,
   "id": "5de78165-17d1-4fa7-95c6-aa297327bb09",
   "metadata": {},
   "outputs": [
    {
     "data": {
      "text/plain": [
       "Index(['query', 'document', 'generation', 'query_set', 'guidance', 'messages',\n",
       "       'corpus', 'query_survey', 'document_survey', 'generation_index',\n",
       "       'generation_survey', 'survey_id', 'ranking_q', 'faithfulness_q',\n",
       "       'matching_score'],\n",
       "      dtype='object')"
      ]
     },
     "execution_count": 95,
     "metadata": {},
     "output_type": "execute_result"
    }
   ],
   "source": [
    "joined_df.columns"
   ]
  },
  {
   "cell_type": "code",
   "execution_count": 96,
   "id": "bd3ec4bc-c9e8-40dd-9699-2be9cec4794f",
   "metadata": {},
   "outputs": [
    {
     "data": {
      "text/plain": [
       "annotators per question\n",
       "3    90\n",
       "4    63\n",
       "Name: count, dtype: int64"
      ]
     },
     "execution_count": 96,
     "metadata": {},
     "output_type": "execute_result"
    }
   ],
   "source": [
    "# annotators per question\n",
    "df = joined_df.merge(ranking_df, how=\"left\", on=[\"survey_id\", \"ranking_q\", \"faithfulness_q\", \"generation_index\"])\n",
    "df.groupby([\"survey_id\", \"ranking_q\", \"generation_index\"]).annotator.nunique(dropna=False).rename(\n",
    "    \"annotators per question\"\n",
    ").value_counts(dropna=False)"
   ]
  },
  {
   "cell_type": "code",
   "execution_count": 97,
   "id": "a3db04fd-1872-4af1-bf2e-319f6c6d10a6",
   "metadata": {},
   "outputs": [],
   "source": [
    "# merge in relevance annotations\n",
    "df = df.join(mean_relevance_series, on=\"query\")\n",
    "assert df[\"mean_relevance\"].notna().all()"
   ]
  },
  {
   "cell_type": "code",
   "execution_count": 98,
   "id": "7519dab1-d802-4e1d-97c2-cc79ce8e5b59",
   "metadata": {},
   "outputs": [
    {
     "data": {
      "text/html": [
       "<div>\n",
       "<style scoped>\n",
       "    .dataframe tbody tr th:only-of-type {\n",
       "        vertical-align: middle;\n",
       "    }\n",
       "\n",
       "    .dataframe tbody tr th {\n",
       "        vertical-align: top;\n",
       "    }\n",
       "\n",
       "    .dataframe thead th {\n",
       "        text-align: right;\n",
       "    }\n",
       "</style>\n",
       "<table border=\"1\" class=\"dataframe\">\n",
       "  <thead>\n",
       "    <tr style=\"text-align: right;\">\n",
       "      <th></th>\n",
       "      <th>survey_id</th>\n",
       "      <th>ranking_q</th>\n",
       "      <th>generation_index</th>\n",
       "      <th>annotator</th>\n",
       "      <th>preference_rank</th>\n",
       "      <th>mean_relevance</th>\n",
       "    </tr>\n",
       "  </thead>\n",
       "  <tbody>\n",
       "    <tr>\n",
       "      <th>0</th>\n",
       "      <td>Rori+survey+3</td>\n",
       "      <td>Q57</td>\n",
       "      <td>1</td>\n",
       "      <td>Urmil Patel</td>\n",
       "      <td>2</td>\n",
       "      <td>0.333333</td>\n",
       "    </tr>\n",
       "    <tr>\n",
       "      <th>1</th>\n",
       "      <td>Rori+survey+3</td>\n",
       "      <td>Q57</td>\n",
       "      <td>1</td>\n",
       "      <td>Sannidhi</td>\n",
       "      <td>2</td>\n",
       "      <td>0.333333</td>\n",
       "    </tr>\n",
       "    <tr>\n",
       "      <th>2</th>\n",
       "      <td>Rori+survey+3</td>\n",
       "      <td>Q57</td>\n",
       "      <td>1</td>\n",
       "      <td>Anoushka</td>\n",
       "      <td>2</td>\n",
       "      <td>0.333333</td>\n",
       "    </tr>\n",
       "    <tr>\n",
       "      <th>3</th>\n",
       "      <td>Rori+survey+3</td>\n",
       "      <td>Q57</td>\n",
       "      <td>3</td>\n",
       "      <td>Urmil Patel</td>\n",
       "      <td>3</td>\n",
       "      <td>0.333333</td>\n",
       "    </tr>\n",
       "    <tr>\n",
       "      <th>4</th>\n",
       "      <td>Rori+survey+3</td>\n",
       "      <td>Q57</td>\n",
       "      <td>3</td>\n",
       "      <td>Sannidhi</td>\n",
       "      <td>3</td>\n",
       "      <td>0.333333</td>\n",
       "    </tr>\n",
       "    <tr>\n",
       "      <th>5</th>\n",
       "      <td>Rori+survey+3</td>\n",
       "      <td>Q57</td>\n",
       "      <td>3</td>\n",
       "      <td>Anoushka</td>\n",
       "      <td>3</td>\n",
       "      <td>0.333333</td>\n",
       "    </tr>\n",
       "    <tr>\n",
       "      <th>6</th>\n",
       "      <td>Rori+survey+3</td>\n",
       "      <td>Q57</td>\n",
       "      <td>2</td>\n",
       "      <td>Urmil Patel</td>\n",
       "      <td>1</td>\n",
       "      <td>0.333333</td>\n",
       "    </tr>\n",
       "    <tr>\n",
       "      <th>7</th>\n",
       "      <td>Rori+survey+3</td>\n",
       "      <td>Q57</td>\n",
       "      <td>2</td>\n",
       "      <td>Sannidhi</td>\n",
       "      <td>1</td>\n",
       "      <td>0.333333</td>\n",
       "    </tr>\n",
       "    <tr>\n",
       "      <th>8</th>\n",
       "      <td>Rori+survey+3</td>\n",
       "      <td>Q57</td>\n",
       "      <td>2</td>\n",
       "      <td>Anoushka</td>\n",
       "      <td>1</td>\n",
       "      <td>0.333333</td>\n",
       "    </tr>\n",
       "    <tr>\n",
       "      <th>9</th>\n",
       "      <td>Rori+survey+3</td>\n",
       "      <td>Q51</td>\n",
       "      <td>1</td>\n",
       "      <td>Urmil Patel</td>\n",
       "      <td>3</td>\n",
       "      <td>1.333333</td>\n",
       "    </tr>\n",
       "    <tr>\n",
       "      <th>10</th>\n",
       "      <td>Rori+survey+3</td>\n",
       "      <td>Q51</td>\n",
       "      <td>1</td>\n",
       "      <td>Sannidhi</td>\n",
       "      <td>3</td>\n",
       "      <td>1.333333</td>\n",
       "    </tr>\n",
       "    <tr>\n",
       "      <th>11</th>\n",
       "      <td>Rori+survey+3</td>\n",
       "      <td>Q51</td>\n",
       "      <td>1</td>\n",
       "      <td>Anoushka</td>\n",
       "      <td>3</td>\n",
       "      <td>1.333333</td>\n",
       "    </tr>\n",
       "  </tbody>\n",
       "</table>\n",
       "</div>"
      ],
      "text/plain": [
       "        survey_id ranking_q  generation_index    annotator preference_rank  \\\n",
       "0   Rori+survey+3       Q57                 1  Urmil Patel               2   \n",
       "1   Rori+survey+3       Q57                 1     Sannidhi               2   \n",
       "2   Rori+survey+3       Q57                 1     Anoushka               2   \n",
       "3   Rori+survey+3       Q57                 3  Urmil Patel               3   \n",
       "4   Rori+survey+3       Q57                 3     Sannidhi               3   \n",
       "5   Rori+survey+3       Q57                 3     Anoushka               3   \n",
       "6   Rori+survey+3       Q57                 2  Urmil Patel               1   \n",
       "7   Rori+survey+3       Q57                 2     Sannidhi               1   \n",
       "8   Rori+survey+3       Q57                 2     Anoushka               1   \n",
       "9   Rori+survey+3       Q51                 1  Urmil Patel               3   \n",
       "10  Rori+survey+3       Q51                 1     Sannidhi               3   \n",
       "11  Rori+survey+3       Q51                 1     Anoushka               3   \n",
       "\n",
       "    mean_relevance  \n",
       "0         0.333333  \n",
       "1         0.333333  \n",
       "2         0.333333  \n",
       "3         0.333333  \n",
       "4         0.333333  \n",
       "5         0.333333  \n",
       "6         0.333333  \n",
       "7         0.333333  \n",
       "8         0.333333  \n",
       "9         1.333333  \n",
       "10        1.333333  \n",
       "11        1.333333  "
      ]
     },
     "execution_count": 98,
     "metadata": {},
     "output_type": "execute_result"
    }
   ],
   "source": [
    "df[[\"survey_id\", \"ranking_q\", \"generation_index\", \"annotator\", \"preference_rank\", \"mean_relevance\"]].head(12)"
   ]
  },
  {
   "cell_type": "code",
   "execution_count": 99,
   "id": "852bafe3-4b04-4122-9623-c94742e08de0",
   "metadata": {},
   "outputs": [],
   "source": [
    "# save outcome df\n",
    "df.to_csv(data_dir / \"derived\" / \"outcome_df.csv\")"
   ]
  },
  {
   "cell_type": "code",
   "execution_count": 100,
   "id": "aefbbd81-56df-4ded-b65c-938785d52266",
   "metadata": {},
   "outputs": [
    {
     "name": "stdout",
     "output_type": "stream",
     "text": [
      "Annotators prefer low to none 57.47% of the time (n=174, count=100, conf=(0.5012544781568573, 0.6481708091994645))\n",
      "Annotators prefer low to high 63.79% of the time (n=174, count=111, conf=(0.5665215360441147, 0.7093405329214026))\n",
      "Annotators prefer none to high 51.72% of the time (n=174, count=90, conf=(0.44299331833095906, 0.5914894402897306))\n"
     ]
    }
   ],
   "source": [
    "for c1, c2 in itertools.combinations([\"low\", \"none\", \"high\"], 2):\n",
    "    prefer_c1 = []\n",
    "    for key, group in df.groupby([\"survey_id\", \"ranking_q\", \"annotator\"]):\n",
    "        c1_rank = group.loc[group.guidance == c1, \"preference_rank\"].iloc[0]\n",
    "        c2_rank = group.loc[group.guidance == c2, \"preference_rank\"].iloc[0]\n",
    "        prefer_c1.append(c1_rank < c2_rank)\n",
    "    prefer_c1 = np.array(prefer_c1)\n",
    "    count = prefer_c1.sum()\n",
    "    nobs = len(prefer_c1)\n",
    "    pct = count / nobs\n",
    "    conf = statsmodels.stats.proportion.proportion_confint(count, nobs, alpha=0.05, method=\"normal\")\n",
    "    print(f\"Annotators prefer {c1} to {c2} {pct:.2%} of the time (n={nobs}, {count=}, conf={conf})\")"
   ]
  },
  {
   "cell_type": "code",
   "execution_count": 101,
   "id": "9ff43bf6-f510-45b0-865d-515ef9c4ee77",
   "metadata": {},
   "outputs": [
    {
     "data": {
      "text/html": [
       "<div>\n",
       "<style scoped>\n",
       "    .dataframe tbody tr th:only-of-type {\n",
       "        vertical-align: middle;\n",
       "    }\n",
       "\n",
       "    .dataframe tbody tr th {\n",
       "        vertical-align: top;\n",
       "    }\n",
       "\n",
       "    .dataframe thead th {\n",
       "        text-align: right;\n",
       "    }\n",
       "</style>\n",
       "<table border=\"1\" class=\"dataframe\">\n",
       "  <thead>\n",
       "    <tr style=\"text-align: right;\">\n",
       "      <th></th>\n",
       "      <th>survey_id</th>\n",
       "      <th>faithfulness_q</th>\n",
       "      <th>query</th>\n",
       "      <th>mean_relevance</th>\n",
       "      <th>guidance</th>\n",
       "      <th>faithfulness</th>\n",
       "    </tr>\n",
       "  </thead>\n",
       "  <tbody>\n",
       "    <tr>\n",
       "      <th>0</th>\n",
       "      <td>Rori+survey+1</td>\n",
       "      <td>Q28</td>\n",
       "      <td>Is supplementary angles are always adjacent</td>\n",
       "      <td>1.333333</td>\n",
       "      <td>high</td>\n",
       "      <td>1.75</td>\n",
       "    </tr>\n",
       "    <tr>\n",
       "      <th>1</th>\n",
       "      <td>Rori+survey+1</td>\n",
       "      <td>Q28</td>\n",
       "      <td>Is supplementary angles are always adjacent</td>\n",
       "      <td>1.333333</td>\n",
       "      <td>low</td>\n",
       "      <td>1.25</td>\n",
       "    </tr>\n",
       "    <tr>\n",
       "      <th>2</th>\n",
       "      <td>Rori+survey+1</td>\n",
       "      <td>Q28</td>\n",
       "      <td>Is supplementary angles are always adjacent</td>\n",
       "      <td>1.333333</td>\n",
       "      <td>none</td>\n",
       "      <td>1.25</td>\n",
       "    </tr>\n",
       "    <tr>\n",
       "      <th>3</th>\n",
       "      <td>Rori+survey+1</td>\n",
       "      <td>Q3</td>\n",
       "      <td>Can someone give me a factoring  example I don...</td>\n",
       "      <td>2.333333</td>\n",
       "      <td>high</td>\n",
       "      <td>1.25</td>\n",
       "    </tr>\n",
       "    <tr>\n",
       "      <th>4</th>\n",
       "      <td>Rori+survey+1</td>\n",
       "      <td>Q3</td>\n",
       "      <td>Can someone give me a factoring  example I don...</td>\n",
       "      <td>2.333333</td>\n",
       "      <td>low</td>\n",
       "      <td>1.50</td>\n",
       "    </tr>\n",
       "  </tbody>\n",
       "</table>\n",
       "</div>"
      ],
      "text/plain": [
       "       survey_id faithfulness_q  \\\n",
       "0  Rori+survey+1            Q28   \n",
       "1  Rori+survey+1            Q28   \n",
       "2  Rori+survey+1            Q28   \n",
       "3  Rori+survey+1             Q3   \n",
       "4  Rori+survey+1             Q3   \n",
       "\n",
       "                                               query  mean_relevance guidance  \\\n",
       "0        Is supplementary angles are always adjacent        1.333333     high   \n",
       "1        Is supplementary angles are always adjacent        1.333333      low   \n",
       "2        Is supplementary angles are always adjacent        1.333333     none   \n",
       "3  Can someone give me a factoring  example I don...        2.333333     high   \n",
       "4  Can someone give me a factoring  example I don...        2.333333      low   \n",
       "\n",
       "   faithfulness  \n",
       "0          1.75  \n",
       "1          1.25  \n",
       "2          1.25  \n",
       "3          1.25  \n",
       "4          1.50  "
      ]
     },
     "execution_count": 101,
     "metadata": {},
     "output_type": "execute_result"
    }
   ],
   "source": [
    "def get_numeric_faithfulness(faithfulness):\n",
    "    if faithfulness == \"Partial\":\n",
    "        return 1\n",
    "    elif faithfulness == \"Perfect\":\n",
    "        return 2\n",
    "    else:\n",
    "        return 0\n",
    "\n",
    "\n",
    "def get_mean_faithfulness(group):\n",
    "    group = group.map(get_numeric_faithfulness)\n",
    "    return group.mean()\n",
    "\n",
    "\n",
    "faithfulness_df = (\n",
    "    df.groupby([\"survey_id\", \"faithfulness_q\", \"query\", \"mean_relevance\", \"guidance\"])\n",
    "    .faithfulness.apply(get_mean_faithfulness)\n",
    "    .reset_index()\n",
    ")\n",
    "faithfulness_df.head()"
   ]
  },
  {
   "cell_type": "code",
   "execution_count": 102,
   "id": "3e7cd5dd-6ec5-4b18-af11-9a722d022eec",
   "metadata": {},
   "outputs": [
    {
     "name": "stdout",
     "output_type": "stream",
     "text": [
      "high responses have mean faithfulness 0.881\n",
      "low responses have mean faithfulness 0.577\n",
      "none responses have mean faithfulness 0.513\n"
     ]
    },
    {
     "data": {
      "text/html": [
       "<div>\n",
       "<style scoped>\n",
       "    .dataframe tbody tr th:only-of-type {\n",
       "        vertical-align: middle;\n",
       "    }\n",
       "\n",
       "    .dataframe tbody tr th {\n",
       "        vertical-align: top;\n",
       "    }\n",
       "\n",
       "    .dataframe thead th {\n",
       "        text-align: right;\n",
       "    }\n",
       "</style>\n",
       "<table border=\"1\" class=\"dataframe\">\n",
       "  <thead>\n",
       "    <tr style=\"text-align: right;\">\n",
       "      <th></th>\n",
       "      <th>guidance</th>\n",
       "      <th>faithfulness</th>\n",
       "    </tr>\n",
       "  </thead>\n",
       "  <tbody>\n",
       "    <tr>\n",
       "      <th>0</th>\n",
       "      <td>high</td>\n",
       "      <td>0.880719</td>\n",
       "    </tr>\n",
       "    <tr>\n",
       "      <th>1</th>\n",
       "      <td>low</td>\n",
       "      <td>0.576797</td>\n",
       "    </tr>\n",
       "    <tr>\n",
       "      <th>2</th>\n",
       "      <td>none</td>\n",
       "      <td>0.513072</td>\n",
       "    </tr>\n",
       "  </tbody>\n",
       "</table>\n",
       "</div>"
      ],
      "text/plain": [
       "  guidance  faithfulness\n",
       "0     high      0.880719\n",
       "1      low      0.576797\n",
       "2     none      0.513072"
      ]
     },
     "execution_count": 102,
     "metadata": {},
     "output_type": "execute_result"
    }
   ],
   "source": [
    "for guidance, group in faithfulness_df.groupby(\"guidance\"):\n",
    "    print(f\"{guidance} responses have mean faithfulness {group.faithfulness.mean():.3f}\")\n",
    "faithfulness_df.groupby(\"guidance\").faithfulness.mean().reset_index()"
   ]
  },
  {
   "cell_type": "code",
   "execution_count": 103,
   "id": "d3d6dd96-e341-4de6-b1ba-1ad49904f810",
   "metadata": {},
   "outputs": [
    {
     "data": {
      "text/html": [
       "<div>\n",
       "<style scoped>\n",
       "    .dataframe tbody tr th:only-of-type {\n",
       "        vertical-align: middle;\n",
       "    }\n",
       "\n",
       "    .dataframe tbody tr th {\n",
       "        vertical-align: top;\n",
       "    }\n",
       "\n",
       "    .dataframe thead th {\n",
       "        text-align: right;\n",
       "    }\n",
       "</style>\n",
       "<table border=\"1\" class=\"dataframe\">\n",
       "  <thead>\n",
       "    <tr style=\"text-align: right;\">\n",
       "      <th></th>\n",
       "      <th>survey_id</th>\n",
       "      <th>faithfulness_q</th>\n",
       "      <th>guidance</th>\n",
       "      <th>annotator</th>\n",
       "      <th>faithfulness</th>\n",
       "    </tr>\n",
       "  </thead>\n",
       "  <tbody>\n",
       "    <tr>\n",
       "      <th>0</th>\n",
       "      <td>Rori+survey+3</td>\n",
       "      <td>Q58</td>\n",
       "      <td>none</td>\n",
       "      <td>Urmil Patel</td>\n",
       "      <td>0</td>\n",
       "    </tr>\n",
       "    <tr>\n",
       "      <th>1</th>\n",
       "      <td>Rori+survey+3</td>\n",
       "      <td>Q58</td>\n",
       "      <td>none</td>\n",
       "      <td>Sannidhi</td>\n",
       "      <td>0</td>\n",
       "    </tr>\n",
       "  </tbody>\n",
       "</table>\n",
       "</div>"
      ],
      "text/plain": [
       "       survey_id faithfulness_q guidance    annotator  faithfulness\n",
       "0  Rori+survey+3            Q58     none  Urmil Patel             0\n",
       "1  Rori+survey+3            Q58     none     Sannidhi             0"
      ]
     },
     "execution_count": 103,
     "metadata": {},
     "output_type": "execute_result"
    }
   ],
   "source": [
    "# create an annotator-level faithfulness df\n",
    "annotator_faithfulness_df = df[[\"survey_id\", \"faithfulness_q\", \"guidance\", \"annotator\", \"faithfulness\"]].copy()\n",
    "annotator_faithfulness_df[\"faithfulness\"] = annotator_faithfulness_df.faithfulness.map(get_numeric_faithfulness)\n",
    "annotator_faithfulness_df.head(2)"
   ]
  },
  {
   "cell_type": "code",
   "execution_count": 104,
   "id": "333daedd-b34e-441d-95c5-ba3343c48231",
   "metadata": {},
   "outputs": [
    {
     "data": {
      "image/png": "[encoded data removed]",
      "text/plain": [
       "<Figure size 276.031x110 with 1 Axes>"
      ]
     },
     "metadata": {},
     "output_type": "display_data"
    }
   ],
   "source": [
    "sdf = faithfulness_df\n",
    "fig, ax = plt.subplots(1, 1, figsize=(COLUMN_WIDTH_IN / 2, 1.1))\n",
    "\n",
    "faithfulness_answers = [\"none\", \"partial\", \"perfect\"]\n",
    "\n",
    "xs = sdf.faithfulness\n",
    "\n",
    "bin_width = 0.25\n",
    "bins = np.arange(0, len(faithfulness_answers) - (bin_width * 2), bin_width)\n",
    "ax.hist(xs, bins=bins, align=\"left\", color=matplotlib.cm.viridis(0.61))\n",
    "ax.set_xticks(\n",
    "    list(range(len(faithfulness_answers))),\n",
    "    labels=[f\"{answer.capitalize()} ({i})\" for i, answer in enumerate(faithfulness_answers)],\n",
    "    fontsize=8,\n",
    ")\n",
    "# ax.set_yticks([0, 2, 4, 6, 8])\n",
    "ax.set_ylabel(\"# responses\")\n",
    "\n",
    "fig.tight_layout(pad=0)\n",
    "fig.savefig(figures_dir / \"mean_faithfulness.pdf\", bbox_inches=\"tight\", pad_inches=0.011, dpi=DPI)\n",
    "plt.show()"
   ]
  },
  {
   "cell_type": "code",
   "execution_count": 108,
   "id": "d5d343c1-3427-4995-ab75-d5ab660cabb3",
   "metadata": {},
   "outputs": [
    {
     "data": {
      "image/png": "[encoded data removed]",
      "text/plain": [
       "<Figure size 276.031x110 with 1 Axes>"
      ]
     },
     "metadata": {},
     "output_type": "display_data"
    }
   ],
   "source": [
    "sdf = annotator_faithfulness_df\n",
    "color = matplotlib.cm.viridis(0.61)\n",
    "\n",
    "fig, ax = plt.subplots(1, 1, figsize=(COLUMN_WIDTH_IN / 2, 1.1))\n",
    "\n",
    "guidance_conditions = [\"none\", \"low\", \"high\"]\n",
    "for i, guidance in enumerate(guidance_conditions):\n",
    "    ssdf = sdf[sdf.guidance == guidance]\n",
    "    mean = ssdf.faithfulness.mean()\n",
    "    low, high = statsmodels.stats.weightstats.zconfint(ssdf.faithfulness, alpha=0.05)\n",
    "    low_delta = mean - low\n",
    "    high_delta = high - mean\n",
    "    ax.bar(i, mean, color=color)\n",
    "    ax.errorbar((i,), (mean,), yerr=((low_delta,), (high_delta,)), color=\"black\", capsize=2)\n",
    "    ax.text(i, 0.02, f\"{mean:.2f}\", va=\"bottom\", ha=\"center\", fontsize=8)\n",
    "ax.set_xticks([0, 1, 2], [\"None\", \"Low\", \"High\"], fontsize=8)\n",
    "ax.set_yticks([0, 0.5, 1])\n",
    "ax.set_ylabel(\"Groundedness\", fontsize=8)\n",
    "# caption: mean faithfulness on the ordinal None (0), Partial (1), Perfect (2) scale\n",
    "\n",
    "fig.tight_layout(pad=0)\n",
    "fig.savefig(figures_dir / \"faithfulness_by_guidance.pdf\", bbox_inches=\"tight\", pad_inches=0.011, dpi=DPI)\n",
    "plt.show()"
   ]
  },
  {
   "cell_type": "code",
   "execution_count": null,
   "id": "a59019de-356b-4bc2-a324-12233e95148b",
   "metadata": {},
   "outputs": [],
   "source": []
  },
  {
   "cell_type": "code",
   "execution_count": 109,
   "id": "155f80e7-5245-4a06-a74d-4ffb9728eed4",
   "metadata": {},
   "outputs": [
    {
     "data": {
      "text/plain": [
       "<class 'statsmodels.stats.base.HolderTuple'>\n",
       "statistic = 6.647166598213678\n",
       "pvalue = 0.0019506984744445746\n",
       "df = (2.0, 99.63192852086512)\n",
       "df_num = 2.0\n",
       "df_denom = 99.63192852086512\n",
       "nobs_t = 153.0\n",
       "n_groups = 3\n",
       "means = array([0.5130719 , 0.57679739, 0.88071895])\n",
       "nobs = array([51., 51., 51.])\n",
       "vars_ = array([0.24038126, 0.29412309, 0.31868192])\n",
       "use_var = 'unequal'\n",
       "welch_correction = True\n",
       "tuple = (6.647166598213678, 0.0019506984744445746)"
      ]
     },
     "execution_count": 109,
     "metadata": {},
     "output_type": "execute_result"
    }
   ],
   "source": [
    "# Difference between faithfulness in the guidance conditions?\n",
    "statsmodels.stats.oneway.anova_oneway(\n",
    "    [list(faithfulness_df[faithfulness_df.guidance == guidance].faithfulness) for guidance in [\"none\", \"low\", \"high\"]],\n",
    ")"
   ]
  },
  {
   "cell_type": "code",
   "execution_count": 110,
   "id": "243cf9e9-e51e-4ec6-a235-b427b46aa1b3",
   "metadata": {},
   "outputs": [
    {
     "name": "stdout",
     "output_type": "stream",
     "text": [
      "low none\n",
      "                          Test for equality of means                          \n",
      "==============================================================================\n",
      "                 coef    std err          t      P>|t|      [0.025      0.975]\n",
      "------------------------------------------------------------------------------\n",
      "subset #1      0.0637      0.102      0.622      0.535      -0.139       0.267\n",
      "==============================================================================\n",
      "(0.6224760521678682, 0.5336288859091554)\n",
      "low high\n",
      "                          Test for equality of means                          \n",
      "==============================================================================\n",
      "                 coef    std err          t      P>|t|      [0.025      0.975]\n",
      "------------------------------------------------------------------------------\n",
      "subset #1     -0.3039      0.110     -2.773      0.007      -0.521      -0.086\n",
      "==============================================================================\n",
      "(-2.7725887466298222, 0.005561235307857308)\n",
      "none high\n",
      "                          Test for equality of means                          \n",
      "==============================================================================\n",
      "                 coef    std err          t      P>|t|      [0.025      0.975]\n",
      "------------------------------------------------------------------------------\n",
      "subset #1     -0.3676      0.105     -3.511      0.001      -0.575      -0.160\n",
      "==============================================================================\n",
      "(-3.5114439329445375, 0.00044567946286594245)\n"
     ]
    }
   ],
   "source": [
    "for c1, c2 in itertools.combinations([\"low\", \"none\", \"high\"], 2):\n",
    "    g1 = faithfulness_df[faithfulness_df.guidance == c1].faithfulness\n",
    "    g2 = faithfulness_df[faithfulness_df.guidance == c2].faithfulness\n",
    "    cm = statsmodels.stats.weightstats.CompareMeans.from_data(g1, g2)\n",
    "    print(c1, c2)\n",
    "    print(cm.summary())\n",
    "    print(cm.ztest_ind())"
   ]
  },
  {
   "cell_type": "code",
   "execution_count": 135,
   "id": "bfed0fe9-52b4-4736-8147-5e3c9fd79dfc",
   "metadata": {},
   "outputs": [],
   "source": [
    "# reliability_data = [relevance_df[annotator].map(get_numeric_relevance) for annotator in relevance_annotators]\n",
    "# krippendorff.alpha(reliability_data=reliability_data, level_of_measurement=\"ordinal\")"
   ]
  },
  {
   "cell_type": "code",
   "execution_count": null,
   "id": "79b28875-f6d7-4667-a8c0-a98b3c12818a",
   "metadata": {},
   "outputs": [],
   "source": []
  },
  {
   "cell_type": "code",
   "execution_count": 438,
   "id": "d93ae464-aa10-4506-bc32-25a4ca165b09",
   "metadata": {},
   "outputs": [
    {
     "data": {
      "text/html": [
       "<div>\n",
       "<style scoped>\n",
       "    .dataframe tbody tr th:only-of-type {\n",
       "        vertical-align: middle;\n",
       "    }\n",
       "\n",
       "    .dataframe tbody tr th {\n",
       "        vertical-align: top;\n",
       "    }\n",
       "\n",
       "    .dataframe thead th {\n",
       "        text-align: right;\n",
       "    }\n",
       "</style>\n",
       "<table border=\"1\" class=\"dataframe\">\n",
       "  <thead>\n",
       "    <tr style=\"text-align: right;\">\n",
       "      <th></th>\n",
       "      <th>survey_id</th>\n",
       "      <th>faithfulness_q</th>\n",
       "      <th>guidance</th>\n",
       "      <th>faithfulness</th>\n",
       "    </tr>\n",
       "  </thead>\n",
       "  <tbody>\n",
       "    <tr>\n",
       "      <th>0</th>\n",
       "      <td>Rori+survey+1</td>\n",
       "      <td>Q28</td>\n",
       "      <td>high</td>\n",
       "      <td>1.75</td>\n",
       "    </tr>\n",
       "    <tr>\n",
       "      <th>1</th>\n",
       "      <td>Rori+survey+1</td>\n",
       "      <td>Q28</td>\n",
       "      <td>low</td>\n",
       "      <td>1.25</td>\n",
       "    </tr>\n",
       "    <tr>\n",
       "      <th>2</th>\n",
       "      <td>Rori+survey+1</td>\n",
       "      <td>Q28</td>\n",
       "      <td>none</td>\n",
       "      <td>1.25</td>\n",
       "    </tr>\n",
       "    <tr>\n",
       "      <th>3</th>\n",
       "      <td>Rori+survey+1</td>\n",
       "      <td>Q3</td>\n",
       "      <td>high</td>\n",
       "      <td>1.25</td>\n",
       "    </tr>\n",
       "    <tr>\n",
       "      <th>4</th>\n",
       "      <td>Rori+survey+1</td>\n",
       "      <td>Q3</td>\n",
       "      <td>low</td>\n",
       "      <td>1.50</td>\n",
       "    </tr>\n",
       "  </tbody>\n",
       "</table>\n",
       "</div>"
      ],
      "text/plain": [
       "       survey_id faithfulness_q guidance  faithfulness\n",
       "0  Rori+survey+1            Q28     high          1.75\n",
       "1  Rori+survey+1            Q28      low          1.25\n",
       "2  Rori+survey+1            Q28     none          1.25\n",
       "3  Rori+survey+1             Q3     high          1.25\n",
       "4  Rori+survey+1             Q3      low          1.50"
      ]
     },
     "execution_count": 438,
     "metadata": {},
     "output_type": "execute_result"
    }
   ],
   "source": [
    "faithfulness_df.head()"
   ]
  },
  {
   "cell_type": "code",
   "execution_count": null,
   "id": "31e3b5af-b639-42da-8759-13c70cdad3bd",
   "metadata": {},
   "outputs": [],
   "source": []
  },
  {
   "cell_type": "code",
   "execution_count": 112,
   "id": "ce9054ae-b064-40bf-9781-828e8365a41d",
   "metadata": {},
   "outputs": [
    {
     "name": "stdout",
     "output_type": "stream",
     "text": [
      "Krippendorff's alpha for condition all: 0.3450 (n=153, 9 raters)\n",
      "Krippendorff's alpha for condition none_only: 0.2563 (n=51, 9 raters)\n",
      "Krippendorff's alpha for condition low_only: 0.3524 (n=51, 9 raters)\n",
      "Krippendorff's alpha for condition high_only: 0.3236 (n=51, 9 raters)\n"
     ]
    }
   ],
   "source": [
    "for condition, sdf in [\n",
    "    (\"all\", annotator_faithfulness_df),\n",
    "    (\"none_only\", annotator_faithfulness_df[annotator_faithfulness_df.guidance == \"none\"]),\n",
    "    (\"low_only\", annotator_faithfulness_df[annotator_faithfulness_df.guidance == \"low\"]),\n",
    "    (\"high_only\", annotator_faithfulness_df[annotator_faithfulness_df.guidance == \"high\"]),\n",
    "]:\n",
    "    annotators = set(sdf.annotator)\n",
    "    question_keys = set()\n",
    "    annotator_faithfulness_map = {}\n",
    "    for row in sdf.itertuples():\n",
    "        # row.survey_id, row.faithfulness_q, row.guidance, row.annotator\n",
    "        question_key = (row.survey_id, row.faithfulness_q, row.guidance)\n",
    "        question_keys.add(question_key)\n",
    "        annotator_faithfulness_map[question_key + (row.annotator,)] = (\n",
    "            row.faithfulness if pd.notna(row.faithfulness) else np.nan\n",
    "        )\n",
    "\n",
    "    reliability_data = [\n",
    "        [\n",
    "            annotator_faithfulness_map[question_key + (annotator,)]\n",
    "            if question_key + (annotator,) in annotator_faithfulness_map\n",
    "            else np.nan\n",
    "            for question_key in question_keys\n",
    "        ]\n",
    "        for annotator in annotators\n",
    "    ]\n",
    "    assert len(reliability_data) == len(annotators)\n",
    "    k_alpha = krippendorff.alpha(reliability_data=reliability_data, level_of_measurement=\"ordinal\")\n",
    "    print(\n",
    "        f\"Krippendorff's alpha for condition {condition}: {k_alpha:.4f} (n={len(question_keys)}, {len(reliability_data)} raters)\"\n",
    "    )"
   ]
  },
  {
   "cell_type": "code",
   "execution_count": 113,
   "id": "fff4263d-25b4-4e6b-a3cb-f921d428384c",
   "metadata": {},
   "outputs": [
    {
     "name": "stdout",
     "output_type": "stream",
     "text": [
      "guidance='none' n=51 r=0.7046 (p=0.0000, p_bonf.=0.0000)\n",
      "guidance='low' n=51 r=0.6745 (p=0.0000, p_bonf.=0.0000)\n",
      "guidance='high' n=51 r=0.6159 (p=0.0000, p_bonf.=0.0000)\n",
      "guidance='all' n=153 r=0.6333 (p=0.0000, p_bonf.=0.0000)\n"
     ]
    }
   ],
   "source": [
    "for guidance in [\"none\", \"low\", \"high\", \"all\"]:\n",
    "    if guidance == \"all\":\n",
    "        sdf = faithfulness_df\n",
    "    else:\n",
    "        sdf = faithfulness_df[faithfulness_df.guidance == guidance]\n",
    "    r, p = scipy.stats.pearsonr(sdf.mean_relevance, sdf.faithfulness)\n",
    "    print(f\"{guidance=} n={len(sdf)} r={r:.4f} (p={p:.4f}, p_bonf.={p*4:.4f})\")"
   ]
  },
  {
   "cell_type": "code",
   "execution_count": 114,
   "id": "97c30d79-7422-4a48-9856-993bcec18832",
   "metadata": {},
   "outputs": [
    {
     "name": "stdout",
     "output_type": "stream",
     "text": [
      "none\n",
      "                            OLS Regression Results                            \n",
      "==============================================================================\n",
      "Dep. Variable:           faithfulness   R-squared:                       0.496\n",
      "Model:                            OLS   Adj. R-squared:                  0.486\n",
      "Method:                 Least Squares   F-statistic:                     48.31\n",
      "Date:                Sun, 24 Sep 2023   Prob (F-statistic):           7.92e-09\n",
      "Time:                        22:19:46   Log-Likelihood:                -18.015\n",
      "No. Observations:                  51   AIC:                             40.03\n",
      "Df Residuals:                      49   BIC:                             43.89\n",
      "Df Model:                           1                                         \n",
      "Covariance Type:            nonrobust                                         \n",
      "==================================================================================\n",
      "                     coef    std err          t      P>|t|      [0.025      0.975]\n",
      "----------------------------------------------------------------------------------\n",
      "Intercept         -0.0726      0.098     -0.744      0.460      -0.269       0.123\n",
      "mean_relevance     0.4207      0.061      6.950      0.000       0.299       0.542\n",
      "==============================================================================\n",
      "Omnibus:                        0.234   Durbin-Watson:                   1.768\n",
      "Prob(Omnibus):                  0.889   Jarque-Bera (JB):                0.428\n",
      "Skew:                           0.079   Prob(JB):                        0.807\n",
      "Kurtosis:                       2.580   Cond. No.                         4.19\n",
      "==============================================================================\n",
      "\n",
      "Notes:\n",
      "[1] Standard Errors assume that the covariance matrix of the errors is correctly specified.\n",
      "Pearson's correlation ($r$=0.705, $p$=0.000)\n",
      "low\n",
      "                            OLS Regression Results                            \n",
      "==============================================================================\n",
      "Dep. Variable:           faithfulness   R-squared:                       0.455\n",
      "Model:                            OLS   Adj. R-squared:                  0.444\n",
      "Method:                 Least Squares   F-statistic:                     40.91\n",
      "Date:                Sun, 24 Sep 2023   Prob (F-statistic):           5.72e-08\n",
      "Time:                        22:19:46   Log-Likelihood:                -25.177\n",
      "No. Observations:                  51   AIC:                             54.35\n",
      "Df Residuals:                      49   BIC:                             58.22\n",
      "Df Model:                           1                                         \n",
      "Covariance Type:            nonrobust                                         \n",
      "==================================================================================\n",
      "                     coef    std err          t      P>|t|      [0.025      0.975]\n",
      "----------------------------------------------------------------------------------\n",
      "Intercept         -0.0434      0.112     -0.387      0.701      -0.269       0.182\n",
      "mean_relevance     0.4455      0.070      6.396      0.000       0.306       0.585\n",
      "==============================================================================\n",
      "Omnibus:                        1.546   Durbin-Watson:                   1.285\n",
      "Prob(Omnibus):                  0.462   Jarque-Bera (JB):                1.120\n",
      "Skew:                           0.055   Prob(JB):                        0.571\n",
      "Kurtosis:                       2.282   Cond. No.                         4.19\n",
      "==============================================================================\n",
      "\n",
      "Notes:\n",
      "[1] Standard Errors assume that the covariance matrix of the errors is correctly specified.\n",
      "Pearson's correlation ($r$=0.675, $p$=0.000)\n",
      "high\n",
      "                            OLS Regression Results                            \n",
      "==============================================================================\n",
      "Dep. Variable:           faithfulness   R-squared:                       0.379\n",
      "Model:                            OLS   Adj. R-squared:                  0.367\n",
      "Method:                 Least Squares   F-statistic:                     29.95\n",
      "Date:                Sun, 24 Sep 2023   Prob (F-statistic):           1.50e-06\n",
      "Time:                        22:19:46   Log-Likelihood:                -30.538\n",
      "No. Observations:                  51   AIC:                             65.08\n",
      "Df Residuals:                      49   BIC:                             68.94\n",
      "Df Model:                           1                                         \n",
      "Covariance Type:            nonrobust                                         \n",
      "==================================================================================\n",
      "                     coef    std err          t      P>|t|      [0.025      0.975]\n",
      "----------------------------------------------------------------------------------\n",
      "Intercept          0.2913      0.125      2.335      0.024       0.041       0.542\n",
      "mean_relevance     0.4234      0.077      5.472      0.000       0.268       0.579\n",
      "==============================================================================\n",
      "Omnibus:                        0.190   Durbin-Watson:                   1.423\n",
      "Prob(Omnibus):                  0.909   Jarque-Bera (JB):                0.257\n",
      "Skew:                          -0.135   Prob(JB):                        0.879\n",
      "Kurtosis:                       2.780   Cond. No.                         4.19\n",
      "==============================================================================\n",
      "\n",
      "Notes:\n",
      "[1] Standard Errors assume that the covariance matrix of the errors is correctly specified.\n",
      "Pearson's correlation ($r$=0.616, $p$=0.000)\n"
     ]
    },
    {
     "data": {
      "image/png": "[encoded data removed]",
      "text/plain": [
       "<Figure size 552.062x120 with 3 Axes>"
      ]
     },
     "metadata": {},
     "output_type": "display_data"
    }
   ],
   "source": [
    "# explore correlation between relevance and faithfulness in the math corpus\n",
    "# we would expect a small positive correlation\n",
    "# when guidance is high, we expect a stronger correlation\n",
    "fig, axes = plt.subplots(1, 3, figsize=(COLUMN_WIDTH_IN, 1.2))\n",
    "axes = axes.reshape(-1)\n",
    "\n",
    "\n",
    "def plot_relevance_vs_faithfulness(ax, sdf, guidance):\n",
    "    # correlation\n",
    "    r, p = scipy.stats.pearsonr(sdf.mean_relevance, sdf.faithfulness)\n",
    "    # and the approximately equivalent linear regression\n",
    "    # https://sebastianraschka.com/faq/docs/pearson-r-vs-linear-regr.html\n",
    "    model = sm.OLS.from_formula(formula=\"faithfulness ~ mean_relevance\", data=sdf)\n",
    "    model = model.fit()\n",
    "    params = model.params\n",
    "\n",
    "    # ax.hist2d(sdf.mean_relevance, sdf.mean_faithfulness, cmin=1)\n",
    "    ax.scatter(sdf.mean_relevance, sdf.faithfulness, alpha=0.1, marker=\"o\")\n",
    "    # ax.set_xlabel(\"Mean relevance\")\n",
    "    # ax.set_ylabel(\"Mean faithfulness\")\n",
    "\n",
    "    ax.set_yticks([0, 1, 2])\n",
    "    ax.set_xticks([0, 1, 2, 3])\n",
    "\n",
    "    statsmodels.graphics.regressionplots.abline_plot(\n",
    "        model_results=model,\n",
    "        ax=ax,\n",
    "        color=\"black\",\n",
    "        linestyle=\"--\",\n",
    "        linewidth=1.1,\n",
    "        label=f\"OLS ($r$={r:.3f}, $p$={p:.3f})\",\n",
    "    )\n",
    "    # ax.legend()\n",
    "    print(guidance)\n",
    "    print(model.summary())\n",
    "    print(f\"Pearson's correlation ($r$={r:.3f}, $p$={p:.3f})\")\n",
    "\n",
    "\n",
    "guidance_conditions = [\"none\", \"low\", \"high\"]\n",
    "for ax_ind, guidance in enumerate(guidance_conditions):\n",
    "    ax = axes[ax_ind]\n",
    "    sdf = faithfulness_df[faithfulness_df.guidance == guidance]\n",
    "    plot_relevance_vs_faithfulness(ax, sdf, guidance)\n",
    "\n",
    "fig.tight_layout(pad=0, w_pad=0.51)\n",
    "plt.show()"
   ]
  },
  {
   "cell_type": "code",
   "execution_count": 115,
   "id": "c70e968a-e3bc-4e4a-b22b-7b2b152faf3d",
   "metadata": {},
   "outputs": [
    {
     "name": "stdout",
     "output_type": "stream",
     "text": [
      "                            OLS Regression Results                            \n",
      "==============================================================================\n",
      "Dep. Variable:           faithfulness   R-squared:                       0.401\n",
      "Model:                            OLS   Adj. R-squared:                  0.397\n",
      "Method:                 Least Squares   F-statistic:                     101.1\n",
      "Date:                Sun, 24 Sep 2023   Prob (F-statistic):           1.57e-18\n",
      "Time:                        22:20:02   Log-Likelihood:                -86.926\n",
      "No. Observations:                 153   AIC:                             177.9\n",
      "Df Residuals:                     151   BIC:                             183.9\n",
      "Df Model:                           1                                         \n",
      "Covariance Type:            nonrobust                                         \n",
      "==================================================================================\n",
      "                     coef    std err          t      P>|t|      [0.025      0.975]\n",
      "----------------------------------------------------------------------------------\n",
      "Intercept          0.0584      0.069      0.847      0.398      -0.078       0.195\n",
      "mean_relevance     0.4299      0.043     10.056      0.000       0.345       0.514\n",
      "==============================================================================\n",
      "Omnibus:                        1.640   Durbin-Watson:                   1.270\n",
      "Prob(Omnibus):                  0.440   Jarque-Bera (JB):                1.668\n",
      "Skew:                           0.192   Prob(JB):                        0.434\n",
      "Kurtosis:                       2.661   Cond. No.                         4.19\n",
      "==============================================================================\n",
      "\n",
      "Notes:\n",
      "[1] Standard Errors assume that the covariance matrix of the errors is correctly specified.\n",
      "Pearson's correlation ($r$=0.633, $p$=0.000)\n"
     ]
    },
    {
     "data": {
      "image/png": "[encoded data removed]",
      "text/plain": [
       "<Figure size 276.031x98 with 1 Axes>"
      ]
     },
     "metadata": {},
     "output_type": "display_data"
    }
   ],
   "source": [
    "# explore correlation between relevance and faithfulness in the math corpus\n",
    "# we would expect a small positive correlation\n",
    "# when guidance is high, we expect a stronger correlation\n",
    "fig, ax = plt.subplots(1, 1, figsize=(COLUMN_WIDTH_IN / 2, 0.98))\n",
    "\n",
    "\n",
    "def plot_relevance_vs_faithfulness(ax, sdf):\n",
    "    # correlation\n",
    "    r, p = scipy.stats.pearsonr(sdf.mean_relevance, sdf.faithfulness)\n",
    "    # and the approximately equivalent linear regression\n",
    "    # https://sebastianraschka.com/faq/docs/pearson-r-vs-linear-regr.html\n",
    "    model = sm.OLS.from_formula(formula=\"faithfulness ~ mean_relevance\", data=sdf)\n",
    "    model = model.fit()\n",
    "    params = model.params\n",
    "\n",
    "    ax.scatter(sdf.mean_relevance, sdf.faithfulness, alpha=0.1, marker=\"o\")\n",
    "\n",
    "    ax.set_yticks([0, 1, 2])\n",
    "    ax.set_xticks([0, 1, 2, 3], labels=[\"Wrong\", \"Topic\", \"Partial\", \"Perfect\"], fontsize=8)\n",
    "\n",
    "    statsmodels.graphics.regressionplots.abline_plot(\n",
    "        model_results=model,\n",
    "        ax=ax,\n",
    "        color=\"black\",\n",
    "        linestyle=\"--\",\n",
    "        linewidth=1.1,\n",
    "        label=f\"OLS ($r$={r:.3f}, $p$={p:.3f})\",\n",
    "    )\n",
    "    print(model.summary())\n",
    "    print(f\"Pearson's correlation ($r$={r:.3f}, $p$={p:.3f})\")\n",
    "\n",
    "    # ax.set_xlabel(\"Relevance\")\n",
    "    ax.set_ylabel(\"Groundedness\", fontsize=8)\n",
    "\n",
    "\n",
    "plot_relevance_vs_faithfulness(ax, faithfulness_df)\n",
    "\n",
    "fig.tight_layout(pad=0)\n",
    "fig.savefig(figures_dir / \"relevance_x_faithfulness.pdf\", bbox_inches=\"tight\", pad_inches=0.011, dpi=DPI)\n",
    "\n",
    "plt.show()"
   ]
  },
  {
   "cell_type": "code",
   "execution_count": 116,
   "id": "b927aae2-9aa3-404f-8a70-3bdce30584d8",
   "metadata": {},
   "outputs": [
    {
     "data": {
      "image/png": "[encoded data removed]",
      "text/plain": [
       "<Figure size 276.031x98 with 1 Axes>"
      ]
     },
     "metadata": {},
     "output_type": "display_data"
    }
   ],
   "source": [
    "fig, ax = plt.subplots(1, 1, figsize=(COLUMN_WIDTH_IN / 2, 0.98))\n",
    "\n",
    "xs = faithfulness_df.drop_duplicates(subset=[\"query\"], keep=\"first\").mean_relevance\n",
    "\n",
    "bin_width = 0.25\n",
    "bins = np.arange(0, len(relevance_answers) - (bin_width * 2), bin_width)\n",
    "ax.hist(xs, bins=bins, align=\"left\", color=matplotlib.cm.viridis(0.18))\n",
    "ax.set_xticks(\n",
    "    list(range(len(relevance_answers))),\n",
    "    labels=[f\"{answer.capitalize()} ({i})\" for i, answer in enumerate(relevance_answers)],\n",
    "    fontsize=8,\n",
    ")\n",
    "ax.set_yticks([0, 2, 4, 6, 8])\n",
    "\n",
    "# ax.set_xlabel(\"Mean relevance\")\n",
    "ax.set_ylabel(\"# queries\")\n",
    "\n",
    "fig.tight_layout(pad=0)\n",
    "fig.savefig(figures_dir / \"mean_relevance.pdf\", bbox_inches=\"tight\", pad_inches=0.011, dpi=DPI)\n",
    "plt.show()"
   ]
  },
  {
   "cell_type": "code",
   "execution_count": 117,
   "id": "f56769ca-1968-4215-835f-cc3b5e421733",
   "metadata": {},
   "outputs": [
    {
     "data": {
      "text/html": [
       "<div>\n",
       "<style scoped>\n",
       "    .dataframe tbody tr th:only-of-type {\n",
       "        vertical-align: middle;\n",
       "    }\n",
       "\n",
       "    .dataframe tbody tr th {\n",
       "        vertical-align: top;\n",
       "    }\n",
       "\n",
       "    .dataframe thead th {\n",
       "        text-align: right;\n",
       "    }\n",
       "</style>\n",
       "<table border=\"1\" class=\"dataframe\">\n",
       "  <thead>\n",
       "    <tr style=\"text-align: right;\">\n",
       "      <th></th>\n",
       "      <th>survey_id</th>\n",
       "      <th>faithfulness_q</th>\n",
       "      <th>query</th>\n",
       "      <th>mean_relevance</th>\n",
       "      <th>guidance</th>\n",
       "      <th>faithfulness</th>\n",
       "      <th>Index</th>\n",
       "      <th>query_set</th>\n",
       "      <th>generation</th>\n",
       "      <th>document</th>\n",
       "      <th>messages</th>\n",
       "      <th>corpus</th>\n",
       "      <th>f1</th>\n",
       "      <th>bleurt</th>\n",
       "      <th>bertscore</th>\n",
       "    </tr>\n",
       "  </thead>\n",
       "  <tbody>\n",
       "    <tr>\n",
       "      <th>0</th>\n",
       "      <td>Rori+survey+1</td>\n",
       "      <td>Q28</td>\n",
       "      <td>Is supplementary angles are always adjacent</td>\n",
       "      <td>1.333333</td>\n",
       "      <td>high</td>\n",
       "      <td>1.75</td>\n",
       "      <td>192</td>\n",
       "      <td>math_nation</td>\n",
       "      <td>Supplementary angles are not always adjacent. ...</td>\n",
       "      <td>Use the Properties of Angles: Are you familiar...</td>\n",
       "      <td>[{'role': 'system', 'content': 'You are going ...</td>\n",
       "      <td>math</td>\n",
       "      <td>0.424242</td>\n",
       "      <td>-0.494919</td>\n",
       "      <td>0.834581</td>\n",
       "    </tr>\n",
       "  </tbody>\n",
       "</table>\n",
       "</div>"
      ],
      "text/plain": [
       "       survey_id faithfulness_q                                        query  \\\n",
       "0  Rori+survey+1            Q28  Is supplementary angles are always adjacent   \n",
       "\n",
       "   mean_relevance guidance  faithfulness  Index    query_set  \\\n",
       "0        1.333333     high          1.75    192  math_nation   \n",
       "\n",
       "                                          generation  \\\n",
       "0  Supplementary angles are not always adjacent. ...   \n",
       "\n",
       "                                            document  \\\n",
       "0  Use the Properties of Angles: Are you familiar...   \n",
       "\n",
       "                                            messages corpus        f1  \\\n",
       "0  [{'role': 'system', 'content': 'You are going ...   math  0.424242   \n",
       "\n",
       "     bleurt  bertscore  \n",
       "0 -0.494919   0.834581  "
      ]
     },
     "execution_count": 117,
     "metadata": {},
     "output_type": "execute_result"
    }
   ],
   "source": [
    "autometric_faithfulness_df = faithfulness_df.merge(\n",
    "    autometric_df, on=[\"query\", \"guidance\"], suffixes=(\"\", \"_am\"), how=\"left\"\n",
    ")\n",
    "autometric_faithfulness_df.head(1)"
   ]
  },
  {
   "cell_type": "code",
   "execution_count": 119,
   "id": "cda4e92d-79b9-42fa-96cf-d23690863ef2",
   "metadata": {},
   "outputs": [
    {
     "name": "stdout",
     "output_type": "stream",
     "text": [
      "\\begin{tabular}{@{}lllllll@{}}\n",
      "\\toprule\n",
      "Guidance & \\multicolumn{3}{c}{Faithfulness} & \\multicolumn{3}{c}{Relevance} \\\\\n",
      "& K-F1++   & BLEURT   & BERTScore  & K-F1++  & BLEURT  & BERTScore \\\\ \\midrule\n",
      "None & 0.38&0.33&0.35&0.26&0.34&0.43$^{*}$ \\\\\n",
      "Low & 0.47$^{**}$&0.32&0.61$^{***}$&0.43$^{*}$&0.34&0.50$^{**}$ \\\\\n",
      "High & 0.50$^{**}$&0.21&0.39&0.37&0.26&0.50$^{**}$ \\\\ \\midrule\n",
      "Pooled & 0.52$^{***}$&0.33$^{***}$&0.51$^{***}$&0.31$^{**}$&0.30$^{**}$&0.42$^{***}$ \\\\ \\bottomrule\n",
      "\\end{tabular}\n"
     ]
    }
   ],
   "source": [
    "# human annotations vs metrics\n",
    "tabular_top = \"\"\"\\\\begin{tabular}{@{}lllllll@{}}\n",
    "\\\\toprule\n",
    "Guidance & \\\\multicolumn{3}{c}{Faithfulness} & \\\\multicolumn{3}{c}{Relevance} \\\\\\\\\n",
    "& K-F1++   & BLEURT   & BERTScore  & K-F1++  & BLEURT  & BERTScore \\\\\\\\ \\\\midrule\"\"\"\n",
    "print(tabular_top)\n",
    "for guidance in [\"none\", \"low\", \"high\", \"pooled\"]:\n",
    "    if guidance == \"pooled\":\n",
    "        sdf = autometric_faithfulness_df\n",
    "    else:\n",
    "        sdf = autometric_faithfulness_df[autometric_faithfulness_df.guidance == guidance]\n",
    "    r_vals = []\n",
    "    for human_key in [\"faithfulness\", \"mean_relevance\"]:\n",
    "        for metric_key in [\"f1\", \"bleurt\", \"bertscore\"]:\n",
    "            r, p = scipy.stats.pearsonr(sdf[metric_key], sdf[human_key])\n",
    "            p = p * 12\n",
    "            r_val = f\"{r:.2f}\"\n",
    "            if p <= 0.001:\n",
    "                r_val += \"$^{***}$\"\n",
    "            elif p <= 0.01:\n",
    "                r_val += \"$^{**}$\"\n",
    "            elif p <= 0.05:\n",
    "                r_val += \"$^{*}$\"\n",
    "            r_vals.append(r_val)\n",
    "\n",
    "    entries = \"&\".join(r_vals)\n",
    "    tabular_row = f\"{guidance.capitalize()} & {entries} \\\\\\\\\"\n",
    "    if guidance == \"pooled\":\n",
    "        tabular_row += \" \\\\bottomrule\"\n",
    "    elif guidance == \"high\":\n",
    "        tabular_row += \" \\\\midrule\"\n",
    "    print(tabular_row)\n",
    "tabular_bottom = \"\\\\end{tabular}\"\n",
    "print(tabular_bottom)"
   ]
  },
  {
   "cell_type": "code",
   "execution_count": 134,
   "id": "c9c486f3-da80-4545-8bb3-ffeb8c0fafc7",
   "metadata": {},
   "outputs": [],
   "source": [
    "if False:  # I don' think I ever ran this cell here\n",
    "    fig, ax = plt.subplots(1, 1, figsize=(COLUMN_WIDTH_IN / 2, 1.2))\n",
    "\n",
    "    xs = faithfulness_df.drop_duplicates(subset=[\"query\"], keep=\"first\").mean_relevance\n",
    "\n",
    "    bin_width = 0.25\n",
    "    bins = np.arange(0, len(relevance_answers) - (bin_width * 2), bin_width)\n",
    "    ax.hist(xs, bins=bins, align=\"left\", color=matplotlib.cm.viridis(0.18))\n",
    "    ax.set_xticks(\n",
    "        list(range(len(relevance_answers))),\n",
    "        labels=[f\"{answer.capitalize()} ({i})\" for i, answer in enumerate(relevance_answers)],\n",
    "        fontsize=8,\n",
    "    )\n",
    "    ax.set_yticks([0, 2, 4, 6, 8])\n",
    "\n",
    "    # ax.set_xlabel(\"Mean relevance\")\n",
    "    ax.set_ylabel(\"# queries\")\n",
    "\n",
    "    fig.tight_layout(pad=0)\n",
    "    fig.savefig(figures_dir / \"mean_relevance.pdf\", bbox_inches=\"tight\", pad_inches=0.011, dpi=DPI)\n",
    "    plt.show()"
   ]
  },
  {
   "cell_type": "code",
   "execution_count": null,
   "id": "3e52dff4-acfc-494c-8475-27c97f5b89d9",
   "metadata": {},
   "outputs": [],
   "source": []
  },
  {
   "cell_type": "code",
   "execution_count": null,
   "id": "97cfc9b7-e30b-4692-90a4-12d37adbf12a",
   "metadata": {},
   "outputs": [],
   "source": []
  },
  {
   "cell_type": "code",
   "execution_count": 129,
   "id": "3cbc7668-f1ff-42ce-ab48-df4ec205c189",
   "metadata": {},
   "outputs": [
    {
     "data": {
      "text/plain": [
       "(171, 3)"
      ]
     },
     "execution_count": 129,
     "metadata": {},
     "output_type": "execute_result"
    }
   ],
   "source": [
    "guidance_conditions = np.array([\"none\", \"low\", \"high\"])\n",
    "permutations = [permutation for permutation in itertools.permutations(guidance_conditions, 3)]\n",
    "rank_orders = []\n",
    "n_skipped = 0\n",
    "for key, group in df.groupby([\"survey_id\", \"ranking_q\", \"annotator\"]):\n",
    "    if group.preference_rank.isna().any():\n",
    "        n_skipped += 1\n",
    "        continue\n",
    "    ranks = [group.loc[group.guidance == guidance, \"preference_rank\"].iloc[0] for guidance in guidance_conditions]\n",
    "    rank_order = tuple(guidance_conditions[np.argsort(ranks)])\n",
    "    assert rank_order in permutations\n",
    "    rank_orders.append(rank_order)\n",
    "len(rank_orders), n_skipped"
   ]
  },
  {
   "cell_type": "code",
   "execution_count": 130,
   "id": "f1475f8e-1dce-42de-aabf-e988271b9230",
   "metadata": {},
   "outputs": [
    {
     "data": {
      "image/png": "[encoded data removed]",
      "text/plain": [
       "<Figure size 276.031x110 with 1 Axes>"
      ]
     },
     "metadata": {},
     "output_type": "display_data"
    }
   ],
   "source": [
    "color = \"#77a8f7\"\n",
    "fig, ax = plt.subplots(1, 1, figsize=(COLUMN_WIDTH_IN / 2, 1.1))\n",
    "\n",
    "permutation_counts = Counter(rank_orders).most_common()\n",
    "i = 0\n",
    "for permutation, permutation_count in permutation_counts:\n",
    "    ax.bar(i, permutation_count, width=1, color=color)\n",
    "    i += 1\n",
    "\n",
    "ax.set_xticks(\n",
    "    range(len(permutation_counts)),\n",
    "    [f\"{p[0][0].capitalize()}>{p[1][0].capitalize()}>{p[2][0].capitalize()}\" for p, _ in permutation_counts],\n",
    "    fontsize=6,\n",
    ")\n",
    "ax.set_yticks([0, 20, 40])\n",
    "ax.set_ylabel(\"# rankings\")  # response/annotator pairs\n",
    "\n",
    "fig.tight_layout(pad=0)\n",
    "fig.savefig(figures_dir / \"rank_distribution.pdf\", bbox_inches=\"tight\", pad_inches=0.011, dpi=DPI)\n",
    "plt.show()"
   ]
  },
  {
   "cell_type": "code",
   "execution_count": 133,
   "id": "6a22a4fb-2f60-4814-b79a-92d09e97a436",
   "metadata": {},
   "outputs": [
    {
     "name": "stdout",
     "output_type": "stream",
     "text": [
      "Annotators prefer low to high 63.79% of the time (n=174, count=111, conf=(0.5665215360441147, 0.7093405329214026))\n",
      "Annotators prefer low to none 57.47% of the time (n=174, count=100, conf=(0.5012544781568573, 0.6481708091994645))\n",
      "Annotators prefer none to high 51.72% of the time (n=174, count=90, conf=(0.44299331833095906, 0.5914894402897306))\n"
     ]
    },
    {
     "data": {
      "image/png": "[encoded data removed]",
      "text/plain": [
       "<Figure size 276.031x110 with 1 Axes>"
      ]
     },
     "metadata": {},
     "output_type": "display_data"
    }
   ],
   "source": [
    "color = \"#77a8f7\"\n",
    "fig, ax = plt.subplots(1, 1, figsize=(COLUMN_WIDTH_IN / 2, 1.1))\n",
    "\n",
    "i = 0\n",
    "xtick_labels = []\n",
    "for c1, c2 in itertools.combinations([\"low\", \"high\", \"none\"], 2):\n",
    "    if c1 == \"high\" and c2 == \"none\":\n",
    "        c1 = \"none\"\n",
    "        c2 = \"high\"\n",
    "    prefer_c1 = []\n",
    "    for key, group in df.groupby([\"survey_id\", \"ranking_q\", \"annotator\"]):\n",
    "        c1_rank = group.loc[group.guidance == c1, \"preference_rank\"].iloc[0]\n",
    "        c2_rank = group.loc[group.guidance == c2, \"preference_rank\"].iloc[0]\n",
    "        prefer_c1.append(c1_rank < c2_rank)\n",
    "    prefer_c1 = np.array(prefer_c1)\n",
    "    count = prefer_c1.sum()\n",
    "    nobs = len(prefer_c1)\n",
    "    pct = count / nobs\n",
    "    conf = statsmodels.stats.proportion.proportion_confint(count, nobs, alpha=0.05, method=\"normal\")\n",
    "    print(f\"Annotators prefer {c1} to {c2} {pct:.2%} of the time (n={nobs}, {count=}, conf={conf})\")\n",
    "    low_delta = pct - conf[0]\n",
    "    high_delta = conf[1] - pct\n",
    "    xtick_labels.append(f\"{c1.capitalize()}>{c2.capitalize()}\")\n",
    "\n",
    "    ax.bar(i, pct, width=1, color=color)\n",
    "    ax.errorbar((i,), (pct,), yerr=((low_delta,), (high_delta,)), color=\"black\", capsize=2)\n",
    "    ax.text(i, 0.01, f\"{pct:.1%}\", ha=\"center\", va=\"bottom\")\n",
    "    i += 1\n",
    "ax.axhline(0.5, linestyle=\"--\", color=\"gray\", alpha=0.6)\n",
    "\n",
    "ax.set_xticks(range(len(xtick_labels)), xtick_labels, fontsize=8)\n",
    "# ax.set_yticks([0, 20, 40])\n",
    "ax.set_ylabel(\"% preferred\")\n",
    "\n",
    "fig.tight_layout(pad=0)\n",
    "fig.savefig(figures_dir / \"pairwise_ranks.pdf\", bbox_inches=\"tight\", pad_inches=0.011, dpi=DPI)\n",
    "plt.show()"
   ]
  },
  {
   "cell_type": "code",
   "execution_count": 150,
   "id": "867dfcda-26a8-4c18-afb3-b630fcd2cb0d",
   "metadata": {},
   "outputs": [
    {
     "name": "stdout",
     "output_type": "stream",
     "text": [
      "For n=171 in guidance condition none, corr is 0.1007 (p=0.1902)\n",
      "For n=171 in guidance condition low, corr is -0.0814 (p=0.2898)\n",
      "For n=171 in guidance condition high, corr is 0.0049 (p=0.9491)\n"
     ]
    }
   ],
   "source": [
    "# correlation between preference and faithfulness?\n",
    "for guidance in [\"none\", \"low\", \"high\"]:\n",
    "    sdf = df[(df.guidance == guidance) & (df.preference_rank.notna()) & (df.faithfulness.notna())]\n",
    "    r, p = scipy.stats.pearsonr(3 - sdf.preference_rank.astype(int), sdf.faithfulness.map(get_numeric_faithfulness))\n",
    "    print(f\"For n={len(sdf)} in guidance condition {guidance}, corr is {r:.4f} (p={p:.4f})\")"
   ]
  },
  {
   "cell_type": "code",
   "execution_count": 123,
   "id": "b040afc6-25f6-417c-9cc3-33ad22a5ebf4",
   "metadata": {},
   "outputs": [
    {
     "name": "stdout",
     "output_type": "stream",
     "text": [
      "Annotators prefer low to none 57.47% of the time (n=174, count=100, conf=(0.5012544781568573, 0.6481708091994645))\n",
      "Annotators prefer low to high 63.79% of the time (n=174, count=111, conf=(0.5665215360441147, 0.7093405329214026))\n",
      "Annotators prefer none to high 51.72% of the time (n=174, count=90, conf=(0.44299331833095906, 0.5914894402897306))\n"
     ]
    },
    {
     "data": {
      "image/png": "[encoded data removed]",
      "text/plain": [
       "<Figure size 276.031x110 with 1 Axes>"
      ]
     },
     "metadata": {},
     "output_type": "display_data"
    }
   ],
   "source": [
    "# I don't think this is fully implemented\n",
    "color = \"#77a8f7\"\n",
    "fig, ax = plt.subplots(1, 1, figsize=(COLUMN_WIDTH_IN / 2, 1.1))\n",
    "\n",
    "i = 0\n",
    "xtick_labels = []\n",
    "for c1, c2 in itertools.combinations([\"low\", \"none\", \"high\"], 2):\n",
    "    prefer_c1 = []\n",
    "    for key, group in df.groupby([\"survey_id\", \"ranking_q\", \"annotator\"]):\n",
    "        c1_rank = group.loc[group.guidance == c1, \"preference_rank\"].iloc[0]\n",
    "        c2_rank = group.loc[group.guidance == c2, \"preference_rank\"].iloc[0]\n",
    "        prefer_c1.append(c1_rank < c2_rank)\n",
    "    prefer_c1 = np.array(prefer_c1)\n",
    "    count = prefer_c1.sum()\n",
    "    nobs = len(prefer_c1)\n",
    "    pct = count / nobs\n",
    "    conf = statsmodels.stats.proportion.proportion_confint(count, nobs, alpha=0.05, method=\"normal\")\n",
    "    print(f\"Annotators prefer {c1} to {c2} {pct:.2%} of the time (n={nobs}, {count=}, conf={conf})\")\n",
    "    low_delta = pct - conf[0]\n",
    "    high_delta = conf[1] - pct\n",
    "    xtick_labels.append(f\"{c1.capitalize()}>{c2.capitalize()}\")\n",
    "\n",
    "    # ax.bar(i, pct, width=1, color=color)\n",
    "    # ax.errorbar((i,), (pct,), yerr=((low_delta,), (high_delta,)), color=\"black\", capsize=2)\n",
    "    # ax.text(i, 0.01, f\"{pct:.1%}\", ha=\"center\", va=\"bottom\")\n",
    "    i += 1\n",
    "# ax.axhline(0.5, linestyle=\"--\", color=\"gray\", alpha=0.6)\n",
    "\n",
    "# ax.set_xticks(range(len(xtick_labels)), xtick_labels, fontsize=8)\n",
    "# ax.set_ylabel(\"Relevance?\")\n",
    "\n",
    "fig.tight_layout(pad=0)\n",
    "fig.savefig(figures_dir / \"relevance_rank_comparison.pdf\", bbox_inches=\"tight\", pad_inches=0.011, dpi=DPI)\n",
    "plt.show()"
   ]
  },
  {
   "cell_type": "code",
   "execution_count": 124,
   "id": "623eb014-8acc-4265-9cc5-1d0c7b31c122",
   "metadata": {},
   "outputs": [
    {
     "name": "stdout",
     "output_type": "stream",
     "text": [
      "high>low: For queries where the high response is preferred, mean relevance is 1.294; when low is preferred, mean relevance is 1.480\n",
      "                          Test for equality of means                          \n",
      "==============================================================================\n",
      "                 coef    std err          t      P>|t|      [0.025      0.975]\n",
      "------------------------------------------------------------------------------\n",
      "subset #1     -0.1851      0.128     -1.451      0.149      -0.437       0.067\n",
      "==============================================================================\n",
      "high>none: For queries where the high response is preferred, mean relevance is 1.362; when none is preferred, mean relevance is 1.462\n",
      "                          Test for equality of means                          \n",
      "==============================================================================\n",
      "                 coef    std err          t      P>|t|      [0.025      0.975]\n",
      "------------------------------------------------------------------------------\n",
      "subset #1     -0.1002      0.122     -0.821      0.413      -0.341       0.141\n",
      "==============================================================================\n",
      "low>none: For queries where the low response is preferred, mean relevance is 1.457; when none is preferred, mean relevance is 1.360\n",
      "                          Test for equality of means                          \n",
      "==============================================================================\n",
      "                 coef    std err          t      P>|t|      [0.025      0.975]\n",
      "------------------------------------------------------------------------------\n",
      "subset #1      0.0963      0.123      0.782      0.435      -0.147       0.339\n",
      "==============================================================================\n"
     ]
    }
   ],
   "source": [
    "for c1, c2 in itertools.combinations([\"high\", \"low\", \"none\"], 2):\n",
    "    g1_relevance = []\n",
    "    g2_relevance = []\n",
    "    for key, group in df.groupby([\"survey_id\", \"ranking_q\", \"annotator\"]):\n",
    "        c1_rank = group.loc[group.guidance == c1, \"preference_rank\"].iloc[0]\n",
    "        c2_rank = group.loc[group.guidance == c2, \"preference_rank\"].iloc[0]\n",
    "        prefer_c1 = c1_rank < c2_rank\n",
    "        if prefer_c1:\n",
    "            g1_relevance.append(group.iloc[0].mean_relevance)\n",
    "        else:\n",
    "            g2_relevance.append(group.iloc[0].mean_relevance)\n",
    "    cm = statsmodels.stats.weightstats.CompareMeans.from_data(g1_relevance, g2_relevance)\n",
    "    print(\n",
    "        f\"{c1}>{c2}: For queries where the {c1} response is preferred, mean relevance is {np.mean(g1_relevance):.3f}; when {c2} is preferred, mean relevance is {np.mean(g2_relevance):.3f}\"\n",
    "    )\n",
    "    print(cm.summary())"
   ]
  },
  {
   "cell_type": "code",
   "execution_count": null,
   "id": "6478b1fa-6ddf-482d-a565-ed10d9db62be",
   "metadata": {},
   "outputs": [],
   "source": [
    "# guidance is discrete\n",
    "# relevance is continuous\n",
    "# hypothesis: the rank of high-guidance responses is lower (i.e. better) when relevance is higher"
   ]
  },
  {
   "cell_type": "code",
   "execution_count": null,
   "id": "c361dc24-32f6-4657-8839-677bd6fb2230",
   "metadata": {},
   "outputs": [],
   "source": []
  },
  {
   "cell_type": "markdown",
   "id": "fe5bb9a2-ac03-4256-b557-cf2bbe2efac9",
   "metadata": {},
   "source": [
    "## Later analyses\n",
    "\n",
    "During revisions for camera-ready and for presentations."
   ]
  },
  {
   "cell_type": "code",
   "execution_count": 10,
   "id": "ad5759db-a7cf-4221-82af-9c6ab989608c",
   "metadata": {},
   "outputs": [
    {
     "data": {
      "text/html": [
       "<div>\n",
       "<style scoped>\n",
       "    .dataframe tbody tr th:only-of-type {\n",
       "        vertical-align: middle;\n",
       "    }\n",
       "\n",
       "    .dataframe tbody tr th {\n",
       "        vertical-align: top;\n",
       "    }\n",
       "\n",
       "    .dataframe thead th {\n",
       "        text-align: right;\n",
       "    }\n",
       "</style>\n",
       "<table border=\"1\" class=\"dataframe\">\n",
       "  <thead>\n",
       "    <tr style=\"text-align: right;\">\n",
       "      <th></th>\n",
       "      <th>Unnamed: 0</th>\n",
       "      <th>query</th>\n",
       "      <th>document</th>\n",
       "      <th>generation</th>\n",
       "      <th>query_set</th>\n",
       "      <th>guidance</th>\n",
       "      <th>messages</th>\n",
       "      <th>corpus</th>\n",
       "      <th>query_survey</th>\n",
       "      <th>document_survey</th>\n",
       "      <th>generation_index</th>\n",
       "      <th>generation_survey</th>\n",
       "      <th>survey_id</th>\n",
       "      <th>ranking_q</th>\n",
       "      <th>faithfulness_q</th>\n",
       "      <th>matching_score</th>\n",
       "      <th>annotator</th>\n",
       "      <th>preference_rank</th>\n",
       "      <th>faithfulness</th>\n",
       "      <th>mean_relevance</th>\n",
       "    </tr>\n",
       "  </thead>\n",
       "  <tbody>\n",
       "    <tr>\n",
       "      <th>0</th>\n",
       "      <td>0</td>\n",
       "      <td>What is vertex form and how do you solve for it?</td>\n",
       "      <td>Use the Distance, Rate, and Time Formula: One ...</td>\n",
       "      <td>Vertex form, also known as completed square fo...</td>\n",
       "      <td>math_nation</td>\n",
       "      <td>none</td>\n",
       "      <td>[{'role': 'system', 'content': 'You are going ...</td>\n",
       "      <td>math</td>\n",
       "      <td>What is vertex form and how do you solve for it?</td>\n",
       "      <td>Use the Distance, Rate, and Time Formula: One ...</td>\n",
       "      <td>1</td>\n",
       "      <td>Vertex form, also known as completed square fo...</td>\n",
       "      <td>Rori+survey+3</td>\n",
       "      <td>Q57</td>\n",
       "      <td>Q58</td>\n",
       "      <td>1.0</td>\n",
       "      <td>Urmil Patel</td>\n",
       "      <td>2.0</td>\n",
       "      <td>NaN</td>\n",
       "      <td>0.333333</td>\n",
       "    </tr>\n",
       "  </tbody>\n",
       "</table>\n",
       "</div>"
      ],
      "text/plain": [
       "   Unnamed: 0                                             query  \\\n",
       "0           0  What is vertex form and how do you solve for it?   \n",
       "\n",
       "                                            document  \\\n",
       "0  Use the Distance, Rate, and Time Formula: One ...   \n",
       "\n",
       "                                          generation    query_set guidance  \\\n",
       "0  Vertex form, also known as completed square fo...  math_nation     none   \n",
       "\n",
       "                                            messages corpus  \\\n",
       "0  [{'role': 'system', 'content': 'You are going ...   math   \n",
       "\n",
       "                                       query_survey  \\\n",
       "0  What is vertex form and how do you solve for it?   \n",
       "\n",
       "                                     document_survey  generation_index  \\\n",
       "0  Use the Distance, Rate, and Time Formula: One ...                 1   \n",
       "\n",
       "                                   generation_survey      survey_id ranking_q  \\\n",
       "0  Vertex form, also known as completed square fo...  Rori+survey+3       Q57   \n",
       "\n",
       "  faithfulness_q  matching_score    annotator  preference_rank faithfulness  \\\n",
       "0            Q58             1.0  Urmil Patel              2.0          NaN   \n",
       "\n",
       "   mean_relevance  \n",
       "0        0.333333  "
      ]
     },
     "execution_count": 10,
     "metadata": {},
     "output_type": "execute_result"
    }
   ],
   "source": [
    "df = pd.read_csv(data_dir / \"derived\" / \"outcome_df.csv\")\n",
    "df.head(1)"
   ]
  },
  {
   "cell_type": "code",
   "execution_count": 12,
   "id": "da2c3c8b-321a-4a3e-85a5-92afdf315ff6",
   "metadata": {},
   "outputs": [
    {
     "data": {
      "text/plain": [
       "Index(['Unnamed: 0', 'query', 'document', 'generation', 'query_set',\n",
       "       'guidance', 'messages', 'corpus', 'query_survey', 'document_survey',\n",
       "       'generation_index', 'generation_survey', 'survey_id', 'ranking_q',\n",
       "       'faithfulness_q', 'matching_score', 'annotator', 'preference_rank',\n",
       "       'faithfulness', 'mean_relevance'],\n",
       "      dtype='object')"
      ]
     },
     "execution_count": 12,
     "metadata": {},
     "output_type": "execute_result"
    }
   ],
   "source": [
    "df.columns"
   ]
  },
  {
   "cell_type": "code",
   "execution_count": 14,
   "id": "fd9fb054-f39d-4894-85a7-aa16baa670e4",
   "metadata": {},
   "outputs": [
    {
     "data": {
      "text/plain": [
       "annotator\n",
       "Anoushka        30\n",
       "Chenglu Li      30\n",
       "Hannah HR       21\n",
       "KAVITHA SREE    21\n",
       "Urmil Patel     21\n",
       "Millie          15\n",
       "Sannidhi        15\n",
       "Zach            15\n",
       "Owen             6\n",
       "Name: query, dtype: int64"
      ]
     },
     "execution_count": 14,
     "metadata": {},
     "output_type": "execute_result"
    }
   ],
   "source": [
    "df.groupby(\"annotator\").query.nunique().sort_values(ascending=False)"
   ]
  },
  {
   "cell_type": "code",
   "execution_count": 25,
   "id": "b43e7113-12f2-48b7-8b2f-0225e88572ce",
   "metadata": {},
   "outputs": [
    {
     "name": "stdout",
     "output_type": "stream",
     "text": [
      "\\begin{tabular}{lr}\n",
      "\\toprule\n",
      "Annotator & Query Count \\\\\n",
      "\\midrule\n",
      "A1 & 30 \\\\\n",
      "A2 & 30 \\\\\n",
      "A3 & 21 \\\\\n",
      "A4 & 21 \\\\\n",
      "A5 & 21 \\\\\n",
      "A6 & 15 \\\\\n",
      "A7 & 15 \\\\\n",
      "A8 & 15 \\\\\n",
      "A9 & 6 \\\\\n",
      "\\bottomrule\n",
      "\\end{tabular}\n",
      "\n"
     ]
    }
   ],
   "source": [
    "adf = df.groupby(\"annotator\").query.nunique().sort_values(ascending=False).reset_index()\n",
    "adf[\"annotator\"] = [f\"A{i+1}\" for i, a in enumerate(adf.annotator)]\n",
    "adf = adf.rename(columns={\"annotator\": \"Annotator\", \"query\": \"Query Count\"})\n",
    "print(adf.to_latex(index=False))"
   ]
  },
  {
   "cell_type": "code",
   "execution_count": 16,
   "id": "4c56a787-c9f5-4cfb-953d-6d2181a97deb",
   "metadata": {},
   "outputs": [
    {
     "data": {
      "text/plain": [
       "annotator\n",
       "3    30\n",
       "4    21\n",
       "Name: count, dtype: int64"
      ]
     },
     "execution_count": 16,
     "metadata": {},
     "output_type": "execute_result"
    }
   ],
   "source": [
    "df.groupby(\"query\").annotator.nunique().value_counts()"
   ]
  },
  {
   "cell_type": "markdown",
   "id": "1594e208-7d72-481c-8683-b0e845c8ce85",
   "metadata": {},
   "source": [
    "### Poster\n",
    "\n",
    "Poster: https://gaied.org/neurips2023/files/40/40_poster.pdf"
   ]
  },
  {
   "cell_type": "code",
   "execution_count": 34,
   "id": "d3e0b8f8-7cec-4e92-92ff-21e39275fb6b",
   "metadata": {},
   "outputs": [
    {
     "name": "stdout",
     "output_type": "stream",
     "text": [
      "Annotators prefer low to high 63.79% of the time (n=174, count=111, conf=(0.5665215360441147, 0.7093405329214026))\n",
      "Annotators prefer low to none 57.47% of the time (n=174, count=100, conf=(0.5012544781568573, 0.6481708091994645))\n",
      "Annotators prefer none to high 51.72% of the time (n=174, count=90, conf=(0.44299331833095906, 0.5914894402897306))\n"
     ]
    },
    {
     "data": {
      "image/png": "[encoded data removed]",
      "text/plain": [
       "<Figure size 800x400 with 1 Axes>"
      ]
     },
     "metadata": {},
     "output_type": "display_data"
    }
   ],
   "source": [
    "SMALL_SIZE = 26\n",
    "MEDIUM_SIZE = 30\n",
    "BIGGER_SIZE = 34\n",
    "\n",
    "plt.rc(\"font\", size=SMALL_SIZE)  # controls default text sizes\n",
    "plt.rc(\"axes\", titlesize=SMALL_SIZE)  # fontsize of the axes title\n",
    "plt.rc(\"axes\", labelsize=MEDIUM_SIZE)  # fontsize of the x and y labels\n",
    "plt.rc(\"xtick\", labelsize=SMALL_SIZE)  # fontsize of the tick labels\n",
    "plt.rc(\"ytick\", labelsize=SMALL_SIZE)  # fontsize of the tick labels\n",
    "plt.rc(\"legend\", fontsize=SMALL_SIZE)  # legend fontsize\n",
    "plt.rc(\"figure\", titlesize=BIGGER_SIZE)  # fontsize of the figure title\n",
    "\n",
    "color = \"#0091c9\"\n",
    "fig, ax = plt.subplots(1, 1, figsize=(8, 4))\n",
    "\n",
    "i = 0\n",
    "xtick_labels = []\n",
    "for c1, c2 in itertools.combinations([\"low\", \"high\", \"none\"], 2):\n",
    "    if c1 == \"high\" and c2 == \"none\":\n",
    "        c1 = \"none\"\n",
    "        c2 = \"high\"\n",
    "    prefer_c1 = []\n",
    "    for key, group in df.groupby([\"survey_id\", \"ranking_q\", \"annotator\"]):\n",
    "        c1_rank = group.loc[group.guidance == c1, \"preference_rank\"].iloc[0]\n",
    "        c2_rank = group.loc[group.guidance == c2, \"preference_rank\"].iloc[0]\n",
    "        prefer_c1.append(c1_rank < c2_rank)\n",
    "    prefer_c1 = np.array(prefer_c1)\n",
    "    count = prefer_c1.sum()\n",
    "    nobs = len(prefer_c1)\n",
    "    pct = count / nobs\n",
    "    conf = statsmodels.stats.proportion.proportion_confint(count, nobs, alpha=0.05, method=\"normal\")\n",
    "    print(f\"Annotators prefer {c1} to {c2} {pct:.2%} of the time (n={nobs}, {count=}, conf={conf})\")\n",
    "    low_delta = pct - conf[0]\n",
    "    high_delta = conf[1] - pct\n",
    "    xtick_labels.append(f\"{c1.capitalize()}>{c2.capitalize()}\")\n",
    "\n",
    "    ax.bar(i, pct, width=0.8, color=color)\n",
    "    ax.errorbar((i,), (pct,), yerr=((low_delta,), (high_delta,)), color=\"black\", capsize=15, elinewidth=5, capthick=5)\n",
    "    # ax.text(i, 0.01, f\"{pct:.1%}\", ha=\"center\", va=\"bottom\")\n",
    "    i += 1\n",
    "ax.axhline(0.5, linestyle=\"--\", color=\"black\", alpha=0.6)\n",
    "\n",
    "ax.set_xticks(range(len(xtick_labels)), [\"\", \"\", \"\"])\n",
    "ax.set_yticks([0, 0.25, 0.5], [\"\", \"\", \"\"])\n",
    "# ax.set_yticks([0, 20, 40])\n",
    "# ax.set_ylabel(\"% preferred\")\n",
    "\n",
    "fig.tight_layout(pad=0)\n",
    "fig.savefig(figures_dir / \"pairwise_ranks_poster.png\", bbox_inches=\"tight\", pad_inches=0.1, dpi=150)\n",
    "plt.show()"
   ]
  },
  {
   "cell_type": "code",
   "execution_count": null,
   "id": "50471601-99d4-48d8-b9d1-2c81db7911fc",
   "metadata": {},
   "outputs": [],
   "source": []
  },
  {
   "cell_type": "markdown",
   "id": "518161e2-ba6f-4487-a6ce-c3d387bcca95",
   "metadata": {},
   "source": [
    "### Presentation"
   ]
  },
  {
   "cell_type": "code",
   "execution_count": null,
   "id": "8ee29f34-62dd-4b9d-baac-e512e317b746",
   "metadata": {},
   "outputs": [],
   "source": [
    "# load metric data"
   ]
  },
  {
   "cell_type": "code",
   "execution_count": 39,
   "id": "e96c50dd-09a4-42b5-8d23-82cc6d50d5b5",
   "metadata": {},
   "outputs": [
    {
     "data": {
      "text/html": [
       "<div>\n",
       "<style scoped>\n",
       "    .dataframe tbody tr th:only-of-type {\n",
       "        vertical-align: middle;\n",
       "    }\n",
       "\n",
       "    .dataframe tbody tr th {\n",
       "        vertical-align: top;\n",
       "    }\n",
       "\n",
       "    .dataframe thead th {\n",
       "        text-align: right;\n",
       "    }\n",
       "</style>\n",
       "<table border=\"1\" class=\"dataframe\">\n",
       "  <thead>\n",
       "    <tr style=\"text-align: right;\">\n",
       "      <th></th>\n",
       "      <th>guidance</th>\n",
       "      <th>query_set</th>\n",
       "      <th>macro_f1</th>\n",
       "      <th>macro_f1_low</th>\n",
       "      <th>macro_f1_high</th>\n",
       "      <th>bleurt</th>\n",
       "      <th>bleurt_low</th>\n",
       "      <th>bleurt_high</th>\n",
       "      <th>bertscore</th>\n",
       "      <th>bertscore_low</th>\n",
       "      <th>bertscore_high</th>\n",
       "    </tr>\n",
       "  </thead>\n",
       "  <tbody>\n",
       "    <tr>\n",
       "      <th>3</th>\n",
       "      <td>none</td>\n",
       "      <td>math_nation</td>\n",
       "      <td>0.270858</td>\n",
       "      <td>0.254724</td>\n",
       "      <td>0.286991</td>\n",
       "      <td>-0.571418</td>\n",
       "      <td>-0.619313</td>\n",
       "      <td>-0.523524</td>\n",
       "      <td>0.833604</td>\n",
       "      <td>0.830900</td>\n",
       "      <td>0.836308</td>\n",
       "    </tr>\n",
       "    <tr>\n",
       "      <th>2</th>\n",
       "      <td>low</td>\n",
       "      <td>math_nation</td>\n",
       "      <td>0.287759</td>\n",
       "      <td>0.269676</td>\n",
       "      <td>0.305841</td>\n",
       "      <td>-0.551136</td>\n",
       "      <td>-0.601682</td>\n",
       "      <td>-0.500591</td>\n",
       "      <td>0.836041</td>\n",
       "      <td>0.833053</td>\n",
       "      <td>0.839030</td>\n",
       "    </tr>\n",
       "    <tr>\n",
       "      <th>1</th>\n",
       "      <td>high</td>\n",
       "      <td>math_nation</td>\n",
       "      <td>0.355556</td>\n",
       "      <td>0.333788</td>\n",
       "      <td>0.377324</td>\n",
       "      <td>-0.464588</td>\n",
       "      <td>-0.522172</td>\n",
       "      <td>-0.407004</td>\n",
       "      <td>0.848303</td>\n",
       "      <td>0.844029</td>\n",
       "      <td>0.852577</td>\n",
       "    </tr>\n",
       "    <tr>\n",
       "      <th>0</th>\n",
       "      <td>extract_relevant</td>\n",
       "      <td>math_nation</td>\n",
       "      <td>0.672882</td>\n",
       "      <td>0.585646</td>\n",
       "      <td>0.760118</td>\n",
       "      <td>-0.480035</td>\n",
       "      <td>-0.612709</td>\n",
       "      <td>-0.347361</td>\n",
       "      <td>0.919087</td>\n",
       "      <td>0.903411</td>\n",
       "      <td>0.934763</td>\n",
       "    </tr>\n",
       "  </tbody>\n",
       "</table>\n",
       "</div>"
      ],
      "text/plain": [
       "           guidance    query_set  macro_f1  macro_f1_low  macro_f1_high  \\\n",
       "3              none  math_nation  0.270858      0.254724       0.286991   \n",
       "2               low  math_nation  0.287759      0.269676       0.305841   \n",
       "1              high  math_nation  0.355556      0.333788       0.377324   \n",
       "0  extract_relevant  math_nation  0.672882      0.585646       0.760118   \n",
       "\n",
       "     bleurt  bleurt_low  bleurt_high  bertscore  bertscore_low  bertscore_high  \n",
       "3 -0.571418   -0.619313    -0.523524   0.833604       0.830900        0.836308  \n",
       "2 -0.551136   -0.601682    -0.500591   0.836041       0.833053        0.839030  \n",
       "1 -0.464588   -0.522172    -0.407004   0.848303       0.844029        0.852577  \n",
       "0 -0.480035   -0.612709    -0.347361   0.919087       0.903411        0.934763  "
      ]
     },
     "execution_count": 39,
     "metadata": {},
     "output_type": "execute_result"
    }
   ],
   "source": [
    "metric_df"
   ]
  },
  {
   "cell_type": "code",
   "execution_count": 120,
   "id": "becc375e-6d94-4e4b-8339-0d18d5c3ae2e",
   "metadata": {},
   "outputs": [],
   "source": [
    "slide_fig_width_in = 6\n",
    "slide_fig_height_in = 3.5\n",
    "slide_fig_dpi = 150"
   ]
  },
  {
   "cell_type": "code",
   "execution_count": 121,
   "id": "94f4ca31-320f-47df-a786-28e6ad36a268",
   "metadata": {},
   "outputs": [
    {
     "data": {
      "image/png": "[encoded data removed]",
      "text/plain": [
       "<Figure size 600x350 with 1 Axes>"
      ]
     },
     "metadata": {},
     "output_type": "display_data"
    }
   ],
   "source": [
    "fig, ax = plt.subplots(1, 1, figsize=(slide_fig_width_in, slide_fig_height_in))\n",
    "\n",
    "xs = autometric_df[autometric_df.guidance == \"low\"].f1\n",
    "ax.hist(xs, bins=20)\n",
    "ax.set_ylabel(\"Query count\")\n",
    "ax.set_xlabel(\"K-F1++\")\n",
    "\n",
    "fig.tight_layout()\n",
    "fig.savefig(figures_dir / \"slides_kf1_hist.png\", pad_inches=0.1, dpi=slide_fig_dpi)\n",
    "plt.show()"
   ]
  },
  {
   "cell_type": "code",
   "execution_count": 122,
   "id": "8fcd5bd4-7f1b-42ac-914b-c76655138229",
   "metadata": {},
   "outputs": [
    {
     "name": "stdout",
     "output_type": "stream",
     "text": [
      "0.29\n",
      "0.36\n"
     ]
    },
    {
     "data": {
      "image/png": "[encoded data removed]",
      "text/plain": [
       "<Figure size 600x350 with 1 Axes>"
      ]
     },
     "metadata": {},
     "output_type": "display_data"
    }
   ],
   "source": [
    "fig, ax = plt.subplots(1, 1, figsize=(slide_fig_width_in, slide_fig_height_in))\n",
    "\n",
    "xs_low = autometric_df[autometric_df.guidance == \"low\"].f1\n",
    "xs_high = autometric_df[autometric_df.guidance == \"high\"].f1\n",
    "bins = np.linspace(0, 0.6, num=20)\n",
    "ax.hist(xs_low, bins=bins, log=False, alpha=0.6, color=matplotlib.cm.viridis(0.2), label=\"Prompt 1\")\n",
    "ax.hist(xs_high, bins=bins, log=False, alpha=0.4, color=matplotlib.cm.viridis(0.4), label=\"Prompt 2\")\n",
    "ax.scatter(xs_low.mean(), 0, color=\"black\", marker=\"^\", s=550)\n",
    "ax.scatter(xs_high.mean(), 0, color=\"black\", marker=\"^\", s=550)\n",
    "print(f\"{xs_low.mean():.2f}\")\n",
    "print(f\"{xs_high.mean():.2f}\")\n",
    "ax.legend()\n",
    "ax.set_ylabel(\"Query count\")\n",
    "ax.set_xlabel(\"K-F1++\")\n",
    "\n",
    "fig.tight_layout()\n",
    "fig.savefig(figures_dir / \"slides_kf1_hist_low_high.png\", pad_inches=0.1, dpi=slide_fig_dpi)\n",
    "plt.show()"
   ]
  },
  {
   "cell_type": "code",
   "execution_count": 123,
   "id": "7907f2c7-6a9f-45d2-ac7a-cfeded84d858",
   "metadata": {},
   "outputs": [
    {
     "data": {
      "image/png": "[encoded data removed]",
      "text/plain": [
       "<Figure size 600x350 with 1 Axes>"
      ]
     },
     "metadata": {},
     "output_type": "display_data"
    }
   ],
   "source": [
    "fig, ax = plt.subplots(1, 1, figsize=(slide_fig_width_in, slide_fig_height_in))\n",
    "\n",
    "xs_low = autometric_df[autometric_df.guidance == \"low\"].f1\n",
    "xs_high = autometric_df[autometric_df.guidance == \"high\"].f1\n",
    "bins = np.linspace(0, 0.6, num=20)\n",
    "ax.hist(xs_low, bins=bins, log=False, alpha=0.6, color=matplotlib.cm.viridis(0.2), label=\"Prompt 1\")\n",
    "# ax.hist(xs_high, bins=bins, log=False, alpha=0.4, color=matplotlib.cm.viridis(0.4), label=\"Prompt 2\")\n",
    "ax.scatter(xs_low.mean(), 0, color=\"black\", marker=\"^\", s=550)\n",
    "# ax.scatter(xs_high.mean(), 0, color=\"black\", marker=\"^\", s=550)\n",
    "# ax.legend()\n",
    "ax.set_ylabel(\"Query count\")\n",
    "ax.set_xlabel(\"K-F1++\")\n",
    "\n",
    "fig.tight_layout()\n",
    "fig.savefig(figures_dir / \"slides_kf1_hist_low.png\", pad_inches=0.1, dpi=slide_fig_dpi)\n",
    "plt.show()"
   ]
  },
  {
   "cell_type": "code",
   "execution_count": 124,
   "id": "193cf9ca-49a6-4dce-873c-c02aa190d184",
   "metadata": {},
   "outputs": [
    {
     "data": {
      "image/png": "[encoded data removed]",
      "text/plain": [
       "<Figure size 600x350 with 1 Axes>"
      ]
     },
     "metadata": {},
     "output_type": "display_data"
    }
   ],
   "source": [
    "fig, ax = plt.subplots(1, 1, figsize=(slide_fig_width_in, slide_fig_height_in))\n",
    "\n",
    "metric_pretty_name_map = {\n",
    "    \"macro_f1\": \"K-F1++\",\n",
    "    \"bleurt\": \"BLEURT\",\n",
    "    \"bertscore\": \"BERTScore\",\n",
    "}\n",
    "\n",
    "guidance_short_name_map = {\n",
    "    \"none\": \"None\",\n",
    "    \"extract_relevant\": \"IR\",\n",
    "    \"low\": \"Low\",\n",
    "    \"medium\": \"M\",\n",
    "    \"high\": \"High\",\n",
    "}\n",
    "\n",
    "metric = \"macro_f1\"\n",
    "for query_set, mdf in metric_df.groupby(\"query_set\"):\n",
    "    assert metric in mdf.columns\n",
    "    mdf = mdf[mdf.guidance != \"extract_relevant\"]\n",
    "    xs = list(range(len(mdf)))\n",
    "    ys = mdf[metric]\n",
    "    yerr = mdf[[metric + \"_low\", metric + \"_high\"]].subtract(mdf[metric], axis=0).abs().T\n",
    "    ax.scatter(xs, ys, color=\"black\", marker=\".\")\n",
    "    ax.errorbar(\n",
    "        xs, ys, yerr=yerr, zorder=-1, capsize=2, ecolor=\"gray\", color=matplotlib.cm.viridis(0.45), label=query_set\n",
    "    )\n",
    "\n",
    "ax.set_xticks(xs, labels=[guidance_short_name_map[guidance] for guidance in mdf.guidance])\n",
    "ax.set_ylabel(metric_pretty_name_map[metric])\n",
    "\n",
    "fig.tight_layout()\n",
    "fig.savefig(figures_dir / \"slides_kf1_no_ir.png\", pad_inches=0.1, dpi=slide_fig_dpi)\n",
    "plt.show()"
   ]
  },
  {
   "cell_type": "code",
   "execution_count": 125,
   "id": "17506e8d-9a00-4a7b-a77f-b80a31e00602",
   "metadata": {},
   "outputs": [
    {
     "data": {
      "image/png": "[encoded data removed]",
      "text/plain": [
       "<Figure size 600x350 with 1 Axes>"
      ]
     },
     "metadata": {},
     "output_type": "display_data"
    }
   ],
   "source": [
    "fig, ax = plt.subplots(1, 1, figsize=(slide_fig_width_in, slide_fig_height_in))\n",
    "\n",
    "metric_pretty_name_map = {\n",
    "    \"macro_f1\": \"K-F1++\",\n",
    "    \"bleurt\": \"BLEURT\",\n",
    "    \"bertscore\": \"BERTScore\",\n",
    "}\n",
    "\n",
    "guidance_short_name_map = {\n",
    "    \"none\": \"None\",\n",
    "    \"extract_relevant\": \"IR\",\n",
    "    \"low\": \"Low\",\n",
    "    \"medium\": \"M\",\n",
    "    \"high\": \"High\",\n",
    "}\n",
    "\n",
    "metric = \"macro_f1\"\n",
    "for query_set, mdf in metric_df.groupby(\"query_set\"):\n",
    "    assert metric in mdf.columns\n",
    "    # mdf = mdf[mdf.guidance != \"extract_relevant\"]\n",
    "    xs = list(range(len(mdf)))\n",
    "    ys = mdf[metric]\n",
    "    yerr = mdf[[metric + \"_low\", metric + \"_high\"]].subtract(mdf[metric], axis=0).abs().T\n",
    "    ax.scatter(xs, ys, color=\"black\", marker=\".\")\n",
    "    ax.errorbar(\n",
    "        xs, ys, yerr=yerr, zorder=-1, capsize=2, ecolor=\"gray\", color=matplotlib.cm.viridis(0.45), label=query_set\n",
    "    )\n",
    "\n",
    "ax.set_xticks(xs, labels=[guidance_short_name_map[guidance] for guidance in mdf.guidance])\n",
    "ax.set_ylabel(metric_pretty_name_map[metric])\n",
    "\n",
    "fig.tight_layout()\n",
    "fig.savefig(figures_dir / \"slides_kf1.png\", pad_inches=0.1, dpi=slide_fig_dpi)\n",
    "plt.show()"
   ]
  },
  {
   "cell_type": "code",
   "execution_count": null,
   "id": "998f88cb-c1c7-43e1-9285-c1564c2bf81b",
   "metadata": {},
   "outputs": [],
   "source": []
  },
  {
   "cell_type": "code",
   "execution_count": null,
   "id": "958a5952-5f07-4d85-837f-e30718304a6e",
   "metadata": {},
   "outputs": [],
   "source": []
  },
  {
   "cell_type": "code",
   "execution_count": null,
   "id": "c5dac8ae-ab8b-49eb-9bb0-654fc1326b2b",
   "metadata": {},
   "outputs": [],
   "source": []
  },
  {
   "cell_type": "code",
   "execution_count": null,
   "id": "d52b01b3-5e50-4bfb-8e5f-175623ebc949",
   "metadata": {},
   "outputs": [],
   "source": []
  },
  {
   "cell_type": "code",
   "execution_count": null,
   "id": "ca18b7d6-53bf-4762-8790-6ca848b0dd17",
   "metadata": {},
   "outputs": [],
   "source": []
  },
  {
   "cell_type": "code",
   "execution_count": null,
   "id": "b8577934-f527-4412-9341-652533b25118",
   "metadata": {},
   "outputs": [],
   "source": []
  }
 ],
 "metadata": {
  "kernelspec": {
   "display_name": "Python 3 (ipykernel)",
   "language": "python",
   "name": "python3"
  },
  "language_info": {
   "codemirror_mode": {
    "name": "ipython",
    "version": 3
   },
   "file_extension": ".py",
   "mimetype": "text/x-python",
   "name": "python",
   "nbconvert_exporter": "python",
   "pygments_lexer": "ipython3",
   "version": "3.10.11"
  }
 },
 "nbformat": 4,
 "nbformat_minor": 5
}
