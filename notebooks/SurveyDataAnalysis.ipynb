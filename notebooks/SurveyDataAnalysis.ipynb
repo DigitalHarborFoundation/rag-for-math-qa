{
 "cells": [
  {
   "cell_type": "markdown",
   "id": "08297797-5500-4fcf-b61b-4bd90f4467b5",
   "metadata": {},
   "source": [
    "Survey Data Analysis\n",
    "==="
   ]
  },
  {
   "cell_type": "code",
   "execution_count": 1,
   "id": "16107d69-4887-441c-97f2-709ac349c288",
   "metadata": {},
   "outputs": [],
   "source": [
    "import logging\n",
    "import os\n",
    "import string\n",
    "import sys\n",
    "from collections import Counter\n",
    "from pathlib import Path\n",
    "\n",
    "import dotenv\n",
    "import matplotlib.pyplot as plt\n",
    "import numpy as np\n",
    "import openai\n",
    "import pandas as pd\n",
    "import scipy\n",
    "import statsmodels.api as sm\n",
    "import statsmodels.graphics.regressionplots\n",
    "from tqdm import tqdm\n",
    "\n",
    "import experiment.completion_utils\n",
    "import experiment.generate\n",
    "import experiment.guidance_conditions\n",
    "import experiment.metrics\n",
    "import experiment.qualtrics\n",
    "from rag import prompt_utils, retrieval, retrieval_strategies"
   ]
  },
  {
   "cell_type": "code",
   "execution_count": 2,
   "id": "4a37bd6a-2b40-4924-9e99-4ac087e2524a",
   "metadata": {},
   "outputs": [],
   "source": [
    "# width of the template column in inches (points / 72)\n",
    "COLUMN_WIDTH_IN = 5.52062486111\n",
    "DPI = 150"
   ]
  },
  {
   "cell_type": "code",
   "execution_count": 3,
   "id": "9a84174f-594b-4e2f-af08-7e655fc0108a",
   "metadata": {},
   "outputs": [],
   "source": [
    "data_dir = Path(\"../data\")\n",
    "assert data_dir.exists()\n",
    "figures_dir = Path(\"../figures\")\n",
    "figures_dir.mkdir(exist_ok=True)\n",
    "assert figures_dir.exists()"
   ]
  },
  {
   "cell_type": "code",
   "execution_count": 4,
   "id": "2c42a6b7-5623-4ebb-af55-9b1ae693fa8c",
   "metadata": {},
   "outputs": [
    {
     "data": {
      "text/plain": [
       "'sk-'"
      ]
     },
     "execution_count": 4,
     "metadata": {},
     "output_type": "execute_result"
    }
   ],
   "source": [
    "dotenv.load_dotenv(\"../.env\")\n",
    "openai.api_key = os.environ[\"OPENAI_API_KEY\"]\n",
    "os.environ[\"OPENAI_API_KEY\"][:3]"
   ]
  },
  {
   "cell_type": "code",
   "execution_count": 5,
   "id": "1daca0fc-27b2-477e-a0ea-66fecbaab01d",
   "metadata": {},
   "outputs": [
    {
     "name": "stderr",
     "output_type": "stream",
     "text": [
      "2023-09-18 17:45:00,747 - SurveyDataAnalysis - INFO - Logging configured.\n"
     ]
    }
   ],
   "source": [
    "logging.basicConfig(format=\"%(asctime)s - %(name)s - %(levelname)s - %(message)s\", level=logging.INFO)\n",
    "logger = logging.getLogger(\"SurveyDataAnalysis\")\n",
    "logger.info(\"Logging configured.\")"
   ]
  },
  {
   "cell_type": "code",
   "execution_count": null,
   "id": "e20bd3a4-6899-4a89-bae1-10736d6f0727",
   "metadata": {},
   "outputs": [],
   "source": []
  },
  {
   "cell_type": "markdown",
   "id": "ccf2dff1-07ef-4a23-b602-1e1ba47c8569",
   "metadata": {},
   "source": [
    "#### Constants and conditions"
   ]
  },
  {
   "cell_type": "code",
   "execution_count": 43,
   "id": "4bfff662-eeb7-412e-a84d-1ddab9081ab9",
   "metadata": {},
   "outputs": [],
   "source": [
    "guidance_conditions = [\n",
    "    \"low\",\n",
    "    \"high\",\n",
    "    #    \"logit_bias\",\n",
    "]\n",
    "corpus_conditions = [\n",
    "    \"math\",\n",
    "    \"recipes\",\n",
    "    \"none\",\n",
    "]\n",
    "\n",
    "n_queries = 50\n",
    "n_annotators = 3\n",
    "\n",
    "relevance_answers = [\n",
    "    \"wrong\",\n",
    "    \"topic\",\n",
    "    \"partial\",\n",
    "    \"perfect\",\n",
    "]\n",
    "faithfulness_answers = [\n",
    "    \"none\",\n",
    "    \"partial\",\n",
    "    \"perfect\",\n",
    "]"
   ]
  },
  {
   "cell_type": "code",
   "execution_count": null,
   "id": "aef433da-c4f9-4e1a-9db9-8e82e4867e50",
   "metadata": {},
   "outputs": [],
   "source": [
    "rng = np.random.default_rng(seed=7567313564)"
   ]
  },
  {
   "cell_type": "code",
   "execution_count": null,
   "id": "d9ab83c4-89c4-42f6-90a0-fa13db436d95",
   "metadata": {},
   "outputs": [],
   "source": [
    "annotators = [{\"annotator\": i} for i in range(n_annotators)]\n",
    "queries = [{\"query\": f\"sample query {i}\"} for i in range(n_queries)]\n",
    "math_corpus = {\"corpus\": \"math\"}\n",
    "recipes_corpus = {\"corpus\": \"recipes\"}\n",
    "no_corpus = {\"corpus\": \"none\"}"
   ]
  },
  {
   "cell_type": "code",
   "execution_count": null,
   "id": "9cc2c55f-aaf5-4307-a287-202606fab6e8",
   "metadata": {},
   "outputs": [],
   "source": []
  },
  {
   "cell_type": "markdown",
   "id": "61661d08-18e3-484d-955c-ad5dc172a711",
   "metadata": {},
   "source": [
    "## Mock data creation\n",
    "\n",
    "Guidance:\n",
    " 1. Low guidance\n",
    " 2. High guidance\n",
    " 3. logit_bias guidance\n",
    "\n",
    "Corpus:\n",
    " 1. Math textbook\n",
    " 2. Recipes\n",
    " 3. None\n",
    "\n",
    "Queries (~50 of these, could get more)\n",
    "\n",
    "Number of annotators...\n",
    "\n",
    "For each Query X Corpus X Prompt:\n",
    " - For corpus == Math textbook, get one relevance judgment: Wrong, Topic, Partial, Perfect\n",
    " - Faithfulness judgment: Perfect, Partial, None\n",
    " - Quality: Excellent, Partial, Wrong?\n",
    " - OR this quality metric: pairwise comparison, with \"both low quality\", \"both high quality\"\n",
    "\n",
    "Note: by definition, can't have different guidance conditions with no corpus. (Nothing to guide the answer to! Guidance only defined when using RAG)\n",
    "\n",
    "We do pairwise comparions only for these guidance/corpus crosses:\n",
    " - Low/Math x High/Math (do human perceptions of faithfulness increase with high guidance prompts?) [Manipulation check]\n",
    "   - Faithfulness: \n",
    " - Low/Recipes x High/Recipes (is this necessary? this would be more manipulation checks...)\n",
    " - */None x */Recipes (no retrieval VS bad retrieval)\n",
    "   - None x Low/Recipes x High/Recipes (is there a difference between these conditions in terms of correctness?)\n",
    "     - I don't know how to do this from pairwise comparisons, statistically speaking...\n",
    "   - None x */Recipes (does correctness drop when bad RAG is used?\n",
    "   - None x Low/Recipes (does correctness drop LESS when low-guidance RAG is used?)\n",
    "   - None x High/Recipes (does correctness drop MORE when high-guidance RAG is used?)\n",
    " - */None x */Math (no retrieval VS good retrieval)\n",
    " - High/Math x High/Math (stratified by retrieval relevance?)"
   ]
  },
  {
   "cell_type": "code",
   "execution_count": 7,
   "id": "9d3ba2cb-594c-4c7f-a1fa-363b39882d6d",
   "metadata": {},
   "outputs": [
    {
     "data": {
      "text/html": [
       "<div>\n",
       "<style scoped>\n",
       "    .dataframe tbody tr th:only-of-type {\n",
       "        vertical-align: middle;\n",
       "    }\n",
       "\n",
       "    .dataframe tbody tr th {\n",
       "        vertical-align: top;\n",
       "    }\n",
       "\n",
       "    .dataframe thead th {\n",
       "        text-align: right;\n",
       "    }\n",
       "</style>\n",
       "<table border=\"1\" class=\"dataframe\">\n",
       "  <thead>\n",
       "    <tr style=\"text-align: right;\">\n",
       "      <th></th>\n",
       "      <th>document</th>\n",
       "      <th>relevance</th>\n",
       "      <th>corpus</th>\n",
       "      <th>annotator</th>\n",
       "      <th>query</th>\n",
       "    </tr>\n",
       "  </thead>\n",
       "  <tbody>\n",
       "    <tr>\n",
       "      <th>142</th>\n",
       "      <td>Retrieved document text</td>\n",
       "      <td>topic</td>\n",
       "      <td>math</td>\n",
       "      <td>1</td>\n",
       "      <td>sample query 47</td>\n",
       "    </tr>\n",
       "  </tbody>\n",
       "</table>\n",
       "</div>"
      ],
      "text/plain": [
       "                    document relevance corpus  annotator            query\n",
       "142  Retrieved document text     topic   math          1  sample query 47"
      ]
     },
     "execution_count": 7,
     "metadata": {},
     "output_type": "execute_result"
    }
   ],
   "source": [
    "# stage 1:\n",
    "# generate relevance judgments\n",
    "# for corpus_condition == \"math\"\n",
    "ds = []\n",
    "for query in queries:\n",
    "    for annotator in annotators:\n",
    "        relevance = rng.choice(relevance_answers, p=(0.1, 0.4, 0.3, 0.2))\n",
    "        ds.append({\"document\": \"Retrieved document text\", \"relevance\": relevance, **math_corpus, **annotator, **query})\n",
    "relevance_df = pd.DataFrame(ds)\n",
    "relevance_df.sample(1)"
   ]
  },
  {
   "cell_type": "code",
   "execution_count": 8,
   "id": "805acdf7-7020-4e5e-93d6-2a104891078b",
   "metadata": {},
   "outputs": [
    {
     "data": {
      "text/plain": [
       "relevance\n",
       "topic      53\n",
       "partial    49\n",
       "perfect    37\n",
       "wrong      11\n",
       "Name: count, dtype: int64"
      ]
     },
     "execution_count": 8,
     "metadata": {},
     "output_type": "execute_result"
    }
   ],
   "source": [
    "relevance_df.relevance.value_counts()"
   ]
  },
  {
   "cell_type": "code",
   "execution_count": 9,
   "id": "4ea4aa56-2d83-41a1-8f0e-210f755ad356",
   "metadata": {},
   "outputs": [
    {
     "data": {
      "text/html": [
       "<div>\n",
       "<style scoped>\n",
       "    .dataframe tbody tr th:only-of-type {\n",
       "        vertical-align: middle;\n",
       "    }\n",
       "\n",
       "    .dataframe tbody tr th {\n",
       "        vertical-align: top;\n",
       "    }\n",
       "\n",
       "    .dataframe thead th {\n",
       "        text-align: right;\n",
       "    }\n",
       "</style>\n",
       "<table border=\"1\" class=\"dataframe\">\n",
       "  <thead>\n",
       "    <tr style=\"text-align: right;\">\n",
       "      <th></th>\n",
       "      <th>document</th>\n",
       "      <th>corpus</th>\n",
       "      <th>query</th>\n",
       "      <th>mean_relevance</th>\n",
       "    </tr>\n",
       "  </thead>\n",
       "  <tbody>\n",
       "    <tr>\n",
       "      <th>29</th>\n",
       "      <td>Retrieved document text</td>\n",
       "      <td>math</td>\n",
       "      <td>sample query 29</td>\n",
       "      <td>2.666667</td>\n",
       "    </tr>\n",
       "  </tbody>\n",
       "</table>\n",
       "</div>"
      ],
      "text/plain": [
       "                   document corpus            query  mean_relevance\n",
       "29  Retrieved document text   math  sample query 29        2.666667"
      ]
     },
     "execution_count": 9,
     "metadata": {},
     "output_type": "execute_result"
    }
   ],
   "source": [
    "relevance_df[\"relevance_level\"] = relevance_df.relevance.map(lambda r: relevance_answers.index(r))\n",
    "mean_relevance = relevance_df.groupby(\"query\").relevance_level.mean().rename(\"mean_relevance\")\n",
    "relevance_df = (\n",
    "    relevance_df.drop_duplicates(subset=\"query\")\n",
    "    .drop(columns=[\"annotator\", \"relevance\", \"relevance_level\"])\n",
    "    .join(mean_relevance, on=\"query\")\n",
    "    .reset_index(drop=True)\n",
    ")\n",
    "relevance_df.sample(n=1)"
   ]
  },
  {
   "cell_type": "code",
   "execution_count": 10,
   "id": "df048706-f10e-48db-8499-7b8e024670be",
   "metadata": {},
   "outputs": [
    {
     "data": {
      "image/png": "[encoded data removed]",
      "text/plain": [
       "<Figure size 500x300 with 1 Axes>"
      ]
     },
     "metadata": {},
     "output_type": "display_data"
    }
   ],
   "source": [
    "fig, ax = plt.subplots(1, 1, figsize=(5, 3))\n",
    "\n",
    "bin_width = 0.25\n",
    "bins = np.arange(0, len(relevance_answers) + bin_width, bin_width)\n",
    "ax.hist(relevance_df.mean_relevance, bins=bins, align=\"left\")\n",
    "ax.set_xticks(\n",
    "    list(range(len(relevance_answers))), labels=[f\"{answer} ({i})\" for i, answer in enumerate(relevance_answers)]\n",
    ")\n",
    "\n",
    "ax.set_xlabel(\"Mean relevance\")\n",
    "ax.set_ylabel(\"Query count\")\n",
    "ax.set_title(\"Distribution of human relevance scores\\non retrieved OpenStax documents\")\n",
    "\n",
    "fig.tight_layout()\n",
    "plt.show()"
   ]
  },
  {
   "cell_type": "code",
   "execution_count": 11,
   "id": "26f50378-437b-4f61-a874-cde3b0890652",
   "metadata": {},
   "outputs": [
    {
     "name": "stdout",
     "output_type": "stream",
     "text": [
      "600\n"
     ]
    },
    {
     "data": {
      "text/html": [
       "<div>\n",
       "<style scoped>\n",
       "    .dataframe tbody tr th:only-of-type {\n",
       "        vertical-align: middle;\n",
       "    }\n",
       "\n",
       "    .dataframe tbody tr th {\n",
       "        vertical-align: top;\n",
       "    }\n",
       "\n",
       "    .dataframe thead th {\n",
       "        text-align: right;\n",
       "    }\n",
       "</style>\n",
       "<table border=\"1\" class=\"dataframe\">\n",
       "  <thead>\n",
       "    <tr style=\"text-align: right;\">\n",
       "      <th></th>\n",
       "      <th>generation</th>\n",
       "      <th>document</th>\n",
       "      <th>guidance</th>\n",
       "      <th>faithfulness</th>\n",
       "      <th>corpus</th>\n",
       "      <th>annotator</th>\n",
       "      <th>query</th>\n",
       "    </tr>\n",
       "  </thead>\n",
       "  <tbody>\n",
       "    <tr>\n",
       "      <th>570</th>\n",
       "      <td>Generated text n a l m m p q a r y</td>\n",
       "      <td>Retrieved document text\\ni v o q h z h b m o\\n...</td>\n",
       "      <td>low</td>\n",
       "      <td></td>\n",
       "      <td>recipes</td>\n",
       "      <td>0</td>\n",
       "      <td>sample query 47</td>\n",
       "    </tr>\n",
       "  </tbody>\n",
       "</table>\n",
       "</div>"
      ],
      "text/plain": [
       "                             generation  \\\n",
       "570  Generated text n a l m m p q a r y   \n",
       "\n",
       "                                              document guidance faithfulness  \\\n",
       "570  Retrieved document text\\ni v o q h z h b m o\\n...      low                \n",
       "\n",
       "      corpus  annotator            query  \n",
       "570  recipes          0  sample query 47  "
      ]
     },
     "execution_count": 11,
     "metadata": {},
     "output_type": "execute_result"
    }
   ],
   "source": [
    "# create the unannotated faithfulness df\n",
    "\n",
    "\n",
    "def get_random_text(size: int = 10):\n",
    "    choices = list(string.ascii_lowercase)\n",
    "    return \" \".join(np.random.choice(choices, size=size))\n",
    "\n",
    "\n",
    "ds = []\n",
    "for query in queries:\n",
    "    for corpus in [math_corpus, recipes_corpus]:\n",
    "        for guidance in guidance_conditions:\n",
    "            document = \"Retrieved document text\\n\" + \"\\n\".join([get_random_text() for passage in range(4)])\n",
    "            generation = (\n",
    "                \"Generated text \" + get_random_text()\n",
    "            )  # TODO do rag here, retrieved a document and generating a response\n",
    "\n",
    "            for annotator in annotators:\n",
    "                ds.append(\n",
    "                    {\n",
    "                        \"generation\": generation,\n",
    "                        \"document\": document,\n",
    "                        \"guidance\": guidance,\n",
    "                        \"faithfulness\": \"\",\n",
    "                        **corpus,\n",
    "                        **annotator,\n",
    "                        **query,\n",
    "                    }\n",
    "                )\n",
    "unannotated_df = pd.DataFrame(ds)\n",
    "print(len(unannotated_df))\n",
    "unannotated_df.sample(1)"
   ]
  },
  {
   "cell_type": "code",
   "execution_count": 255,
   "id": "d1d1bb41-6893-4933-9de5-2cd8e0043449",
   "metadata": {},
   "outputs": [
    {
     "name": "stdout",
     "output_type": "stream",
     "text": [
      "['none', 'partial', 'perfect']\n"
     ]
    },
    {
     "data": {
      "text/html": [
       "<div>\n",
       "<style scoped>\n",
       "    .dataframe tbody tr th:only-of-type {\n",
       "        vertical-align: middle;\n",
       "    }\n",
       "\n",
       "    .dataframe tbody tr th {\n",
       "        vertical-align: top;\n",
       "    }\n",
       "\n",
       "    .dataframe thead th {\n",
       "        text-align: right;\n",
       "    }\n",
       "</style>\n",
       "<table border=\"1\" class=\"dataframe\">\n",
       "  <thead>\n",
       "    <tr style=\"text-align: right;\">\n",
       "      <th></th>\n",
       "      <th>generation</th>\n",
       "      <th>document</th>\n",
       "      <th>guidance</th>\n",
       "      <th>faithfulness</th>\n",
       "      <th>corpus</th>\n",
       "      <th>annotator</th>\n",
       "      <th>query</th>\n",
       "    </tr>\n",
       "  </thead>\n",
       "  <tbody>\n",
       "    <tr>\n",
       "      <th>7</th>\n",
       "      <td>Generated text</td>\n",
       "      <td>Retrieved document text</td>\n",
       "      <td>low</td>\n",
       "      <td>partial</td>\n",
       "      <td>recipes</td>\n",
       "      <td>1</td>\n",
       "      <td>sample query 0</td>\n",
       "    </tr>\n",
       "  </tbody>\n",
       "</table>\n",
       "</div>"
      ],
      "text/plain": [
       "       generation                 document guidance faithfulness   corpus  \\\n",
       "7  Generated text  Retrieved document text      low      partial  recipes   \n",
       "\n",
       "   annotator           query  \n",
       "7          1  sample query 0  "
      ]
     },
     "execution_count": 255,
     "metadata": {},
     "output_type": "execute_result"
    }
   ],
   "source": [
    "# annotate for faithfulness\n",
    "faithfulness_df = unannotated_df.copy()\n",
    "print(faithfulness_answers)\n",
    "\n",
    "\n",
    "def annotate_faithfulness(row):\n",
    "    query = row.query\n",
    "    document = row.document\n",
    "    generation = row.generation\n",
    "    guidance = row.guidance\n",
    "    # this is where a human would use the elements to make an assessment\n",
    "    if guidance == \"low\":\n",
    "        faithfulness = rng.choice(faithfulness_answers, p=(0.2, 0.5, 0.3))\n",
    "    else:\n",
    "        faithfulness = rng.choice(faithfulness_answers, p=(0.1, 0.4, 0.5))\n",
    "    return faithfulness\n",
    "\n",
    "\n",
    "faithfulness_df[\"faithfulness\"] = faithfulness_df.apply(annotate_faithfulness, axis=1)\n",
    "faithfulness_df.sample(n=1)"
   ]
  },
  {
   "cell_type": "code",
   "execution_count": 256,
   "id": "bec5ec5a-3e04-4730-b588-8c51e3fcd439",
   "metadata": {},
   "outputs": [
    {
     "data": {
      "text/html": [
       "<div>\n",
       "<style scoped>\n",
       "    .dataframe tbody tr th:only-of-type {\n",
       "        vertical-align: middle;\n",
       "    }\n",
       "\n",
       "    .dataframe tbody tr th {\n",
       "        vertical-align: top;\n",
       "    }\n",
       "\n",
       "    .dataframe thead th {\n",
       "        text-align: right;\n",
       "    }\n",
       "</style>\n",
       "<table border=\"1\" class=\"dataframe\">\n",
       "  <thead>\n",
       "    <tr style=\"text-align: right;\">\n",
       "      <th></th>\n",
       "      <th>generation</th>\n",
       "      <th>document</th>\n",
       "      <th>guidance</th>\n",
       "      <th>corpus</th>\n",
       "      <th>query</th>\n",
       "      <th>mean_faithfulness</th>\n",
       "    </tr>\n",
       "  </thead>\n",
       "  <tbody>\n",
       "    <tr>\n",
       "      <th>196</th>\n",
       "      <td>Generated text</td>\n",
       "      <td>Retrieved document text</td>\n",
       "      <td>low</td>\n",
       "      <td>math</td>\n",
       "      <td>sample query 49</td>\n",
       "      <td>1.333333</td>\n",
       "    </tr>\n",
       "  </tbody>\n",
       "</table>\n",
       "</div>"
      ],
      "text/plain": [
       "         generation                 document guidance corpus            query  \\\n",
       "196  Generated text  Retrieved document text      low   math  sample query 49   \n",
       "\n",
       "     mean_faithfulness  \n",
       "196           1.333333  "
      ]
     },
     "execution_count": 256,
     "metadata": {},
     "output_type": "execute_result"
    }
   ],
   "source": [
    "# do some annotator agreement disambiguation\n",
    "# we could just take the mean of the level (0, 1, 2)\n",
    "faithfulness_df[\"faithfulness_level\"] = faithfulness_df.faithfulness.map(lambda f: faithfulness_answers.index(f))\n",
    "group_keys = [\"query\", \"corpus\", \"guidance\"]\n",
    "mean_faithfulness = faithfulness_df.groupby(group_keys).faithfulness_level.mean().rename(\"mean_faithfulness\")\n",
    "faithfulness_df = (\n",
    "    faithfulness_df.drop_duplicates(subset=group_keys)\n",
    "    .drop(columns=[\"annotator\", \"faithfulness\", \"faithfulness_level\"])\n",
    "    .join(mean_faithfulness, on=group_keys)\n",
    "    .reset_index(drop=True)\n",
    ")\n",
    "faithfulness_df.sample(n=1)"
   ]
  },
  {
   "cell_type": "code",
   "execution_count": null,
   "id": "ff09cbe2-060e-4fe2-b984-c1ddff5201ef",
   "metadata": {},
   "outputs": [],
   "source": []
  },
  {
   "cell_type": "code",
   "execution_count": 257,
   "id": "ef434547-ca0e-4498-b199-627bd3f9b3b0",
   "metadata": {},
   "outputs": [
    {
     "data": {
      "text/html": [
       "<div>\n",
       "<style scoped>\n",
       "    .dataframe tbody tr th:only-of-type {\n",
       "        vertical-align: middle;\n",
       "    }\n",
       "\n",
       "    .dataframe tbody tr th {\n",
       "        vertical-align: top;\n",
       "    }\n",
       "\n",
       "    .dataframe thead th {\n",
       "        text-align: right;\n",
       "    }\n",
       "</style>\n",
       "<table border=\"1\" class=\"dataframe\">\n",
       "  <thead>\n",
       "    <tr style=\"text-align: right;\">\n",
       "      <th></th>\n",
       "      <th>generation</th>\n",
       "      <th>document</th>\n",
       "      <th>guidance</th>\n",
       "      <th>corpus</th>\n",
       "      <th>query</th>\n",
       "      <th>mean_faithfulness</th>\n",
       "      <th>mean_relevance</th>\n",
       "    </tr>\n",
       "  </thead>\n",
       "  <tbody>\n",
       "    <tr>\n",
       "      <th>0</th>\n",
       "      <td>Generated text</td>\n",
       "      <td>Retrieved document text</td>\n",
       "      <td>low</td>\n",
       "      <td>math</td>\n",
       "      <td>sample query 0</td>\n",
       "      <td>1.000000</td>\n",
       "      <td>1.0</td>\n",
       "    </tr>\n",
       "    <tr>\n",
       "      <th>1</th>\n",
       "      <td>Generated text</td>\n",
       "      <td>Retrieved document text</td>\n",
       "      <td>high</td>\n",
       "      <td>math</td>\n",
       "      <td>sample query 0</td>\n",
       "      <td>1.333333</td>\n",
       "      <td>1.0</td>\n",
       "    </tr>\n",
       "    <tr>\n",
       "      <th>2</th>\n",
       "      <td>Generated text</td>\n",
       "      <td>Retrieved document text</td>\n",
       "      <td>low</td>\n",
       "      <td>recipes</td>\n",
       "      <td>sample query 0</td>\n",
       "      <td>1.666667</td>\n",
       "      <td>0.0</td>\n",
       "    </tr>\n",
       "    <tr>\n",
       "      <th>3</th>\n",
       "      <td>Generated text</td>\n",
       "      <td>Retrieved document text</td>\n",
       "      <td>high</td>\n",
       "      <td>recipes</td>\n",
       "      <td>sample query 0</td>\n",
       "      <td>1.000000</td>\n",
       "      <td>0.0</td>\n",
       "    </tr>\n",
       "  </tbody>\n",
       "</table>\n",
       "</div>"
      ],
      "text/plain": [
       "       generation                 document guidance   corpus           query  \\\n",
       "0  Generated text  Retrieved document text      low     math  sample query 0   \n",
       "1  Generated text  Retrieved document text     high     math  sample query 0   \n",
       "2  Generated text  Retrieved document text      low  recipes  sample query 0   \n",
       "3  Generated text  Retrieved document text     high  recipes  sample query 0   \n",
       "\n",
       "   mean_faithfulness  mean_relevance  \n",
       "0           1.000000             1.0  \n",
       "1           1.333333             1.0  \n",
       "2           1.666667             0.0  \n",
       "3           1.000000             0.0  "
      ]
     },
     "execution_count": 257,
     "metadata": {},
     "output_type": "execute_result"
    }
   ],
   "source": [
    "# now, merge in relevance to the unannotated_df\n",
    "# pd.merge(faithfulness_df, relevance_df[[\"query\", \"mean_relevance\"]], how=\"left\", on=[\"query\", \"corpus\"])\n",
    "query_df = faithfulness_df.join(\n",
    "    relevance_df[[\"query\", \"corpus\", \"mean_relevance\"]].set_index([\"query\", \"corpus\"]),\n",
    "    how=\"left\",\n",
    "    on=[\"query\", \"corpus\"],\n",
    ")\n",
    "# by definition, recipes have no relevance to the queries\n",
    "query_df.loc[query_df.corpus == \"recipes\", \"mean_relevance\"] = 0.0\n",
    "assert query_df.mean_relevance.isna().sum() == 0\n",
    "query_df.sort_values(by=[\"query\", \"guidance\", \"corpus\"])\n",
    "query_df.head(n=4)"
   ]
  },
  {
   "cell_type": "code",
   "execution_count": 259,
   "id": "6d740737-f47a-4fc3-baa1-7af880397381",
   "metadata": {},
   "outputs": [
    {
     "data": {
      "image/png": "[encoded data removed]",
      "text/plain": [
       "<Figure size 800x700 with 4 Axes>"
      ]
     },
     "metadata": {},
     "output_type": "display_data"
    }
   ],
   "source": [
    "# compare faithfulness distribution between recipes and math corpus\n",
    "# we hypothesize that faithfulness should be the same or slightly higher for math, but this doesn't really matter\n",
    "fig, axes = plt.subplots(2, 2, figsize=(8, 7))\n",
    "axes = axes.reshape(-1)\n",
    "\n",
    "\n",
    "def plot_faithfulness_comparison(ax, g1, g2, labels, title):\n",
    "    box_width = 0.1\n",
    "    ax.boxplot(\n",
    "        [\n",
    "            g1,\n",
    "            g2,\n",
    "        ],\n",
    "        widths=box_width,\n",
    "    )\n",
    "    ax.set_xticks([1, 2], labels=labels)\n",
    "    ax.set_ylabel(\"Mean faithfulness\")\n",
    "    ax.set_title(title)\n",
    "\n",
    "    # two-sample t-test\n",
    "    # this complex line of code works, but is not necessary since the dataframe is sorted by query\n",
    "    # g1, g2 = zip(*query_df.groupby(\"query\").apply(lambda group: (group[group.corpus == \"math\"].mean_faithfulness.iloc[0], group[group.corpus == \"recipes\"].mean_faithfulness.iloc[0])))\n",
    "    g1, g2 = np.array(g1), np.array(g2)\n",
    "    mean_diff = (g1 - g2).mean()\n",
    "    t, p = scipy.stats.ttest_rel(g1, g2)\n",
    "    # ax.text(1.5, min(g1.min(), g2.min()) - 0.05, f\"Diff in means: {mean_diff:.3f} ($t$={t:.2f}, $p$={p:.3f})\", ha=\"center\", va=\"top\")\n",
    "\n",
    "    # ax.hist(g1, bins=20, orientation=\"horizontal\", bottom=1, density=True)\n",
    "    # np.histogram(g1, bins=bins\n",
    "    for g, x in [(g1, 1), (g2, 2)]:\n",
    "        xmin = x + (box_width / 2) + 0.04\n",
    "        ax.vlines(xmin, ymin=g.min(), ymax=g.max(), color=\"black\")\n",
    "        for value, count in Counter(g).most_common():\n",
    "            xmax = xmin + (count / len(g))\n",
    "            ax.hlines(y=value, xmin=xmin, xmax=xmax, color=\"black\")\n",
    "            ax.text(x=xmax + 0.02, y=value, s=f\"{count}\", va=\"center\", ha=\"left\")\n",
    "\n",
    "    ax.set_ylim(bottom=-0.25, top=2.25)\n",
    "    ax.set_xlim(0, 3)\n",
    "    ax.text(\n",
    "        1.5, ax.get_ylim()[0], f\"Diff in means: {mean_diff:.3f} ($t$={t:.2f}, $p$={p:.3f})\", ha=\"center\", va=\"bottom\"\n",
    "    )\n",
    "\n",
    "    for i, answer in enumerate(faithfulness_answers):\n",
    "        ax.axhline(i, color=\"lightgray\", linestyle=\"--\", alpha=0.5, zorder=-1)\n",
    "        ax.text(ax.get_xlim()[0] + 0.02, i + 0.02, answer, ha=\"left\", va=\"bottom\")\n",
    "\n",
    "\n",
    "for ax_ind, guidance in enumerate([\"low\", \"high\"]):\n",
    "    ax = axes[ax_ind]\n",
    "    labels = [\"Math textbook\", \"Recipes\"]\n",
    "    g1 = query_df[(query_df.corpus == \"math\") & (query_df.guidance == guidance)].mean_faithfulness\n",
    "    g2 = query_df[(query_df.corpus == \"recipes\") & (query_df.guidance == guidance)].mean_faithfulness\n",
    "    title = f\"Level of guidance: {guidance}\"\n",
    "    plot_faithfulness_comparison(ax, g1, g2, labels, title)\n",
    "\n",
    "for ax_ind, corpus in enumerate([\"math\", \"recipes\"]):\n",
    "    ax = axes[ax_ind + 2]\n",
    "    labels = [\"Low\\nguidance\", \"High\\nguidance\"]\n",
    "    g1 = query_df[(query_df.corpus == corpus) & (query_df.guidance == \"low\")].mean_faithfulness\n",
    "    g2 = query_df[(query_df.corpus == corpus) & (query_df.guidance == \"high\")].mean_faithfulness\n",
    "    title = f\"Retrieval corpus: {corpus}\"\n",
    "    plot_faithfulness_comparison(ax, g1, g2, labels, title)\n",
    "\n",
    "fig.tight_layout()\n",
    "plt.show()"
   ]
  },
  {
   "cell_type": "code",
   "execution_count": 265,
   "id": "bf3a4590-c368-451d-b52f-75ca1bef976b",
   "metadata": {},
   "outputs": [
    {
     "name": "stdout",
     "output_type": "stream",
     "text": [
      "Level of guidance: low\n",
      "                            OLS Regression Results                            \n",
      "==============================================================================\n",
      "Dep. Variable:      mean_faithfulness   R-squared:                       0.021\n",
      "Model:                            OLS   Adj. R-squared:                  0.001\n",
      "Method:                 Least Squares   F-statistic:                     1.035\n",
      "Date:                Thu, 31 Aug 2023   Prob (F-statistic):              0.314\n",
      "Time:                        14:34:59   Log-Likelihood:                -21.654\n",
      "No. Observations:                  50   AIC:                             47.31\n",
      "Df Residuals:                      48   BIC:                             51.13\n",
      "Df Model:                           1                                         \n",
      "Covariance Type:            nonrobust                                         \n",
      "==================================================================================\n",
      "                     coef    std err          t      P>|t|      [0.025      0.975]\n",
      "----------------------------------------------------------------------------------\n",
      "Intercept          0.9742      0.165      5.891      0.000       0.642       1.307\n",
      "mean_relevance     0.1090      0.107      1.018      0.314      -0.106       0.324\n",
      "==============================================================================\n",
      "Omnibus:                        3.122   Durbin-Watson:                   1.911\n",
      "Prob(Omnibus):                  0.210   Jarque-Bera (JB):                2.607\n",
      "Skew:                          -0.559   Prob(JB):                        0.272\n",
      "Kurtosis:                       2.996   Cond. No.                         6.58\n",
      "==============================================================================\n",
      "\n",
      "Notes:\n",
      "[1] Standard Errors assume that the covariance matrix of the errors is correctly specified.\n",
      "Level of guidance: high\n",
      "                            OLS Regression Results                            \n",
      "==============================================================================\n",
      "Dep. Variable:      mean_faithfulness   R-squared:                       0.009\n",
      "Model:                            OLS   Adj. R-squared:                 -0.011\n",
      "Method:                 Least Squares   F-statistic:                    0.4551\n",
      "Date:                Thu, 31 Aug 2023   Prob (F-statistic):              0.503\n",
      "Time:                        14:34:59   Log-Likelihood:                -19.283\n",
      "No. Observations:                  50   AIC:                             42.57\n",
      "Df Residuals:                      48   BIC:                             46.39\n",
      "Df Model:                           1                                         \n",
      "Covariance Type:            nonrobust                                         \n",
      "==================================================================================\n",
      "                     coef    std err          t      P>|t|      [0.025      0.975]\n",
      "----------------------------------------------------------------------------------\n",
      "Intercept          1.5539      0.158      9.852      0.000       1.237       1.871\n",
      "mean_relevance    -0.0689      0.102     -0.675      0.503      -0.274       0.136\n",
      "==============================================================================\n",
      "Omnibus:                        1.714   Durbin-Watson:                   2.046\n",
      "Prob(Omnibus):                  0.424   Jarque-Bera (JB):                1.668\n",
      "Skew:                          -0.408   Prob(JB):                        0.434\n",
      "Kurtosis:                       2.631   Cond. No.                         6.58\n",
      "==============================================================================\n",
      "\n",
      "Notes:\n",
      "[1] Standard Errors assume that the covariance matrix of the errors is correctly specified.\n"
     ]
    },
    {
     "data": {
      "image/png": "[encoded data removed]",
      "text/plain": [
       "<Figure size 700x300 with 2 Axes>"
      ]
     },
     "metadata": {},
     "output_type": "display_data"
    }
   ],
   "source": [
    "# explore correlation between relevance and faithfulness in the math corpus\n",
    "# we would expect a small positive correlation\n",
    "# when guidance is high, we expect a stronger correlation\n",
    "fig, axes = plt.subplots(1, 2, figsize=(7, 3))\n",
    "axes = axes.reshape(-1)\n",
    "\n",
    "\n",
    "def plot_relevance_vs_faithfulness(ax, sdf, title=\"\", ylim=None):\n",
    "    # correlation\n",
    "    r, p = scipy.stats.pearsonr(sdf.mean_relevance, sdf.mean_faithfulness)\n",
    "    # and the approximately equivalent linear regression\n",
    "    # https://sebastianraschka.com/faq/docs/pearson-r-vs-linear-regr.html\n",
    "    model = sm.OLS.from_formula(formula=\"mean_faithfulness ~ mean_relevance\", data=sdf)\n",
    "    model = model.fit()\n",
    "    params = model.params\n",
    "\n",
    "    # ax.hist2d(sdf.mean_relevance, sdf.mean_faithfulness, cmin=1)\n",
    "    ax.scatter(sdf.mean_relevance, sdf.mean_faithfulness, alpha=0.1, marker=\"o\")\n",
    "    ax.set_xlabel(\"Mean relevance\")\n",
    "    ax.set_ylabel(\"Mean faithfulness\")\n",
    "    ax.set_title(title)\n",
    "\n",
    "    if ylim:\n",
    "        ax.set_ylim(ylim)\n",
    "\n",
    "    statsmodels.graphics.regressionplots.abline_plot(\n",
    "        model_results=model,\n",
    "        ax=ax,\n",
    "        color=\"black\",\n",
    "        linestyle=\"--\",\n",
    "        linewidth=1.1,\n",
    "        label=f\"OLS ($r$={r:.3f}, $p$={p:.3f})\",\n",
    "    )\n",
    "    ax.legend()\n",
    "    print(title)\n",
    "    print(model.summary())\n",
    "\n",
    "\n",
    "for ax_ind, guidance in enumerate(guidance_conditions):\n",
    "    ax = axes[ax_ind]\n",
    "    sdf = query_df[(query_df.corpus == \"math\") & (query_df.guidance == guidance)]\n",
    "    title = f\"Level of guidance: {guidance}\"\n",
    "    plot_relevance_vs_faithfulness(ax, sdf, title, ylim=(0, 2))\n",
    "\n",
    "fig.suptitle(\"Relationship between relevance and faithfulness\")\n",
    "\n",
    "fig.tight_layout()\n",
    "plt.show()"
   ]
  },
  {
   "cell_type": "code",
   "execution_count": null,
   "id": "9b4408f6-dc58-4952-946c-f695f84c7b73",
   "metadata": {},
   "outputs": [],
   "source": [
    "# now create pairwise surveys\n",
    "# most important: math/low vs math/high correctness"
   ]
  },
  {
   "cell_type": "code",
   "execution_count": null,
   "id": "98c33241-bb7c-4bf1-a1ef-5ef2f92d43bc",
   "metadata": {},
   "outputs": [],
   "source": []
  },
  {
   "cell_type": "code",
   "execution_count": null,
   "id": "3561e607-21f7-4834-a6e7-8b74d6a03249",
   "metadata": {},
   "outputs": [],
   "source": []
  },
  {
   "cell_type": "code",
   "execution_count": null,
   "id": "62d9d5a1-e32a-444f-b6bc-ef9c7f776ae8",
   "metadata": {},
   "outputs": [],
   "source": [
    "# TODO could look for correlations here between automated metrics (like % of word overlap, and other more complex groundedness metrics)\n",
    "# and human annotations of faithfulness"
   ]
  },
  {
   "cell_type": "code",
   "execution_count": null,
   "id": "5cec786e-97e8-4fb5-90a5-8ed481d5f9e9",
   "metadata": {},
   "outputs": [],
   "source": []
  },
  {
   "cell_type": "code",
   "execution_count": 23,
   "id": "026774b3-d7ad-472b-bb62-20a4678fe4a0",
   "metadata": {},
   "outputs": [
    {
     "data": {
      "text/plain": [
       "0.9090909090909091"
      ]
     },
     "execution_count": 23,
     "metadata": {},
     "output_type": "execute_result"
    }
   ],
   "source": [
    "passages = [\"Test text with extra.\"]\n",
    "generation = \"test text with extra words.\"\n",
    "experiment_utils.metrics.compute_macro_f1(passages, generation)"
   ]
  },
  {
   "cell_type": "code",
   "execution_count": 7,
   "id": "62f9b918-f402-40af-a9fe-52a647ab0efd",
   "metadata": {},
   "outputs": [
    {
     "name": "stdout",
     "output_type": "stream",
     "text": [
      "300\n"
     ]
    },
    {
     "data": {
      "text/html": [
       "<div>\n",
       "<style scoped>\n",
       "    .dataframe tbody tr th:only-of-type {\n",
       "        vertical-align: middle;\n",
       "    }\n",
       "\n",
       "    .dataframe tbody tr th {\n",
       "        vertical-align: top;\n",
       "    }\n",
       "\n",
       "    .dataframe thead th {\n",
       "        text-align: right;\n",
       "    }\n",
       "</style>\n",
       "<table border=\"1\" class=\"dataframe\">\n",
       "  <thead>\n",
       "    <tr style=\"text-align: right;\">\n",
       "      <th></th>\n",
       "      <th>generation</th>\n",
       "      <th>document</th>\n",
       "      <th>guidance</th>\n",
       "      <th>corpus</th>\n",
       "      <th>query</th>\n",
       "    </tr>\n",
       "  </thead>\n",
       "  <tbody>\n",
       "    <tr>\n",
       "      <th>154</th>\n",
       "      <td>Generated text e a f c p f r z g k</td>\n",
       "      <td>Retrieved document text\\nt n h r j c m c f x\\n...</td>\n",
       "      <td>E</td>\n",
       "      <td>math</td>\n",
       "      <td>sample query 25</td>\n",
       "    </tr>\n",
       "  </tbody>\n",
       "</table>\n",
       "</div>"
      ],
      "text/plain": [
       "                             generation  \\\n",
       "154  Generated text e a f c p f r z g k   \n",
       "\n",
       "                                              document guidance corpus  \\\n",
       "154  Retrieved document text\\nt n h r j c m c f x\\n...        E   math   \n",
       "\n",
       "               query  \n",
       "154  sample query 25  "
      ]
     },
     "execution_count": 7,
     "metadata": {},
     "output_type": "execute_result"
    }
   ],
   "source": [
    "# create automated metric df\n",
    "\n",
    "\n",
    "def get_random_text(size: int = 10):\n",
    "    choices = list(string.ascii_lowercase)\n",
    "    return \" \".join(np.random.choice(choices, size=size))\n",
    "\n",
    "\n",
    "corpus = math_corpus\n",
    "ds = []\n",
    "for query in queries:\n",
    "    for guidance in [\"A\", \"B\", \"C\", \"D\", \"E\", \"F\"]:\n",
    "        document = \"Retrieved document text\\n\" + \"\\n\".join([get_random_text() for passage in range(4)])\n",
    "        generation = (\n",
    "            \"Generated text \" + get_random_text()\n",
    "        )  # TODO do rag here, retrieved a document and generating a response\n",
    "        if guidance == \"F\":\n",
    "            document += \" a a a a a b b b b\"\n",
    "            generation += \" a a a a a b b b b\"\n",
    "        ds.append({\"generation\": generation, \"document\": document, \"guidance\": guidance, **corpus, **query})\n",
    "math_df = pd.DataFrame(ds)\n",
    "print(len(math_df))\n",
    "math_df.sample(1)"
   ]
  },
  {
   "cell_type": "code",
   "execution_count": 10,
   "id": "2494286c-a2f1-4489-98ed-03bfb881f6cf",
   "metadata": {},
   "outputs": [
    {
     "data": {
      "text/html": [
       "<div>\n",
       "<style scoped>\n",
       "    .dataframe tbody tr th:only-of-type {\n",
       "        vertical-align: middle;\n",
       "    }\n",
       "\n",
       "    .dataframe tbody tr th {\n",
       "        vertical-align: top;\n",
       "    }\n",
       "\n",
       "    .dataframe thead th {\n",
       "        text-align: right;\n",
       "    }\n",
       "</style>\n",
       "<table border=\"1\" class=\"dataframe\">\n",
       "  <thead>\n",
       "    <tr style=\"text-align: right;\">\n",
       "      <th></th>\n",
       "      <th>guidance</th>\n",
       "      <th>macro_f1</th>\n",
       "      <th>macro_f1_low</th>\n",
       "      <th>macro_f1_high</th>\n",
       "    </tr>\n",
       "  </thead>\n",
       "  <tbody>\n",
       "    <tr>\n",
       "      <th>3</th>\n",
       "      <td>D</td>\n",
       "      <td>0.421927</td>\n",
       "      <td>0.404139</td>\n",
       "      <td>0.441069</td>\n",
       "    </tr>\n",
       "    <tr>\n",
       "      <th>0</th>\n",
       "      <td>A</td>\n",
       "      <td>0.438886</td>\n",
       "      <td>0.415790</td>\n",
       "      <td>0.464270</td>\n",
       "    </tr>\n",
       "    <tr>\n",
       "      <th>1</th>\n",
       "      <td>B</td>\n",
       "      <td>0.439605</td>\n",
       "      <td>0.416518</td>\n",
       "      <td>0.462711</td>\n",
       "    </tr>\n",
       "    <tr>\n",
       "      <th>4</th>\n",
       "      <td>E</td>\n",
       "      <td>0.445563</td>\n",
       "      <td>0.420524</td>\n",
       "      <td>0.469068</td>\n",
       "    </tr>\n",
       "    <tr>\n",
       "      <th>2</th>\n",
       "      <td>C</td>\n",
       "      <td>0.455749</td>\n",
       "      <td>0.435010</td>\n",
       "      <td>0.476656</td>\n",
       "    </tr>\n",
       "    <tr>\n",
       "      <th>5</th>\n",
       "      <td>F</td>\n",
       "      <td>0.464326</td>\n",
       "      <td>0.439977</td>\n",
       "      <td>0.487834</td>\n",
       "    </tr>\n",
       "  </tbody>\n",
       "</table>\n",
       "</div>"
      ],
      "text/plain": [
       "  guidance  macro_f1  macro_f1_low  macro_f1_high\n",
       "3        D  0.421927      0.404139       0.441069\n",
       "0        A  0.438886      0.415790       0.464270\n",
       "1        B  0.439605      0.416518       0.462711\n",
       "4        E  0.445563      0.420524       0.469068\n",
       "2        C  0.455749      0.435010       0.476656\n",
       "5        F  0.464326      0.439977       0.487834"
      ]
     },
     "execution_count": 10,
     "metadata": {},
     "output_type": "execute_result"
    }
   ],
   "source": [
    "sdf = math_df[math_df.corpus == \"math\"]\n",
    "# sdf = sdf.drop_duplicates(subset=[\"query\", \"generation\", \"document\", \"guidance\"])\n",
    "ds = []\n",
    "for guidance, group in sdf.groupby(\"guidance\"):\n",
    "    assert group[\"query\"].nunique() == len(group)\n",
    "    f1_scores = []\n",
    "    for row in group.itertuples():\n",
    "        passages = document.split(\"\\n\")\n",
    "        f1 = experiment.metrics.compute_macro_f1(passages, row.generation)\n",
    "        f1_scores.append(f1)\n",
    "    f1_scores = np.array(f1_scores)\n",
    "    macro_f1 = f1_scores.mean()\n",
    "    # bootstrap confidence intervals\n",
    "    bootstrap = scipy.stats.bootstrap((f1_scores,), np.mean, confidence_level=0.95, random_state=rng)\n",
    "    ds.append(\n",
    "        {\n",
    "            \"guidance\": guidance,\n",
    "            \"macro_f1\": macro_f1,\n",
    "            \"macro_f1_low\": bootstrap.confidence_interval.low,\n",
    "            \"macro_f1_high\": bootstrap.confidence_interval.high,\n",
    "        }\n",
    "    )\n",
    "f1_df = pd.DataFrame(ds).sort_values(by=\"macro_f1\", ascending=True)\n",
    "f1_df"
   ]
  },
  {
   "cell_type": "code",
   "execution_count": 22,
   "id": "47bf0f0f-eab9-4db3-9203-0ef0fe3ddb58",
   "metadata": {},
   "outputs": [
    {
     "data": {
      "image/png": "[encoded data removed]",
      "text/plain": [
       "<Figure size 320x170 with 1 Axes>"
      ]
     },
     "metadata": {},
     "output_type": "display_data"
    }
   ],
   "source": [
    "fig, ax = plt.subplots(1, 1, figsize=(3.2, 1.7))\n",
    "\n",
    "metric = \"macro_f1\"\n",
    "# copy = f1_df.copy()\n",
    "# copy[[metric, metric + \"_low\", metric + \"_high\"]] += 0.1\n",
    "# for query_set, metric_df in [(\"MN Geo\", f1_df), (\"MN PreA\", copy)]:\n",
    "for query_set, metric_df in f1_df.groupby(\"query_set\"):\n",
    "    assert metric in metric_df.columns\n",
    "    xs = list(range(len(metric_df)))\n",
    "    ys = metric_df[metric]\n",
    "    yerr = metric_df[[metric + \"_low\", metric + \"_high\"]].subtract(metric_df[metric], axis=0).abs().T\n",
    "    ax.scatter(xs, ys, color=\"black\", marker=\".\")\n",
    "    ax.errorbar(xs, ys, yerr=yerr, zorder=-1, capsize=3, ecolor=\"grey\", label=query_set)\n",
    "\n",
    "# legend\n",
    "handles, labels = ax.get_legend_handles_labels()\n",
    "handles = [h[0] for h in handles]\n",
    "ax.legend(handles, labels, frameon=False, ncol=2)\n",
    "\n",
    "\n",
    "ax.set_xticks(xs, labels=f1_df.guidance)\n",
    "ax.set_ylabel(\"K-F1++\")\n",
    "# ax.set_ylim((0.2, 0.35))  # Consider manually setting the ylim\n",
    "\n",
    "fig.tight_layout()\n",
    "plt.show()"
   ]
  },
  {
   "cell_type": "code",
   "execution_count": null,
   "id": "f150ba21-9fe8-44c2-9525-e38f9049727d",
   "metadata": {},
   "outputs": [],
   "source": []
  },
  {
   "cell_type": "markdown",
   "id": "542d6342-c1ea-4b33-856b-f745d12dcc19",
   "metadata": {},
   "source": [
    "## Real data"
   ]
  },
  {
   "cell_type": "code",
   "execution_count": null,
   "id": "f616f615-25e6-4823-976d-aa756e02121a",
   "metadata": {},
   "outputs": [],
   "source": []
  },
  {
   "cell_type": "markdown",
   "id": "03046b2d-30fe-4c2f-bc2c-17115e200812",
   "metadata": {},
   "source": [
    "#### Load query data"
   ]
  },
  {
   "cell_type": "code",
   "execution_count": 9,
   "id": "6508b424-0b24-411a-a27c-c7d4a836082a",
   "metadata": {},
   "outputs": [
    {
     "data": {
      "text/plain": [
       "51"
      ]
     },
     "execution_count": 9,
     "metadata": {},
     "output_type": "execute_result"
    }
   ],
   "source": [
    "mn_general_student_queries_filepath = data_dir / \"derived\" / \"mn_general_student_queries.csv\"\n",
    "query_df = pd.read_csv(mn_general_student_queries_filepath)\n",
    "student_queries = [\n",
    "    row.post_content.strip().replace(\"[Continued:]\", \"\\n\")\n",
    "    for row in query_df.sample(frac=1, random_state=87896).itertuples()\n",
    "    if row.is_respondable_query == \"general\"\n",
    "]\n",
    "len(student_queries)"
   ]
  },
  {
   "cell_type": "code",
   "execution_count": 10,
   "id": "345e0668-f6a4-4cdd-bfa9-ee8a53773bee",
   "metadata": {},
   "outputs": [
    {
     "data": {
      "text/plain": [
       "subject_name\n",
       "Algebra 1      43\n",
       "Geometry        9\n",
       "Pre-Algebra     3\n",
       "Name: count, dtype: int64"
      ]
     },
     "execution_count": 10,
     "metadata": {},
     "output_type": "execute_result"
    }
   ],
   "source": [
    "query_df.subject_name.value_counts()"
   ]
  },
  {
   "cell_type": "code",
   "execution_count": null,
   "id": "be413300-9169-418b-b07c-a78923f04be3",
   "metadata": {},
   "outputs": [],
   "source": []
  },
  {
   "cell_type": "markdown",
   "id": "af748e5a-b6bb-4d2d-ad42-f5882080c9b1",
   "metadata": {},
   "source": [
    "#### Retrieve documents"
   ]
  },
  {
   "cell_type": "code",
   "execution_count": 11,
   "id": "f8b95ff5-0cca-414d-b555-4e928406ceb1",
   "metadata": {},
   "outputs": [],
   "source": [
    "embedding_dir = data_dir / \"derived\" / \"embeddings\"\n",
    "rori_db = retrieval.RetrievalDb(embedding_dir, \"rori_microlesson\", \"db_string\")\n",
    "openstax_db = retrieval.RetrievalDb(embedding_dir, \"openstax_subsection\", \"db_string\")\n",
    "recipe_db = retrieval.RetrievalDb(embedding_dir, \"recipenlg\", \"db_string\")"
   ]
  },
  {
   "cell_type": "code",
   "execution_count": 12,
   "id": "f178e7cb-6b9b-41d8-b108-612844da15b9",
   "metadata": {},
   "outputs": [
    {
     "name": "stdout",
     "output_type": "stream",
     "text": [
      "204\n"
     ]
    },
    {
     "data": {
      "text/html": [
       "<div>\n",
       "<style scoped>\n",
       "    .dataframe tbody tr th:only-of-type {\n",
       "        vertical-align: middle;\n",
       "    }\n",
       "\n",
       "    .dataframe tbody tr th {\n",
       "        vertical-align: top;\n",
       "    }\n",
       "\n",
       "    .dataframe thead th {\n",
       "        text-align: right;\n",
       "    }\n",
       "</style>\n",
       "<table border=\"1\" class=\"dataframe\">\n",
       "  <thead>\n",
       "    <tr style=\"text-align: right;\">\n",
       "      <th></th>\n",
       "      <th>query_set</th>\n",
       "      <th>query</th>\n",
       "      <th>generation</th>\n",
       "      <th>document</th>\n",
       "      <th>guidance</th>\n",
       "      <th>messages</th>\n",
       "      <th>corpus</th>\n",
       "    </tr>\n",
       "  </thead>\n",
       "  <tbody>\n",
       "    <tr>\n",
       "      <th>149</th>\n",
       "      <td>math_nation</td>\n",
       "      <td>I know that this has been a consistent questio...</td>\n",
       "      <td></td>\n",
       "      <td>Identify the Intercepts on a Graph: Every line...</td>\n",
       "      <td>low</td>\n",
       "      <td>[{'role': 'system', 'content': 'You are going ...</td>\n",
       "      <td>math</td>\n",
       "    </tr>\n",
       "  </tbody>\n",
       "</table>\n",
       "</div>"
      ],
      "text/plain": [
       "       query_set                                              query  \\\n",
       "149  math_nation  I know that this has been a consistent questio...   \n",
       "\n",
       "    generation                                           document guidance  \\\n",
       "149             Identify the Intercepts on a Graph: Every line...      low   \n",
       "\n",
       "                                              messages corpus  \n",
       "149  [{'role': 'system', 'content': 'You are going ...   math  "
      ]
     },
     "execution_count": 12,
     "metadata": {},
     "output_type": "execute_result"
    }
   ],
   "source": [
    "# create generations\n",
    "openstax_subsection_db_info = retrieval.DbInfo(\n",
    "    openstax_db,\n",
    "    max_tokens=3000,\n",
    "    max_texts=1,\n",
    "    prefix=\"\",\n",
    "    use_parent_text=True,\n",
    "    parent_group_cols=[\"chapter\", \"section\"],\n",
    "    parent_sort_cols=[\"index\"],\n",
    ")\n",
    "openstax_retrieval_strategy = retrieval_strategies.MappedEmbeddingRetrievalStrategy(\n",
    "    {\n",
    "        \"openstax_subsection_texts\": openstax_subsection_db_info,\n",
    "    },\n",
    ")\n",
    "\n",
    "corpus = math_corpus\n",
    "ds = []\n",
    "for query in student_queries:\n",
    "    for guidance in experiment.guidance_conditions.guidance_condition_name_list:\n",
    "        # TODO consider adding infrastructure to cache the messages and document\n",
    "        prompt_manager = prompt_utils.PromptManager()\n",
    "        prompt_manager.set_intro_messages(experiment.guidance_conditions.guidance_condition_messages_map[guidance])\n",
    "        prompt_manager.set_retrieval_strategy(openstax_retrieval_strategy)\n",
    "        messages = prompt_manager.build_query(query)\n",
    "        document = prompt_manager.get_recent_slot_fill(\"openstax_subsection_texts\")\n",
    "        # assert document is not None, f\"Couldn't find expected key in {prompt_manager.recent_slot_fill_dict}.\"\n",
    "        ds.append(\n",
    "            {\n",
    "                \"query_set\": \"math_nation\",\n",
    "                \"query\": query,\n",
    "                \"generation\": \"\",\n",
    "                \"document\": document,\n",
    "                \"guidance\": guidance,\n",
    "                \"messages\": messages,\n",
    "                **corpus,\n",
    "            }\n",
    "        )\n",
    "math_df = pd.DataFrame(ds)\n",
    "print(len(math_df))\n",
    "math_df.sample(1)"
   ]
  },
  {
   "cell_type": "code",
   "execution_count": 13,
   "id": "d90a256c-240e-4093-88d0-e493a8fcc499",
   "metadata": {},
   "outputs": [],
   "source": [
    "# fill documents for the None retrieval condition\n",
    "documents = (\n",
    "    math_df.loc[math_df.document.notna(), [\"query\", \"corpus\", \"document\"]]\n",
    "    .drop_duplicates(keep=\"first\")\n",
    "    .set_index(\"query\")\n",
    ")\n",
    "math_df.loc[math_df.document.isna(), \"document\"] = list(\n",
    "    documents.loc[math_df.loc[math_df.document.isna(), \"query\"]].document\n",
    ")\n",
    "assert math_df.document.isna().sum() == 0"
   ]
  },
  {
   "cell_type": "markdown",
   "id": "aadd7907-baf4-46d4-a429-5ccffc5e0653",
   "metadata": {},
   "source": [
    "#### Create or load relevance annotation for queries"
   ]
  },
  {
   "cell_type": "code",
   "execution_count": 14,
   "id": "db8e83d2-7818-48b6-9a62-2205f1be17d7",
   "metadata": {},
   "outputs": [
    {
     "data": {
      "text/html": [
       "<div>\n",
       "<style scoped>\n",
       "    .dataframe tbody tr th:only-of-type {\n",
       "        vertical-align: middle;\n",
       "    }\n",
       "\n",
       "    .dataframe tbody tr th {\n",
       "        vertical-align: top;\n",
       "    }\n",
       "\n",
       "    .dataframe thead th {\n",
       "        text-align: right;\n",
       "    }\n",
       "</style>\n",
       "<table border=\"1\" class=\"dataframe\">\n",
       "  <thead>\n",
       "    <tr style=\"text-align: right;\">\n",
       "      <th></th>\n",
       "      <th>query_set</th>\n",
       "      <th>query</th>\n",
       "      <th>generation</th>\n",
       "      <th>document</th>\n",
       "      <th>guidance</th>\n",
       "      <th>messages</th>\n",
       "      <th>corpus</th>\n",
       "    </tr>\n",
       "  </thead>\n",
       "  <tbody>\n",
       "    <tr>\n",
       "      <th>157</th>\n",
       "      <td>math_nation</td>\n",
       "      <td>Is supplementary angles are always adjacent</td>\n",
       "      <td></td>\n",
       "      <td>Use the Properties of Angles: Are you familiar...</td>\n",
       "      <td>low</td>\n",
       "      <td>[{'role': 'system', 'content': 'You are going ...</td>\n",
       "      <td>math</td>\n",
       "    </tr>\n",
       "  </tbody>\n",
       "</table>\n",
       "</div>"
      ],
      "text/plain": [
       "       query_set                                        query generation  \\\n",
       "157  math_nation  Is supplementary angles are always adjacent              \n",
       "\n",
       "                                              document guidance  \\\n",
       "157  Use the Properties of Angles: Are you familiar...      low   \n",
       "\n",
       "                                              messages corpus  \n",
       "157  [{'role': 'system', 'content': 'You are going ...   math  "
      ]
     },
     "execution_count": 14,
     "metadata": {},
     "output_type": "execute_result"
    }
   ],
   "source": [
    "query_df = math_df[(math_df.query_set == \"math_nation\") & (math_df.corpus == \"math\") & (math_df.guidance == \"low\")]\n",
    "assert query_df[\"query\"].nunique() == len(query_df)\n",
    "query_df.sample(n=1)"
   ]
  },
  {
   "cell_type": "code",
   "execution_count": 29,
   "id": "c29b6619-2110-445e-b921-33c5924b7f22",
   "metadata": {},
   "outputs": [],
   "source": [
    "relevance_data_dir = data_dir / \"derived\" / \"relevance\"\n",
    "relevance_data_dir.mkdir(exist_ok=True)\n",
    "mn_relevance_filepath_1 = relevance_data_dir / \"mn_set1_relevance.csv\"\n",
    "mn_relevance_filepath_1_filled = relevance_data_dir / \"mn_set1_relevance_filled.csv\""
   ]
  },
  {
   "cell_type": "code",
   "execution_count": null,
   "id": "229e3936-5c20-4b52-a320-7ca14468e18c",
   "metadata": {},
   "outputs": [],
   "source": [
    "if not mn_relevance_filepath_1_filled.exists():\n",
    "    query_df = query_df[[\"query_set\", \"corpus\", \"query\", \"document\"]].reset_index(drop=True).sample(frac=1)\n",
    "    query_df[\"relevance\"] = \"\"\n",
    "\n",
    "    def make_document_more_readable(doc):\n",
    "        passages = doc.split(\"\\n\")\n",
    "        return \" - \" + \"\\n - \".join(passages)\n",
    "\n",
    "    query_df[\"document\"] = query_df[\"document\"].map(make_document_more_readable)\n",
    "    query_df.to_csv(mn_relevance_filepath_1, index=False)\n",
    "query_df.sample(n=1)"
   ]
  },
  {
   "cell_type": "code",
   "execution_count": 31,
   "id": "f196fa30-b998-40ba-9da1-1da9ad955502",
   "metadata": {},
   "outputs": [
    {
     "data": {
      "text/html": [
       "<div>\n",
       "<style scoped>\n",
       "    .dataframe tbody tr th:only-of-type {\n",
       "        vertical-align: middle;\n",
       "    }\n",
       "\n",
       "    .dataframe tbody tr th {\n",
       "        vertical-align: top;\n",
       "    }\n",
       "\n",
       "    .dataframe thead th {\n",
       "        text-align: right;\n",
       "    }\n",
       "</style>\n",
       "<table border=\"1\" class=\"dataframe\">\n",
       "  <thead>\n",
       "    <tr style=\"text-align: right;\">\n",
       "      <th></th>\n",
       "      <th>query_set</th>\n",
       "      <th>corpus</th>\n",
       "      <th>query</th>\n",
       "      <th>document</th>\n",
       "      <th>Zach</th>\n",
       "      <th>Chenglu</th>\n",
       "      <th>Wangda</th>\n",
       "    </tr>\n",
       "  </thead>\n",
       "  <tbody>\n",
       "    <tr>\n",
       "      <th>46</th>\n",
       "      <td>math_nation</td>\n",
       "      <td>math</td>\n",
       "      <td>what is monomial</td>\n",
       "      <td>- Identify Polynomials, Monomials, Binomials,...</td>\n",
       "      <td>Perfect</td>\n",
       "      <td>Perfect</td>\n",
       "      <td>Topic</td>\n",
       "    </tr>\n",
       "  </tbody>\n",
       "</table>\n",
       "</div>"
      ],
      "text/plain": [
       "      query_set corpus             query  \\\n",
       "46  math_nation   math  what is monomial   \n",
       "\n",
       "                                             document     Zach  Chenglu Wangda  \n",
       "46   - Identify Polynomials, Monomials, Binomials,...  Perfect  Perfect  Topic  "
      ]
     },
     "execution_count": 31,
     "metadata": {},
     "output_type": "execute_result"
    }
   ],
   "source": [
    "if mn_relevance_filepath_1_filled.exists():\n",
    "    relevance_df = pd.read_csv(mn_relevance_filepath_1_filled)\n",
    "relevance_df.sample(n=1)"
   ]
  },
  {
   "cell_type": "code",
   "execution_count": 39,
   "id": "f70e1b8c-d1eb-4a4a-a20d-ac229d677e3a",
   "metadata": {},
   "outputs": [
    {
     "name": "stdout",
     "output_type": "stream",
     "text": [
      "Zach\n",
      "Topic      23\n",
      "Perfect    10\n",
      "Partial     9\n",
      "Wrong       9\n",
      "Name: count, dtype: int64\n",
      "Chenglu\n",
      "Partial    14\n",
      "Perfect    14\n",
      "Topic      13\n",
      "Wrong      10\n",
      "Name: count, dtype: int64\n",
      "Wangda\n",
      "Wrong      17\n",
      "Topic      13\n",
      "Partial    12\n",
      "Perfect     6\n",
      "Name: count, dtype: int64\n"
     ]
    }
   ],
   "source": [
    "def get_numeric_relevance(relevance_str):\n",
    "    return relevance_answers.index(relevance_str.lower())\n",
    "\n",
    "\n",
    "for annotator_name in [\"Zach\", \"Chenglu\", \"Wangda\"]:\n",
    "    # relevance_df[annotator_name].map(get_numeric_relevance)\n",
    "    print(relevance_df[annotator_name].value_counts())"
   ]
  },
  {
   "cell_type": "code",
   "execution_count": null,
   "id": "7e7975b9-95a0-4774-b324-64b2c3158c05",
   "metadata": {},
   "outputs": [],
   "source": []
  },
  {
   "cell_type": "code",
   "execution_count": null,
   "id": "432d9543-9d51-4834-9b64-0ff6a9dedb3a",
   "metadata": {},
   "outputs": [],
   "source": []
  },
  {
   "cell_type": "markdown",
   "id": "10676431-6036-42f4-be32-b88f8aa78127",
   "metadata": {},
   "source": [
    "#### Create or load generations"
   ]
  },
  {
   "cell_type": "code",
   "execution_count": 15,
   "id": "08f49d74-0c03-4ba4-8dc1-585a257d448c",
   "metadata": {},
   "outputs": [
    {
     "data": {
      "text/plain": [
       "255"
      ]
     },
     "execution_count": 15,
     "metadata": {},
     "output_type": "execute_result"
    }
   ],
   "source": [
    "corpus = experiment.generate.GenerationCorpus(data_dir / \"derived\", \"math_corpus_test\")\n",
    "metadata_list = [row.to_dict() for _, row in math_df.iterrows()]\n",
    "len(corpus.generations)"
   ]
  },
  {
   "cell_type": "code",
   "execution_count": 16,
   "id": "5af50a4d-a4a3-4373-aa1e-b4c5a63a4acc",
   "metadata": {},
   "outputs": [],
   "source": [
    "assert corpus.filter_generations() == 0"
   ]
  },
  {
   "cell_type": "code",
   "execution_count": 17,
   "id": "b9a5dcbd-7003-40bf-9bc0-dbb4b0a1b9ff",
   "metadata": {},
   "outputs": [],
   "source": [
    "# conditionally remove\n",
    "# corpus.filter_generations(should_remove_func=lambda generation: generation[\"guidance\"] == \"high\")"
   ]
  },
  {
   "cell_type": "code",
   "execution_count": 17,
   "id": "c44a779d-510e-44e6-a17c-61ad3090203d",
   "metadata": {},
   "outputs": [
    {
     "data": {
      "text/plain": [
       "255"
      ]
     },
     "execution_count": 17,
     "metadata": {},
     "output_type": "execute_result"
    }
   ],
   "source": [
    "len(corpus.generations)"
   ]
  },
  {
   "cell_type": "code",
   "execution_count": 18,
   "id": "764d401c-8993-4eae-bb9a-ffca3fd9f29c",
   "metadata": {},
   "outputs": [
    {
     "data": {
      "text/plain": [
       "0"
      ]
     },
     "execution_count": 18,
     "metadata": {},
     "output_type": "execute_result"
    }
   ],
   "source": [
    "nonmatching_generations = corpus.get_nonmatching_generations(metadata_list)\n",
    "obsolete_df = pd.DataFrame(nonmatching_generations)\n",
    "len(obsolete_df)"
   ]
  },
  {
   "cell_type": "code",
   "execution_count": 19,
   "id": "81d83f50-f52e-45af-b28a-33ba47ad5861",
   "metadata": {},
   "outputs": [
    {
     "ename": "KeyError",
     "evalue": "\"None of [Index(['query_set', 'query', 'generation', 'document', 'guidance', 'corpus'], dtype='object')] are in the [columns]\"",
     "output_type": "error",
     "traceback": [
      "\u001b[0;31m---------------------------------------------------------------------------\u001b[0m",
      "\u001b[0;31mKeyError\u001b[0m                                  Traceback (most recent call last)",
      "Cell \u001b[0;32mIn[19], line 1\u001b[0m\n\u001b[0;32m----> 1\u001b[0m \u001b[38;5;28mprint\u001b[39m(\u001b[43mobsolete_df\u001b[49m\u001b[43m[\u001b[49m\u001b[43m[\u001b[49m\u001b[38;5;124;43m\"\u001b[39;49m\u001b[38;5;124;43mquery_set\u001b[39;49m\u001b[38;5;124;43m\"\u001b[39;49m\u001b[43m,\u001b[49m\u001b[43m \u001b[49m\u001b[38;5;124;43m\"\u001b[39;49m\u001b[38;5;124;43mquery\u001b[39;49m\u001b[38;5;124;43m\"\u001b[39;49m\u001b[43m,\u001b[49m\u001b[43m \u001b[49m\u001b[38;5;124;43m\"\u001b[39;49m\u001b[38;5;124;43mgeneration\u001b[39;49m\u001b[38;5;124;43m\"\u001b[39;49m\u001b[43m,\u001b[49m\u001b[43m \u001b[49m\u001b[38;5;124;43m\"\u001b[39;49m\u001b[38;5;124;43mdocument\u001b[39;49m\u001b[38;5;124;43m\"\u001b[39;49m\u001b[43m,\u001b[49m\u001b[43m \u001b[49m\u001b[38;5;124;43m\"\u001b[39;49m\u001b[38;5;124;43mguidance\u001b[39;49m\u001b[38;5;124;43m\"\u001b[39;49m\u001b[43m,\u001b[49m\u001b[43m \u001b[49m\u001b[38;5;124;43m\"\u001b[39;49m\u001b[38;5;124;43mcorpus\u001b[39;49m\u001b[38;5;124;43m\"\u001b[39;49m\u001b[43m]\u001b[49m\u001b[43m]\u001b[49m\u001b[38;5;241m.\u001b[39mnunique())\n\u001b[1;32m      2\u001b[0m obsolete_df\u001b[38;5;241m.\u001b[39mguidance\u001b[38;5;241m.\u001b[39mvalue_counts()\n",
      "File \u001b[0;32m~/repos/annotation-tools/.venv/lib/python3.10/site-packages/pandas/core/frame.py:3902\u001b[0m, in \u001b[0;36mDataFrame.__getitem__\u001b[0;34m(self, key)\u001b[0m\n\u001b[1;32m   3900\u001b[0m     \u001b[38;5;28;01mif\u001b[39;00m is_iterator(key):\n\u001b[1;32m   3901\u001b[0m         key \u001b[38;5;241m=\u001b[39m \u001b[38;5;28mlist\u001b[39m(key)\n\u001b[0;32m-> 3902\u001b[0m     indexer \u001b[38;5;241m=\u001b[39m \u001b[38;5;28;43mself\u001b[39;49m\u001b[38;5;241;43m.\u001b[39;49m\u001b[43mcolumns\u001b[49m\u001b[38;5;241;43m.\u001b[39;49m\u001b[43m_get_indexer_strict\u001b[49m\u001b[43m(\u001b[49m\u001b[43mkey\u001b[49m\u001b[43m,\u001b[49m\u001b[43m \u001b[49m\u001b[38;5;124;43m\"\u001b[39;49m\u001b[38;5;124;43mcolumns\u001b[39;49m\u001b[38;5;124;43m\"\u001b[39;49m\u001b[43m)\u001b[49m[\u001b[38;5;241m1\u001b[39m]\n\u001b[1;32m   3904\u001b[0m \u001b[38;5;66;03m# take() does not accept boolean indexers\u001b[39;00m\n\u001b[1;32m   3905\u001b[0m \u001b[38;5;28;01mif\u001b[39;00m \u001b[38;5;28mgetattr\u001b[39m(indexer, \u001b[38;5;124m\"\u001b[39m\u001b[38;5;124mdtype\u001b[39m\u001b[38;5;124m\"\u001b[39m, \u001b[38;5;28;01mNone\u001b[39;00m) \u001b[38;5;241m==\u001b[39m \u001b[38;5;28mbool\u001b[39m:\n",
      "File \u001b[0;32m~/repos/annotation-tools/.venv/lib/python3.10/site-packages/pandas/core/indexes/base.py:6114\u001b[0m, in \u001b[0;36mIndex._get_indexer_strict\u001b[0;34m(self, key, axis_name)\u001b[0m\n\u001b[1;32m   6111\u001b[0m \u001b[38;5;28;01melse\u001b[39;00m:\n\u001b[1;32m   6112\u001b[0m     keyarr, indexer, new_indexer \u001b[38;5;241m=\u001b[39m \u001b[38;5;28mself\u001b[39m\u001b[38;5;241m.\u001b[39m_reindex_non_unique(keyarr)\n\u001b[0;32m-> 6114\u001b[0m \u001b[38;5;28;43mself\u001b[39;49m\u001b[38;5;241;43m.\u001b[39;49m\u001b[43m_raise_if_missing\u001b[49m\u001b[43m(\u001b[49m\u001b[43mkeyarr\u001b[49m\u001b[43m,\u001b[49m\u001b[43m \u001b[49m\u001b[43mindexer\u001b[49m\u001b[43m,\u001b[49m\u001b[43m \u001b[49m\u001b[43maxis_name\u001b[49m\u001b[43m)\u001b[49m\n\u001b[1;32m   6116\u001b[0m keyarr \u001b[38;5;241m=\u001b[39m \u001b[38;5;28mself\u001b[39m\u001b[38;5;241m.\u001b[39mtake(indexer)\n\u001b[1;32m   6117\u001b[0m \u001b[38;5;28;01mif\u001b[39;00m \u001b[38;5;28misinstance\u001b[39m(key, Index):\n\u001b[1;32m   6118\u001b[0m     \u001b[38;5;66;03m# GH 42790 - Preserve name from an Index\u001b[39;00m\n",
      "File \u001b[0;32m~/repos/annotation-tools/.venv/lib/python3.10/site-packages/pandas/core/indexes/base.py:6175\u001b[0m, in \u001b[0;36mIndex._raise_if_missing\u001b[0;34m(self, key, indexer, axis_name)\u001b[0m\n\u001b[1;32m   6173\u001b[0m     \u001b[38;5;28;01mif\u001b[39;00m use_interval_msg:\n\u001b[1;32m   6174\u001b[0m         key \u001b[38;5;241m=\u001b[39m \u001b[38;5;28mlist\u001b[39m(key)\n\u001b[0;32m-> 6175\u001b[0m     \u001b[38;5;28;01mraise\u001b[39;00m \u001b[38;5;167;01mKeyError\u001b[39;00m(\u001b[38;5;124mf\u001b[39m\u001b[38;5;124m\"\u001b[39m\u001b[38;5;124mNone of [\u001b[39m\u001b[38;5;132;01m{\u001b[39;00mkey\u001b[38;5;132;01m}\u001b[39;00m\u001b[38;5;124m] are in the [\u001b[39m\u001b[38;5;132;01m{\u001b[39;00maxis_name\u001b[38;5;132;01m}\u001b[39;00m\u001b[38;5;124m]\u001b[39m\u001b[38;5;124m\"\u001b[39m)\n\u001b[1;32m   6177\u001b[0m not_found \u001b[38;5;241m=\u001b[39m \u001b[38;5;28mlist\u001b[39m(ensure_index(key)[missing_mask\u001b[38;5;241m.\u001b[39mnonzero()[\u001b[38;5;241m0\u001b[39m]]\u001b[38;5;241m.\u001b[39munique())\n\u001b[1;32m   6178\u001b[0m \u001b[38;5;28;01mraise\u001b[39;00m \u001b[38;5;167;01mKeyError\u001b[39;00m(\u001b[38;5;124mf\u001b[39m\u001b[38;5;124m\"\u001b[39m\u001b[38;5;132;01m{\u001b[39;00mnot_found\u001b[38;5;132;01m}\u001b[39;00m\u001b[38;5;124m not in index\u001b[39m\u001b[38;5;124m\"\u001b[39m)\n",
      "\u001b[0;31mKeyError\u001b[0m: \"None of [Index(['query_set', 'query', 'generation', 'document', 'guidance', 'corpus'], dtype='object')] are in the [columns]\""
     ]
    }
   ],
   "source": [
    "print(obsolete_df[[\"query_set\", \"query\", \"generation\", \"document\", \"guidance\", \"corpus\"]].nunique())\n",
    "obsolete_df.guidance.value_counts()"
   ]
  },
  {
   "cell_type": "code",
   "execution_count": null,
   "id": "ac07f763-6a3c-400f-ab82-ff183b2c5577",
   "metadata": {},
   "outputs": [],
   "source": [
    "# remove non-matching from the generations list\n",
    "_ = corpus.get_nonmatching_generations(metadata_list, should_remove_nonmatching=True)\n",
    "len(corpus.generations)"
   ]
  },
  {
   "cell_type": "code",
   "execution_count": 23,
   "id": "736c34a9-a6a6-43fb-8467-aefdb886f630",
   "metadata": {},
   "outputs": [],
   "source": [
    "# optionally, overwrite to forget deleted generations\n",
    "corpus.overwrite()"
   ]
  },
  {
   "cell_type": "code",
   "execution_count": 20,
   "id": "3a71aec4-6704-47ce-b1ba-74b4d7e99c15",
   "metadata": {},
   "outputs": [
    {
     "data": {
      "text/plain": [
       "(96000.0, 24.0)"
      ]
     },
     "execution_count": 20,
     "metadata": {},
     "output_type": "execute_result"
    }
   ],
   "source": [
    "# limiting factor is tokens per minute\n",
    "# https://platform.openai.com/docs/guides/rate-limits/overview\n",
    "max_tokens_per_minute = 90000\n",
    "\n",
    "request_tokens = 4000\n",
    "n_processes = 8\n",
    "sleep_time = 16\n",
    "request_time = 4 + sleep_time\n",
    "process_tokens_per_minute = (request_tokens / request_time) * 60\n",
    "tokens_per_minute = process_tokens_per_minute * n_processes\n",
    "tokens_per_minute, tokens_per_minute / request_tokens  # approximate requests per minute"
   ]
  },
  {
   "cell_type": "code",
   "execution_count": 21,
   "id": "03da99bc-9922-4ad7-980b-1cc7ced9f731",
   "metadata": {},
   "outputs": [
    {
     "data": {
      "text/plain": [
       "(0, 204)"
      ]
     },
     "execution_count": 21,
     "metadata": {},
     "output_type": "execute_result"
    }
   ],
   "source": [
    "len(corpus.batch_filter_not_already_generated(metadata_list)), len(metadata_list)"
   ]
  },
  {
   "cell_type": "code",
   "execution_count": 22,
   "id": "f6121147-ab53-4364-9b8f-8f66b83adcc6",
   "metadata": {},
   "outputs": [
    {
     "data": {
      "text/plain": [
       "(0, 255)"
      ]
     },
     "execution_count": 22,
     "metadata": {},
     "output_type": "execute_result"
    }
   ],
   "source": [
    "n_generated = corpus.batch_generate(\n",
    "    metadata_list,\n",
    "    n_processes=8,\n",
    "    sleep=16.0,\n",
    "    should_log_successful=True,\n",
    "    request_timeout=40,\n",
    ")\n",
    "n_generated, len(corpus.generations)"
   ]
  },
  {
   "cell_type": "code",
   "execution_count": 23,
   "id": "93a9ff66-a53e-4f95-a68b-30072c1d1cf1",
   "metadata": {},
   "outputs": [
    {
     "name": "stdout",
     "output_type": "stream",
     "text": [
      "255\n",
      "204\n"
     ]
    },
    {
     "data": {
      "text/html": [
       "<div>\n",
       "<style scoped>\n",
       "    .dataframe tbody tr th:only-of-type {\n",
       "        vertical-align: middle;\n",
       "    }\n",
       "\n",
       "    .dataframe tbody tr th {\n",
       "        vertical-align: top;\n",
       "    }\n",
       "\n",
       "    .dataframe thead th {\n",
       "        text-align: right;\n",
       "    }\n",
       "</style>\n",
       "<table border=\"1\" class=\"dataframe\">\n",
       "  <thead>\n",
       "    <tr style=\"text-align: right;\">\n",
       "      <th></th>\n",
       "      <th>query_set</th>\n",
       "      <th>query</th>\n",
       "      <th>generation</th>\n",
       "      <th>document</th>\n",
       "      <th>guidance</th>\n",
       "      <th>messages</th>\n",
       "      <th>corpus</th>\n",
       "    </tr>\n",
       "  </thead>\n",
       "  <tbody>\n",
       "    <tr>\n",
       "      <th>126</th>\n",
       "      <td>math_nation</td>\n",
       "      <td>what is the difference between communtative pr...</td>\n",
       "      <td>According to the student's question, the most ...</td>\n",
       "      <td>Use the Commutative and Associative Properties...</td>\n",
       "      <td>extract_relevant</td>\n",
       "      <td>[{'role': 'user', 'content': 'Given a middle-s...</td>\n",
       "      <td>math</td>\n",
       "    </tr>\n",
       "  </tbody>\n",
       "</table>\n",
       "</div>"
      ],
      "text/plain": [
       "       query_set                                              query  \\\n",
       "126  math_nation  what is the difference between communtative pr...   \n",
       "\n",
       "                                            generation  \\\n",
       "126  According to the student's question, the most ...   \n",
       "\n",
       "                                              document          guidance  \\\n",
       "126  Use the Commutative and Associative Properties...  extract_relevant   \n",
       "\n",
       "                                              messages corpus  \n",
       "126  [{'role': 'user', 'content': 'Given a middle-s...   math  "
      ]
     },
     "execution_count": 23,
     "metadata": {},
     "output_type": "execute_result"
    }
   ],
   "source": [
    "math_df = pd.DataFrame(corpus.generations)\n",
    "print(len(math_df))\n",
    "math_df = math_df.drop_duplicates(subset=[\"query_set\", \"query\", \"guidance\", \"corpus\"], keep=\"last\")\n",
    "print(len(math_df))\n",
    "math_df.sample(n=1)"
   ]
  },
  {
   "cell_type": "code",
   "execution_count": 24,
   "id": "88762a06-5571-4f5f-9b66-5b2dde62dbca",
   "metadata": {},
   "outputs": [
    {
     "data": {
      "text/plain": [
       "guidance\n",
       "low                 51\n",
       "extract_relevant    51\n",
       "none                51\n",
       "high                51\n",
       "Name: count, dtype: int64"
      ]
     },
     "execution_count": 24,
     "metadata": {},
     "output_type": "execute_result"
    }
   ],
   "source": [
    "math_df.guidance.value_counts()"
   ]
  },
  {
   "cell_type": "code",
   "execution_count": 25,
   "id": "4c8a7a3e-c0c5-49eb-a4a4-65261e1ae428",
   "metadata": {},
   "outputs": [],
   "source": [
    "verbose = False\n",
    "if verbose:\n",
    "    query_sample = np.random.choice(list(set(math_df[\"query\"])), size=4, replace=False)\n",
    "    for query, group in math_df[math_df[\"query\"].isin(query_sample)].groupby(\"query\"):\n",
    "        print(f\"=== {query} ===\")\n",
    "        print(group.iloc[0].document)\n",
    "        for row in group.itertuples():\n",
    "            print(f\"+++ {row.guidance} +++\")\n",
    "            print(row.generation)\n",
    "            print()\n",
    "        print()"
   ]
  },
  {
   "cell_type": "code",
   "execution_count": null,
   "id": "1619f0ed-62c2-4918-9556-0c36a9a1a73a",
   "metadata": {},
   "outputs": [],
   "source": []
  },
  {
   "cell_type": "code",
   "execution_count": null,
   "id": "e0f4fb42-2b0e-44de-9a26-f0b23bbce962",
   "metadata": {},
   "outputs": [],
   "source": []
  },
  {
   "cell_type": "markdown",
   "id": "48d3bc31-3ee4-4c4c-be71-9a8653c0e281",
   "metadata": {},
   "source": [
    "#### Save math_df"
   ]
  },
  {
   "cell_type": "code",
   "execution_count": 40,
   "id": "c11e23ad-8744-483c-806b-f2d60c80d8be",
   "metadata": {},
   "outputs": [
    {
     "data": {
      "text/html": [
       "<div>\n",
       "<style scoped>\n",
       "    .dataframe tbody tr th:only-of-type {\n",
       "        vertical-align: middle;\n",
       "    }\n",
       "\n",
       "    .dataframe tbody tr th {\n",
       "        vertical-align: top;\n",
       "    }\n",
       "\n",
       "    .dataframe thead th {\n",
       "        text-align: right;\n",
       "    }\n",
       "</style>\n",
       "<table border=\"1\" class=\"dataframe\">\n",
       "  <thead>\n",
       "    <tr style=\"text-align: right;\">\n",
       "      <th></th>\n",
       "      <th>query_set</th>\n",
       "      <th>query</th>\n",
       "      <th>generation</th>\n",
       "      <th>document</th>\n",
       "      <th>guidance</th>\n",
       "      <th>messages</th>\n",
       "      <th>corpus</th>\n",
       "    </tr>\n",
       "  </thead>\n",
       "  <tbody>\n",
       "    <tr>\n",
       "      <th>187</th>\n",
       "      <td>math_nation</td>\n",
       "      <td>How do you find the zeros of a function by gra...</td>\n",
       "      <td>To find the zeros of a function by graphing, y...</td>\n",
       "      <td>Plot Points on a Rectangular Coordinate System...</td>\n",
       "      <td>none</td>\n",
       "      <td>[{'role': 'system', 'content': 'You are going ...</td>\n",
       "      <td>math</td>\n",
       "    </tr>\n",
       "  </tbody>\n",
       "</table>\n",
       "</div>"
      ],
      "text/plain": [
       "       query_set                                              query  \\\n",
       "187  math_nation  How do you find the zeros of a function by gra...   \n",
       "\n",
       "                                            generation  \\\n",
       "187  To find the zeros of a function by graphing, y...   \n",
       "\n",
       "                                              document guidance  \\\n",
       "187  Plot Points on a Rectangular Coordinate System...     none   \n",
       "\n",
       "                                              messages corpus  \n",
       "187  [{'role': 'system', 'content': 'You are going ...   math  "
      ]
     },
     "execution_count": 40,
     "metadata": {},
     "output_type": "execute_result"
    }
   ],
   "source": [
    "math_df.sample(n=1)"
   ]
  },
  {
   "cell_type": "code",
   "execution_count": 41,
   "id": "70ad6eb8-f694-442a-8af6-74049d7a9a8f",
   "metadata": {},
   "outputs": [],
   "source": [
    "generations_dir = data_dir / \"derived\" / \"generations\"\n",
    "generations_dir.mkdir(exist_ok=True)\n",
    "math_df.to_csv(generations_dir / \"math_df.csv\", index=False)"
   ]
  },
  {
   "cell_type": "markdown",
   "id": "5ed70cf4-1712-4108-96f8-5f0dc09120c9",
   "metadata": {},
   "source": [
    "#### Compute automated metrics"
   ]
  },
  {
   "cell_type": "code",
   "execution_count": 42,
   "id": "7ffeafd4-7488-4e48-a185-93ef9e723a25",
   "metadata": {},
   "outputs": [
    {
     "data": {
      "text/html": [
       "<div>\n",
       "<style scoped>\n",
       "    .dataframe tbody tr th:only-of-type {\n",
       "        vertical-align: middle;\n",
       "    }\n",
       "\n",
       "    .dataframe tbody tr th {\n",
       "        vertical-align: top;\n",
       "    }\n",
       "\n",
       "    .dataframe thead th {\n",
       "        text-align: right;\n",
       "    }\n",
       "</style>\n",
       "<table border=\"1\" class=\"dataframe\">\n",
       "  <thead>\n",
       "    <tr style=\"text-align: right;\">\n",
       "      <th></th>\n",
       "      <th>query_set</th>\n",
       "      <th>query</th>\n",
       "      <th>generation</th>\n",
       "      <th>document</th>\n",
       "      <th>guidance</th>\n",
       "      <th>messages</th>\n",
       "      <th>corpus</th>\n",
       "    </tr>\n",
       "  </thead>\n",
       "  <tbody>\n",
       "    <tr>\n",
       "      <th>11</th>\n",
       "      <td>math_nation</td>\n",
       "      <td>What is a function notation?</td>\n",
       "      <td>Function notation is a way to represent a math...</td>\n",
       "      <td>Use Addition Notation: A college student has a...</td>\n",
       "      <td>low</td>\n",
       "      <td>[{'role': 'system', 'content': 'You are going ...</td>\n",
       "      <td>math</td>\n",
       "    </tr>\n",
       "  </tbody>\n",
       "</table>\n",
       "</div>"
      ],
      "text/plain": [
       "      query_set                         query  \\\n",
       "11  math_nation  What is a function notation?   \n",
       "\n",
       "                                           generation  \\\n",
       "11  Function notation is a way to represent a math...   \n",
       "\n",
       "                                             document guidance  \\\n",
       "11  Use Addition Notation: A college student has a...      low   \n",
       "\n",
       "                                             messages corpus  \n",
       "11  [{'role': 'system', 'content': 'You are going ...   math  "
      ]
     },
     "execution_count": 42,
     "metadata": {},
     "output_type": "execute_result"
    }
   ],
   "source": [
    "# load the data, if previously cached\n",
    "generations_dir = data_dir / \"derived\" / \"generations\"\n",
    "math_df = pd.read_csv(generations_dir / \"math_df.csv\")\n",
    "math_df.sample(n=1)"
   ]
  },
  {
   "cell_type": "code",
   "execution_count": 25,
   "id": "68ecb1dc-e555-4a7c-b91e-e7113c6625f5",
   "metadata": {},
   "outputs": [
    {
     "name": "stderr",
     "output_type": "stream",
     "text": [
      "2023-09-18 17:45:56,609 - evaluate_modules.metrics.evaluate-metric--bleurt.98e148b2f8c4a88aba5037e4e0e90c9fd9ec35dc37a054ded8cfef0fa801ffab.bleurt - WARNING - Using default BLEURT-Base checkpoint for sequence maximum length 128. You can use a bigger model for better results with e.g.: evaluate.load('bleurt', 'bleurt-large-512').\n"
     ]
    },
    {
     "name": "stdout",
     "output_type": "stream",
     "text": [
      "INFO:tensorflow:Reading checkpoint /Users/zacharylevonian/.cache/huggingface/metrics/bleurt/default/downloads/extracted/c344adb923f0c495f61e1f40865ccb4ce783ec9297c810bb96017735fbae8a91/bleurt-base-128.\n"
     ]
    },
    {
     "name": "stderr",
     "output_type": "stream",
     "text": [
      "2023-09-18 17:45:56,975 - tensorflow - INFO - Reading checkpoint /Users/zacharylevonian/.cache/huggingface/metrics/bleurt/default/downloads/extracted/c344adb923f0c495f61e1f40865ccb4ce783ec9297c810bb96017735fbae8a91/bleurt-base-128.\n"
     ]
    },
    {
     "name": "stdout",
     "output_type": "stream",
     "text": [
      "INFO:tensorflow:Config file found, reading.\n"
     ]
    },
    {
     "name": "stderr",
     "output_type": "stream",
     "text": [
      "2023-09-18 17:45:56,975 - tensorflow - INFO - Config file found, reading.\n"
     ]
    },
    {
     "name": "stdout",
     "output_type": "stream",
     "text": [
      "INFO:tensorflow:Will load checkpoint bert_custom\n"
     ]
    },
    {
     "name": "stderr",
     "output_type": "stream",
     "text": [
      "2023-09-18 17:45:56,976 - tensorflow - INFO - Will load checkpoint bert_custom\n"
     ]
    },
    {
     "name": "stdout",
     "output_type": "stream",
     "text": [
      "INFO:tensorflow:Loads full paths and checks that files exists.\n"
     ]
    },
    {
     "name": "stderr",
     "output_type": "stream",
     "text": [
      "2023-09-18 17:45:56,977 - tensorflow - INFO - Loads full paths and checks that files exists.\n"
     ]
    },
    {
     "name": "stdout",
     "output_type": "stream",
     "text": [
      "INFO:tensorflow:... name:bert_custom\n"
     ]
    },
    {
     "name": "stderr",
     "output_type": "stream",
     "text": [
      "2023-09-18 17:45:56,977 - tensorflow - INFO - ... name:bert_custom\n"
     ]
    },
    {
     "name": "stdout",
     "output_type": "stream",
     "text": [
      "INFO:tensorflow:... vocab_file:vocab.txt\n"
     ]
    },
    {
     "name": "stderr",
     "output_type": "stream",
     "text": [
      "2023-09-18 17:45:56,978 - tensorflow - INFO - ... vocab_file:vocab.txt\n"
     ]
    },
    {
     "name": "stdout",
     "output_type": "stream",
     "text": [
      "INFO:tensorflow:... bert_config_file:bert_config.json\n"
     ]
    },
    {
     "name": "stderr",
     "output_type": "stream",
     "text": [
      "2023-09-18 17:45:56,978 - tensorflow - INFO - ... bert_config_file:bert_config.json\n"
     ]
    },
    {
     "name": "stdout",
     "output_type": "stream",
     "text": [
      "INFO:tensorflow:... do_lower_case:True\n"
     ]
    },
    {
     "name": "stderr",
     "output_type": "stream",
     "text": [
      "2023-09-18 17:45:56,979 - tensorflow - INFO - ... do_lower_case:True\n"
     ]
    },
    {
     "name": "stdout",
     "output_type": "stream",
     "text": [
      "INFO:tensorflow:... max_seq_length:128\n"
     ]
    },
    {
     "name": "stderr",
     "output_type": "stream",
     "text": [
      "2023-09-18 17:45:56,980 - tensorflow - INFO - ... max_seq_length:128\n"
     ]
    },
    {
     "name": "stdout",
     "output_type": "stream",
     "text": [
      "INFO:tensorflow:Creating BLEURT scorer.\n"
     ]
    },
    {
     "name": "stderr",
     "output_type": "stream",
     "text": [
      "2023-09-18 17:45:56,980 - tensorflow - INFO - Creating BLEURT scorer.\n"
     ]
    },
    {
     "name": "stdout",
     "output_type": "stream",
     "text": [
      "INFO:tensorflow:Creating WordPiece tokenizer.\n"
     ]
    },
    {
     "name": "stderr",
     "output_type": "stream",
     "text": [
      "2023-09-18 17:45:56,981 - tensorflow - INFO - Creating WordPiece tokenizer.\n"
     ]
    },
    {
     "name": "stdout",
     "output_type": "stream",
     "text": [
      "INFO:tensorflow:WordPiece tokenizer instantiated.\n"
     ]
    },
    {
     "name": "stderr",
     "output_type": "stream",
     "text": [
      "2023-09-18 17:45:57,024 - tensorflow - INFO - WordPiece tokenizer instantiated.\n"
     ]
    },
    {
     "name": "stdout",
     "output_type": "stream",
     "text": [
      "INFO:tensorflow:Creating Eager Mode predictor.\n"
     ]
    },
    {
     "name": "stderr",
     "output_type": "stream",
     "text": [
      "2023-09-18 17:45:57,025 - tensorflow - INFO - Creating Eager Mode predictor.\n"
     ]
    },
    {
     "name": "stdout",
     "output_type": "stream",
     "text": [
      "INFO:tensorflow:Loading model.\n"
     ]
    },
    {
     "name": "stderr",
     "output_type": "stream",
     "text": [
      "2023-09-18 17:45:57,025 - tensorflow - INFO - Loading model.\n",
      "2023-09-18 17:45:58,077 - absl - INFO - Fingerprint not found. Saved model loading will continue.\n"
     ]
    },
    {
     "name": "stdout",
     "output_type": "stream",
     "text": [
      "INFO:tensorflow:BLEURT initialized.\n"
     ]
    },
    {
     "name": "stderr",
     "output_type": "stream",
     "text": [
      "2023-09-18 17:45:58,080 - tensorflow - INFO - BLEURT initialized.\n"
     ]
    }
   ],
   "source": [
    "assert experiment.metrics.get_bleurt_metric_object() is not None\n",
    "assert experiment.metrics.get_bertscore_metric_object() is not None"
   ]
  },
  {
   "cell_type": "code",
   "execution_count": 26,
   "id": "0956ae66-a5df-4986-8943-654f91fc759f",
   "metadata": {},
   "outputs": [
    {
     "name": "stderr",
     "output_type": "stream",
     "text": [
      "guidance='extract_relevant':   0%|                                                                                                | 0/51 [00:00<?, ?it/s]Some weights of RobertaModel were not initialized from the model checkpoint at roberta-large and are newly initialized: ['roberta.pooler.dense.bias', 'roberta.pooler.dense.weight']\n",
      "You should probably TRAIN this model on a down-stream task to be able to use it for predictions and inference.\n",
      "guidance='extract_relevant': 100%|███████████████████████████████████████████████████████████████████████████████████████| 51/51 [01:47<00:00,  2.11s/it]\n",
      "guidance='high': 100%|███████████████████████████████████████████████████████████████████████████████████████████████████| 51/51 [01:45<00:00,  2.06s/it]\n",
      "guidance='low': 100%|████████████████████████████████████████████████████████████████████████████████████████████████████| 51/51 [01:48<00:00,  2.13s/it]\n",
      "guidance='none': 100%|███████████████████████████████████████████████████████████████████████████████████████████████████| 51/51 [01:44<00:00,  2.05s/it]\n"
     ]
    },
    {
     "data": {
      "text/html": [
       "<div>\n",
       "<style scoped>\n",
       "    .dataframe tbody tr th:only-of-type {\n",
       "        vertical-align: middle;\n",
       "    }\n",
       "\n",
       "    .dataframe tbody tr th {\n",
       "        vertical-align: top;\n",
       "    }\n",
       "\n",
       "    .dataframe thead th {\n",
       "        text-align: right;\n",
       "    }\n",
       "</style>\n",
       "<table border=\"1\" class=\"dataframe\">\n",
       "  <thead>\n",
       "    <tr style=\"text-align: right;\">\n",
       "      <th></th>\n",
       "      <th>guidance</th>\n",
       "      <th>query_set</th>\n",
       "      <th>macro_f1</th>\n",
       "      <th>macro_f1_low</th>\n",
       "      <th>macro_f1_high</th>\n",
       "      <th>bleurt</th>\n",
       "      <th>bleurt_low</th>\n",
       "      <th>bleurt_high</th>\n",
       "      <th>bertscore</th>\n",
       "      <th>bertscore_low</th>\n",
       "      <th>bertscore_high</th>\n",
       "    </tr>\n",
       "  </thead>\n",
       "  <tbody>\n",
       "    <tr>\n",
       "      <th>3</th>\n",
       "      <td>none</td>\n",
       "      <td>math_nation</td>\n",
       "      <td>0.270858</td>\n",
       "      <td>0.256018</td>\n",
       "      <td>0.287867</td>\n",
       "      <td>-0.571418</td>\n",
       "      <td>-0.620347</td>\n",
       "      <td>-0.525058</td>\n",
       "      <td>0.833733</td>\n",
       "      <td>0.831162</td>\n",
       "      <td>0.836603</td>\n",
       "    </tr>\n",
       "    <tr>\n",
       "      <th>2</th>\n",
       "      <td>low</td>\n",
       "      <td>math_nation</td>\n",
       "      <td>0.287759</td>\n",
       "      <td>0.269585</td>\n",
       "      <td>0.305522</td>\n",
       "      <td>-0.551136</td>\n",
       "      <td>-0.604130</td>\n",
       "      <td>-0.503332</td>\n",
       "      <td>0.836590</td>\n",
       "      <td>0.833371</td>\n",
       "      <td>0.839433</td>\n",
       "    </tr>\n",
       "    <tr>\n",
       "      <th>1</th>\n",
       "      <td>high</td>\n",
       "      <td>math_nation</td>\n",
       "      <td>0.355556</td>\n",
       "      <td>0.334545</td>\n",
       "      <td>0.377555</td>\n",
       "      <td>-0.464588</td>\n",
       "      <td>-0.525164</td>\n",
       "      <td>-0.409770</td>\n",
       "      <td>0.848702</td>\n",
       "      <td>0.844503</td>\n",
       "      <td>0.852855</td>\n",
       "    </tr>\n",
       "    <tr>\n",
       "      <th>0</th>\n",
       "      <td>extract_relevant</td>\n",
       "      <td>math_nation</td>\n",
       "      <td>0.672882</td>\n",
       "      <td>0.583256</td>\n",
       "      <td>0.755949</td>\n",
       "      <td>-0.480035</td>\n",
       "      <td>-0.613007</td>\n",
       "      <td>-0.349532</td>\n",
       "      <td>0.919088</td>\n",
       "      <td>0.903057</td>\n",
       "      <td>0.934254</td>\n",
       "    </tr>\n",
       "  </tbody>\n",
       "</table>\n",
       "</div>"
      ],
      "text/plain": [
       "           guidance    query_set  macro_f1  macro_f1_low  macro_f1_high  \\\n",
       "3              none  math_nation  0.270858      0.256018       0.287867   \n",
       "2               low  math_nation  0.287759      0.269585       0.305522   \n",
       "1              high  math_nation  0.355556      0.334545       0.377555   \n",
       "0  extract_relevant  math_nation  0.672882      0.583256       0.755949   \n",
       "\n",
       "     bleurt  bleurt_low  bleurt_high  bertscore  bertscore_low  bertscore_high  \n",
       "3 -0.571418   -0.620347    -0.525058   0.833733       0.831162        0.836603  \n",
       "2 -0.551136   -0.604130    -0.503332   0.836590       0.833371        0.839433  \n",
       "1 -0.464588   -0.525164    -0.409770   0.848702       0.844503        0.852855  \n",
       "0 -0.480035   -0.613007    -0.349532   0.919088       0.903057        0.934254  "
      ]
     },
     "execution_count": 26,
     "metadata": {},
     "output_type": "execute_result"
    }
   ],
   "source": [
    "use_bootstrap = True\n",
    "\n",
    "sdf = math_df\n",
    "assert sdf.query_set.nunique() == 1\n",
    "ds = []\n",
    "for guidance, group in sdf.groupby(\"guidance\"):\n",
    "    assert group[\"query\"].nunique() == len(group)\n",
    "    f1_scores = []\n",
    "    bleurt_scores = []\n",
    "    bertscore_scores = []\n",
    "    for row in tqdm(group.itertuples(), desc=f\"{guidance=}\", total=len(group)):\n",
    "        passages = row.document.split(\"\\n\")\n",
    "        f1 = experiment.metrics.compute_macro_f1(passages, row.generation, discount_text=row.query)\n",
    "        f1_scores.append(f1)\n",
    "        bleurt = experiment.metrics.compute_bleurt(passages, row.generation)\n",
    "        bleurt_scores.append(bleurt)\n",
    "        bertscore = experiment.metrics.compute_bertscore(passages, row.generation)\n",
    "        bertscore_scores.append(bertscore)\n",
    "    f1_scores = np.array(f1_scores)\n",
    "    bleurt_scores = np.array(bleurt_scores)\n",
    "    bertscore_scores = np.array(bertscore_scores)\n",
    "    macro_f1 = f1_scores.mean()\n",
    "    if use_bootstrap:\n",
    "        # bootstrap confidence intervals\n",
    "        bootstrap = scipy.stats.bootstrap((f1_scores,), np.mean, confidence_level=0.95, random_state=rng)\n",
    "        bleurt_bootstrap = scipy.stats.bootstrap((bleurt_scores,), np.mean, confidence_level=0.95, random_state=rng)\n",
    "        bertscore_bootstrap = scipy.stats.bootstrap(\n",
    "            (bertscore_scores,), np.mean, confidence_level=0.95, random_state=rng\n",
    "        )\n",
    "    else:\n",
    "        # TODO do something more reasonable, e.g. the student's t approximation\n",
    "        pass\n",
    "    ds.append(\n",
    "        {\n",
    "            \"guidance\": guidance,\n",
    "            \"query_set\": sdf.iloc[0].query_set,\n",
    "            \"macro_f1\": macro_f1,\n",
    "            \"macro_f1_low\": bootstrap.confidence_interval.low,\n",
    "            \"macro_f1_high\": bootstrap.confidence_interval.high,\n",
    "            \"bleurt\": bleurt_scores.mean(),\n",
    "            \"bleurt_low\": bleurt_bootstrap.confidence_interval.low,\n",
    "            \"bleurt_high\": bleurt_bootstrap.confidence_interval.high,\n",
    "            \"bertscore\": bertscore_scores.mean(),\n",
    "            \"bertscore_low\": bertscore_bootstrap.confidence_interval.low,\n",
    "            \"bertscore_high\": bertscore_bootstrap.confidence_interval.high,\n",
    "        }\n",
    "    )\n",
    "metric_df = pd.DataFrame(ds).sort_values(by=\"macro_f1\", ascending=True)\n",
    "metric_df"
   ]
  },
  {
   "cell_type": "code",
   "execution_count": 27,
   "id": "1cc334cd-2828-428c-8224-abd060f00190",
   "metadata": {},
   "outputs": [
    {
     "data": {
      "image/png": "[encoded data removed]",
      "text/plain": [
       "<Figure size 552.062x150 with 3 Axes>"
      ]
     },
     "metadata": {},
     "output_type": "display_data"
    }
   ],
   "source": [
    "fig, axes = plt.subplots(1, 3, figsize=(COLUMN_WIDTH_IN, 1.5))\n",
    "\n",
    "metric_pretty_name_map = {\n",
    "    \"macro_f1\": \"K-F1++\",\n",
    "    \"bleurt\": \"BLEURT\",\n",
    "    \"bertscore\": \"BERTScore\",\n",
    "}\n",
    "\n",
    "guidance_short_name_map = {\n",
    "    \"none\": \"None\",\n",
    "    \"extract_relevant\": \"IE\",\n",
    "    \"low\": \"L\",\n",
    "    \"medium\": \"M\",\n",
    "    \"high\": \"H\",\n",
    "}\n",
    "\n",
    "for ax, metric in zip(axes, [\"macro_f1\", \"bleurt\", \"bertscore\"]):\n",
    "    for query_set, mdf in metric_df.groupby(\"query_set\"):\n",
    "        assert metric in mdf.columns\n",
    "        xs = list(range(len(mdf)))\n",
    "        ys = mdf[metric]\n",
    "        yerr = mdf[[metric + \"_low\", metric + \"_high\"]].subtract(mdf[metric], axis=0).abs().T\n",
    "        ax.scatter(xs, ys, color=\"black\", marker=\".\")\n",
    "        ax.errorbar(xs, ys, yerr=yerr, zorder=-1, capsize=3, ecolor=\"grey\", label=query_set)\n",
    "\n",
    "    # legend\n",
    "    # handles, labels = ax.get_legend_handles_labels()\n",
    "    # handles = [h[0] for h in handles]\n",
    "    # ax.legend(handles, labels, frameon=False, ncol=2)\n",
    "\n",
    "    ax.set_xticks(xs, labels=[guidance_short_name_map[guidance] for guidance in metric_df.guidance])\n",
    "    ax.set_ylabel(metric_pretty_name_map[metric])\n",
    "\n",
    "fig.tight_layout(pad=0, w_pad=0.2)\n",
    "fig.savefig(figures_dir / \"guidance_autometrics.pdf\", pad_inches=0, dpi=DPI)\n",
    "plt.show()"
   ]
  },
  {
   "cell_type": "code",
   "execution_count": null,
   "id": "d9eae3d9-5dad-401e-9744-b13f43cdf6c0",
   "metadata": {},
   "outputs": [],
   "source": []
  },
  {
   "cell_type": "markdown",
   "id": "2807eca8-3e62-4a57-b3c0-744a2ead215f",
   "metadata": {},
   "source": [
    "#### Create qualtrics surveys"
   ]
  },
  {
   "cell_type": "code",
   "execution_count": 32,
   "id": "63e7a7c5-d290-4560-b809-a8ba478d4616",
   "metadata": {},
   "outputs": [
    {
     "data": {
      "text/plain": [
       "153"
      ]
     },
     "execution_count": 32,
     "metadata": {},
     "output_type": "execute_result"
    }
   ],
   "source": [
    "guidance_survey_set = {\"none\", \"low\", \"high\"}\n",
    "survey_input_df = math_df[\n",
    "    (math_df.query_set == \"math_nation\") & (math_df.corpus == \"math\") & (math_df.guidance.isin(guidance_survey_set))\n",
    "]\n",
    "len(survey_input_df)"
   ]
  },
  {
   "cell_type": "code",
   "execution_count": 33,
   "id": "b0e0c1a7-6e71-4b59-ad0f-52cf13c9d20b",
   "metadata": {},
   "outputs": [],
   "source": [
    "qualtrics_template_filepath = data_dir / \"raw\" / \"qualtrics\" / \"Rori_ranking_annotations_-_template.qsf\"\n",
    "survey_dir = data_dir / \"derived\" / \"qualtrics\"\n",
    "assert qualtrics_template_filepath.exists()"
   ]
  },
  {
   "cell_type": "code",
   "execution_count": 34,
   "id": "24cd80f0-795e-4789-8461-526c4c52a2d1",
   "metadata": {},
   "outputs": [
    {
     "data": {
      "text/plain": [
       "51"
      ]
     },
     "execution_count": 34,
     "metadata": {},
     "output_type": "execute_result"
    }
   ],
   "source": [
    "template_survey_text = experiment.qualtrics.get_template(qualtrics_template_filepath)\n",
    "survey_df = experiment.qualtrics.create_surveys(survey_input_df, template_survey_text, survey_dir)\n",
    "len(survey_df)"
   ]
  },
  {
   "cell_type": "code",
   "execution_count": 35,
   "id": "6798d831-f4a0-4964-be33-a8cc05fd129e",
   "metadata": {},
   "outputs": [
    {
     "data": {
      "text/html": [
       "<div>\n",
       "<style scoped>\n",
       "    .dataframe tbody tr th:only-of-type {\n",
       "        vertical-align: middle;\n",
       "    }\n",
       "\n",
       "    .dataframe tbody tr th {\n",
       "        vertical-align: top;\n",
       "    }\n",
       "\n",
       "    .dataframe thead th {\n",
       "        text-align: right;\n",
       "    }\n",
       "</style>\n",
       "<table border=\"1\" class=\"dataframe\">\n",
       "  <thead>\n",
       "    <tr style=\"text-align: right;\">\n",
       "      <th></th>\n",
       "      <th>query</th>\n",
       "      <th>document</th>\n",
       "      <th>response1</th>\n",
       "      <th>response2</th>\n",
       "      <th>response3</th>\n",
       "      <th>response1_meta</th>\n",
       "      <th>response2_meta</th>\n",
       "      <th>response3_meta</th>\n",
       "      <th>survey_id</th>\n",
       "    </tr>\n",
       "  </thead>\n",
       "  <tbody>\n",
       "    <tr>\n",
       "      <th>23</th>\n",
       "      <td>How do you multiply fractions?!?!?</td>\n",
       "      <td>Simplify Fractions: In working with equivalent...</td>\n",
       "      <td>To multiply fractions, you can multiply the nu...</td>\n",
       "      <td>Great question! To multiply fractions, you sim...</td>\n",
       "      <td>Great question! To multiply fractions, you nee...</td>\n",
       "      <td>{'query_set': 'math_nation', 'guidance': 'high...</td>\n",
       "      <td>{'query_set': 'math_nation', 'guidance': 'low'...</td>\n",
       "      <td>{'query_set': 'math_nation', 'guidance': 'none...</td>\n",
       "      <td>s_20230917_2/4</td>\n",
       "    </tr>\n",
       "  </tbody>\n",
       "</table>\n",
       "</div>"
      ],
      "text/plain": [
       "                                 query  \\\n",
       "23  How do you multiply fractions?!?!?   \n",
       "\n",
       "                                             document  \\\n",
       "23  Simplify Fractions: In working with equivalent...   \n",
       "\n",
       "                                            response1  \\\n",
       "23  To multiply fractions, you can multiply the nu...   \n",
       "\n",
       "                                            response2  \\\n",
       "23  Great question! To multiply fractions, you sim...   \n",
       "\n",
       "                                            response3  \\\n",
       "23  Great question! To multiply fractions, you nee...   \n",
       "\n",
       "                                       response1_meta  \\\n",
       "23  {'query_set': 'math_nation', 'guidance': 'high...   \n",
       "\n",
       "                                       response2_meta  \\\n",
       "23  {'query_set': 'math_nation', 'guidance': 'low'...   \n",
       "\n",
       "                                       response3_meta       survey_id  \n",
       "23  {'query_set': 'math_nation', 'guidance': 'none...  s_20230917_2/4  "
      ]
     },
     "execution_count": 35,
     "metadata": {},
     "output_type": "execute_result"
    }
   ],
   "source": [
    "survey_df.sample(n=1)"
   ]
  },
  {
   "cell_type": "code",
   "execution_count": 36,
   "id": "464f6422-1d22-4898-9bbd-e3d2da8d9511",
   "metadata": {},
   "outputs": [
    {
     "data": {
      "text/plain": [
       "survey_id\n",
       "s_20230917_1/4    15\n",
       "s_20230917_2/4    15\n",
       "s_20230917_3/4    15\n",
       "s_20230917_4/4     6\n",
       "Name: count, dtype: int64"
      ]
     },
     "execution_count": 36,
     "metadata": {},
     "output_type": "execute_result"
    }
   ],
   "source": [
    "survey_df.survey_id.value_counts()"
   ]
  },
  {
   "cell_type": "code",
   "execution_count": null,
   "id": "d093e5d1-df59-4bf7-a885-6878ab80ddf4",
   "metadata": {},
   "outputs": [],
   "source": []
  }
 ],
 "metadata": {
  "kernelspec": {
   "display_name": "Python 3 (ipykernel)",
   "language": "python",
   "name": "python3"
  },
  "language_info": {
   "codemirror_mode": {
    "name": "ipython",
    "version": 3
   },
   "file_extension": ".py",
   "mimetype": "text/x-python",
   "name": "python",
   "nbconvert_exporter": "python",
   "pygments_lexer": "ipython3",
   "version": "3.10.11"
  }
 },
 "nbformat": 4,
 "nbformat_minor": 5
}
